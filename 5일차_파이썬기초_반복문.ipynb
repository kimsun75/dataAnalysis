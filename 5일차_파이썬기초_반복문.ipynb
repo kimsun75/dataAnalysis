{
  "nbformat": 4,
  "nbformat_minor": 0,
  "metadata": {
    "colab": {
      "provenance": [],
      "include_colab_link": true
    },
    "kernelspec": {
      "name": "python3",
      "display_name": "Python 3"
    },
    "language_info": {
      "name": "python"
    }
  },
  "cells": [
    {
      "cell_type": "markdown",
      "metadata": {
        "id": "view-in-github",
        "colab_type": "text"
      },
      "source": [
        "<a href=\"https://colab.research.google.com/github/kimsun75/dataAnalysis/blob/main/5%EC%9D%BC%EC%B0%A8_%ED%8C%8C%EC%9D%B4%EC%8D%AC%EA%B8%B0%EC%B4%88_%EB%B0%98%EB%B3%B5%EB%AC%B8.ipynb\" target=\"_parent\"><img src=\"https://colab.research.google.com/assets/colab-badge.svg\" alt=\"Open In Colab\"/></a>"
      ]
    },
    {
      "cell_type": "markdown",
      "source": [
        "# 5.반복문"
      ],
      "metadata": {
        "id": "qQV1kgqGnHhi"
      }
    },
    {
      "cell_type": "markdown",
      "source": [
        "## 5-1.for 반복문\n",
        "유한개수의 반복"
      ],
      "metadata": {
        "id": "Aqa2sI3QoAlG"
      }
    },
    {
      "cell_type": "markdown",
      "source": [
        "### 1.다양한 반복문"
      ],
      "metadata": {
        "id": "Os-PYhe5nOSd"
      }
    },
    {
      "cell_type": "code",
      "execution_count": null,
      "metadata": {
        "colab": {
          "base_uri": "https://localhost:8080/"
        },
        "id": "g-F1k_Y7mwk0",
        "outputId": "c2489140-490e-4585-d7cf-e706e8b6571b"
      },
      "outputs": [
        {
          "output_type": "stream",
          "name": "stdout",
          "text": [
            "0\n",
            "1\n",
            "2\n"
          ]
        }
      ],
      "source": [
        "# 1.range() 함수 이용: 정수를 차례로 발생시키는 함수\n",
        "# for 변수 in range(0,3,1):\n",
        "for 변수 in range(3):\n",
        "    print(변수)"
      ]
    },
    {
      "cell_type": "code",
      "source": [
        "# 2.리스트 이용\n",
        "a = list(range(10,0,-1))\n",
        "a = list(range(1,11))\n",
        "for i in a:\n",
        "    print(i)"
      ],
      "metadata": {
        "colab": {
          "base_uri": "https://localhost:8080/"
        },
        "id": "mPuSgmHdn8gJ",
        "outputId": "cdebdeec-3bc9-4579-b84c-eb8c80a91dc5"
      },
      "execution_count": null,
      "outputs": [
        {
          "output_type": "stream",
          "name": "stdout",
          "text": [
            "1\n",
            "2\n",
            "3\n",
            "4\n",
            "5\n",
            "6\n",
            "7\n",
            "8\n",
            "9\n",
            "10\n",
            "1,2,3,4,5,6,7,8,9,10,"
          ]
        }
      ]
    },
    {
      "cell_type": "code",
      "source": [
        "# 한 줄로 표현하는 방법\n",
        "for i in range(1,101):\n",
        "    print(i, end=',')"
      ],
      "metadata": {
        "id": "afdO3StipfQo"
      },
      "execution_count": null,
      "outputs": []
    },
    {
      "cell_type": "code",
      "source": [
        "# 10단위로 한 줄 표현\n",
        "for i in range(1,101):\n",
        "    print(i, end=' ')\n",
        "    if i%10==0:\n",
        "        print()"
      ],
      "metadata": {
        "colab": {
          "base_uri": "https://localhost:8080/"
        },
        "id": "S3wlpfqnvWTE",
        "outputId": "e4beafe9-02f1-492d-fc7e-55bed529d847"
      },
      "execution_count": null,
      "outputs": [
        {
          "output_type": "stream",
          "name": "stdout",
          "text": [
            "1 2 3 4 5 6 7 8 9 10 \n",
            "11 12 13 14 15 16 17 18 19 20 \n",
            "21 22 23 24 25 26 27 28 29 30 \n",
            "31 32 33 34 35 36 37 38 39 40 \n",
            "41 42 43 44 45 46 47 48 49 50 \n",
            "51 52 53 54 55 56 57 58 59 60 \n",
            "61 62 63 64 65 66 67 68 69 70 \n",
            "71 72 73 74 75 76 77 78 79 80 \n",
            "81 82 83 84 85 86 87 88 89 90 \n",
            "91 92 93 94 95 96 97 98 99 100 \n"
          ]
        }
      ]
    },
    {
      "cell_type": "code",
      "source": [
        "# 3.문자열 이용\n",
        "for i in 'python':\n",
        "    print(i)"
      ],
      "metadata": {
        "colab": {
          "base_uri": "https://localhost:8080/"
        },
        "id": "HVHFNu23qDyf",
        "outputId": "de5162cd-f003-4114-da72-d04654f29dbd"
      },
      "execution_count": null,
      "outputs": [
        {
          "output_type": "stream",
          "name": "stdout",
          "text": [
            "p\n",
            "y\n",
            "t\n",
            "h\n",
            "o\n",
            "n\n"
          ]
        }
      ]
    },
    {
      "cell_type": "code",
      "source": [
        "# 4.변수 사용안하고 반복만 할 때\n",
        "for _ in range(3):\n",
        "    print('좋은 아침!')"
      ],
      "metadata": {
        "colab": {
          "base_uri": "https://localhost:8080/"
        },
        "id": "20M-2Zi_qVDW",
        "outputId": "66168ce7-0a97-4dda-86f0-5d198153450a"
      },
      "execution_count": null,
      "outputs": [
        {
          "output_type": "stream",
          "name": "stdout",
          "text": [
            "좋은 아침!\n",
            "좋은 아침!\n",
            "좋은 아침!\n"
          ]
        }
      ]
    },
    {
      "cell_type": "code",
      "source": [
        "# 5.enumerate(): 리스트와 같은 순서가 있는 자료형의 인덱스를 함께 사용\n",
        "fruits = ['사과','포도','딸기','키위']\n",
        "\n",
        "idx = 0\n",
        "for fruit in fruits:\n",
        "    print(idx, fruit)\n",
        "    idx = idx + 1\n",
        "\n",
        "for idx, fruit in enumerate(fruits):\n",
        "    print(idx, fruit)"
      ],
      "metadata": {
        "colab": {
          "base_uri": "https://localhost:8080/"
        },
        "id": "LYoCLK2CqmLx",
        "outputId": "e6520c2e-22f5-4b1a-c536-80d57fe70f10"
      },
      "execution_count": null,
      "outputs": [
        {
          "output_type": "stream",
          "name": "stdout",
          "text": [
            "0 사과\n",
            "1 포도\n",
            "2 딸기\n",
            "3 키위\n"
          ]
        }
      ]
    },
    {
      "cell_type": "code",
      "source": [
        "# 6.컬렉션 자료형 특징 이용\n",
        "# _리스트\n",
        "for a, b in [(1,2,), (3,4), (5,6)]:\n",
        "    print(a, b)\n",
        "print('-'*30)\n",
        "\n",
        "# _딕셔너리\n",
        "dic = {1:'사과', 2:'포도'}\n",
        "for key in dic:\n",
        "    print(key, dic[key])\n",
        "print('-'*30)\n",
        "for key, value in dic.items():\n",
        "    print(key, value)\n",
        "print('-'*30)\n",
        "\n",
        "# _집합\n",
        "for v in {1,2,3,3,4,5,3}:\n",
        "    print(v)"
      ],
      "metadata": {
        "colab": {
          "base_uri": "https://localhost:8080/"
        },
        "id": "2Qs21FMmsUVA",
        "outputId": "0ff393c9-6265-4d52-d856-9d693d1521a1"
      },
      "execution_count": null,
      "outputs": [
        {
          "output_type": "stream",
          "name": "stdout",
          "text": [
            "1 2\n",
            "3 4\n",
            "5 6\n",
            "------------------------------\n",
            "1 사과\n",
            "2 포도\n",
            "------------------------------\n",
            "1 사과\n",
            "2 포도\n",
            "------------------------------\n",
            "1\n",
            "2\n",
            "3\n",
            "4\n",
            "5\n"
          ]
        }
      ]
    },
    {
      "cell_type": "markdown",
      "source": [
        "### [실습문제] 1~N까지 짝수 제외하고 총합 구하기"
      ],
      "metadata": {
        "id": "tKfKonjUukY-"
      }
    },
    {
      "cell_type": "code",
      "source": [
        "n = int(input('합계를 구할 숫자: '))\n",
        "hap = 0\n",
        "for i in range(1, n+1):\n",
        "    if i%2 != 0:\n",
        "        hap = hap + i\n",
        "print(f\"1~{n}까지 짝수 제외한 합은: {hap}\")"
      ],
      "metadata": {
        "colab": {
          "base_uri": "https://localhost:8080/"
        },
        "id": "z8JSLOFoul8t",
        "outputId": "84f14d15-ca27-4dde-e9fe-acef696666c0"
      },
      "execution_count": null,
      "outputs": [
        {
          "output_type": "stream",
          "name": "stdout",
          "text": [
            "합계를 구할 숫자: 100\n",
            "1~100까지 짝수 제외한 합은: 2500\n"
          ]
        }
      ]
    },
    {
      "cell_type": "code",
      "source": [
        "n = int(input('합계를 구할 숫자: '))\n",
        "hap = 0\n",
        "for i in range(1, n+1, 2):\n",
        "    hap = hap + i\n",
        "print(f\"1~{n}까지 짝수 제외한 합은: {hap}\")"
      ],
      "metadata": {
        "id": "_34Fn4xZwD59"
      },
      "execution_count": null,
      "outputs": []
    },
    {
      "cell_type": "code",
      "source": [
        "n = int(input('합계를 구할 숫자: '))\n",
        "hap = sum( [ i for i in range(1, n+1, 2) ] )\n",
        "print(f\"1~{n}까지 짝수 제외한 합은: {hap}\")"
      ],
      "metadata": {
        "colab": {
          "base_uri": "https://localhost:8080/"
        },
        "id": "eqNNKOQVwPQR",
        "outputId": "c01f0324-a38b-453b-a42c-4240d69020ca"
      },
      "execution_count": null,
      "outputs": [
        {
          "output_type": "stream",
          "name": "stdout",
          "text": [
            "합계를 구할 숫자: 100\n",
            "1~100까지 짝수 제외한 합은: 2500\n"
          ]
        }
      ]
    },
    {
      "cell_type": "markdown",
      "source": [
        "### [실습문제] 정오각형 그리기\n",
        "- turtle 모듈은 코랩에서 사용할 수 없음.\n",
        "- PC에서 사용하기"
      ],
      "metadata": {
        "id": "ppIMPlH52AuK"
      }
    },
    {
      "cell_type": "code",
      "source": [
        "import turtle\n",
        "\n",
        "t1 = turtle.Pen()\n",
        "t2 = turtle.Pen()\n",
        "\n",
        "t1.pensize(5)\n",
        "t1.color('blue')\n",
        "t1.shape('turtle')\n",
        "\n",
        "t2.goto(-100, 100)\n",
        "t2.pensize(5)\n",
        "t2.color('red')\n",
        "t2.shape('turtle')\n",
        "\n",
        "for _ in range(5):\n",
        "    t1.forward(100)\n",
        "    t1.right(360/5)\n",
        "\n",
        "for _ in range(4):\n",
        "    t2.forward(100)\n",
        "    t2.right(360/4)\n",
        "\n",
        "turtle.exitonclick()"
      ],
      "metadata": {
        "colab": {
          "base_uri": "https://localhost:8080/",
          "height": 406
        },
        "id": "GLg-Vhx62Jz0",
        "outputId": "ba5ac0f1-947b-496c-8790-79d745c58812"
      },
      "execution_count": null,
      "outputs": [
        {
          "output_type": "error",
          "ename": "TclError",
          "evalue": "no display name and no $DISPLAY environment variable",
          "traceback": [
            "\u001b[0;31m---------------------------------------------------------------------------\u001b[0m",
            "\u001b[0;31mTclError\u001b[0m                                  Traceback (most recent call last)",
            "\u001b[0;32m<ipython-input-29-f04019c345fb>\u001b[0m in \u001b[0;36m<cell line: 3>\u001b[0;34m()\u001b[0m\n\u001b[1;32m      1\u001b[0m \u001b[0;32mimport\u001b[0m \u001b[0mturtle\u001b[0m\u001b[0;34m\u001b[0m\u001b[0;34m\u001b[0m\u001b[0m\n\u001b[1;32m      2\u001b[0m \u001b[0;34m\u001b[0m\u001b[0m\n\u001b[0;32m----> 3\u001b[0;31m \u001b[0mt\u001b[0m \u001b[0;34m=\u001b[0m \u001b[0mturtle\u001b[0m\u001b[0;34m.\u001b[0m\u001b[0mPen\u001b[0m\u001b[0;34m(\u001b[0m\u001b[0;34m)\u001b[0m\u001b[0;34m\u001b[0m\u001b[0;34m\u001b[0m\u001b[0m\n\u001b[0m\u001b[1;32m      4\u001b[0m \u001b[0;34m\u001b[0m\u001b[0m\n\u001b[1;32m      5\u001b[0m \u001b[0mt\u001b[0m\u001b[0;34m.\u001b[0m\u001b[0mforward\u001b[0m\u001b[0;34m(\u001b[0m\u001b[0;36m100\u001b[0m\u001b[0;34m)\u001b[0m\u001b[0;34m\u001b[0m\u001b[0;34m\u001b[0m\u001b[0m\n",
            "\u001b[0;32m/usr/lib/python3.10/turtle.py\u001b[0m in \u001b[0;36m__init__\u001b[0;34m(self, shape, undobuffersize, visible)\u001b[0m\n\u001b[1;32m   3812\u001b[0m                  visible=_CFG[\"visible\"]):\n\u001b[1;32m   3813\u001b[0m         \u001b[0;32mif\u001b[0m \u001b[0mTurtle\u001b[0m\u001b[0;34m.\u001b[0m\u001b[0m_screen\u001b[0m \u001b[0;32mis\u001b[0m \u001b[0;32mNone\u001b[0m\u001b[0;34m:\u001b[0m\u001b[0;34m\u001b[0m\u001b[0;34m\u001b[0m\u001b[0m\n\u001b[0;32m-> 3814\u001b[0;31m             \u001b[0mTurtle\u001b[0m\u001b[0;34m.\u001b[0m\u001b[0m_screen\u001b[0m \u001b[0;34m=\u001b[0m \u001b[0mScreen\u001b[0m\u001b[0;34m(\u001b[0m\u001b[0;34m)\u001b[0m\u001b[0;34m\u001b[0m\u001b[0;34m\u001b[0m\u001b[0m\n\u001b[0m\u001b[1;32m   3815\u001b[0m         RawTurtle.__init__(self, Turtle._screen,\n\u001b[1;32m   3816\u001b[0m                            \u001b[0mshape\u001b[0m\u001b[0;34m=\u001b[0m\u001b[0mshape\u001b[0m\u001b[0;34m,\u001b[0m\u001b[0;34m\u001b[0m\u001b[0;34m\u001b[0m\u001b[0m\n",
            "\u001b[0;32m/usr/lib/python3.10/turtle.py\u001b[0m in \u001b[0;36mScreen\u001b[0;34m()\u001b[0m\n\u001b[1;32m   3662\u001b[0m     else return the existing one.\"\"\"\n\u001b[1;32m   3663\u001b[0m     \u001b[0;32mif\u001b[0m \u001b[0mTurtle\u001b[0m\u001b[0;34m.\u001b[0m\u001b[0m_screen\u001b[0m \u001b[0;32mis\u001b[0m \u001b[0;32mNone\u001b[0m\u001b[0;34m:\u001b[0m\u001b[0;34m\u001b[0m\u001b[0;34m\u001b[0m\u001b[0m\n\u001b[0;32m-> 3664\u001b[0;31m         \u001b[0mTurtle\u001b[0m\u001b[0;34m.\u001b[0m\u001b[0m_screen\u001b[0m \u001b[0;34m=\u001b[0m \u001b[0m_Screen\u001b[0m\u001b[0;34m(\u001b[0m\u001b[0;34m)\u001b[0m\u001b[0;34m\u001b[0m\u001b[0;34m\u001b[0m\u001b[0m\n\u001b[0m\u001b[1;32m   3665\u001b[0m     \u001b[0;32mreturn\u001b[0m \u001b[0mTurtle\u001b[0m\u001b[0;34m.\u001b[0m\u001b[0m_screen\u001b[0m\u001b[0;34m\u001b[0m\u001b[0;34m\u001b[0m\u001b[0m\n\u001b[1;32m   3666\u001b[0m \u001b[0;34m\u001b[0m\u001b[0m\n",
            "\u001b[0;32m/usr/lib/python3.10/turtle.py\u001b[0m in \u001b[0;36m__init__\u001b[0;34m(self)\u001b[0m\n\u001b[1;32m   3678\u001b[0m         \u001b[0;31m# preserved (perhaps by passing it as an optional parameter)\u001b[0m\u001b[0;34m\u001b[0m\u001b[0;34m\u001b[0m\u001b[0m\n\u001b[1;32m   3679\u001b[0m         \u001b[0;32mif\u001b[0m \u001b[0m_Screen\u001b[0m\u001b[0;34m.\u001b[0m\u001b[0m_root\u001b[0m \u001b[0;32mis\u001b[0m \u001b[0;32mNone\u001b[0m\u001b[0;34m:\u001b[0m\u001b[0;34m\u001b[0m\u001b[0;34m\u001b[0m\u001b[0m\n\u001b[0;32m-> 3680\u001b[0;31m             \u001b[0m_Screen\u001b[0m\u001b[0;34m.\u001b[0m\u001b[0m_root\u001b[0m \u001b[0;34m=\u001b[0m \u001b[0mself\u001b[0m\u001b[0;34m.\u001b[0m\u001b[0m_root\u001b[0m \u001b[0;34m=\u001b[0m \u001b[0m_Root\u001b[0m\u001b[0;34m(\u001b[0m\u001b[0;34m)\u001b[0m\u001b[0;34m\u001b[0m\u001b[0;34m\u001b[0m\u001b[0m\n\u001b[0m\u001b[1;32m   3681\u001b[0m             \u001b[0mself\u001b[0m\u001b[0;34m.\u001b[0m\u001b[0m_root\u001b[0m\u001b[0;34m.\u001b[0m\u001b[0mtitle\u001b[0m\u001b[0;34m(\u001b[0m\u001b[0m_Screen\u001b[0m\u001b[0;34m.\u001b[0m\u001b[0m_title\u001b[0m\u001b[0;34m)\u001b[0m\u001b[0;34m\u001b[0m\u001b[0;34m\u001b[0m\u001b[0m\n\u001b[1;32m   3682\u001b[0m             \u001b[0mself\u001b[0m\u001b[0;34m.\u001b[0m\u001b[0m_root\u001b[0m\u001b[0;34m.\u001b[0m\u001b[0mondestroy\u001b[0m\u001b[0;34m(\u001b[0m\u001b[0mself\u001b[0m\u001b[0;34m.\u001b[0m\u001b[0m_destroy\u001b[0m\u001b[0;34m)\u001b[0m\u001b[0;34m\u001b[0m\u001b[0;34m\u001b[0m\u001b[0m\n",
            "\u001b[0;32m/usr/lib/python3.10/turtle.py\u001b[0m in \u001b[0;36m__init__\u001b[0;34m(self)\u001b[0m\n\u001b[1;32m    433\u001b[0m     \u001b[0;34m\"\"\"Root class for Screen based on Tkinter.\"\"\"\u001b[0m\u001b[0;34m\u001b[0m\u001b[0;34m\u001b[0m\u001b[0m\n\u001b[1;32m    434\u001b[0m     \u001b[0;32mdef\u001b[0m \u001b[0m__init__\u001b[0m\u001b[0;34m(\u001b[0m\u001b[0mself\u001b[0m\u001b[0;34m)\u001b[0m\u001b[0;34m:\u001b[0m\u001b[0;34m\u001b[0m\u001b[0;34m\u001b[0m\u001b[0m\n\u001b[0;32m--> 435\u001b[0;31m         \u001b[0mTK\u001b[0m\u001b[0;34m.\u001b[0m\u001b[0mTk\u001b[0m\u001b[0;34m.\u001b[0m\u001b[0m__init__\u001b[0m\u001b[0;34m(\u001b[0m\u001b[0mself\u001b[0m\u001b[0;34m)\u001b[0m\u001b[0;34m\u001b[0m\u001b[0;34m\u001b[0m\u001b[0m\n\u001b[0m\u001b[1;32m    436\u001b[0m \u001b[0;34m\u001b[0m\u001b[0m\n\u001b[1;32m    437\u001b[0m     \u001b[0;32mdef\u001b[0m \u001b[0msetupcanvas\u001b[0m\u001b[0;34m(\u001b[0m\u001b[0mself\u001b[0m\u001b[0;34m,\u001b[0m \u001b[0mwidth\u001b[0m\u001b[0;34m,\u001b[0m \u001b[0mheight\u001b[0m\u001b[0;34m,\u001b[0m \u001b[0mcwidth\u001b[0m\u001b[0;34m,\u001b[0m \u001b[0mcheight\u001b[0m\u001b[0;34m)\u001b[0m\u001b[0;34m:\u001b[0m\u001b[0;34m\u001b[0m\u001b[0;34m\u001b[0m\u001b[0m\n",
            "\u001b[0;32m/usr/lib/python3.10/tkinter/__init__.py\u001b[0m in \u001b[0;36m__init__\u001b[0;34m(self, screenName, baseName, className, useTk, sync, use)\u001b[0m\n\u001b[1;32m   2297\u001b[0m                 \u001b[0mbaseName\u001b[0m \u001b[0;34m=\u001b[0m \u001b[0mbaseName\u001b[0m \u001b[0;34m+\u001b[0m \u001b[0mext\u001b[0m\u001b[0;34m\u001b[0m\u001b[0;34m\u001b[0m\u001b[0m\n\u001b[1;32m   2298\u001b[0m         \u001b[0minteractive\u001b[0m \u001b[0;34m=\u001b[0m \u001b[0;32mFalse\u001b[0m\u001b[0;34m\u001b[0m\u001b[0;34m\u001b[0m\u001b[0m\n\u001b[0;32m-> 2299\u001b[0;31m         \u001b[0mself\u001b[0m\u001b[0;34m.\u001b[0m\u001b[0mtk\u001b[0m \u001b[0;34m=\u001b[0m \u001b[0m_tkinter\u001b[0m\u001b[0;34m.\u001b[0m\u001b[0mcreate\u001b[0m\u001b[0;34m(\u001b[0m\u001b[0mscreenName\u001b[0m\u001b[0;34m,\u001b[0m \u001b[0mbaseName\u001b[0m\u001b[0;34m,\u001b[0m \u001b[0mclassName\u001b[0m\u001b[0;34m,\u001b[0m \u001b[0minteractive\u001b[0m\u001b[0;34m,\u001b[0m \u001b[0mwantobjects\u001b[0m\u001b[0;34m,\u001b[0m \u001b[0museTk\u001b[0m\u001b[0;34m,\u001b[0m \u001b[0msync\u001b[0m\u001b[0;34m,\u001b[0m \u001b[0muse\u001b[0m\u001b[0;34m)\u001b[0m\u001b[0;34m\u001b[0m\u001b[0;34m\u001b[0m\u001b[0m\n\u001b[0m\u001b[1;32m   2300\u001b[0m         \u001b[0;32mif\u001b[0m \u001b[0museTk\u001b[0m\u001b[0;34m:\u001b[0m\u001b[0;34m\u001b[0m\u001b[0;34m\u001b[0m\u001b[0m\n\u001b[1;32m   2301\u001b[0m             \u001b[0mself\u001b[0m\u001b[0;34m.\u001b[0m\u001b[0m_loadtk\u001b[0m\u001b[0;34m(\u001b[0m\u001b[0;34m)\u001b[0m\u001b[0;34m\u001b[0m\u001b[0;34m\u001b[0m\u001b[0m\n",
            "\u001b[0;31mTclError\u001b[0m: no display name and no $DISPLAY environment variable"
          ]
        }
      ]
    },
    {
      "cell_type": "markdown",
      "source": [
        "### [실습문제]  1~100숫자를 1줄로 출력하기"
      ],
      "metadata": {
        "id": "4G1OShLw8U84"
      }
    },
    {
      "cell_type": "code",
      "source": [
        "for i in range(1,101):\n",
        "    print(i, end=' ')"
      ],
      "metadata": {
        "colab": {
          "base_uri": "https://localhost:8080/"
        },
        "id": "ndeWWV678bY3",
        "outputId": "e5860993-05e7-4b2f-d9f1-d386e49b349f"
      },
      "execution_count": null,
      "outputs": [
        {
          "output_type": "stream",
          "name": "stdout",
          "text": [
            "1 2 3 4 5 6 7 8 9 10 11 12 13 14 15 16 17 18 19 20 21 22 23 24 25 26 27 28 29 30 31 32 33 34 35 36 37 38 39 40 41 42 43 44 45 46 47 48 49 50 51 52 53 54 55 56 57 58 59 60 61 62 63 64 65 66 67 68 69 70 71 72 73 74 75 76 77 78 79 80 81 82 83 84 85 86 87 88 89 90 91 92 93 94 95 96 97 98 99 100 "
          ]
        }
      ]
    },
    {
      "cell_type": "code",
      "source": [
        "print( ' '.join( [str(i) for i in range(1,101)] ) )"
      ],
      "metadata": {
        "colab": {
          "base_uri": "https://localhost:8080/"
        },
        "id": "SRNYQJj_8qP8",
        "outputId": "96053ed9-7363-435d-8b73-f47e140d39d5"
      },
      "execution_count": null,
      "outputs": [
        {
          "output_type": "stream",
          "name": "stdout",
          "text": [
            "1 2 3 4 5 6 7 8 9 10 11 12 13 14 15 16 17 18 19 20 21 22 23 24 25 26 27 28 29 30 31 32 33 34 35 36 37 38 39 40 41 42 43 44 45 46 47 48 49 50 51 52 53 54 55 56 57 58 59 60 61 62 63 64 65 66 67 68 69 70 71 72 73 74 75 76 77 78 79 80 81 82 83 84 85 86 87 88 89 90 91 92 93 94 95 96 97 98 99 100\n"
          ]
        }
      ]
    },
    {
      "cell_type": "markdown",
      "source": [
        "### [실습문제] 리스트 읽어서 조건문으로 학생 성적 판별하기"
      ],
      "metadata": {
        "id": "GnjuQr1B-v7Z"
      }
    },
    {
      "cell_type": "code",
      "source": [
        "import random\n",
        "\n",
        "# 방법1 : 직접 지정\n",
        "# scores = [90, 25, 67, 45, 80]\n",
        "\n",
        "# 방법2 : 빈 리스트 만들어서 임의의 숫자 리스트에 추가\n",
        "# scores = []\n",
        "# for _ in range(5):\n",
        "#     scores.append(random.randint(1,101))\n",
        "\n",
        "# 방법3 : 방법2를 한 줄로 표현\n",
        "scores = [ random.randint(1,101) for _ in range(5) ]\n",
        "\n",
        "for idx, score in enumerate(scores):\n",
        "    # if score >= 60:\n",
        "    #     print(f'{idx+1}번 학생 {score}점 : 합격입니다.')\n",
        "    # else:\n",
        "    #     print(f'{idx+1}번 학생 {score}점 : 불합격입니다.')\n",
        "\n",
        "    result = '합격' if score >= 60 else  '불합격'\n",
        "    print(f'{idx+1}번 학생 {score}점 : {result}입니다.')"
      ],
      "metadata": {
        "colab": {
          "base_uri": "https://localhost:8080/"
        },
        "id": "1AT469XT-zKW",
        "outputId": "23f3684c-50d0-4f48-f3a2-78f9f3842561"
      },
      "execution_count": null,
      "outputs": [
        {
          "output_type": "stream",
          "name": "stdout",
          "text": [
            "1번 학생 19점 : 불합격입니다.\n",
            "2번 학생 55점 : 불합격입니다.\n",
            "3번 학생 51점 : 불합격입니다.\n",
            "4번 학생 68점 : 합격입니다.\n",
            "5번 학생 54점 : 불합격입니다.\n"
          ]
        }
      ]
    },
    {
      "cell_type": "markdown",
      "source": [
        "### [실습문제] 괄호 체크하기"
      ],
      "metadata": {
        "id": "0Z0QADUGEtlc"
      }
    },
    {
      "cell_type": "code",
      "source": [
        "'''\n",
        "예)\n",
        "    )))()()((( => False\n",
        "    ()()()()()) => False\n",
        "    ()(())()()  => True\n",
        "    ))(())(( => False\n",
        "    ()(()))( => False\n",
        "    ((())()) => True\n",
        "'''\n",
        "p_list = list(input('판별할 괄호는: '))\n",
        "print(p_list)\n",
        "\n",
        "t = 0\n",
        "for p in p_list:\n",
        "    if p == '(':\n",
        "        t += 1\n",
        "    elif p == ')':\n",
        "        t -= 1\n",
        "    if t < 0:\n",
        "        break\n",
        "if t == 0:\n",
        "    print('결과: True')\n",
        "else:\n",
        "    print('결과: False')"
      ],
      "metadata": {
        "colab": {
          "base_uri": "https://localhost:8080/"
        },
        "id": "rpfQS0QYE5ME",
        "outputId": "527eda59-a5ef-4319-be16-805e98136cdf"
      },
      "execution_count": null,
      "outputs": [
        {
          "output_type": "stream",
          "name": "stdout",
          "text": [
            "판별할 괄호는: ()(())()()\n",
            "['(', ')', '(', '(', ')', ')', '(', ')', '(', ')']\n",
            "0\n"
          ]
        }
      ]
    },
    {
      "cell_type": "markdown",
      "source": [
        "## 중첩 for 반복문: 반복문 안에 반복문"
      ],
      "metadata": {
        "id": "x7e_KQNlG8aJ"
      }
    },
    {
      "cell_type": "code",
      "source": [
        "for i in range(3):\n",
        "    print(f\"{i}------\")\n",
        "    for j in range(3):\n",
        "        print(f\"i:{i}, j:{j}\")"
      ],
      "metadata": {
        "colab": {
          "base_uri": "https://localhost:8080/"
        },
        "id": "ZtGJ8npFHDan",
        "outputId": "e6c84684-694a-44ef-8703-fca47fa95da3"
      },
      "execution_count": null,
      "outputs": [
        {
          "output_type": "stream",
          "name": "stdout",
          "text": [
            "0------\n",
            "i:0, j:0\n",
            "i:0, j:1\n",
            "i:0, j:2\n",
            "1------\n",
            "i:1, j:0\n",
            "i:1, j:1\n",
            "i:1, j:2\n",
            "2------\n",
            "i:2, j:0\n",
            "i:2, j:1\n",
            "i:2, j:2\n"
          ]
        }
      ]
    },
    {
      "cell_type": "code",
      "source": [
        "p_lists = [')))()()(((', '()()()()())','()(())()()',\n",
        "        '))(())((','()(()))(','((())())']\n",
        "\n",
        "for p_list in p_lists :\n",
        "    print(f\"괄호: {p_list} \")\n",
        "    t = 0\n",
        "    for p in p_list:\n",
        "        if p == '(':\n",
        "            t += 1\n",
        "        elif p == ')':\n",
        "            t -= 1\n",
        "        if t < 0:\n",
        "            break\n",
        "    if t == 0:\n",
        "        print('->결과: True')\n",
        "    else:\n",
        "        print('->결과: False')"
      ],
      "metadata": {
        "colab": {
          "base_uri": "https://localhost:8080/"
        },
        "id": "Zhu7HaWXH-k6",
        "outputId": "094e5e31-109c-4404-9450-d4472a9bb84f"
      },
      "execution_count": null,
      "outputs": [
        {
          "output_type": "stream",
          "name": "stdout",
          "text": [
            "괄호: )))()()((( \n",
            "->결과: False\n",
            "괄호: ()()()()()) \n",
            "->결과: False\n",
            "괄호: ()(())()() \n",
            "->결과: True\n",
            "괄호: ))(())(( \n",
            "->결과: False\n",
            "괄호: ()(()))( \n",
            "->결과: False\n",
            "괄호: ((())()) \n",
            "->결과: True\n"
          ]
        }
      ]
    },
    {
      "cell_type": "markdown",
      "source": [
        "## 5-2.while 반복문"
      ],
      "metadata": {
        "id": "WysuhDtzIkgn"
      }
    },
    {
      "cell_type": "markdown",
      "source": [
        "### while 반복문 기본형식"
      ],
      "metadata": {
        "id": "bBGUmS9TRlCU"
      }
    },
    {
      "cell_type": "code",
      "source": [
        "a = 0\n",
        "while a < 5:  # 조건이 참일 동안 반복\n",
        "    print(f\"{a}는 5보다 작군요\")\n",
        "    a += 1\n",
        "print(f\"{a}는 5와 같군요\")"
      ],
      "metadata": {
        "colab": {
          "base_uri": "https://localhost:8080/"
        },
        "id": "2fJiNfpNRi9r",
        "outputId": "14f8dd19-8d6e-4130-c459-1376f01780b5"
      },
      "execution_count": null,
      "outputs": [
        {
          "output_type": "stream",
          "name": "stdout",
          "text": [
            "0는 5보다 작군요\n",
            "1는 5보다 작군요\n",
            "2는 5보다 작군요\n",
            "3는 5보다 작군요\n",
            "4는 5보다 작군요\n",
            "5는 5와 같군요\n"
          ]
        }
      ]
    },
    {
      "cell_type": "code",
      "source": [
        "a = 0\n",
        "while True:\n",
        "    if a >=5:\n",
        "        break\n",
        "    print(f\"{a}는 5보다 작군요\")\n",
        "    a += 1\n",
        "print(f\"{a}는 5와 같군요\")"
      ],
      "metadata": {
        "colab": {
          "base_uri": "https://localhost:8080/"
        },
        "id": "erMJtb7OSNlV",
        "outputId": "154c4987-0377-405b-d62a-2242d788c3ec"
      },
      "execution_count": null,
      "outputs": [
        {
          "output_type": "stream",
          "name": "stdout",
          "text": [
            "0는 5보다 작군요\n",
            "1는 5보다 작군요\n",
            "2는 5보다 작군요\n",
            "3는 5보다 작군요\n",
            "4는 5보다 작군요\n",
            "5는 5와 같군요\n"
          ]
        }
      ]
    },
    {
      "cell_type": "markdown",
      "source": [
        "### [실습문제] 10번 찍어 나무 넘기"
      ],
      "metadata": {
        "id": "9VSJwQcnTpc5"
      }
    },
    {
      "cell_type": "code",
      "source": [
        "treeHit = 0\n",
        "while treeHit < 10:\n",
        "    treeHit += 1\n",
        "    print(f\"나무를 {treeHit}번 찍었습니다\")\n",
        "print(\"나무 넘어 갔습니다.\")"
      ],
      "metadata": {
        "id": "z7zxf3oxTyGH"
      },
      "execution_count": null,
      "outputs": []
    },
    {
      "cell_type": "code",
      "source": [
        "treeHit = 0\n",
        "while True:\n",
        "    if treeHit >= 10:\n",
        "        break\n",
        "    treeHit += 1\n",
        "    print(f\"나무를 {treeHit}번 찍었습니다\")\n",
        "print(\"나무 넘어 갔습니다.\")"
      ],
      "metadata": {
        "colab": {
          "base_uri": "https://localhost:8080/"
        },
        "id": "iNlfgzK7UKH4",
        "outputId": "b19df4d5-c248-466a-aae5-0341208008c1"
      },
      "execution_count": null,
      "outputs": [
        {
          "output_type": "stream",
          "name": "stdout",
          "text": [
            "나무를 1번 찍었습니다\n",
            "나무를 2번 찍었습니다\n",
            "나무를 3번 찍었습니다\n",
            "나무를 4번 찍었습니다\n",
            "나무를 5번 찍었습니다\n",
            "나무를 6번 찍었습니다\n",
            "나무를 7번 찍었습니다\n",
            "나무를 8번 찍었습니다\n",
            "나무를 9번 찍었습니다\n",
            "나무를 10번 찍었습니다\n",
            "나무 넘어 갔습니다.\n"
          ]
        }
      ]
    },
    {
      "cell_type": "markdown",
      "source": [
        "\n",
        "---\n",
        "\n"
      ],
      "metadata": {
        "id": "ClXxeDRuV8v8"
      }
    },
    {
      "cell_type": "markdown",
      "source": [
        "## [다양한 반복문 문제 풀기]"
      ],
      "metadata": {
        "id": "R_Ff0l-DV_SQ"
      }
    }
  ]
}