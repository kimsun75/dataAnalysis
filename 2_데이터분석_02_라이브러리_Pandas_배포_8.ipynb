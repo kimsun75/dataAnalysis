{
  "cells": [
    {
      "cell_type": "markdown",
      "metadata": {
        "id": "view-in-github",
        "colab_type": "text"
      },
      "source": [
        "<a href=\"https://colab.research.google.com/github/kimsun75/dataAnalysis/blob/main/2_%EB%8D%B0%EC%9D%B4%ED%84%B0%EB%B6%84%EC%84%9D_02_%EB%9D%BC%EC%9D%B4%EB%B8%8C%EB%9F%AC%EB%A6%AC_Pandas_%EB%B0%B0%ED%8F%AC_8.ipynb\" target=\"_parent\"><img src=\"https://colab.research.google.com/assets/colab-badge.svg\" alt=\"Open In Colab\"/></a>"
      ]
    },
    {
      "cell_type": "markdown",
      "id": "6c983c03",
      "metadata": {
        "id": "6c983c03"
      },
      "source": [
        "# Pandas\n",
        "교재: 데이터 과학을 위한 파이썬 머신러닝(Chapter4)"
      ]
    },
    {
      "cell_type": "markdown",
      "id": "9476178e",
      "metadata": {
        "id": "9476178e"
      },
      "source": [
        "- <a href=\"#04.1판다스란\">04.1 판다스란</a>\n",
        "- <a href=\"#04.2데이터추출\">04.2 데이터 추출</a>\n",
        "- <a href=\"#04.3그룹별집계\">04.3 그룹별 집계</a>\n",
        "- <a href=\"#04.4병합과연결\">04.4 병합과 연결</a>"
      ]
    },
    {
      "cell_type": "markdown",
      "id": "330e9146",
      "metadata": {
        "id": "330e9146"
      },
      "source": [
        "---------------"
      ]
    },
    {
      "cell_type": "markdown",
      "id": "07cd7ca1",
      "metadata": {
        "id": "07cd7ca1"
      },
      "source": [
        "### 라이브러리 설치"
      ]
    },
    {
      "cell_type": "code",
      "execution_count": null,
      "id": "10194609",
      "metadata": {
        "id": "10194609"
      },
      "outputs": [],
      "source": [
        "!pip show pandas"
      ]
    },
    {
      "cell_type": "code",
      "execution_count": null,
      "id": "13fe60b5",
      "metadata": {
        "scrolled": true,
        "id": "13fe60b5"
      },
      "outputs": [],
      "source": [
        "!pip install pandas"
      ]
    },
    {
      "cell_type": "code",
      "execution_count": null,
      "id": "65fc5e64",
      "metadata": {
        "id": "65fc5e64",
        "outputId": "b15cf4eb-b0cc-42fd-bb73-9e6f7b869a6a"
      },
      "outputs": [
        {
          "data": {
            "text/plain": [
              "'2.2.1'"
            ]
          },
          "execution_count": 3,
          "metadata": {},
          "output_type": "execute_result"
        }
      ],
      "source": [
        "import pandas as pd\n",
        "pd.__version__"
      ]
    },
    {
      "cell_type": "markdown",
      "id": "455016db",
      "metadata": {
        "id": "455016db"
      },
      "source": [
        "------------------------------"
      ]
    },
    {
      "cell_type": "markdown",
      "id": "dd312d9d",
      "metadata": {
        "id": "dd312d9d"
      },
      "source": [
        "## <a name=\"04.1판다스란\">04.1 판다스란</a>"
      ]
    },
    {
      "cell_type": "markdown",
      "id": "eba0ff10",
      "metadata": {
        "id": "eba0ff10"
      },
      "source": [
        "### 1. 판다스의 개념\n",
        "- https://pandas.pydata.org/\n",
        "- 파이썬의 데이터 분석 라이브러리\n",
        "- 데이터 테이블(data table)을 다루는 도구\n",
        "- 넘파이를 사용, 판다스는 넘파이를 효율적으로 사용하기 위해 인덱싱, 연산, 전처리 등 다양한 함수 제공\n",
        "- **데이터프레임(DataFrame)** : 데이터 테이블 전체 객체\n",
        "- **시리즈(Series)** : 각 열 데이터를 다루는 객체\n",
        "- 10 minutes to pandas : https://pandas.pydata.org/docs/user_guide/10min.html"
      ]
    },
    {
      "cell_type": "markdown",
      "id": "c8a48e86",
      "metadata": {
        "id": "c8a48e86"
      },
      "source": [
        "### 2. 시리즈 객체\n",
        "- 피쳐 벡터(feature vector)와 같은 개념\n",
        "- 데이터프레임(DataFrame) 안에 포함된 열(colume)들을 지칭할 수 있음\n",
        "- list, dict, ndarray 등 다양한 데이터 타입이 시리즈 객체 형태로 변환되기도 함"
      ]
    },
    {
      "cell_type": "markdown",
      "id": "fb78336b",
      "metadata": {
        "id": "fb78336b"
      },
      "source": [
        "### [예제] Series 객체"
      ]
    },
    {
      "cell_type": "code",
      "execution_count": null,
      "id": "c9db6096",
      "metadata": {
        "id": "c9db6096"
      },
      "outputs": [],
      "source": [
        "# from pandas import Series\n",
        "\n"
      ]
    },
    {
      "cell_type": "markdown",
      "id": "ed88770b",
      "metadata": {
        "id": "ed88770b"
      },
      "source": [
        "### Series 객체 생성\n",
        "- 판다스의 모든 객체는 인덱스 값을 기준으로 생성"
      ]
    },
    {
      "cell_type": "code",
      "execution_count": null,
      "id": "f13952a6",
      "metadata": {
        "id": "f13952a6"
      },
      "outputs": [],
      "source": [
        "dict_data = {\"a\":1, \"b\":2, \"c\":3, \"d\":4, \"e\":5}\n"
      ]
    },
    {
      "cell_type": "code",
      "execution_count": null,
      "id": "1b99e493",
      "metadata": {
        "scrolled": true,
        "id": "1b99e493"
      },
      "outputs": [],
      "source": [
        "dict_data = {\"a\":1, \"b\":2, \"c\":3, \"d\":4, \"e\":5}\n"
      ]
    },
    {
      "cell_type": "markdown",
      "id": "53efb3ba",
      "metadata": {
        "id": "53efb3ba"
      },
      "source": [
        "------------------"
      ]
    },
    {
      "cell_type": "markdown",
      "id": "9969a1c0",
      "metadata": {
        "id": "9969a1c0"
      },
      "source": [
        "### 3. 데이터프레임 객체\n",
        "- 데이터 테이블 전체를 지칭하는 객체\n",
        "- 넘파이 배열의 특성을 그대로 가짐\n",
        "- 인덱싱 : 열과 행 각각 사용하여 하나의 데이터에 접근"
      ]
    },
    {
      "cell_type": "markdown",
      "id": "13e63980",
      "metadata": {
        "id": "13e63980"
      },
      "source": [
        "### [예제] Pandas로 다양한 파일 읽어오기"
      ]
    },
    {
      "cell_type": "markdown",
      "id": "434b662f",
      "metadata": {
        "id": "434b662f"
      },
      "source": [
        "#### 1.txt 데이터 Pandas DataFrame으로 나타내기"
      ]
    },
    {
      "cell_type": "code",
      "execution_count": null,
      "id": "46c555bd",
      "metadata": {
        "colab": {
          "base_uri": "https://localhost:8080/",
          "height": 175
        },
        "id": "46c555bd",
        "outputId": "a00ac4a9-d72a-41bc-a0b3-2d8ca971813c"
      },
      "outputs": [
        {
          "data": {
            "text/html": [
              "<div>\n",
              "<style scoped>\n",
              "    .dataframe tbody tr th:only-of-type {\n",
              "        vertical-align: middle;\n",
              "    }\n",
              "\n",
              "    .dataframe tbody tr th {\n",
              "        vertical-align: top;\n",
              "    }\n",
              "\n",
              "    .dataframe thead th {\n",
              "        text-align: right;\n",
              "    }\n",
              "</style>\n",
              "<table border=\"1\" class=\"dataframe\">\n",
              "  <thead>\n",
              "    <tr style=\"text-align: right;\">\n",
              "      <th></th>\n",
              "      <th>제목</th>\n",
              "      <th>영어제목</th>\n",
              "      <th>저자</th>\n",
              "      <th>언어</th>\n",
              "      <th>출판년도</th>\n",
              "    </tr>\n",
              "  </thead>\n",
              "  <tbody>\n",
              "    <tr>\n",
              "      <th>0</th>\n",
              "      <td>두 도시 이야기</td>\n",
              "      <td>A Tale of Two Cities</td>\n",
              "      <td>찰스 디킨스</td>\n",
              "      <td>영어</td>\n",
              "      <td>1859</td>\n",
              "    </tr>\n",
              "    <tr>\n",
              "      <th>1</th>\n",
              "      <td>어린 왕자</td>\n",
              "      <td>Le Petit Prince</td>\n",
              "      <td>앙투안 드 생텍쥐페리</td>\n",
              "      <td>프랑스어</td>\n",
              "      <td>1943</td>\n",
              "    </tr>\n",
              "    <tr>\n",
              "      <th>2</th>\n",
              "      <td>반지의 제왕</td>\n",
              "      <td>The Lord of the Rings</td>\n",
              "      <td>J. R. R. 톨킨</td>\n",
              "      <td>영어</td>\n",
              "      <td>1954 ~ 1955</td>\n",
              "    </tr>\n",
              "    <tr>\n",
              "      <th>3</th>\n",
              "      <td>그리고 아무도 없었다</td>\n",
              "      <td>And Then There Were None</td>\n",
              "      <td>애거사 크리스티</td>\n",
              "      <td>영어</td>\n",
              "      <td>1939</td>\n",
              "    </tr>\n",
              "    <tr>\n",
              "      <th>4</th>\n",
              "      <td>호빗</td>\n",
              "      <td>The Hobbit</td>\n",
              "      <td>J. R. R. 톨킨</td>\n",
              "      <td>영어</td>\n",
              "      <td>1937</td>\n",
              "    </tr>\n",
              "  </tbody>\n",
              "</table>\n",
              "</div>"
            ],
            "text/plain": [
              "            제목                      영어제목            저자    언어         출판년도\n",
              "0     두 도시 이야기      A Tale of Two Cities        찰스 디킨스    영어         1859\n",
              "1        어린 왕자           Le Petit Prince   앙투안 드 생텍쥐페리  프랑스어         1943\n",
              "2       반지의 제왕     The Lord of the Rings   J. R. R. 톨킨    영어  1954 ~ 1955\n",
              "3  그리고 아무도 없었다  And Then There Were None      애거사 크리스티    영어         1939\n",
              "4           호빗                The Hobbit   J. R. R. 톨킨    영어         1937"
            ]
          },
          "execution_count": 10,
          "metadata": {},
          "output_type": "execute_result"
        }
      ],
      "source": [
        "import pandas as pd\n",
        "\n",
        "DIR = './data/'\n",
        "filename = './data/book.txt'\n",
        "df = pd.read_table(filename,\n",
        "                   sep=',',\n",
        "                   names=['제목','영어제목','저자','언어','출판년도'] )\n",
        "df"
      ]
    },
    {
      "cell_type": "markdown",
      "id": "c96e8007",
      "metadata": {
        "id": "c96e8007"
      },
      "source": [
        "#### 2.csv 데이터 Pandas DataFrame으로 나타내기"
      ]
    },
    {
      "cell_type": "code",
      "execution_count": null,
      "id": "767c72d3",
      "metadata": {
        "id": "767c72d3",
        "outputId": "a9f42c19-3aae-4d6b-ae50-73546e03a063"
      },
      "outputs": [
        {
          "data": {
            "text/html": [
              "<div>\n",
              "<style scoped>\n",
              "    .dataframe tbody tr th:only-of-type {\n",
              "        vertical-align: middle;\n",
              "    }\n",
              "\n",
              "    .dataframe tbody tr th {\n",
              "        vertical-align: top;\n",
              "    }\n",
              "\n",
              "    .dataframe thead th {\n",
              "        text-align: right;\n",
              "    }\n",
              "</style>\n",
              "<table border=\"1\" class=\"dataframe\">\n",
              "  <thead>\n",
              "    <tr style=\"text-align: right;\">\n",
              "      <th></th>\n",
              "      <th>행정구역별</th>\n",
              "      <th>2020</th>\n",
              "      <th>2021</th>\n",
              "      <th>2022</th>\n",
              "    </tr>\n",
              "  </thead>\n",
              "  <tbody>\n",
              "    <tr>\n",
              "      <th>0</th>\n",
              "      <td>전국</td>\n",
              "      <td>516.2</td>\n",
              "      <td>515.2</td>\n",
              "      <td>514.6</td>\n",
              "    </tr>\n",
              "    <tr>\n",
              "      <th>1</th>\n",
              "      <td>서울특별시</td>\n",
              "      <td>15839.0</td>\n",
              "      <td>15650.1</td>\n",
              "      <td>15560.7</td>\n",
              "    </tr>\n",
              "    <tr>\n",
              "      <th>2</th>\n",
              "      <td>부산광역시</td>\n",
              "      <td>4348.9</td>\n",
              "      <td>4316.4</td>\n",
              "      <td>4272.8</td>\n",
              "    </tr>\n",
              "    <tr>\n",
              "      <th>3</th>\n",
              "      <td>대구광역시</td>\n",
              "      <td>2728.6</td>\n",
              "      <td>2702.2</td>\n",
              "      <td>2673.7</td>\n",
              "    </tr>\n",
              "    <tr>\n",
              "      <th>4</th>\n",
              "      <td>인천광역시</td>\n",
              "      <td>2765.1</td>\n",
              "      <td>2772.8</td>\n",
              "      <td>2801.3</td>\n",
              "    </tr>\n",
              "    <tr>\n",
              "      <th>5</th>\n",
              "      <td>광주광역시</td>\n",
              "      <td>2948.5</td>\n",
              "      <td>2944.0</td>\n",
              "      <td>2931.9</td>\n",
              "    </tr>\n",
              "    <tr>\n",
              "      <th>6</th>\n",
              "      <td>대전광역시</td>\n",
              "      <td>2758.1</td>\n",
              "      <td>2742.8</td>\n",
              "      <td>2730.7</td>\n",
              "    </tr>\n",
              "    <tr>\n",
              "      <th>7</th>\n",
              "      <td>울산광역시</td>\n",
              "      <td>1069.0</td>\n",
              "      <td>1055.0</td>\n",
              "      <td>1044.9</td>\n",
              "    </tr>\n",
              "    <tr>\n",
              "      <th>8</th>\n",
              "      <td>세종특별자치시</td>\n",
              "      <td>761.3</td>\n",
              "      <td>787.7</td>\n",
              "      <td>822.9</td>\n",
              "    </tr>\n",
              "    <tr>\n",
              "      <th>9</th>\n",
              "      <td>경기도</td>\n",
              "      <td>1325.3</td>\n",
              "      <td>1338.9</td>\n",
              "      <td>1344.9</td>\n",
              "    </tr>\n",
              "    <tr>\n",
              "      <th>10</th>\n",
              "      <td>강원도</td>\n",
              "      <td>90.4</td>\n",
              "      <td>90.4</td>\n",
              "      <td>90.8</td>\n",
              "    </tr>\n",
              "    <tr>\n",
              "      <th>11</th>\n",
              "      <td>충청북도</td>\n",
              "      <td>220.3</td>\n",
              "      <td>219.4</td>\n",
              "      <td>219.4</td>\n",
              "    </tr>\n",
              "    <tr>\n",
              "      <th>12</th>\n",
              "      <td>충청남도</td>\n",
              "      <td>264.0</td>\n",
              "      <td>263.8</td>\n",
              "      <td>265.9</td>\n",
              "    </tr>\n",
              "    <tr>\n",
              "      <th>13</th>\n",
              "      <td>전라북도</td>\n",
              "      <td>223.4</td>\n",
              "      <td>221.4</td>\n",
              "      <td>219.8</td>\n",
              "    </tr>\n",
              "    <tr>\n",
              "      <th>14</th>\n",
              "      <td>전라남도</td>\n",
              "      <td>144.9</td>\n",
              "      <td>143.9</td>\n",
              "      <td>143.3</td>\n",
              "    </tr>\n",
              "    <tr>\n",
              "      <th>15</th>\n",
              "      <td>경상북도</td>\n",
              "      <td>138.9</td>\n",
              "      <td>138.4</td>\n",
              "      <td>137.7</td>\n",
              "    </tr>\n",
              "    <tr>\n",
              "      <th>16</th>\n",
              "      <td>경상남도</td>\n",
              "      <td>316.2</td>\n",
              "      <td>313.6</td>\n",
              "      <td>311.2</td>\n",
              "    </tr>\n",
              "    <tr>\n",
              "      <th>17</th>\n",
              "      <td>제주특별자치도</td>\n",
              "      <td>362.6</td>\n",
              "      <td>363.8</td>\n",
              "      <td>365.6</td>\n",
              "    </tr>\n",
              "  </tbody>\n",
              "</table>\n",
              "</div>"
            ],
            "text/plain": [
              "      행정구역별     2020     2021     2022\n",
              "0        전국    516.2    515.2    514.6\n",
              "1     서울특별시  15839.0  15650.1  15560.7\n",
              "2     부산광역시   4348.9   4316.4   4272.8\n",
              "3     대구광역시   2728.6   2702.2   2673.7\n",
              "4     인천광역시   2765.1   2772.8   2801.3\n",
              "5     광주광역시   2948.5   2944.0   2931.9\n",
              "6     대전광역시   2758.1   2742.8   2730.7\n",
              "7     울산광역시   1069.0   1055.0   1044.9\n",
              "8   세종특별자치시    761.3    787.7    822.9\n",
              "9       경기도   1325.3   1338.9   1344.9\n",
              "10      강원도     90.4     90.4     90.8\n",
              "11     충청북도    220.3    219.4    219.4\n",
              "12     충청남도    264.0    263.8    265.9\n",
              "13     전라북도    223.4    221.4    219.8\n",
              "14     전라남도    144.9    143.9    143.3\n",
              "15     경상북도    138.9    138.4    137.7\n",
              "16     경상남도    316.2    313.6    311.2\n",
              "17  제주특별자치도    362.6    363.8    365.6"
            ]
          },
          "execution_count": 14,
          "metadata": {},
          "output_type": "execute_result"
        }
      ],
      "source": [
        "filename = './data/인구밀도.csv'\n",
        "df = pd.read_csv(filename, encoding='cp949')\n",
        "df"
      ]
    },
    {
      "cell_type": "markdown",
      "id": "t0wTzAduO6hk",
      "metadata": {
        "id": "t0wTzAduO6hk"
      },
      "source": [
        "#### 3.Excel 시트 Pandas DataFrame으로 나타내기"
      ]
    },
    {
      "cell_type": "code",
      "execution_count": null,
      "id": "a3c7dcb7",
      "metadata": {
        "id": "a3c7dcb7",
        "outputId": "edf96312-e5d5-4fb0-d88d-f7d17ef0d89f"
      },
      "outputs": [
        {
          "name": "stdout",
          "output_type": "stream",
          "text": [
            "Requirement already satisfied: openpyxl in c:\\python\\python312\\lib\\site-packages (3.1.2)\n",
            "Requirement already satisfied: et-xmlfile in c:\\python\\python312\\lib\\site-packages (from openpyxl) (1.1.0)\n"
          ]
        }
      ],
      "source": [
        "!pip install openpyxl"
      ]
    },
    {
      "cell_type": "markdown",
      "id": "nDna7CDnSoPY",
      "metadata": {
        "id": "nDna7CDnSoPY"
      },
      "source": [
        "##### 1.전체 시트(sheet) 가져오기"
      ]
    },
    {
      "cell_type": "code",
      "execution_count": null,
      "id": "6R4Agf3uO32N",
      "metadata": {
        "colab": {
          "base_uri": "https://localhost:8080/"
        },
        "id": "6R4Agf3uO32N",
        "outputId": "0b99c490-9092-48c7-dbfe-17a18dd1cbf6"
      },
      "outputs": [
        {
          "data": {
            "text/plain": [
              "{'인구밀도':       행정구역별     2020     2021     2022\n",
              " 0        전국    516.2    515.2    514.6\n",
              " 1     서울특별시  15839.0  15650.1  15560.7\n",
              " 2     부산광역시   4348.9   4316.4   4272.8\n",
              " 3     대구광역시   2728.6   2702.2   2673.7\n",
              " 4     인천광역시   2765.1   2772.8   2801.3\n",
              " 5     광주광역시   2948.5   2944.0   2931.9\n",
              " 6     대전광역시   2758.1   2742.8   2730.7\n",
              " 7     울산광역시   1069.0   1055.0   1044.9\n",
              " 8   세종특별자치시    761.3    787.7    822.9\n",
              " 9       경기도   1325.3   1338.9   1344.9\n",
              " 10      강원도     90.4     90.4     90.8\n",
              " 11     충청북도    220.3    219.4    219.4\n",
              " 12     충청남도    264.0    263.8    265.9\n",
              " 13     전라북도    223.4    221.4    219.8\n",
              " 14     전라남도    144.9    143.9    143.3\n",
              " 15     경상북도    138.9    138.4    137.7\n",
              " 16     경상남도    316.2    313.6    311.2\n",
              " 17  제주특별자치도    362.6    363.8    365.6,\n",
              " '인구밀도2':       행정구역별     2023     2024\n",
              " 0        전국    516.2    515.2\n",
              " 1     서울특별시  15839.0  15650.1\n",
              " 2     부산광역시   4348.9   4316.4\n",
              " 3     대구광역시   2728.6   2702.2\n",
              " 4     인천광역시   2765.1   2772.8\n",
              " 5     광주광역시   2948.5   2944.0\n",
              " 6     대전광역시   2758.1   2742.8\n",
              " 7     울산광역시   1069.0   1055.0\n",
              " 8   세종특별자치시    761.3    787.7\n",
              " 9       경기도   1325.3   1338.9\n",
              " 10      강원도     90.4     90.4\n",
              " 11     충청북도    220.3    219.4\n",
              " 12     충청남도    264.0    263.8\n",
              " 13     전라북도    223.4    221.4\n",
              " 14     전라남도    144.9    143.9\n",
              " 15     경상북도    138.9    138.4\n",
              " 16     경상남도    316.2    313.6\n",
              " 17  제주특별자치도    362.6    363.8}"
            ]
          },
          "execution_count": 21,
          "metadata": {},
          "output_type": "execute_result"
        }
      ],
      "source": [
        "import pandas as pd\n",
        "\n",
        "# 전체 시트 가져오기\n",
        "# 시트가 여러개 일 경우 딕셔너리 형태로 나타난다.\n",
        "filename = './data/인구밀도_엑셀.xlsx'\n",
        "df = pd.read_excel(filename)                      # 첫 번째 시트\n",
        "df = pd.read_excel(filename,  sheet_name=None)    # 전체-> 시트가 여러개 일 경우 딕셔너리 형태\n",
        "df"
      ]
    },
    {
      "cell_type": "markdown",
      "id": "foTGCoMTTSEx",
      "metadata": {
        "id": "foTGCoMTTSEx"
      },
      "source": [
        "##### 2.특정 시트(sheet) 가져오기"
      ]
    },
    {
      "cell_type": "code",
      "execution_count": null,
      "id": "a81OQvEeTSvp",
      "metadata": {
        "id": "a81OQvEeTSvp",
        "outputId": "afec4fab-cdb9-48af-f787-8271e6439740"
      },
      "outputs": [
        {
          "data": {
            "text/html": [
              "<div>\n",
              "<style scoped>\n",
              "    .dataframe tbody tr th:only-of-type {\n",
              "        vertical-align: middle;\n",
              "    }\n",
              "\n",
              "    .dataframe tbody tr th {\n",
              "        vertical-align: top;\n",
              "    }\n",
              "\n",
              "    .dataframe thead th {\n",
              "        text-align: right;\n",
              "    }\n",
              "</style>\n",
              "<table border=\"1\" class=\"dataframe\">\n",
              "  <thead>\n",
              "    <tr style=\"text-align: right;\">\n",
              "      <th></th>\n",
              "      <th>행정구역별</th>\n",
              "      <th>2023</th>\n",
              "      <th>2024</th>\n",
              "    </tr>\n",
              "  </thead>\n",
              "  <tbody>\n",
              "    <tr>\n",
              "      <th>13</th>\n",
              "      <td>전라북도</td>\n",
              "      <td>223.4</td>\n",
              "      <td>221.4</td>\n",
              "    </tr>\n",
              "    <tr>\n",
              "      <th>14</th>\n",
              "      <td>전라남도</td>\n",
              "      <td>144.9</td>\n",
              "      <td>143.9</td>\n",
              "    </tr>\n",
              "    <tr>\n",
              "      <th>15</th>\n",
              "      <td>경상북도</td>\n",
              "      <td>138.9</td>\n",
              "      <td>138.4</td>\n",
              "    </tr>\n",
              "    <tr>\n",
              "      <th>16</th>\n",
              "      <td>경상남도</td>\n",
              "      <td>316.2</td>\n",
              "      <td>313.6</td>\n",
              "    </tr>\n",
              "    <tr>\n",
              "      <th>17</th>\n",
              "      <td>제주특별자치도</td>\n",
              "      <td>362.6</td>\n",
              "      <td>363.8</td>\n",
              "    </tr>\n",
              "  </tbody>\n",
              "</table>\n",
              "</div>"
            ],
            "text/plain": [
              "      행정구역별   2023   2024\n",
              "13     전라북도  223.4  221.4\n",
              "14     전라남도  144.9  143.9\n",
              "15     경상북도  138.9  138.4\n",
              "16     경상남도  316.2  313.6\n",
              "17  제주특별자치도  362.6  363.8"
            ]
          },
          "execution_count": 40,
          "metadata": {},
          "output_type": "execute_result"
        }
      ],
      "source": [
        "# 특정 시트 가져오기\n",
        "df = pd.read_excel(filename,  sheet_name='인구밀도2')  # 특정 시트 지정\n",
        "df.head()    # 레코드를 앞에서부터 본다\n",
        "df.tail()    # 레코드를 뒤에서부터 본다"
      ]
    },
    {
      "cell_type": "markdown",
      "id": "2LfA2DJXTTPW",
      "metadata": {
        "id": "2LfA2DJXTTPW"
      },
      "source": [
        "##### 3.여러 시트(sheet) 가져오기"
      ]
    },
    {
      "cell_type": "code",
      "execution_count": null,
      "id": "ulUDC-jtTThG",
      "metadata": {
        "id": "ulUDC-jtTThG",
        "outputId": "498a21b7-003a-47c7-b569-a54b559e9aff"
      },
      "outputs": [
        {
          "data": {
            "text/plain": [
              "{'인구밀도2':       행정구역별     2023     2024\n",
              " 0        전국    516.2    515.2\n",
              " 1     서울특별시  15839.0  15650.1\n",
              " 2     부산광역시   4348.9   4316.4\n",
              " 3     대구광역시   2728.6   2702.2\n",
              " 4     인천광역시   2765.1   2772.8\n",
              " 5     광주광역시   2948.5   2944.0\n",
              " 6     대전광역시   2758.1   2742.8\n",
              " 7     울산광역시   1069.0   1055.0\n",
              " 8   세종특별자치시    761.3    787.7\n",
              " 9       경기도   1325.3   1338.9\n",
              " 10      강원도     90.4     90.4\n",
              " 11     충청북도    220.3    219.4\n",
              " 12     충청남도    264.0    263.8\n",
              " 13     전라북도    223.4    221.4\n",
              " 14     전라남도    144.9    143.9\n",
              " 15     경상북도    138.9    138.4\n",
              " 16     경상남도    316.2    313.6\n",
              " 17  제주특별자치도    362.6    363.8,\n",
              " '인구밀도':       행정구역별     2020     2021     2022\n",
              " 0        전국    516.2    515.2    514.6\n",
              " 1     서울특별시  15839.0  15650.1  15560.7\n",
              " 2     부산광역시   4348.9   4316.4   4272.8\n",
              " 3     대구광역시   2728.6   2702.2   2673.7\n",
              " 4     인천광역시   2765.1   2772.8   2801.3\n",
              " 5     광주광역시   2948.5   2944.0   2931.9\n",
              " 6     대전광역시   2758.1   2742.8   2730.7\n",
              " 7     울산광역시   1069.0   1055.0   1044.9\n",
              " 8   세종특별자치시    761.3    787.7    822.9\n",
              " 9       경기도   1325.3   1338.9   1344.9\n",
              " 10      강원도     90.4     90.4     90.8\n",
              " 11     충청북도    220.3    219.4    219.4\n",
              " 12     충청남도    264.0    263.8    265.9\n",
              " 13     전라북도    223.4    221.4    219.8\n",
              " 14     전라남도    144.9    143.9    143.3\n",
              " 15     경상북도    138.9    138.4    137.7\n",
              " 16     경상남도    316.2    313.6    311.2\n",
              " 17  제주특별자치도    362.6    363.8    365.6}"
            ]
          },
          "execution_count": 22,
          "metadata": {},
          "output_type": "execute_result"
        }
      ],
      "source": [
        "# 여러 시트 가져오기: 시트 이름으로 가져오기\n",
        "df = pd.read_excel(filename,  sheet_name=['인구밀도2','인구밀도'])  # 여러 개 시트\n",
        "df"
      ]
    },
    {
      "cell_type": "code",
      "execution_count": null,
      "id": "WpFPWWAcWRb7",
      "metadata": {
        "id": "WpFPWWAcWRb7",
        "outputId": "da214c66-e8f9-4247-eb9f-791d0606286b"
      },
      "outputs": [
        {
          "data": {
            "text/plain": [
              "{1:       행정구역별     2023     2024\n",
              " 0        전국    516.2    515.2\n",
              " 1     서울특별시  15839.0  15650.1\n",
              " 2     부산광역시   4348.9   4316.4\n",
              " 3     대구광역시   2728.6   2702.2\n",
              " 4     인천광역시   2765.1   2772.8\n",
              " 5     광주광역시   2948.5   2944.0\n",
              " 6     대전광역시   2758.1   2742.8\n",
              " 7     울산광역시   1069.0   1055.0\n",
              " 8   세종특별자치시    761.3    787.7\n",
              " 9       경기도   1325.3   1338.9\n",
              " 10      강원도     90.4     90.4\n",
              " 11     충청북도    220.3    219.4\n",
              " 12     충청남도    264.0    263.8\n",
              " 13     전라북도    223.4    221.4\n",
              " 14     전라남도    144.9    143.9\n",
              " 15     경상북도    138.9    138.4\n",
              " 16     경상남도    316.2    313.6\n",
              " 17  제주특별자치도    362.6    363.8,\n",
              " '인구밀도':       행정구역별     2020     2021     2022\n",
              " 0        전국    516.2    515.2    514.6\n",
              " 1     서울특별시  15839.0  15650.1  15560.7\n",
              " 2     부산광역시   4348.9   4316.4   4272.8\n",
              " 3     대구광역시   2728.6   2702.2   2673.7\n",
              " 4     인천광역시   2765.1   2772.8   2801.3\n",
              " 5     광주광역시   2948.5   2944.0   2931.9\n",
              " 6     대전광역시   2758.1   2742.8   2730.7\n",
              " 7     울산광역시   1069.0   1055.0   1044.9\n",
              " 8   세종특별자치시    761.3    787.7    822.9\n",
              " 9       경기도   1325.3   1338.9   1344.9\n",
              " 10      강원도     90.4     90.4     90.8\n",
              " 11     충청북도    220.3    219.4    219.4\n",
              " 12     충청남도    264.0    263.8    265.9\n",
              " 13     전라북도    223.4    221.4    219.8\n",
              " 14     전라남도    144.9    143.9    143.3\n",
              " 15     경상북도    138.9    138.4    137.7\n",
              " 16     경상남도    316.2    313.6    311.2\n",
              " 17  제주특별자치도    362.6    363.8    365.6}"
            ]
          },
          "execution_count": 23,
          "metadata": {},
          "output_type": "execute_result"
        }
      ],
      "source": [
        "# 여러 시트 가져오기: 시트 번호로 가져오기 (0번부터 시작)\n",
        "df = pd.read_excel(filename,  sheet_name=[1,'인구밀도'])  # 여러 개 시트\n",
        "df\n",
        "\n",
        "# df.to_excel(파일이름) #파일 저장"
      ]
    },
    {
      "cell_type": "markdown",
      "id": "432937e7",
      "metadata": {
        "id": "432937e7"
      },
      "source": [
        "#### 4.Remote URL의 CSV 데이터 Pandas DataFrame으로 나타내기"
      ]
    },
    {
      "cell_type": "code",
      "execution_count": null,
      "id": "2065b3dd",
      "metadata": {
        "id": "2065b3dd",
        "outputId": "8b081ae4-948c-43c8-ae29-019ee0cecc5b",
        "scrolled": false
      },
      "outputs": [
        {
          "data": {
            "text/html": [
              "<div>\n",
              "<style scoped>\n",
              "    .dataframe tbody tr th:only-of-type {\n",
              "        vertical-align: middle;\n",
              "    }\n",
              "\n",
              "    .dataframe tbody tr th {\n",
              "        vertical-align: top;\n",
              "    }\n",
              "\n",
              "    .dataframe thead th {\n",
              "        text-align: right;\n",
              "    }\n",
              "</style>\n",
              "<table border=\"1\" class=\"dataframe\">\n",
              "  <thead>\n",
              "    <tr style=\"text-align: right;\">\n",
              "      <th></th>\n",
              "      <th>0</th>\n",
              "      <th>1</th>\n",
              "      <th>2</th>\n",
              "      <th>3</th>\n",
              "      <th>4</th>\n",
              "    </tr>\n",
              "  </thead>\n",
              "  <tbody>\n",
              "    <tr>\n",
              "      <th>0</th>\n",
              "      <td>5.1</td>\n",
              "      <td>3.5</td>\n",
              "      <td>1.4</td>\n",
              "      <td>0.2</td>\n",
              "      <td>Iris-setosa</td>\n",
              "    </tr>\n",
              "    <tr>\n",
              "      <th>1</th>\n",
              "      <td>4.9</td>\n",
              "      <td>3.0</td>\n",
              "      <td>1.4</td>\n",
              "      <td>0.2</td>\n",
              "      <td>Iris-setosa</td>\n",
              "    </tr>\n",
              "    <tr>\n",
              "      <th>2</th>\n",
              "      <td>4.7</td>\n",
              "      <td>3.2</td>\n",
              "      <td>1.3</td>\n",
              "      <td>0.2</td>\n",
              "      <td>Iris-setosa</td>\n",
              "    </tr>\n",
              "    <tr>\n",
              "      <th>3</th>\n",
              "      <td>4.6</td>\n",
              "      <td>3.1</td>\n",
              "      <td>1.5</td>\n",
              "      <td>0.2</td>\n",
              "      <td>Iris-setosa</td>\n",
              "    </tr>\n",
              "    <tr>\n",
              "      <th>4</th>\n",
              "      <td>5.0</td>\n",
              "      <td>3.6</td>\n",
              "      <td>1.4</td>\n",
              "      <td>0.2</td>\n",
              "      <td>Iris-setosa</td>\n",
              "    </tr>\n",
              "    <tr>\n",
              "      <th>...</th>\n",
              "      <td>...</td>\n",
              "      <td>...</td>\n",
              "      <td>...</td>\n",
              "      <td>...</td>\n",
              "      <td>...</td>\n",
              "    </tr>\n",
              "    <tr>\n",
              "      <th>145</th>\n",
              "      <td>6.7</td>\n",
              "      <td>3.0</td>\n",
              "      <td>5.2</td>\n",
              "      <td>2.3</td>\n",
              "      <td>Iris-virginica</td>\n",
              "    </tr>\n",
              "    <tr>\n",
              "      <th>146</th>\n",
              "      <td>6.3</td>\n",
              "      <td>2.5</td>\n",
              "      <td>5.0</td>\n",
              "      <td>1.9</td>\n",
              "      <td>Iris-virginica</td>\n",
              "    </tr>\n",
              "    <tr>\n",
              "      <th>147</th>\n",
              "      <td>6.5</td>\n",
              "      <td>3.0</td>\n",
              "      <td>5.2</td>\n",
              "      <td>2.0</td>\n",
              "      <td>Iris-virginica</td>\n",
              "    </tr>\n",
              "    <tr>\n",
              "      <th>148</th>\n",
              "      <td>6.2</td>\n",
              "      <td>3.4</td>\n",
              "      <td>5.4</td>\n",
              "      <td>2.3</td>\n",
              "      <td>Iris-virginica</td>\n",
              "    </tr>\n",
              "    <tr>\n",
              "      <th>149</th>\n",
              "      <td>5.9</td>\n",
              "      <td>3.0</td>\n",
              "      <td>5.1</td>\n",
              "      <td>1.8</td>\n",
              "      <td>Iris-virginica</td>\n",
              "    </tr>\n",
              "  </tbody>\n",
              "</table>\n",
              "<p>150 rows × 5 columns</p>\n",
              "</div>"
            ],
            "text/plain": [
              "       0    1    2    3               4\n",
              "0    5.1  3.5  1.4  0.2     Iris-setosa\n",
              "1    4.9  3.0  1.4  0.2     Iris-setosa\n",
              "2    4.7  3.2  1.3  0.2     Iris-setosa\n",
              "3    4.6  3.1  1.5  0.2     Iris-setosa\n",
              "4    5.0  3.6  1.4  0.2     Iris-setosa\n",
              "..   ...  ...  ...  ...             ...\n",
              "145  6.7  3.0  5.2  2.3  Iris-virginica\n",
              "146  6.3  2.5  5.0  1.9  Iris-virginica\n",
              "147  6.5  3.0  5.2  2.0  Iris-virginica\n",
              "148  6.2  3.4  5.4  2.3  Iris-virginica\n",
              "149  5.9  3.0  5.1  1.8  Iris-virginica\n",
              "\n",
              "[150 rows x 5 columns]"
            ]
          },
          "execution_count": 25,
          "metadata": {},
          "output_type": "execute_result"
        }
      ],
      "source": [
        "url = 'https://archive.ics.uci.edu/ml/machine-learning-databases/iris/iris.data'\n",
        "\n",
        "df = pd.read_csv(url, header=None)\n",
        "# df = pd.read_csv(url, columns=[컬럼1,컬럼2...])\n",
        "df"
      ]
    },
    {
      "cell_type": "markdown",
      "id": "3f80fd08",
      "metadata": {
        "id": "3f80fd08"
      },
      "source": [
        "### 1. 데이터프레임 생성\n",
        "- 2차원 리스트 타입으로 만들기\n",
        "- 딕셔너리 타입으로 만들기 :  키(key)는 열 이름, 값(value)은 시퀀스형 데이터 타입을 넣어 각 열의 데이터로 만듦\n"
      ]
    },
    {
      "cell_type": "code",
      "execution_count": null,
      "id": "22d193d6",
      "metadata": {
        "id": "22d193d6",
        "outputId": "833fb26e-c3c0-4b3f-85e3-e25e4903f173"
      },
      "outputs": [
        {
          "data": {
            "text/html": [
              "<div>\n",
              "<style scoped>\n",
              "    .dataframe tbody tr th:only-of-type {\n",
              "        vertical-align: middle;\n",
              "    }\n",
              "\n",
              "    .dataframe tbody tr th {\n",
              "        vertical-align: top;\n",
              "    }\n",
              "\n",
              "    .dataframe thead th {\n",
              "        text-align: right;\n",
              "    }\n",
              "</style>\n",
              "<table border=\"1\" class=\"dataframe\">\n",
              "  <thead>\n",
              "    <tr style=\"text-align: right;\">\n",
              "      <th></th>\n",
              "      <th>first_name</th>\n",
              "      <th>last_name</th>\n",
              "      <th>age</th>\n",
              "      <th>address</th>\n",
              "    </tr>\n",
              "  </thead>\n",
              "  <tbody>\n",
              "    <tr>\n",
              "      <th>0</th>\n",
              "      <td>Jason</td>\n",
              "      <td>Miller</td>\n",
              "      <td>42</td>\n",
              "      <td>San Francisco</td>\n",
              "    </tr>\n",
              "    <tr>\n",
              "      <th>1</th>\n",
              "      <td>Molly</td>\n",
              "      <td>Jacobson</td>\n",
              "      <td>52</td>\n",
              "      <td>Baltimore</td>\n",
              "    </tr>\n",
              "    <tr>\n",
              "      <th>2</th>\n",
              "      <td>Tina</td>\n",
              "      <td>Ali</td>\n",
              "      <td>36</td>\n",
              "      <td>Miami</td>\n",
              "    </tr>\n",
              "    <tr>\n",
              "      <th>3</th>\n",
              "      <td>Jake</td>\n",
              "      <td>Milner</td>\n",
              "      <td>24</td>\n",
              "      <td>Douglas</td>\n",
              "    </tr>\n",
              "    <tr>\n",
              "      <th>4</th>\n",
              "      <td>Amy</td>\n",
              "      <td>Cooze</td>\n",
              "      <td>73</td>\n",
              "      <td>Boston</td>\n",
              "    </tr>\n",
              "  </tbody>\n",
              "</table>\n",
              "</div>"
            ],
            "text/plain": [
              "  first_name last_name  age        address\n",
              "0      Jason    Miller   42  San Francisco\n",
              "1      Molly  Jacobson   52      Baltimore\n",
              "2       Tina       Ali   36          Miami\n",
              "3       Jake    Milner   24        Douglas\n",
              "4        Amy     Cooze   73         Boston"
            ]
          },
          "execution_count": 33,
          "metadata": {},
          "output_type": "execute_result"
        }
      ],
      "source": [
        "# 2차원 리스트 타입으로 DataFrame 만들기\n",
        "raw_data = [['Jason','Miller', 42, 'San Francisco'],\n",
        "            ['Molly', 'Jacobson', 52, 'Baltimore'],\n",
        "            ['Tina', 'Ali', 36, 'Miami'],\n",
        "            ['Jake', 'Milner', 24, 'Douglas'],\n",
        "            ['Amy', 'Cooze', 73, 'Boston']]\n",
        "\n",
        "df = pd.DataFrame(raw_data,\n",
        "                  columns=['first_name', 'last_name', 'age', 'address'])\n",
        "\n",
        "df = pd.DataFrame(raw_data)\n",
        "df.columns = ['first_name', 'last_name', 'age', 'address']\n",
        "df"
      ]
    },
    {
      "cell_type": "code",
      "execution_count": null,
      "id": "e79fa185",
      "metadata": {
        "id": "e79fa185",
        "outputId": "09090993-5c30-4ed8-f2a4-5890b5453190"
      },
      "outputs": [
        {
          "data": {
            "text/html": [
              "<div>\n",
              "<style scoped>\n",
              "    .dataframe tbody tr th:only-of-type {\n",
              "        vertical-align: middle;\n",
              "    }\n",
              "\n",
              "    .dataframe tbody tr th {\n",
              "        vertical-align: top;\n",
              "    }\n",
              "\n",
              "    .dataframe thead th {\n",
              "        text-align: right;\n",
              "    }\n",
              "</style>\n",
              "<table border=\"1\" class=\"dataframe\">\n",
              "  <thead>\n",
              "    <tr style=\"text-align: right;\">\n",
              "      <th></th>\n",
              "      <th>first_name</th>\n",
              "      <th>last_name</th>\n",
              "      <th>age</th>\n",
              "      <th>city</th>\n",
              "    </tr>\n",
              "  </thead>\n",
              "  <tbody>\n",
              "    <tr>\n",
              "      <th>0</th>\n",
              "      <td>Jason</td>\n",
              "      <td>Miller</td>\n",
              "      <td>42</td>\n",
              "      <td>San Francisco</td>\n",
              "    </tr>\n",
              "    <tr>\n",
              "      <th>1</th>\n",
              "      <td>Molly</td>\n",
              "      <td>Jacobson</td>\n",
              "      <td>52</td>\n",
              "      <td>Baltimore</td>\n",
              "    </tr>\n",
              "    <tr>\n",
              "      <th>2</th>\n",
              "      <td>Tina</td>\n",
              "      <td>Ali</td>\n",
              "      <td>36</td>\n",
              "      <td>Miami</td>\n",
              "    </tr>\n",
              "    <tr>\n",
              "      <th>3</th>\n",
              "      <td>Jake</td>\n",
              "      <td>Milner</td>\n",
              "      <td>24</td>\n",
              "      <td>Douglas</td>\n",
              "    </tr>\n",
              "    <tr>\n",
              "      <th>4</th>\n",
              "      <td>Amy</td>\n",
              "      <td>Cooze</td>\n",
              "      <td>73</td>\n",
              "      <td>Boston</td>\n",
              "    </tr>\n",
              "  </tbody>\n",
              "</table>\n",
              "</div>"
            ],
            "text/plain": [
              "  first_name last_name  age           city\n",
              "0      Jason    Miller   42  San Francisco\n",
              "1      Molly  Jacobson   52      Baltimore\n",
              "2       Tina       Ali   36          Miami\n",
              "3       Jake    Milner   24        Douglas\n",
              "4        Amy     Cooze   73         Boston"
            ]
          },
          "execution_count": 41,
          "metadata": {},
          "output_type": "execute_result"
        }
      ],
      "source": [
        "# 딕셔너리 타입으로 DataFrame 만들기\n",
        "raw_data = {'first_name': ['Jason', 'Molly', 'Tina', 'Jake', 'Amy'],\n",
        "            'last_name': ['Miller', 'Jacobson', 'Ali', 'Milner', 'Cooze'],\n",
        "            'age': [42, 52, 36, 24, 73],\n",
        "            'city': ['San Francisco', 'Baltimore', 'Miami', 'Douglas', 'Boston']}\n",
        "df = pd.DataFrame(raw_data)\n",
        "df"
      ]
    },
    {
      "cell_type": "markdown",
      "id": "b6987056",
      "metadata": {
        "id": "b6987056"
      },
      "source": [
        "### 2. 데이터프레임의 열 다루기"
      ]
    },
    {
      "cell_type": "code",
      "execution_count": null,
      "id": "28a91fc2",
      "metadata": {
        "id": "28a91fc2",
        "outputId": "b94314a7-bac3-4352-ed6b-72643a6c609d"
      },
      "outputs": [
        {
          "data": {
            "text/html": [
              "<div>\n",
              "<style scoped>\n",
              "    .dataframe tbody tr th:only-of-type {\n",
              "        vertical-align: middle;\n",
              "    }\n",
              "\n",
              "    .dataframe tbody tr th {\n",
              "        vertical-align: top;\n",
              "    }\n",
              "\n",
              "    .dataframe thead th {\n",
              "        text-align: right;\n",
              "    }\n",
              "</style>\n",
              "<table border=\"1\" class=\"dataframe\">\n",
              "  <thead>\n",
              "    <tr style=\"text-align: right;\">\n",
              "      <th></th>\n",
              "      <th>first_name</th>\n",
              "      <th>age</th>\n",
              "    </tr>\n",
              "  </thead>\n",
              "  <tbody>\n",
              "    <tr>\n",
              "      <th>0</th>\n",
              "      <td>Jason</td>\n",
              "      <td>42</td>\n",
              "    </tr>\n",
              "    <tr>\n",
              "      <th>1</th>\n",
              "      <td>Molly</td>\n",
              "      <td>52</td>\n",
              "    </tr>\n",
              "    <tr>\n",
              "      <th>2</th>\n",
              "      <td>Tina</td>\n",
              "      <td>36</td>\n",
              "    </tr>\n",
              "    <tr>\n",
              "      <th>3</th>\n",
              "      <td>Jake</td>\n",
              "      <td>24</td>\n",
              "    </tr>\n",
              "    <tr>\n",
              "      <th>4</th>\n",
              "      <td>Amy</td>\n",
              "      <td>73</td>\n",
              "    </tr>\n",
              "  </tbody>\n",
              "</table>\n",
              "</div>"
            ],
            "text/plain": [
              "  first_name  age\n",
              "0      Jason   42\n",
              "1      Molly   52\n",
              "2       Tina   36\n",
              "3       Jake   24\n",
              "4        Amy   73"
            ]
          },
          "execution_count": 42,
          "metadata": {},
          "output_type": "execute_result"
        }
      ],
      "source": [
        "# 데이터 생성시, 딕셔너리 데이터에서 열(Key) 이름을 한정하면 해당 열만 추출\n",
        "df = pd.DataFrame(raw_data, columns=[\"first_name\", \"age\"])\n",
        "df\n"
      ]
    },
    {
      "cell_type": "code",
      "execution_count": null,
      "id": "645c82d0",
      "metadata": {
        "id": "645c82d0",
        "outputId": "6dfedc4f-d09d-4253-99d7-d706b4b102c0"
      },
      "outputs": [
        {
          "data": {
            "text/html": [
              "<div>\n",
              "<style scoped>\n",
              "    .dataframe tbody tr th:only-of-type {\n",
              "        vertical-align: middle;\n",
              "    }\n",
              "\n",
              "    .dataframe tbody tr th {\n",
              "        vertical-align: top;\n",
              "    }\n",
              "\n",
              "    .dataframe thead th {\n",
              "        text-align: right;\n",
              "    }\n",
              "</style>\n",
              "<table border=\"1\" class=\"dataframe\">\n",
              "  <thead>\n",
              "    <tr style=\"text-align: right;\">\n",
              "      <th></th>\n",
              "      <th>first_name</th>\n",
              "      <th>age</th>\n",
              "      <th>last_name</th>\n",
              "      <th>city</th>\n",
              "      <th>hp</th>\n",
              "    </tr>\n",
              "  </thead>\n",
              "  <tbody>\n",
              "    <tr>\n",
              "      <th>0</th>\n",
              "      <td>Jason</td>\n",
              "      <td>42</td>\n",
              "      <td>Miller</td>\n",
              "      <td>San Francisco</td>\n",
              "      <td>NaN</td>\n",
              "    </tr>\n",
              "    <tr>\n",
              "      <th>1</th>\n",
              "      <td>Molly</td>\n",
              "      <td>52</td>\n",
              "      <td>Jacobson</td>\n",
              "      <td>Baltimore</td>\n",
              "      <td>NaN</td>\n",
              "    </tr>\n",
              "    <tr>\n",
              "      <th>2</th>\n",
              "      <td>Tina</td>\n",
              "      <td>36</td>\n",
              "      <td>Ali</td>\n",
              "      <td>Miami</td>\n",
              "      <td>NaN</td>\n",
              "    </tr>\n",
              "    <tr>\n",
              "      <th>3</th>\n",
              "      <td>Jake</td>\n",
              "      <td>24</td>\n",
              "      <td>Milner</td>\n",
              "      <td>Douglas</td>\n",
              "      <td>NaN</td>\n",
              "    </tr>\n",
              "    <tr>\n",
              "      <th>4</th>\n",
              "      <td>Amy</td>\n",
              "      <td>73</td>\n",
              "      <td>Cooze</td>\n",
              "      <td>Boston</td>\n",
              "      <td>NaN</td>\n",
              "    </tr>\n",
              "  </tbody>\n",
              "</table>\n",
              "</div>"
            ],
            "text/plain": [
              "  first_name  age last_name           city   hp\n",
              "0      Jason   42    Miller  San Francisco  NaN\n",
              "1      Molly   52  Jacobson      Baltimore  NaN\n",
              "2       Tina   36       Ali          Miami  NaN\n",
              "3       Jake   24    Milner        Douglas  NaN\n",
              "4        Amy   73     Cooze         Boston  NaN"
            ]
          },
          "execution_count": 43,
          "metadata": {},
          "output_type": "execute_result"
        }
      ],
      "source": [
        "# 데이터가 존재하지 않는 열을 추가하면 해당 열에는 NaN 값들 추가\n",
        "df = pd.DataFrame(raw_data, columns=[\"first_name\", \"age\", \"last_name\", \"city\", \"hp\"])\n",
        "df"
      ]
    },
    {
      "cell_type": "markdown",
      "id": "a326a44e",
      "metadata": {
        "id": "a326a44e"
      },
      "source": [
        "-----------------"
      ]
    },
    {
      "cell_type": "markdown",
      "id": "7c78c97e",
      "metadata": {
        "id": "7c78c97e"
      },
      "source": [
        "## <a name=\"04.2데이터추출\">04.2 데이터 추출</a>"
      ]
    },
    {
      "cell_type": "markdown",
      "id": "1867211e",
      "metadata": {
        "id": "1867211e"
      },
      "source": [
        "### 1. 데이터 로딩"
      ]
    },
    {
      "cell_type": "code",
      "execution_count": null,
      "id": "244eb5a6",
      "metadata": {
        "id": "244eb5a6",
        "outputId": "afb9d86f-e938-4258-be82-c4a8928fe65c"
      },
      "outputs": [
        {
          "data": {
            "text/html": [
              "<div>\n",
              "<style scoped>\n",
              "    .dataframe tbody tr th:only-of-type {\n",
              "        vertical-align: middle;\n",
              "    }\n",
              "\n",
              "    .dataframe tbody tr th {\n",
              "        vertical-align: top;\n",
              "    }\n",
              "\n",
              "    .dataframe thead th {\n",
              "        text-align: right;\n",
              "    }\n",
              "</style>\n",
              "<table border=\"1\" class=\"dataframe\">\n",
              "  <thead>\n",
              "    <tr style=\"text-align: right;\">\n",
              "      <th></th>\n",
              "      <th>account</th>\n",
              "      <th>name</th>\n",
              "      <th>street</th>\n",
              "      <th>city</th>\n",
              "      <th>state</th>\n",
              "      <th>postal-code</th>\n",
              "      <th>Jan</th>\n",
              "      <th>Feb</th>\n",
              "      <th>Mar</th>\n",
              "    </tr>\n",
              "  </thead>\n",
              "  <tbody>\n",
              "    <tr>\n",
              "      <th>0</th>\n",
              "      <td>211829</td>\n",
              "      <td>Kerluke, Koepp and Hilpert</td>\n",
              "      <td>34456 Sean Highway</td>\n",
              "      <td>New Jaycob</td>\n",
              "      <td>Texas</td>\n",
              "      <td>28752</td>\n",
              "      <td>10000</td>\n",
              "      <td>62000</td>\n",
              "      <td>35000</td>\n",
              "    </tr>\n",
              "    <tr>\n",
              "      <th>1</th>\n",
              "      <td>320563</td>\n",
              "      <td>Walter-Trantow</td>\n",
              "      <td>1311 Alvis Tunnel</td>\n",
              "      <td>Port Khadijah</td>\n",
              "      <td>NorthCarolina</td>\n",
              "      <td>38365</td>\n",
              "      <td>95000</td>\n",
              "      <td>45000</td>\n",
              "      <td>35000</td>\n",
              "    </tr>\n",
              "    <tr>\n",
              "      <th>2</th>\n",
              "      <td>648336</td>\n",
              "      <td>Bashirian, Kunde and Price</td>\n",
              "      <td>62184 Schamberger Underpass Apt. 231</td>\n",
              "      <td>New Lilianland</td>\n",
              "      <td>Iowa</td>\n",
              "      <td>76517</td>\n",
              "      <td>91000</td>\n",
              "      <td>120000</td>\n",
              "      <td>35000</td>\n",
              "    </tr>\n",
              "    <tr>\n",
              "      <th>3</th>\n",
              "      <td>109996</td>\n",
              "      <td>D'Amore, Gleichner and Bode</td>\n",
              "      <td>155 Fadel Crescent Apt. 144</td>\n",
              "      <td>Hyattburgh</td>\n",
              "      <td>Maine</td>\n",
              "      <td>46021</td>\n",
              "      <td>45000</td>\n",
              "      <td>120000</td>\n",
              "      <td>10000</td>\n",
              "    </tr>\n",
              "    <tr>\n",
              "      <th>4</th>\n",
              "      <td>121213</td>\n",
              "      <td>Bauch-Goldner</td>\n",
              "      <td>7274 Marissa Common</td>\n",
              "      <td>Shanahanchester</td>\n",
              "      <td>California</td>\n",
              "      <td>49681</td>\n",
              "      <td>162000</td>\n",
              "      <td>120000</td>\n",
              "      <td>35000</td>\n",
              "    </tr>\n",
              "  </tbody>\n",
              "</table>\n",
              "</div>"
            ],
            "text/plain": [
              "   account                         name                                street  \\\n",
              "0   211829   Kerluke, Koepp and Hilpert                    34456 Sean Highway   \n",
              "1   320563               Walter-Trantow                     1311 Alvis Tunnel   \n",
              "2   648336   Bashirian, Kunde and Price  62184 Schamberger Underpass Apt. 231   \n",
              "3   109996  D'Amore, Gleichner and Bode           155 Fadel Crescent Apt. 144   \n",
              "4   121213                Bauch-Goldner                   7274 Marissa Common   \n",
              "\n",
              "              city          state  postal-code     Jan     Feb    Mar  \n",
              "0       New Jaycob          Texas        28752   10000   62000  35000  \n",
              "1    Port Khadijah  NorthCarolina        38365   95000   45000  35000  \n",
              "2   New Lilianland           Iowa        76517   91000  120000  35000  \n",
              "3       Hyattburgh          Maine        46021   45000  120000  10000  \n",
              "4  Shanahanchester     California        49681  162000  120000  35000  "
            ]
          },
          "execution_count": 45,
          "metadata": {},
          "output_type": "execute_result"
        }
      ],
      "source": [
        "filename = './data/excel-comp-data.xlsx'\n",
        "df = pd.read_excel(filename)\n",
        "df.head()"
      ]
    },
    {
      "cell_type": "markdown",
      "id": "196a3b11",
      "metadata": {
        "id": "196a3b11"
      },
      "source": [
        "### 2. 열 이름을 사용한 데이터 추출"
      ]
    },
    {
      "cell_type": "code",
      "execution_count": null,
      "id": "2cfd5799",
      "metadata": {
        "id": "2cfd5799",
        "outputId": "0ef07c7a-ece3-4078-9559-32df085491ec"
      },
      "outputs": [
        {
          "data": {
            "text/html": [
              "<div>\n",
              "<style scoped>\n",
              "    .dataframe tbody tr th:only-of-type {\n",
              "        vertical-align: middle;\n",
              "    }\n",
              "\n",
              "    .dataframe tbody tr th {\n",
              "        vertical-align: top;\n",
              "    }\n",
              "\n",
              "    .dataframe thead th {\n",
              "        text-align: right;\n",
              "    }\n",
              "</style>\n",
              "<table border=\"1\" class=\"dataframe\">\n",
              "  <thead>\n",
              "    <tr style=\"text-align: right;\">\n",
              "      <th></th>\n",
              "      <th>account</th>\n",
              "      <th>name</th>\n",
              "      <th>city</th>\n",
              "    </tr>\n",
              "  </thead>\n",
              "  <tbody>\n",
              "    <tr>\n",
              "      <th>0</th>\n",
              "      <td>211829</td>\n",
              "      <td>Kerluke, Koepp and Hilpert</td>\n",
              "      <td>New Jaycob</td>\n",
              "    </tr>\n",
              "    <tr>\n",
              "      <th>1</th>\n",
              "      <td>320563</td>\n",
              "      <td>Walter-Trantow</td>\n",
              "      <td>Port Khadijah</td>\n",
              "    </tr>\n",
              "    <tr>\n",
              "      <th>2</th>\n",
              "      <td>648336</td>\n",
              "      <td>Bashirian, Kunde and Price</td>\n",
              "      <td>New Lilianland</td>\n",
              "    </tr>\n",
              "    <tr>\n",
              "      <th>3</th>\n",
              "      <td>109996</td>\n",
              "      <td>D'Amore, Gleichner and Bode</td>\n",
              "      <td>Hyattburgh</td>\n",
              "    </tr>\n",
              "    <tr>\n",
              "      <th>4</th>\n",
              "      <td>121213</td>\n",
              "      <td>Bauch-Goldner</td>\n",
              "      <td>Shanahanchester</td>\n",
              "    </tr>\n",
              "  </tbody>\n",
              "</table>\n",
              "</div>"
            ],
            "text/plain": [
              "   account                         name             city\n",
              "0   211829   Kerluke, Koepp and Hilpert       New Jaycob\n",
              "1   320563               Walter-Trantow    Port Khadijah\n",
              "2   648336   Bashirian, Kunde and Price   New Lilianland\n",
              "3   109996  D'Amore, Gleichner and Bode       Hyattburgh\n",
              "4   121213                Bauch-Goldner  Shanahanchester"
            ]
          },
          "execution_count": 51,
          "metadata": {},
          "output_type": "execute_result"
        }
      ],
      "source": [
        "# 열 이름을 리스트 형태로 넣어 호출\n",
        "df[['account', 'name', 'city']].head()"
      ]
    },
    {
      "cell_type": "markdown",
      "id": "eab5476e",
      "metadata": {
        "id": "eab5476e"
      },
      "source": [
        "### 3. 행 번호를 사용한 데이터 추출"
      ]
    },
    {
      "cell_type": "code",
      "execution_count": null,
      "id": "713ea2a8",
      "metadata": {
        "scrolled": false,
        "id": "713ea2a8",
        "outputId": "f7059739-00f7-4e1a-8c65-9bbc5e528e9d"
      },
      "outputs": [
        {
          "data": {
            "text/html": [
              "<div>\n",
              "<style scoped>\n",
              "    .dataframe tbody tr th:only-of-type {\n",
              "        vertical-align: middle;\n",
              "    }\n",
              "\n",
              "    .dataframe tbody tr th {\n",
              "        vertical-align: top;\n",
              "    }\n",
              "\n",
              "    .dataframe thead th {\n",
              "        text-align: right;\n",
              "    }\n",
              "</style>\n",
              "<table border=\"1\" class=\"dataframe\">\n",
              "  <thead>\n",
              "    <tr style=\"text-align: right;\">\n",
              "      <th></th>\n",
              "      <th>account</th>\n",
              "      <th>name</th>\n",
              "      <th>street</th>\n",
              "      <th>city</th>\n",
              "      <th>state</th>\n",
              "      <th>postal-code</th>\n",
              "      <th>Jan</th>\n",
              "      <th>Feb</th>\n",
              "      <th>Mar</th>\n",
              "    </tr>\n",
              "  </thead>\n",
              "  <tbody>\n",
              "    <tr>\n",
              "      <th>0</th>\n",
              "      <td>211829</td>\n",
              "      <td>Kerluke, Koepp and Hilpert</td>\n",
              "      <td>34456 Sean Highway</td>\n",
              "      <td>New Jaycob</td>\n",
              "      <td>Texas</td>\n",
              "      <td>28752</td>\n",
              "      <td>10000</td>\n",
              "      <td>62000</td>\n",
              "      <td>35000</td>\n",
              "    </tr>\n",
              "    <tr>\n",
              "      <th>1</th>\n",
              "      <td>320563</td>\n",
              "      <td>Walter-Trantow</td>\n",
              "      <td>1311 Alvis Tunnel</td>\n",
              "      <td>Port Khadijah</td>\n",
              "      <td>NorthCarolina</td>\n",
              "      <td>38365</td>\n",
              "      <td>95000</td>\n",
              "      <td>45000</td>\n",
              "      <td>35000</td>\n",
              "    </tr>\n",
              "    <tr>\n",
              "      <th>2</th>\n",
              "      <td>648336</td>\n",
              "      <td>Bashirian, Kunde and Price</td>\n",
              "      <td>62184 Schamberger Underpass Apt. 231</td>\n",
              "      <td>New Lilianland</td>\n",
              "      <td>Iowa</td>\n",
              "      <td>76517</td>\n",
              "      <td>91000</td>\n",
              "      <td>120000</td>\n",
              "      <td>35000</td>\n",
              "    </tr>\n",
              "  </tbody>\n",
              "</table>\n",
              "</div>"
            ],
            "text/plain": [
              "   account                        name                                street  \\\n",
              "0   211829  Kerluke, Koepp and Hilpert                    34456 Sean Highway   \n",
              "1   320563              Walter-Trantow                     1311 Alvis Tunnel   \n",
              "2   648336  Bashirian, Kunde and Price  62184 Schamberger Underpass Apt. 231   \n",
              "\n",
              "             city          state  postal-code    Jan     Feb    Mar  \n",
              "0      New Jaycob          Texas        28752  10000   62000  35000  \n",
              "1   Port Khadijah  NorthCarolina        38365  95000   45000  35000  \n",
              "2  New Lilianland           Iowa        76517  91000  120000  35000  "
            ]
          },
          "execution_count": 52,
          "metadata": {},
          "output_type": "execute_result"
        }
      ],
      "source": [
        "# 인덱스 번호로 호출\n",
        "df[:3]"
      ]
    },
    {
      "cell_type": "markdown",
      "id": "41fdf695",
      "metadata": {
        "id": "41fdf695"
      },
      "source": [
        "### 4. 행과 열을 모두 사용한 데이터 추출"
      ]
    },
    {
      "cell_type": "code",
      "execution_count": null,
      "id": "bc00a52b",
      "metadata": {
        "id": "bc00a52b",
        "outputId": "6b4db927-26ee-4d73-c242-f5ca0baab5d3"
      },
      "outputs": [
        {
          "data": {
            "text/html": [
              "<div>\n",
              "<style scoped>\n",
              "    .dataframe tbody tr th:only-of-type {\n",
              "        vertical-align: middle;\n",
              "    }\n",
              "\n",
              "    .dataframe tbody tr th {\n",
              "        vertical-align: top;\n",
              "    }\n",
              "\n",
              "    .dataframe thead th {\n",
              "        text-align: right;\n",
              "    }\n",
              "</style>\n",
              "<table border=\"1\" class=\"dataframe\">\n",
              "  <thead>\n",
              "    <tr style=\"text-align: right;\">\n",
              "      <th></th>\n",
              "      <th>account</th>\n",
              "      <th>name</th>\n",
              "      <th>city</th>\n",
              "    </tr>\n",
              "  </thead>\n",
              "  <tbody>\n",
              "    <tr>\n",
              "      <th>0</th>\n",
              "      <td>211829</td>\n",
              "      <td>Kerluke, Koepp and Hilpert</td>\n",
              "      <td>New Jaycob</td>\n",
              "    </tr>\n",
              "    <tr>\n",
              "      <th>1</th>\n",
              "      <td>320563</td>\n",
              "      <td>Walter-Trantow</td>\n",
              "      <td>Port Khadijah</td>\n",
              "    </tr>\n",
              "    <tr>\n",
              "      <th>2</th>\n",
              "      <td>648336</td>\n",
              "      <td>Bashirian, Kunde and Price</td>\n",
              "      <td>New Lilianland</td>\n",
              "    </tr>\n",
              "  </tbody>\n",
              "</table>\n",
              "</div>"
            ],
            "text/plain": [
              "   account                        name            city\n",
              "0   211829  Kerluke, Koepp and Hilpert      New Jaycob\n",
              "1   320563              Walter-Trantow   Port Khadijah\n",
              "2   648336  Bashirian, Kunde and Price  New Lilianland"
            ]
          },
          "execution_count": 56,
          "metadata": {},
          "output_type": "execute_result"
        }
      ],
      "source": [
        "# 열 이름, 인덱스 번호 둘 다 사용해서 호출\n",
        "df[['account', 'name', 'city']][:3]"
      ]
    },
    {
      "cell_type": "code",
      "execution_count": null,
      "id": "e2dc92f5",
      "metadata": {
        "id": "e2dc92f5",
        "outputId": "a9026fa7-5842-44e4-8558-acefa93a6dc3"
      },
      "outputs": [
        {
          "data": {
            "text/html": [
              "<div>\n",
              "<style scoped>\n",
              "    .dataframe tbody tr th:only-of-type {\n",
              "        vertical-align: middle;\n",
              "    }\n",
              "\n",
              "    .dataframe tbody tr th {\n",
              "        vertical-align: top;\n",
              "    }\n",
              "\n",
              "    .dataframe thead th {\n",
              "        text-align: right;\n",
              "    }\n",
              "</style>\n",
              "<table border=\"1\" class=\"dataframe\">\n",
              "  <thead>\n",
              "    <tr style=\"text-align: right;\">\n",
              "      <th></th>\n",
              "      <th>name</th>\n",
              "      <th>street</th>\n",
              "      <th>city</th>\n",
              "      <th>state</th>\n",
              "      <th>postal-code</th>\n",
              "      <th>Jan</th>\n",
              "      <th>Feb</th>\n",
              "      <th>Mar</th>\n",
              "    </tr>\n",
              "    <tr>\n",
              "      <th>account</th>\n",
              "      <th></th>\n",
              "      <th></th>\n",
              "      <th></th>\n",
              "      <th></th>\n",
              "      <th></th>\n",
              "      <th></th>\n",
              "      <th></th>\n",
              "      <th></th>\n",
              "    </tr>\n",
              "  </thead>\n",
              "  <tbody>\n",
              "    <tr>\n",
              "      <th>211829</th>\n",
              "      <td>Kerluke, Koepp and Hilpert</td>\n",
              "      <td>34456 Sean Highway</td>\n",
              "      <td>New Jaycob</td>\n",
              "      <td>Texas</td>\n",
              "      <td>28752</td>\n",
              "      <td>10000</td>\n",
              "      <td>62000</td>\n",
              "      <td>35000</td>\n",
              "    </tr>\n",
              "    <tr>\n",
              "      <th>320563</th>\n",
              "      <td>Walter-Trantow</td>\n",
              "      <td>1311 Alvis Tunnel</td>\n",
              "      <td>Port Khadijah</td>\n",
              "      <td>NorthCarolina</td>\n",
              "      <td>38365</td>\n",
              "      <td>95000</td>\n",
              "      <td>45000</td>\n",
              "      <td>35000</td>\n",
              "    </tr>\n",
              "    <tr>\n",
              "      <th>648336</th>\n",
              "      <td>Bashirian, Kunde and Price</td>\n",
              "      <td>62184 Schamberger Underpass Apt. 231</td>\n",
              "      <td>New Lilianland</td>\n",
              "      <td>Iowa</td>\n",
              "      <td>76517</td>\n",
              "      <td>91000</td>\n",
              "      <td>120000</td>\n",
              "      <td>35000</td>\n",
              "    </tr>\n",
              "    <tr>\n",
              "      <th>109996</th>\n",
              "      <td>D'Amore, Gleichner and Bode</td>\n",
              "      <td>155 Fadel Crescent Apt. 144</td>\n",
              "      <td>Hyattburgh</td>\n",
              "      <td>Maine</td>\n",
              "      <td>46021</td>\n",
              "      <td>45000</td>\n",
              "      <td>120000</td>\n",
              "      <td>10000</td>\n",
              "    </tr>\n",
              "    <tr>\n",
              "      <th>121213</th>\n",
              "      <td>Bauch-Goldner</td>\n",
              "      <td>7274 Marissa Common</td>\n",
              "      <td>Shanahanchester</td>\n",
              "      <td>California</td>\n",
              "      <td>49681</td>\n",
              "      <td>162000</td>\n",
              "      <td>120000</td>\n",
              "      <td>35000</td>\n",
              "    </tr>\n",
              "    <tr>\n",
              "      <th>132971</th>\n",
              "      <td>Williamson, Schumm and Hettinger</td>\n",
              "      <td>89403 Casimer Spring</td>\n",
              "      <td>Jeremieburgh</td>\n",
              "      <td>Arkansas</td>\n",
              "      <td>62785</td>\n",
              "      <td>150000</td>\n",
              "      <td>120000</td>\n",
              "      <td>35000</td>\n",
              "    </tr>\n",
              "    <tr>\n",
              "      <th>145068</th>\n",
              "      <td>Casper LLC</td>\n",
              "      <td>340 Consuela Bridge Apt. 400</td>\n",
              "      <td>Lake Gabriellaton</td>\n",
              "      <td>Mississipi</td>\n",
              "      <td>18008</td>\n",
              "      <td>62000</td>\n",
              "      <td>120000</td>\n",
              "      <td>70000</td>\n",
              "    </tr>\n",
              "    <tr>\n",
              "      <th>205217</th>\n",
              "      <td>Kovacek-Johnston</td>\n",
              "      <td>91971 Cronin Vista Suite 601</td>\n",
              "      <td>Deronville</td>\n",
              "      <td>RhodeIsland</td>\n",
              "      <td>53461</td>\n",
              "      <td>145000</td>\n",
              "      <td>95000</td>\n",
              "      <td>35000</td>\n",
              "    </tr>\n",
              "    <tr>\n",
              "      <th>209744</th>\n",
              "      <td>Champlin-Morar</td>\n",
              "      <td>26739 Grant Lock</td>\n",
              "      <td>Lake Juliannton</td>\n",
              "      <td>Pennsylvania</td>\n",
              "      <td>64415</td>\n",
              "      <td>70000</td>\n",
              "      <td>95000</td>\n",
              "      <td>35000</td>\n",
              "    </tr>\n",
              "    <tr>\n",
              "      <th>212303</th>\n",
              "      <td>Gerhold-Maggio</td>\n",
              "      <td>366 Maggio Grove Apt. 998</td>\n",
              "      <td>North Ras</td>\n",
              "      <td>Idaho</td>\n",
              "      <td>46308</td>\n",
              "      <td>70000</td>\n",
              "      <td>120000</td>\n",
              "      <td>35000</td>\n",
              "    </tr>\n",
              "    <tr>\n",
              "      <th>214098</th>\n",
              "      <td>Goodwin, Homenick and Jerde</td>\n",
              "      <td>649 Cierra Forks Apt. 078</td>\n",
              "      <td>Rosaberg</td>\n",
              "      <td>Tenessee</td>\n",
              "      <td>47743</td>\n",
              "      <td>45000</td>\n",
              "      <td>120000</td>\n",
              "      <td>55000</td>\n",
              "    </tr>\n",
              "    <tr>\n",
              "      <th>231907</th>\n",
              "      <td>Hahn-Moore</td>\n",
              "      <td>18115 Olivine Throughway</td>\n",
              "      <td>Norbertomouth</td>\n",
              "      <td>NorthDakota</td>\n",
              "      <td>31415</td>\n",
              "      <td>150000</td>\n",
              "      <td>10000</td>\n",
              "      <td>162000</td>\n",
              "    </tr>\n",
              "    <tr>\n",
              "      <th>242368</th>\n",
              "      <td>Frami, Anderson and Donnelly</td>\n",
              "      <td>182 Bertie Road</td>\n",
              "      <td>East Davian</td>\n",
              "      <td>Iowa</td>\n",
              "      <td>72686</td>\n",
              "      <td>162000</td>\n",
              "      <td>120000</td>\n",
              "      <td>35000</td>\n",
              "    </tr>\n",
              "    <tr>\n",
              "      <th>268755</th>\n",
              "      <td>Walsh-Haley</td>\n",
              "      <td>2624 Beatty Parkways</td>\n",
              "      <td>Goodwinmouth</td>\n",
              "      <td>RhodeIsland</td>\n",
              "      <td>31919</td>\n",
              "      <td>55000</td>\n",
              "      <td>120000</td>\n",
              "      <td>35000</td>\n",
              "    </tr>\n",
              "    <tr>\n",
              "      <th>273274</th>\n",
              "      <td>McDermott PLC</td>\n",
              "      <td>8917 Bergstrom Meadow</td>\n",
              "      <td>Kathryneborough</td>\n",
              "      <td>Delaware</td>\n",
              "      <td>27933</td>\n",
              "      <td>150000</td>\n",
              "      <td>120000</td>\n",
              "      <td>70000</td>\n",
              "    </tr>\n",
              "  </tbody>\n",
              "</table>\n",
              "</div>"
            ],
            "text/plain": [
              "                                     name  \\\n",
              "account                                     \n",
              "211829         Kerluke, Koepp and Hilpert   \n",
              "320563                     Walter-Trantow   \n",
              "648336         Bashirian, Kunde and Price   \n",
              "109996        D'Amore, Gleichner and Bode   \n",
              "121213                      Bauch-Goldner   \n",
              "132971   Williamson, Schumm and Hettinger   \n",
              "145068                         Casper LLC   \n",
              "205217                   Kovacek-Johnston   \n",
              "209744                     Champlin-Morar   \n",
              "212303                     Gerhold-Maggio   \n",
              "214098        Goodwin, Homenick and Jerde   \n",
              "231907                         Hahn-Moore   \n",
              "242368       Frami, Anderson and Donnelly   \n",
              "268755                        Walsh-Haley   \n",
              "273274                      McDermott PLC   \n",
              "\n",
              "                                       street               city  \\\n",
              "account                                                            \n",
              "211829                     34456 Sean Highway         New Jaycob   \n",
              "320563                      1311 Alvis Tunnel      Port Khadijah   \n",
              "648336   62184 Schamberger Underpass Apt. 231     New Lilianland   \n",
              "109996            155 Fadel Crescent Apt. 144         Hyattburgh   \n",
              "121213                    7274 Marissa Common    Shanahanchester   \n",
              "132971                   89403 Casimer Spring       Jeremieburgh   \n",
              "145068           340 Consuela Bridge Apt. 400  Lake Gabriellaton   \n",
              "205217           91971 Cronin Vista Suite 601         Deronville   \n",
              "209744                       26739 Grant Lock    Lake Juliannton   \n",
              "212303              366 Maggio Grove Apt. 998          North Ras   \n",
              "214098              649 Cierra Forks Apt. 078           Rosaberg   \n",
              "231907               18115 Olivine Throughway      Norbertomouth   \n",
              "242368                        182 Bertie Road        East Davian   \n",
              "268755                   2624 Beatty Parkways       Goodwinmouth   \n",
              "273274                  8917 Bergstrom Meadow    Kathryneborough   \n",
              "\n",
              "                 state  postal-code     Jan     Feb     Mar  \n",
              "account                                                      \n",
              "211829           Texas        28752   10000   62000   35000  \n",
              "320563   NorthCarolina        38365   95000   45000   35000  \n",
              "648336            Iowa        76517   91000  120000   35000  \n",
              "109996           Maine        46021   45000  120000   10000  \n",
              "121213      California        49681  162000  120000   35000  \n",
              "132971        Arkansas        62785  150000  120000   35000  \n",
              "145068      Mississipi        18008   62000  120000   70000  \n",
              "205217     RhodeIsland        53461  145000   95000   35000  \n",
              "209744    Pennsylvania        64415   70000   95000   35000  \n",
              "212303           Idaho        46308   70000  120000   35000  \n",
              "214098        Tenessee        47743   45000  120000   55000  \n",
              "231907     NorthDakota        31415  150000   10000  162000  \n",
              "242368            Iowa        72686  162000  120000   35000  \n",
              "268755     RhodeIsland        31919   55000  120000   35000  \n",
              "273274        Delaware        27933  150000  120000   70000  "
            ]
          },
          "execution_count": 60,
          "metadata": {},
          "output_type": "execute_result"
        }
      ],
      "source": [
        "# 인덱스 변경하기\n",
        "df.index = df['account']\n",
        "del df['account']\n",
        "df"
      ]
    },
    {
      "cell_type": "code",
      "execution_count": null,
      "id": "f9cbd8d4",
      "metadata": {
        "scrolled": true,
        "id": "f9cbd8d4",
        "outputId": "2383ba52-cf44-4adc-996c-b0e56da7c702"
      },
      "outputs": [
        {
          "data": {
            "text/html": [
              "<div>\n",
              "<style scoped>\n",
              "    .dataframe tbody tr th:only-of-type {\n",
              "        vertical-align: middle;\n",
              "    }\n",
              "\n",
              "    .dataframe tbody tr th {\n",
              "        vertical-align: top;\n",
              "    }\n",
              "\n",
              "    .dataframe thead th {\n",
              "        text-align: right;\n",
              "    }\n",
              "</style>\n",
              "<table border=\"1\" class=\"dataframe\">\n",
              "  <thead>\n",
              "    <tr style=\"text-align: right;\">\n",
              "      <th></th>\n",
              "      <th>name</th>\n",
              "      <th>city</th>\n",
              "    </tr>\n",
              "    <tr>\n",
              "      <th>account</th>\n",
              "      <th></th>\n",
              "      <th></th>\n",
              "    </tr>\n",
              "  </thead>\n",
              "  <tbody>\n",
              "    <tr>\n",
              "      <th>211829</th>\n",
              "      <td>Kerluke, Koepp and Hilpert</td>\n",
              "      <td>New Jaycob</td>\n",
              "    </tr>\n",
              "    <tr>\n",
              "      <th>320563</th>\n",
              "      <td>Walter-Trantow</td>\n",
              "      <td>Port Khadijah</td>\n",
              "    </tr>\n",
              "    <tr>\n",
              "      <th>648336</th>\n",
              "      <td>Bashirian, Kunde and Price</td>\n",
              "      <td>New Lilianland</td>\n",
              "    </tr>\n",
              "  </tbody>\n",
              "</table>\n",
              "</div>"
            ],
            "text/plain": [
              "                               name            city\n",
              "account                                            \n",
              "211829   Kerluke, Koepp and Hilpert      New Jaycob\n",
              "320563               Walter-Trantow   Port Khadijah\n",
              "648336   Bashirian, Kunde and Price  New Lilianland"
            ]
          },
          "execution_count": 61,
          "metadata": {},
          "output_type": "execute_result"
        }
      ],
      "source": [
        "# loc 함수 : 인덱스 이름과 열 이름으로 데이터 추출\n",
        "df.loc[:648336, ['name', 'city']]"
      ]
    },
    {
      "cell_type": "code",
      "execution_count": null,
      "id": "b198b2fe",
      "metadata": {
        "id": "b198b2fe",
        "outputId": "211cf9e9-b23d-4914-8931-cdaf4077701a"
      },
      "outputs": [
        {
          "data": {
            "text/html": [
              "<div>\n",
              "<style scoped>\n",
              "    .dataframe tbody tr th:only-of-type {\n",
              "        vertical-align: middle;\n",
              "    }\n",
              "\n",
              "    .dataframe tbody tr th {\n",
              "        vertical-align: top;\n",
              "    }\n",
              "\n",
              "    .dataframe thead th {\n",
              "        text-align: right;\n",
              "    }\n",
              "</style>\n",
              "<table border=\"1\" class=\"dataframe\">\n",
              "  <thead>\n",
              "    <tr style=\"text-align: right;\">\n",
              "      <th></th>\n",
              "      <th>city</th>\n",
              "      <th>state</th>\n",
              "    </tr>\n",
              "    <tr>\n",
              "      <th>account</th>\n",
              "      <th></th>\n",
              "      <th></th>\n",
              "    </tr>\n",
              "  </thead>\n",
              "  <tbody>\n",
              "    <tr>\n",
              "      <th>648336</th>\n",
              "      <td>New Lilianland</td>\n",
              "      <td>Iowa</td>\n",
              "    </tr>\n",
              "    <tr>\n",
              "      <th>109996</th>\n",
              "      <td>Hyattburgh</td>\n",
              "      <td>Maine</td>\n",
              "    </tr>\n",
              "  </tbody>\n",
              "</table>\n",
              "</div>"
            ],
            "text/plain": [
              "                   city  state\n",
              "account                       \n",
              "648336   New Lilianland   Iowa\n",
              "109996       Hyattburgh  Maine"
            ]
          },
          "execution_count": 63,
          "metadata": {},
          "output_type": "execute_result"
        }
      ],
      "source": [
        "# iloc 함수 :  인덱스 번호로만 데이터 호출\n",
        "df.iloc[2:4, 2:4]"
      ]
    },
    {
      "cell_type": "code",
      "execution_count": null,
      "id": "f3868f1b",
      "metadata": {
        "id": "f3868f1b",
        "outputId": "ae32fbeb-5a89-4f03-f58a-549fe4a119e9"
      },
      "outputs": [
        {
          "data": {
            "text/html": [
              "<div>\n",
              "<style scoped>\n",
              "    .dataframe tbody tr th:only-of-type {\n",
              "        vertical-align: middle;\n",
              "    }\n",
              "\n",
              "    .dataframe tbody tr th {\n",
              "        vertical-align: top;\n",
              "    }\n",
              "\n",
              "    .dataframe thead th {\n",
              "        text-align: right;\n",
              "    }\n",
              "</style>\n",
              "<table border=\"1\" class=\"dataframe\">\n",
              "  <thead>\n",
              "    <tr style=\"text-align: right;\">\n",
              "      <th></th>\n",
              "      <th>name</th>\n",
              "      <th>street</th>\n",
              "      <th>city</th>\n",
              "      <th>state</th>\n",
              "      <th>postal-code</th>\n",
              "      <th>Jan</th>\n",
              "      <th>Feb</th>\n",
              "      <th>Mar</th>\n",
              "    </tr>\n",
              "    <tr>\n",
              "      <th>account</th>\n",
              "      <th></th>\n",
              "      <th></th>\n",
              "      <th></th>\n",
              "      <th></th>\n",
              "      <th></th>\n",
              "      <th></th>\n",
              "      <th></th>\n",
              "      <th></th>\n",
              "    </tr>\n",
              "  </thead>\n",
              "  <tbody>\n",
              "    <tr>\n",
              "      <th>211829</th>\n",
              "      <td>Kerluke, Koepp and Hilpert</td>\n",
              "      <td>34456 Sean Highway</td>\n",
              "      <td>New Jaycob</td>\n",
              "      <td>Texas</td>\n",
              "      <td>28752</td>\n",
              "      <td>10000</td>\n",
              "      <td>62000</td>\n",
              "      <td>35000</td>\n",
              "    </tr>\n",
              "    <tr>\n",
              "      <th>320563</th>\n",
              "      <td>Walter-Trantow</td>\n",
              "      <td>1311 Alvis Tunnel</td>\n",
              "      <td>Port Khadijah</td>\n",
              "      <td>NorthCarolina</td>\n",
              "      <td>38365</td>\n",
              "      <td>95000</td>\n",
              "      <td>45000</td>\n",
              "      <td>35000</td>\n",
              "    </tr>\n",
              "    <tr>\n",
              "      <th>648336</th>\n",
              "      <td>Bashirian, Kunde and Price</td>\n",
              "      <td>62184 Schamberger Underpass Apt. 231</td>\n",
              "      <td>New Lilianland</td>\n",
              "      <td>Iowa</td>\n",
              "      <td>76517</td>\n",
              "      <td>91000</td>\n",
              "      <td>120000</td>\n",
              "      <td>35000</td>\n",
              "    </tr>\n",
              "    <tr>\n",
              "      <th>109996</th>\n",
              "      <td>D'Amore, Gleichner and Bode</td>\n",
              "      <td>155 Fadel Crescent Apt. 144</td>\n",
              "      <td>Hyattburgh</td>\n",
              "      <td>Maine</td>\n",
              "      <td>46021</td>\n",
              "      <td>45000</td>\n",
              "      <td>120000</td>\n",
              "      <td>10000</td>\n",
              "    </tr>\n",
              "    <tr>\n",
              "      <th>121213</th>\n",
              "      <td>Bauch-Goldner</td>\n",
              "      <td>7274 Marissa Common</td>\n",
              "      <td>Shanahanchester</td>\n",
              "      <td>California</td>\n",
              "      <td>49681</td>\n",
              "      <td>162000</td>\n",
              "      <td>120000</td>\n",
              "      <td>35000</td>\n",
              "    </tr>\n",
              "    <tr>\n",
              "      <th>132971</th>\n",
              "      <td>Williamson, Schumm and Hettinger</td>\n",
              "      <td>89403 Casimer Spring</td>\n",
              "      <td>Jeremieburgh</td>\n",
              "      <td>Arkansas</td>\n",
              "      <td>62785</td>\n",
              "      <td>150000</td>\n",
              "      <td>120000</td>\n",
              "      <td>35000</td>\n",
              "    </tr>\n",
              "    <tr>\n",
              "      <th>145068</th>\n",
              "      <td>Casper LLC</td>\n",
              "      <td>340 Consuela Bridge Apt. 400</td>\n",
              "      <td>Lake Gabriellaton</td>\n",
              "      <td>Mississipi</td>\n",
              "      <td>18008</td>\n",
              "      <td>62000</td>\n",
              "      <td>120000</td>\n",
              "      <td>70000</td>\n",
              "    </tr>\n",
              "    <tr>\n",
              "      <th>205217</th>\n",
              "      <td>Kovacek-Johnston</td>\n",
              "      <td>91971 Cronin Vista Suite 601</td>\n",
              "      <td>Deronville</td>\n",
              "      <td>RhodeIsland</td>\n",
              "      <td>53461</td>\n",
              "      <td>145000</td>\n",
              "      <td>95000</td>\n",
              "      <td>35000</td>\n",
              "    </tr>\n",
              "    <tr>\n",
              "      <th>209744</th>\n",
              "      <td>Champlin-Morar</td>\n",
              "      <td>26739 Grant Lock</td>\n",
              "      <td>Lake Juliannton</td>\n",
              "      <td>Pennsylvania</td>\n",
              "      <td>64415</td>\n",
              "      <td>70000</td>\n",
              "      <td>95000</td>\n",
              "      <td>35000</td>\n",
              "    </tr>\n",
              "    <tr>\n",
              "      <th>212303</th>\n",
              "      <td>Gerhold-Maggio</td>\n",
              "      <td>366 Maggio Grove Apt. 998</td>\n",
              "      <td>North Ras</td>\n",
              "      <td>Idaho</td>\n",
              "      <td>46308</td>\n",
              "      <td>70000</td>\n",
              "      <td>120000</td>\n",
              "      <td>35000</td>\n",
              "    </tr>\n",
              "    <tr>\n",
              "      <th>214098</th>\n",
              "      <td>Goodwin, Homenick and Jerde</td>\n",
              "      <td>649 Cierra Forks Apt. 078</td>\n",
              "      <td>Rosaberg</td>\n",
              "      <td>Tenessee</td>\n",
              "      <td>47743</td>\n",
              "      <td>45000</td>\n",
              "      <td>120000</td>\n",
              "      <td>55000</td>\n",
              "    </tr>\n",
              "    <tr>\n",
              "      <th>231907</th>\n",
              "      <td>Hahn-Moore</td>\n",
              "      <td>18115 Olivine Throughway</td>\n",
              "      <td>Norbertomouth</td>\n",
              "      <td>NorthDakota</td>\n",
              "      <td>31415</td>\n",
              "      <td>150000</td>\n",
              "      <td>10000</td>\n",
              "      <td>162000</td>\n",
              "    </tr>\n",
              "    <tr>\n",
              "      <th>242368</th>\n",
              "      <td>Frami, Anderson and Donnelly</td>\n",
              "      <td>182 Bertie Road</td>\n",
              "      <td>East Davian</td>\n",
              "      <td>Iowa</td>\n",
              "      <td>72686</td>\n",
              "      <td>162000</td>\n",
              "      <td>120000</td>\n",
              "      <td>35000</td>\n",
              "    </tr>\n",
              "    <tr>\n",
              "      <th>268755</th>\n",
              "      <td>Walsh-Haley</td>\n",
              "      <td>2624 Beatty Parkways</td>\n",
              "      <td>Goodwinmouth</td>\n",
              "      <td>RhodeIsland</td>\n",
              "      <td>31919</td>\n",
              "      <td>55000</td>\n",
              "      <td>120000</td>\n",
              "      <td>35000</td>\n",
              "    </tr>\n",
              "    <tr>\n",
              "      <th>273274</th>\n",
              "      <td>McDermott PLC</td>\n",
              "      <td>8917 Bergstrom Meadow</td>\n",
              "      <td>Kathryneborough</td>\n",
              "      <td>Delaware</td>\n",
              "      <td>27933</td>\n",
              "      <td>150000</td>\n",
              "      <td>120000</td>\n",
              "      <td>70000</td>\n",
              "    </tr>\n",
              "  </tbody>\n",
              "</table>\n",
              "</div>"
            ],
            "text/plain": [
              "                                     name  \\\n",
              "account                                     \n",
              "211829         Kerluke, Koepp and Hilpert   \n",
              "320563                     Walter-Trantow   \n",
              "648336         Bashirian, Kunde and Price   \n",
              "109996        D'Amore, Gleichner and Bode   \n",
              "121213                      Bauch-Goldner   \n",
              "132971   Williamson, Schumm and Hettinger   \n",
              "145068                         Casper LLC   \n",
              "205217                   Kovacek-Johnston   \n",
              "209744                     Champlin-Morar   \n",
              "212303                     Gerhold-Maggio   \n",
              "214098        Goodwin, Homenick and Jerde   \n",
              "231907                         Hahn-Moore   \n",
              "242368       Frami, Anderson and Donnelly   \n",
              "268755                        Walsh-Haley   \n",
              "273274                      McDermott PLC   \n",
              "\n",
              "                                       street               city  \\\n",
              "account                                                            \n",
              "211829                     34456 Sean Highway         New Jaycob   \n",
              "320563                      1311 Alvis Tunnel      Port Khadijah   \n",
              "648336   62184 Schamberger Underpass Apt. 231     New Lilianland   \n",
              "109996            155 Fadel Crescent Apt. 144         Hyattburgh   \n",
              "121213                    7274 Marissa Common    Shanahanchester   \n",
              "132971                   89403 Casimer Spring       Jeremieburgh   \n",
              "145068           340 Consuela Bridge Apt. 400  Lake Gabriellaton   \n",
              "205217           91971 Cronin Vista Suite 601         Deronville   \n",
              "209744                       26739 Grant Lock    Lake Juliannton   \n",
              "212303              366 Maggio Grove Apt. 998          North Ras   \n",
              "214098              649 Cierra Forks Apt. 078           Rosaberg   \n",
              "231907               18115 Olivine Throughway      Norbertomouth   \n",
              "242368                        182 Bertie Road        East Davian   \n",
              "268755                   2624 Beatty Parkways       Goodwinmouth   \n",
              "273274                  8917 Bergstrom Meadow    Kathryneborough   \n",
              "\n",
              "                 state  postal-code     Jan     Feb     Mar  \n",
              "account                                                      \n",
              "211829           Texas        28752   10000   62000   35000  \n",
              "320563   NorthCarolina        38365   95000   45000   35000  \n",
              "648336            Iowa        76517   91000  120000   35000  \n",
              "109996           Maine        46021   45000  120000   10000  \n",
              "121213      California        49681  162000  120000   35000  \n",
              "132971        Arkansas        62785  150000  120000   35000  \n",
              "145068      Mississipi        18008   62000  120000   70000  \n",
              "205217     RhodeIsland        53461  145000   95000   35000  \n",
              "209744    Pennsylvania        64415   70000   95000   35000  \n",
              "212303           Idaho        46308   70000  120000   35000  \n",
              "214098        Tenessee        47743   45000  120000   55000  \n",
              "231907     NorthDakota        31415  150000   10000  162000  \n",
              "242368            Iowa        72686  162000  120000   35000  \n",
              "268755     RhodeIsland        31919   55000  120000   35000  \n",
              "273274        Delaware        27933  150000  120000   70000  "
            ]
          },
          "execution_count": 64,
          "metadata": {},
          "output_type": "execute_result"
        }
      ],
      "source": [
        "df"
      ]
    },
    {
      "cell_type": "markdown",
      "id": "8aa154e9",
      "metadata": {
        "id": "8aa154e9"
      },
      "source": [
        "### 5.새로운 인덱스 할당"
      ]
    },
    {
      "cell_type": "code",
      "execution_count": null,
      "id": "fa4d0a0b",
      "metadata": {
        "id": "fa4d0a0b",
        "outputId": "f8f19d17-65ff-429c-a6e2-ae489f5270c0"
      },
      "outputs": [
        {
          "data": {
            "text/html": [
              "<div>\n",
              "<style scoped>\n",
              "    .dataframe tbody tr th:only-of-type {\n",
              "        vertical-align: middle;\n",
              "    }\n",
              "\n",
              "    .dataframe tbody tr th {\n",
              "        vertical-align: top;\n",
              "    }\n",
              "\n",
              "    .dataframe thead th {\n",
              "        text-align: right;\n",
              "    }\n",
              "</style>\n",
              "<table border=\"1\" class=\"dataframe\">\n",
              "  <thead>\n",
              "    <tr style=\"text-align: right;\">\n",
              "      <th></th>\n",
              "      <th>account</th>\n",
              "      <th>name</th>\n",
              "      <th>street</th>\n",
              "      <th>city</th>\n",
              "      <th>state</th>\n",
              "      <th>postal-code</th>\n",
              "      <th>Jan</th>\n",
              "      <th>Feb</th>\n",
              "      <th>Mar</th>\n",
              "    </tr>\n",
              "  </thead>\n",
              "  <tbody>\n",
              "    <tr>\n",
              "      <th>0</th>\n",
              "      <td>211829</td>\n",
              "      <td>Kerluke, Koepp and Hilpert</td>\n",
              "      <td>34456 Sean Highway</td>\n",
              "      <td>New Jaycob</td>\n",
              "      <td>Texas</td>\n",
              "      <td>28752</td>\n",
              "      <td>10000</td>\n",
              "      <td>62000</td>\n",
              "      <td>35000</td>\n",
              "    </tr>\n",
              "    <tr>\n",
              "      <th>1</th>\n",
              "      <td>320563</td>\n",
              "      <td>Walter-Trantow</td>\n",
              "      <td>1311 Alvis Tunnel</td>\n",
              "      <td>Port Khadijah</td>\n",
              "      <td>NorthCarolina</td>\n",
              "      <td>38365</td>\n",
              "      <td>95000</td>\n",
              "      <td>45000</td>\n",
              "      <td>35000</td>\n",
              "    </tr>\n",
              "    <tr>\n",
              "      <th>2</th>\n",
              "      <td>648336</td>\n",
              "      <td>Bashirian, Kunde and Price</td>\n",
              "      <td>62184 Schamberger Underpass Apt. 231</td>\n",
              "      <td>New Lilianland</td>\n",
              "      <td>Iowa</td>\n",
              "      <td>76517</td>\n",
              "      <td>91000</td>\n",
              "      <td>120000</td>\n",
              "      <td>35000</td>\n",
              "    </tr>\n",
              "  </tbody>\n",
              "</table>\n",
              "</div>"
            ],
            "text/plain": [
              "   account                        name                                street  \\\n",
              "0   211829  Kerluke, Koepp and Hilpert                    34456 Sean Highway   \n",
              "1   320563              Walter-Trantow                     1311 Alvis Tunnel   \n",
              "2   648336  Bashirian, Kunde and Price  62184 Schamberger Underpass Apt. 231   \n",
              "\n",
              "             city          state  postal-code    Jan     Feb    Mar  \n",
              "0      New Jaycob          Texas        28752  10000   62000  35000  \n",
              "1   Port Khadijah  NorthCarolina        38365  95000   45000  35000  \n",
              "2  New Lilianland           Iowa        76517  91000  120000  35000  "
            ]
          },
          "execution_count": 65,
          "metadata": {},
          "output_type": "execute_result"
        }
      ],
      "source": [
        "# reset_index 함수로 새로운 인덱스 할당된 객체 생성\n",
        "df_new = df.reset_index()\n",
        "df_new.head(3)"
      ]
    },
    {
      "cell_type": "markdown",
      "id": "64a58f95",
      "metadata": {
        "id": "64a58f95"
      },
      "source": [
        "### 6. drop 함수"
      ]
    },
    {
      "cell_type": "code",
      "execution_count": null,
      "id": "69b045ff",
      "metadata": {
        "id": "69b045ff",
        "outputId": "5e1745a0-8dcf-4d3f-8b22-3e69e9879a74"
      },
      "outputs": [
        {
          "data": {
            "text/html": [
              "<div>\n",
              "<style scoped>\n",
              "    .dataframe tbody tr th:only-of-type {\n",
              "        vertical-align: middle;\n",
              "    }\n",
              "\n",
              "    .dataframe tbody tr th {\n",
              "        vertical-align: top;\n",
              "    }\n",
              "\n",
              "    .dataframe thead th {\n",
              "        text-align: right;\n",
              "    }\n",
              "</style>\n",
              "<table border=\"1\" class=\"dataframe\">\n",
              "  <thead>\n",
              "    <tr style=\"text-align: right;\">\n",
              "      <th></th>\n",
              "      <th>account</th>\n",
              "      <th>name</th>\n",
              "      <th>postal-code</th>\n",
              "      <th>Jan</th>\n",
              "      <th>Feb</th>\n",
              "      <th>Mar</th>\n",
              "    </tr>\n",
              "  </thead>\n",
              "  <tbody>\n",
              "    <tr>\n",
              "      <th>0</th>\n",
              "      <td>211829</td>\n",
              "      <td>Kerluke, Koepp and Hilpert</td>\n",
              "      <td>28752</td>\n",
              "      <td>10000</td>\n",
              "      <td>62000</td>\n",
              "      <td>35000</td>\n",
              "    </tr>\n",
              "    <tr>\n",
              "      <th>2</th>\n",
              "      <td>648336</td>\n",
              "      <td>Bashirian, Kunde and Price</td>\n",
              "      <td>76517</td>\n",
              "      <td>91000</td>\n",
              "      <td>120000</td>\n",
              "      <td>35000</td>\n",
              "    </tr>\n",
              "    <tr>\n",
              "      <th>3</th>\n",
              "      <td>109996</td>\n",
              "      <td>D'Amore, Gleichner and Bode</td>\n",
              "      <td>46021</td>\n",
              "      <td>45000</td>\n",
              "      <td>120000</td>\n",
              "      <td>10000</td>\n",
              "    </tr>\n",
              "    <tr>\n",
              "      <th>4</th>\n",
              "      <td>121213</td>\n",
              "      <td>Bauch-Goldner</td>\n",
              "      <td>49681</td>\n",
              "      <td>162000</td>\n",
              "      <td>120000</td>\n",
              "      <td>35000</td>\n",
              "    </tr>\n",
              "    <tr>\n",
              "      <th>5</th>\n",
              "      <td>132971</td>\n",
              "      <td>Williamson, Schumm and Hettinger</td>\n",
              "      <td>62785</td>\n",
              "      <td>150000</td>\n",
              "      <td>120000</td>\n",
              "      <td>35000</td>\n",
              "    </tr>\n",
              "  </tbody>\n",
              "</table>\n",
              "</div>"
            ],
            "text/plain": [
              "   account                              name  postal-code     Jan     Feb  \\\n",
              "0   211829        Kerluke, Koepp and Hilpert        28752   10000   62000   \n",
              "2   648336        Bashirian, Kunde and Price        76517   91000  120000   \n",
              "3   109996       D'Amore, Gleichner and Bode        46021   45000  120000   \n",
              "4   121213                     Bauch-Goldner        49681  162000  120000   \n",
              "5   132971  Williamson, Schumm and Hettinger        62785  150000  120000   \n",
              "\n",
              "     Mar  \n",
              "0  35000  \n",
              "2  35000  \n",
              "3  10000  \n",
              "4  35000  \n",
              "5  35000  "
            ]
          },
          "execution_count": 76,
          "metadata": {},
          "output_type": "execute_result"
        }
      ],
      "source": [
        "# drop 함수 : 특정 열이나 행을 삭제한 객체를 반환\n",
        "# 컬럼 삭제(axis=1)\n",
        "# df_new.drop('street', axis=1, inplace=True)           # 1개 컬럼 삭제\n",
        "# df_new.drop(['city','state'], axis=1, inplace=True)   # 여러 개 컬럼 삭제\n",
        "df_new.head()"
      ]
    },
    {
      "cell_type": "code",
      "execution_count": null,
      "id": "1616cfc9",
      "metadata": {
        "id": "1616cfc9",
        "outputId": "e2aed790-67aa-4fae-d5a2-bc73db4ee301"
      },
      "outputs": [
        {
          "ename": "SyntaxError",
          "evalue": "invalid syntax (3842567120.py, line 5)",
          "output_type": "error",
          "traceback": [
            "\u001b[1;36m  Cell \u001b[1;32mIn[86], line 5\u001b[1;36m\u001b[0m\n\u001b[1;33m    df_new.drop([:10], axis=0, inplace=True)\u001b[0m\n\u001b[1;37m                 ^\u001b[0m\n\u001b[1;31mSyntaxError\u001b[0m\u001b[1;31m:\u001b[0m invalid syntax\n"
          ]
        }
      ],
      "source": [
        "# 행 삭제(axis=0 : default)\n",
        "# df_new.drop(4, inplace=True)\n",
        "# df_new.drop(4, axis=0, inplace=True)\n",
        "df_new.drop([2,5,6], axis=0, inplace=True)\n",
        "df_new"
      ]
    },
    {
      "cell_type": "code",
      "execution_count": null,
      "id": "03cfe90f",
      "metadata": {
        "id": "03cfe90f"
      },
      "outputs": [],
      "source": []
    },
    {
      "cell_type": "markdown",
      "id": "285880b7",
      "metadata": {
        "id": "285880b7"
      },
      "source": [
        "------------------------"
      ]
    },
    {
      "cell_type": "markdown",
      "id": "89e3c211",
      "metadata": {
        "id": "89e3c211"
      },
      "source": [
        "## <a name=\"04.3그룹별집계\">04.3 그룹별 집계</a>"
      ]
    },
    {
      "cell_type": "markdown",
      "id": "4d530aba",
      "metadata": {
        "id": "4d530aba"
      },
      "source": [
        "### 1. 그룹별 집계의 개념\n",
        "- 그룹별 집계(groupby) : 데이터로부터 동일한 객체를 가진 데이터만 따로 뽑아 기술통계 데이터를 추출\n",
        "- 엑셀의 피봇테이블(pivot table) 기능과 비슷\n",
        "- groupby 명령어는 분할→적용→결합 과정을 거침\n",
        " - - 분할(split) : 같은 종류의 데이터끼리 나누는 기능 <br>\n",
        " - - 적용(apply) : 데이터 블록마다 sum, count, mean 등 연산 적용\n",
        " - - 결합(combine) : 연산 함수가 적용된 각 블록들을 합침"
      ]
    },
    {
      "cell_type": "markdown",
      "id": "730af36b",
      "metadata": {
        "id": "730af36b"
      },
      "source": [
        "### 2. 그룹별 집계 사용하기"
      ]
    },
    {
      "cell_type": "code",
      "execution_count": null,
      "id": "b56b196e",
      "metadata": {
        "id": "b56b196e",
        "outputId": "0fd2be38-5e15-48bd-d167-487ef3ca42c6"
      },
      "outputs": [
        {
          "data": {
            "text/html": [
              "<div>\n",
              "<style scoped>\n",
              "    .dataframe tbody tr th:only-of-type {\n",
              "        vertical-align: middle;\n",
              "    }\n",
              "\n",
              "    .dataframe tbody tr th {\n",
              "        vertical-align: top;\n",
              "    }\n",
              "\n",
              "    .dataframe thead th {\n",
              "        text-align: right;\n",
              "    }\n",
              "</style>\n",
              "<table border=\"1\" class=\"dataframe\">\n",
              "  <thead>\n",
              "    <tr style=\"text-align: right;\">\n",
              "      <th></th>\n",
              "      <th>Team</th>\n",
              "      <th>Rank</th>\n",
              "      <th>Year</th>\n",
              "      <th>Points</th>\n",
              "    </tr>\n",
              "  </thead>\n",
              "  <tbody>\n",
              "    <tr>\n",
              "      <th>0</th>\n",
              "      <td>Riders</td>\n",
              "      <td>1</td>\n",
              "      <td>2014</td>\n",
              "      <td>876</td>\n",
              "    </tr>\n",
              "    <tr>\n",
              "      <th>1</th>\n",
              "      <td>Riders</td>\n",
              "      <td>2</td>\n",
              "      <td>2015</td>\n",
              "      <td>789</td>\n",
              "    </tr>\n",
              "    <tr>\n",
              "      <th>2</th>\n",
              "      <td>Devils</td>\n",
              "      <td>2</td>\n",
              "      <td>2014</td>\n",
              "      <td>863</td>\n",
              "    </tr>\n",
              "    <tr>\n",
              "      <th>3</th>\n",
              "      <td>Devils</td>\n",
              "      <td>3</td>\n",
              "      <td>2015</td>\n",
              "      <td>673</td>\n",
              "    </tr>\n",
              "    <tr>\n",
              "      <th>4</th>\n",
              "      <td>Kings</td>\n",
              "      <td>3</td>\n",
              "      <td>2014</td>\n",
              "      <td>741</td>\n",
              "    </tr>\n",
              "    <tr>\n",
              "      <th>5</th>\n",
              "      <td>kings</td>\n",
              "      <td>4</td>\n",
              "      <td>2015</td>\n",
              "      <td>812</td>\n",
              "    </tr>\n",
              "    <tr>\n",
              "      <th>6</th>\n",
              "      <td>Kings</td>\n",
              "      <td>1</td>\n",
              "      <td>2016</td>\n",
              "      <td>756</td>\n",
              "    </tr>\n",
              "    <tr>\n",
              "      <th>7</th>\n",
              "      <td>Kings</td>\n",
              "      <td>1</td>\n",
              "      <td>2017</td>\n",
              "      <td>788</td>\n",
              "    </tr>\n",
              "    <tr>\n",
              "      <th>8</th>\n",
              "      <td>Riders</td>\n",
              "      <td>2</td>\n",
              "      <td>2016</td>\n",
              "      <td>694</td>\n",
              "    </tr>\n",
              "    <tr>\n",
              "      <th>9</th>\n",
              "      <td>Royals</td>\n",
              "      <td>4</td>\n",
              "      <td>2014</td>\n",
              "      <td>701</td>\n",
              "    </tr>\n",
              "    <tr>\n",
              "      <th>10</th>\n",
              "      <td>Royals</td>\n",
              "      <td>1</td>\n",
              "      <td>2015</td>\n",
              "      <td>804</td>\n",
              "    </tr>\n",
              "    <tr>\n",
              "      <th>11</th>\n",
              "      <td>Riders</td>\n",
              "      <td>2</td>\n",
              "      <td>2017</td>\n",
              "      <td>690</td>\n",
              "    </tr>\n",
              "  </tbody>\n",
              "</table>\n",
              "</div>"
            ],
            "text/plain": [
              "      Team  Rank  Year  Points\n",
              "0   Riders     1  2014     876\n",
              "1   Riders     2  2015     789\n",
              "2   Devils     2  2014     863\n",
              "3   Devils     3  2015     673\n",
              "4    Kings     3  2014     741\n",
              "5    kings     4  2015     812\n",
              "6    Kings     1  2016     756\n",
              "7    Kings     1  2017     788\n",
              "8   Riders     2  2016     694\n",
              "9   Royals     4  2014     701\n",
              "10  Royals     1  2015     804\n",
              "11  Riders     2  2017     690"
            ]
          },
          "execution_count": 88,
          "metadata": {},
          "output_type": "execute_result"
        }
      ],
      "source": [
        "# 그룹별 집계의 기본형\n",
        "data = {'Team': ['Riders', 'Riders', 'Devils', 'Devils', 'Kings','kings', 'Kings', 'Kings', 'Riders', 'Royals', 'Royals', 'Riders'],\n",
        "            'Rank': [1, 2, 2, 3, 3,4 ,1 ,1,2 , 4,1,2],\n",
        "            'Year': [2014, 2015, 2014, 2015, 2014, 2015, 2016, 2017, 2016, 2014, 2015, 2017],\n",
        "            'Points': [876,789,863,673,741,812,756,788,694,701,804,690]}\n",
        "df = pd.DataFrame(data)\n",
        "df"
      ]
    },
    {
      "cell_type": "code",
      "execution_count": null,
      "id": "2068702a",
      "metadata": {
        "id": "2068702a",
        "outputId": "0798f928-8cf1-4134-a42e-e7b5e0e9359b"
      },
      "outputs": [
        {
          "data": {
            "text/plain": [
              "Team\n",
              "Devils    1536\n",
              "Kings     2285\n",
              "Riders    3049\n",
              "Royals    1505\n",
              "kings      812\n",
              "Name: Points, dtype: int64"
            ]
          },
          "execution_count": 89,
          "metadata": {},
          "output_type": "execute_result"
        }
      ],
      "source": [
        "# 그룹별 집계의 기본형\n",
        "# Team별 그룹하여 Points의 합계 구하기\n",
        "df.groupby(\"Team\")[\"Points\"].sum()"
      ]
    },
    {
      "cell_type": "code",
      "execution_count": null,
      "id": "2e387b47",
      "metadata": {
        "id": "2e387b47"
      },
      "outputs": [],
      "source": [
        "# 멀티 인덱스 그룹별 집계\n",
        "# - 한 개 이상의 열을 기준으로 그룹별 집계를 실행\n",
        "df_group = df.groupby([\"Team\",\"Year\"])[\"Points\"].sum()\n",
        "df_group.to_csv('팀별그룹핑.csv')"
      ]
    },
    {
      "cell_type": "code",
      "execution_count": null,
      "id": "1275c526",
      "metadata": {
        "id": "1275c526",
        "outputId": "ca896d7f-ffab-4cdf-c4cd-89adbd519dfa"
      },
      "outputs": [
        {
          "data": {
            "text/html": [
              "<div>\n",
              "<style scoped>\n",
              "    .dataframe tbody tr th:only-of-type {\n",
              "        vertical-align: middle;\n",
              "    }\n",
              "\n",
              "    .dataframe tbody tr th {\n",
              "        vertical-align: top;\n",
              "    }\n",
              "\n",
              "    .dataframe thead th {\n",
              "        text-align: right;\n",
              "    }\n",
              "</style>\n",
              "<table border=\"1\" class=\"dataframe\">\n",
              "  <thead>\n",
              "    <tr style=\"text-align: right;\">\n",
              "      <th></th>\n",
              "      <th>Team</th>\n",
              "      <th>Year</th>\n",
              "      <th>Points</th>\n",
              "    </tr>\n",
              "  </thead>\n",
              "  <tbody>\n",
              "    <tr>\n",
              "      <th>0</th>\n",
              "      <td>Devils</td>\n",
              "      <td>2014</td>\n",
              "      <td>863</td>\n",
              "    </tr>\n",
              "    <tr>\n",
              "      <th>1</th>\n",
              "      <td>Devils</td>\n",
              "      <td>2015</td>\n",
              "      <td>673</td>\n",
              "    </tr>\n",
              "    <tr>\n",
              "      <th>2</th>\n",
              "      <td>Kings</td>\n",
              "      <td>2014</td>\n",
              "      <td>741</td>\n",
              "    </tr>\n",
              "    <tr>\n",
              "      <th>3</th>\n",
              "      <td>Kings</td>\n",
              "      <td>2016</td>\n",
              "      <td>756</td>\n",
              "    </tr>\n",
              "    <tr>\n",
              "      <th>4</th>\n",
              "      <td>Kings</td>\n",
              "      <td>2017</td>\n",
              "      <td>788</td>\n",
              "    </tr>\n",
              "    <tr>\n",
              "      <th>5</th>\n",
              "      <td>Riders</td>\n",
              "      <td>2014</td>\n",
              "      <td>876</td>\n",
              "    </tr>\n",
              "    <tr>\n",
              "      <th>6</th>\n",
              "      <td>Riders</td>\n",
              "      <td>2015</td>\n",
              "      <td>789</td>\n",
              "    </tr>\n",
              "    <tr>\n",
              "      <th>7</th>\n",
              "      <td>Riders</td>\n",
              "      <td>2016</td>\n",
              "      <td>694</td>\n",
              "    </tr>\n",
              "    <tr>\n",
              "      <th>8</th>\n",
              "      <td>Riders</td>\n",
              "      <td>2017</td>\n",
              "      <td>690</td>\n",
              "    </tr>\n",
              "    <tr>\n",
              "      <th>9</th>\n",
              "      <td>Royals</td>\n",
              "      <td>2014</td>\n",
              "      <td>701</td>\n",
              "    </tr>\n",
              "    <tr>\n",
              "      <th>10</th>\n",
              "      <td>Royals</td>\n",
              "      <td>2015</td>\n",
              "      <td>804</td>\n",
              "    </tr>\n",
              "    <tr>\n",
              "      <th>11</th>\n",
              "      <td>kings</td>\n",
              "      <td>2015</td>\n",
              "      <td>812</td>\n",
              "    </tr>\n",
              "  </tbody>\n",
              "</table>\n",
              "</div>"
            ],
            "text/plain": [
              "      Team  Year  Points\n",
              "0   Devils  2014     863\n",
              "1   Devils  2015     673\n",
              "2    Kings  2014     741\n",
              "3    Kings  2016     756\n",
              "4    Kings  2017     788\n",
              "5   Riders  2014     876\n",
              "6   Riders  2015     789\n",
              "7   Riders  2016     694\n",
              "8   Riders  2017     690\n",
              "9   Royals  2014     701\n",
              "10  Royals  2015     804\n",
              "11   kings  2015     812"
            ]
          },
          "execution_count": 94,
          "metadata": {},
          "output_type": "execute_result"
        }
      ],
      "source": [
        "df_tmp = pd.read_csv('팀별그룹핑.csv')\n",
        "df_tmp"
      ]
    },
    {
      "cell_type": "code",
      "execution_count": null,
      "id": "0c510798",
      "metadata": {
        "id": "0c510798",
        "outputId": "04f02a11-3d7a-4c5f-ac4e-67709b22b337"
      },
      "outputs": [
        {
          "data": {
            "text/plain": [
              "MultiIndex([('Devils', 2014),\n",
              "            ('Devils', 2015),\n",
              "            ( 'Kings', 2014),\n",
              "            ( 'Kings', 2016),\n",
              "            ( 'Kings', 2017),\n",
              "            ('Riders', 2014),\n",
              "            ('Riders', 2015),\n",
              "            ('Riders', 2016),\n",
              "            ('Riders', 2017),\n",
              "            ('Royals', 2014),\n",
              "            ('Royals', 2015),\n",
              "            ( 'kings', 2015)],\n",
              "           names=['Team', 'Year'])"
            ]
          },
          "execution_count": 97,
          "metadata": {},
          "output_type": "execute_result"
        }
      ],
      "source": [
        "# 멀티 인덱스\n",
        "# - 한 개 이상의 열로 그룹별 집계 수행하면 여러 열이 모두 인덱스로 반환됨\n",
        "df_group = df.groupby([\"Team\",\"Year\"])[\"Points\"].sum()\n",
        "df_group.index"
      ]
    },
    {
      "cell_type": "code",
      "execution_count": null,
      "id": "657598b0",
      "metadata": {
        "scrolled": true,
        "id": "657598b0",
        "outputId": "dc7267dd-23cf-4474-8e33-869375bfd404"
      },
      "outputs": [
        {
          "data": {
            "text/plain": [
              "Year  Team  \n",
              "2014  Devils    863\n",
              "      Kings     741\n",
              "      Riders    876\n",
              "      Royals    701\n",
              "2015  Devils    673\n",
              "      Riders    789\n",
              "      Royals    804\n",
              "      kings     812\n",
              "2016  Kings     756\n",
              "      Riders    694\n",
              "2017  Kings     788\n",
              "      Riders    690\n",
              "Name: Points, dtype: int64"
            ]
          },
          "execution_count": 101,
          "metadata": {},
          "output_type": "execute_result"
        }
      ],
      "source": [
        "# - swaplevel 함수로 인덱스 간 레벨을 변경\n",
        "# - sort_index 함수로 첫 번째 인덱스를 기준으로 데이터 재정렬\n",
        "df_group.swaplevel().sort_index()"
      ]
    },
    {
      "cell_type": "markdown",
      "id": "de2c90ef",
      "metadata": {
        "id": "de2c90ef"
      },
      "source": [
        "### 3. 그룹화된 상태\n",
        "- 그룹화된(grouped) 상태 : 분할→적용→결합 중에서 분할까지만 이루어진 상태\n",
        "- get_group 함수 : 해당 키 값을 기준으로 분할된 데이터프레임 객체를 확인"
      ]
    },
    {
      "cell_type": "code",
      "execution_count": null,
      "id": "92bfa2fd",
      "metadata": {
        "id": "92bfa2fd",
        "outputId": "9e10a319-af61-4907-867d-c066dcd09f20"
      },
      "outputs": [
        {
          "data": {
            "text/plain": [
              "Team\n",
              "Devils    1536\n",
              "Kings     2285\n",
              "Riders    3049\n",
              "Royals    1505\n",
              "kings      812\n",
              "Name: Points, dtype: int64"
            ]
          },
          "execution_count": 103,
          "metadata": {},
          "output_type": "execute_result"
        }
      ],
      "source": [
        "a = df.groupby('Team')\n",
        "a['Points'].sum()"
      ]
    },
    {
      "cell_type": "markdown",
      "id": "166d7ac4",
      "metadata": {
        "id": "166d7ac4"
      },
      "source": [
        "- **집계(aggregation)** : 요약된 통계 정보를 추출"
      ]
    },
    {
      "cell_type": "code",
      "execution_count": null,
      "metadata": {
        "id": "FP3L_3ZogUrr"
      },
      "outputs": [],
      "source": [],
      "id": "FP3L_3ZogUrr"
    },
    {
      "cell_type": "code",
      "execution_count": null,
      "id": "ef99240b",
      "metadata": {
        "scrolled": true,
        "id": "ef99240b",
        "outputId": "d52a9dc3-e8f1-45af-c4e4-59e7a79a3b21"
      },
      "outputs": [
        {
          "name": "stderr",
          "output_type": "stream",
          "text": [
            "C:\\Users\\yswoo\\AppData\\Local\\Temp\\ipykernel_2508\\58036681.py:2: FutureWarning: The provided callable <built-in function min> is currently using DataFrameGroupBy.min. In a future version of pandas, the provided callable will be used directly. To keep current behavior pass the string \"min\" instead.\n",
            "  df.groupby('Team').agg(min)\n"
          ]
        },
        {
          "data": {
            "text/html": [
              "<div>\n",
              "<style scoped>\n",
              "    .dataframe tbody tr th:only-of-type {\n",
              "        vertical-align: middle;\n",
              "    }\n",
              "\n",
              "    .dataframe tbody tr th {\n",
              "        vertical-align: top;\n",
              "    }\n",
              "\n",
              "    .dataframe thead th {\n",
              "        text-align: right;\n",
              "    }\n",
              "</style>\n",
              "<table border=\"1\" class=\"dataframe\">\n",
              "  <thead>\n",
              "    <tr style=\"text-align: right;\">\n",
              "      <th></th>\n",
              "      <th>Rank</th>\n",
              "      <th>Year</th>\n",
              "      <th>Points</th>\n",
              "    </tr>\n",
              "    <tr>\n",
              "      <th>Team</th>\n",
              "      <th></th>\n",
              "      <th></th>\n",
              "      <th></th>\n",
              "    </tr>\n",
              "  </thead>\n",
              "  <tbody>\n",
              "    <tr>\n",
              "      <th>Devils</th>\n",
              "      <td>2</td>\n",
              "      <td>2014</td>\n",
              "      <td>673</td>\n",
              "    </tr>\n",
              "    <tr>\n",
              "      <th>Kings</th>\n",
              "      <td>1</td>\n",
              "      <td>2014</td>\n",
              "      <td>741</td>\n",
              "    </tr>\n",
              "    <tr>\n",
              "      <th>Riders</th>\n",
              "      <td>1</td>\n",
              "      <td>2014</td>\n",
              "      <td>690</td>\n",
              "    </tr>\n",
              "    <tr>\n",
              "      <th>Royals</th>\n",
              "      <td>1</td>\n",
              "      <td>2014</td>\n",
              "      <td>701</td>\n",
              "    </tr>\n",
              "    <tr>\n",
              "      <th>kings</th>\n",
              "      <td>4</td>\n",
              "      <td>2015</td>\n",
              "      <td>812</td>\n",
              "    </tr>\n",
              "  </tbody>\n",
              "</table>\n",
              "</div>"
            ],
            "text/plain": [
              "        Rank  Year  Points\n",
              "Team                      \n",
              "Devils     2  2014     673\n",
              "Kings      1  2014     741\n",
              "Riders     1  2014     690\n",
              "Royals     1  2014     701\n",
              "kings      4  2015     812"
            ]
          },
          "execution_count": 104,
          "metadata": {},
          "output_type": "execute_result"
        }
      ],
      "source": [
        "# 집계(aggregation) : 요약된 통계 정보를 추출\n",
        "df.groupby('Team').agg(min)"
      ]
    },
    {
      "cell_type": "code",
      "execution_count": null,
      "id": "ed3970a2",
      "metadata": {
        "id": "ed3970a2",
        "outputId": "6e8c55c0-f3ca-4d15-a729-2ebd9bd6e305"
      },
      "outputs": [
        {
          "data": {
            "text/html": [
              "<div>\n",
              "<style scoped>\n",
              "    .dataframe tbody tr th:only-of-type {\n",
              "        vertical-align: middle;\n",
              "    }\n",
              "\n",
              "    .dataframe tbody tr th {\n",
              "        vertical-align: top;\n",
              "    }\n",
              "\n",
              "    .dataframe thead th {\n",
              "        text-align: right;\n",
              "    }\n",
              "</style>\n",
              "<table border=\"1\" class=\"dataframe\">\n",
              "  <thead>\n",
              "    <tr style=\"text-align: right;\">\n",
              "      <th></th>\n",
              "      <th>sum</th>\n",
              "      <th>max</th>\n",
              "    </tr>\n",
              "    <tr>\n",
              "      <th>Team</th>\n",
              "      <th></th>\n",
              "      <th></th>\n",
              "    </tr>\n",
              "  </thead>\n",
              "  <tbody>\n",
              "    <tr>\n",
              "      <th>Devils</th>\n",
              "      <td>1536</td>\n",
              "      <td>863</td>\n",
              "    </tr>\n",
              "    <tr>\n",
              "      <th>Kings</th>\n",
              "      <td>2285</td>\n",
              "      <td>788</td>\n",
              "    </tr>\n",
              "    <tr>\n",
              "      <th>Riders</th>\n",
              "      <td>3049</td>\n",
              "      <td>876</td>\n",
              "    </tr>\n",
              "    <tr>\n",
              "      <th>Royals</th>\n",
              "      <td>1505</td>\n",
              "      <td>804</td>\n",
              "    </tr>\n",
              "    <tr>\n",
              "      <th>kings</th>\n",
              "      <td>812</td>\n",
              "      <td>812</td>\n",
              "    </tr>\n",
              "  </tbody>\n",
              "</table>\n",
              "</div>"
            ],
            "text/plain": [
              "         sum  max\n",
              "Team             \n",
              "Devils  1536  863\n",
              "Kings   2285  788\n",
              "Riders  3049  876\n",
              "Royals  1505  804\n",
              "kings    812  812"
            ]
          },
          "execution_count": 116,
          "metadata": {},
          "output_type": "execute_result"
        }
      ],
      "source": [
        "# sum. max\n",
        "df.groupby('Team')['Points'].agg(['sum', 'max'])"
      ]
    },
    {
      "cell_type": "markdown",
      "id": "fb1aa00e",
      "metadata": {
        "id": "fb1aa00e"
      },
      "source": [
        "- **필터(filter)** : 특정 조건으로 데이터를 검색"
      ]
    },
    {
      "cell_type": "code",
      "execution_count": null,
      "id": "51714a27",
      "metadata": {
        "id": "51714a27"
      },
      "outputs": [],
      "source": [
        "# 필터\n",
        "# Team별 레코드 개수 3개 이상인 Team\n",
        "# Team별 Points의 최고값이 800이상인 Team"
      ]
    },
    {
      "cell_type": "markdown",
      "id": "b6197470",
      "metadata": {
        "id": "b6197470"
      },
      "source": [
        "-----------------"
      ]
    },
    {
      "cell_type": "markdown",
      "id": "1719e385",
      "metadata": {
        "id": "1719e385"
      },
      "source": [
        "## <a name=\"04.4병합과연결\">04.4 병합과 연결</a>"
      ]
    },
    {
      "cell_type": "markdown",
      "id": "b3f465c3",
      "metadata": {
        "id": "b3f465c3"
      },
      "source": [
        "### 1. 병합\n",
        "병합(merge) : 두 개의 데이터를 특정 기준한 기준을 가지고 하나로 통합하는 작업"
      ]
    },
    {
      "cell_type": "code",
      "execution_count": null,
      "id": "49b08067",
      "metadata": {
        "id": "49b08067"
      },
      "outputs": [],
      "source": [
        "raw_data = {'subject_id': ['1', '2', '3', '4', '5', '7', '8', '9', '10', '11'],\n",
        "            'test_score': [51, 15, 15, 61, 16, 14, 15, 1, 61, 16]}\n"
      ]
    },
    {
      "cell_type": "code",
      "execution_count": null,
      "id": "70284dbf",
      "metadata": {
        "id": "70284dbf"
      },
      "outputs": [],
      "source": [
        "raw_data = {'subject_id': ['4', '5', '6', '7', '8'],\n",
        "            'first_name': ['Billy', 'Brian', 'Bran', 'Bryce', 'Betty'],\n",
        "            'last_name': ['Bonder', 'Black', 'Balwner', 'Brice', 'Btisan']}\n",
        "\n"
      ]
    },
    {
      "cell_type": "code",
      "execution_count": null,
      "id": "4b3f17b1",
      "metadata": {
        "scrolled": true,
        "id": "4b3f17b1"
      },
      "outputs": [],
      "source": [
        "# 내부 조인: 양쪽의 교집합 데이터를 통합\n"
      ]
    },
    {
      "cell_type": "code",
      "execution_count": null,
      "id": "1c0682ce",
      "metadata": {
        "id": "1c0682ce"
      },
      "outputs": [],
      "source": [
        "# 왼쪽 조인, 오른쪽 조인\n",
        "\n"
      ]
    },
    {
      "cell_type": "code",
      "execution_count": null,
      "id": "9ba704b4",
      "metadata": {
        "id": "9ba704b4"
      },
      "outputs": [],
      "source": [
        "# 완전 조인\n"
      ]
    },
    {
      "cell_type": "markdown",
      "id": "608cca3b",
      "metadata": {
        "id": "608cca3b"
      },
      "source": [
        "### 2. 연결(concatenate)"
      ]
    },
    {
      "cell_type": "code",
      "execution_count": null,
      "id": "b23a48fc",
      "metadata": {
        "id": "b23a48fc"
      },
      "outputs": [],
      "source": [
        "# 디렉토리에서 파일명이 sales 가 포함된 파일명 가져오기\n",
        "\n",
        "\n",
        "\n",
        "# 파일 Pandas DataFrame으로 읽어오기\n",
        "\n",
        "\n",
        "# 파일 병합하기\n",
        "\n"
      ]
    },
    {
      "cell_type": "markdown",
      "id": "70d0ed11",
      "metadata": {
        "id": "70d0ed11"
      },
      "source": [
        "--------------"
      ]
    }
  ],
  "metadata": {
    "kernelspec": {
      "display_name": "Python 3 (ipykernel)",
      "language": "python",
      "name": "python3"
    },
    "language_info": {
      "codemirror_mode": {
        "name": "ipython",
        "version": 3
      },
      "file_extension": ".py",
      "mimetype": "text/x-python",
      "name": "python",
      "nbconvert_exporter": "python",
      "pygments_lexer": "ipython3",
      "version": "3.12.1"
    },
    "colab": {
      "provenance": [],
      "include_colab_link": true
    }
  },
  "nbformat": 4,
  "nbformat_minor": 5
}