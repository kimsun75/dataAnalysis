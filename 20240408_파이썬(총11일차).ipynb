{
  "nbformat": 4,
  "nbformat_minor": 0,
  "metadata": {
    "colab": {
      "provenance": [],
      "authorship_tag": "ABX9TyMp1PmgPMuA3ikEA1vLlAat",
      "include_colab_link": true
    },
    "kernelspec": {
      "name": "python3",
      "display_name": "Python 3"
    },
    "language_info": {
      "name": "python"
    }
  },
  "cells": [
    {
      "cell_type": "markdown",
      "metadata": {
        "id": "view-in-github",
        "colab_type": "text"
      },
      "source": [
        "<a href=\"https://colab.research.google.com/github/kimsun75/dataAnalysis/blob/main/20240408_%ED%8C%8C%EC%9D%B4%EC%8D%AC(%EC%B4%9D11%EC%9D%BC%EC%B0%A8).ipynb\" target=\"_parent\"><img src=\"https://colab.research.google.com/assets/colab-badge.svg\" alt=\"Open In Colab\"/></a>"
      ]
    },
    {
      "cell_type": "code",
      "source": [
        "print('프로그램 작성시, 일정한 구간의 명령 반목하는 것은? ')\n",
        "while True:\n",
        "    answer = input(' 정답?')\n",
        "    if answer == '반복문':\n",
        "         print(' 정답')\n",
        "         break\n",
        "    else:\n",
        "         print(' 오답')\n",
        "print('프로그램 종료')"
      ],
      "metadata": {
        "colab": {
          "base_uri": "https://localhost:8080/"
        },
        "id": "G4vbD3caLb5m",
        "outputId": "d3549c77-d7fd-4ef3-e382-7cde65fd417e"
      },
      "execution_count": null,
      "outputs": [
        {
          "output_type": "stream",
          "name": "stdout",
          "text": [
            "프로그램 작성시, 일정한 구간의 명령 반목하는 것은? \n"
          ]
        }
      ]
    },
    {
      "cell_type": "code",
      "source": [],
      "metadata": {
        "id": "JOYzDlhgzx0b"
      },
      "execution_count": null,
      "outputs": []
    },
    {
      "cell_type": "markdown",
      "source": [],
      "metadata": {
        "id": "waojyBURzzSb"
      }
    },
    {
      "cell_type": "code",
      "source": [
        "money=2000\n",
        "rate=0.7\n",
        "year=0\n",
        "hap=0\n",
        "\n",
        "\n",
        "while True:\n",
        "    print(f'{money}')\n",
        "    if  money < 3000:\n",
        "        money=money+money*rate\n",
        "        year+=1\n",
        "        print(f\"{year}\")\n",
        "        break\n",
        "else:\n",
        " print(f\"{year}입니다.\")\n",
        "\n",
        " print('프로그램 종료')\n"
      ],
      "metadata": {
        "colab": {
          "base_uri": "https://localhost:8080/"
        },
        "id": "RqrWCORUMbDr",
        "outputId": "82861a58-43e3-4f60-d8dd-0db90199c0c7"
      },
      "execution_count": null,
      "outputs": [
        {
          "output_type": "stream",
          "name": "stdout",
          "text": [
            "2000\n",
            "1\n"
          ]
        }
      ]
    },
    {
      "cell_type": "markdown",
      "source": [
        "[실습문제] 1~N가지의 3의 배수 합계 구하기\n"
      ],
      "metadata": {
        "id": "Whn2hf7pP0XB"
      }
    },
    {
      "cell_type": "code",
      "source": [
        "##result=[i for i in range(1,1001) if i%3==0 ]\n",
        "result=sum([i for i in range(1,1001) if i%3==0 ])\n",
        "print(f'{result:,}')"
      ],
      "metadata": {
        "colab": {
          "base_uri": "https://localhost:8080/"
        },
        "id": "Win9RcbbP6lg",
        "outputId": "6025f514-9955-47fa-c2cb-3e58f5893c39"
      },
      "execution_count": null,
      "outputs": [
        {
          "output_type": "stream",
          "name": "stdout",
          "text": [
            "166,833\n"
          ]
        }
      ]
    },
    {
      "cell_type": "markdown",
      "source": [],
      "metadata": {
        "id": "zoEwCXYiRVqT"
      }
    },
    {
      "cell_type": "code",
      "source": [
        "star='⭐'\n",
        "numbers=input('숫자 입력 여러 개 입력(0~9):')\n",
        "for number in numbers:\n",
        "    for _ in range(int(number)*2):\n",
        "        print(star,end=' ')\n",
        "    print()\n"
      ],
      "metadata": {
        "colab": {
          "base_uri": "https://localhost:8080/"
        },
        "id": "oMALJ-yNRilM",
        "outputId": "ddc73ea7-dddf-43f0-e8c0-e45224896d07"
      },
      "execution_count": null,
      "outputs": [
        {
          "output_type": "stream",
          "name": "stdout",
          "text": [
            "숫자 입력 여러 개 입력(0~9):8\n",
            "⭐ ⭐ ⭐ ⭐ ⭐ ⭐ ⭐ ⭐ ⭐ ⭐ ⭐ ⭐ ⭐ ⭐ ⭐ ⭐ \n"
          ]
        }
      ]
    },
    {
      "cell_type": "code",
      "source": [
        "print(\"호텔관리 시스템입니다.\")\n",
        "menu='''1. 체크인\n",
        "2.체크아웃\n",
        "3.입실현황\n",
        "0.종료'''\n",
        "number = int(input('호텔 방의 개수는?:'))\n",
        "hotel =  [0 for _ in range(number)]\n",
        "print(f\"방 현황 : {hotel} ( 0-빈방, 1-입실중):\")\n",
        "while True:\n",
        "    print(f'-------------------------\\n{menu}')\n",
        "    select = input('---> 메뉴 선택:')\n",
        "    if select ==  '0': #종료\n",
        "        break\n",
        "    if select ==  '1': #체크인\n",
        "        #pass\n",
        "        state=f\"1~{len(hotel)}\"\n",
        "        num=int(input('체크인하실 방 호수{[i+1 for i in hotel]} : '))\n",
        "        if hotel[num-1]:  #이미 입실 중일 때\n",
        "            print(f\"{num}번 방은 이미 입실 중입니다.\")\n",
        "            continue\n",
        "        else:\n",
        "            hotel[num-1]=1\n",
        "\n",
        "    if select ==  '2': #체크아웃\n",
        "#        pass\n",
        "         num=int(input(f\" checkout  호수 (1-{ len(hotel)}) :\"))\n",
        "         if hotel[num-1]: #  체크아웃 처리\n",
        "            hotel[num-1] = 0\n",
        "    if select ==  '3': #현황보기\n",
        "        #pass\n",
        "        for idx, room in enumerate(hotel): #[0,0,0]\n",
        "            if room==0:\n",
        "                print(f\"{idx+1}호:빈방\")\n",
        "            elif room==1:\n",
        "                print(f\"{idx+1}호:입실중\")\n",
        "\n",
        "\n",
        "print('-------------------------')\n",
        "print(f\"프로그램 종료\")\n"
      ],
      "metadata": {
        "colab": {
          "base_uri": "https://localhost:8080/"
        },
        "id": "dVR1h9l6f-45",
        "outputId": "b80bc34f-7f91-41e1-936b-d84baeb9000b"
      },
      "execution_count": null,
      "outputs": [
        {
          "output_type": "stream",
          "name": "stdout",
          "text": [
            "호텔관리 시스템입니다.\n",
            "호텔 방의 개수는?:2\n",
            "방 현황 : [0, 0] ( 0-빈방, 1-입실중):\n",
            "-------------------------\n",
            "1. 체크인\n",
            "2.체크아웃\n",
            "3.입실현황\n",
            "0.종료\n",
            "---> 메뉴 선택:3\n",
            "1호:빈방\n",
            "2호:빈방\n",
            "-------------------------\n",
            "1. 체크인\n",
            "2.체크아웃\n",
            "3.입실현황\n",
            "0.종료\n",
            "---> 메뉴 선택:0\n",
            "-------------------------\n",
            "프로그램 종료\n"
          ]
        }
      ]
    },
    {
      "cell_type": "code",
      "source": [
        "print('호텔관리 시스템입니다.')\n",
        "menu = '''\n",
        "1. 체크인\n",
        "2. 체크아웃\n",
        "3. 입실현황\n",
        "0. 종료'''\n",
        "number = int(input('호텔 방의 개수는(입력): '))\n",
        "hotel = [0 for _ in range(number)]\n",
        "print(f\"방 현황: {hotel} (0:빈방, 1:입실중)\")\n",
        "while True:\n",
        "    print('-------------------')\n",
        "    print(menu)\n",
        "    select = input('-->메뉴 선택: ')\n",
        "    if select == '0':\n",
        "        break\n",
        "\n",
        "    if select == '1': # 체크인\n",
        "        num = int(input(f'체크-in하실 방 호수(1~{len(hotel)}): '))\n",
        "        if hotel[num-1]:   # 이미 입실 중일 때\n",
        "            print(f\"{num}번 방은 이미 입실 중입니다.\")\n",
        "        else:\n",
        "            hotel[num-1] = 1\n",
        "        continue\n",
        "\n",
        "    if select == '2': # 체크아웃\n",
        "        num = int(input(f'체크-out하실 방 호수(1~{len(hotel)}): '))\n",
        "        if hotel[num-1]: # 체크아웃 처리\n",
        "            hotel[num-1] = 0    # 빈 방 상태로 만듦\n",
        "        else:\n",
        "            print(f'{hotel[num]}번 방은 빈 방입니다. 빈 방은 체크-out하실 수 없습니다.')\n",
        "\n",
        "    if select == '3': # 현황보기\n",
        "        for idx, room in enumerate(hotel): #[0, 0, 0]\n",
        "            if room == 0:\n",
        "                print(f\"{idx+1}호: 빈방\")\n",
        "            elif room == 1:\n",
        "                print(f\"{idx+1}호: 입실중\")\n",
        "\n",
        "\n",
        "print('-------------------')\n",
        "print('프로그램 종료!')"
      ],
      "metadata": {
        "colab": {
          "base_uri": "https://localhost:8080/"
        },
        "id": "TmduVAD0o7Xg",
        "outputId": "6df636f6-e68d-468a-a5c6-552452159417"
      },
      "execution_count": null,
      "outputs": [
        {
          "output_type": "stream",
          "name": "stdout",
          "text": [
            "호텔관리 시스템입니다.\n",
            "호텔 방의 개수는(입력): 3\n",
            "방 현황: [0, 0, 0] (0:빈방, 1:입실중)\n",
            "-------------------\n",
            "\n",
            "1. 체크인\n",
            "2. 체크아웃\n",
            "3. 입실현황\n",
            "0. 종료\n",
            "-->메뉴 선택: 0\n",
            "-------------------\n",
            "프로그램 종료!\n"
          ]
        }
      ]
    },
    {
      "cell_type": "code",
      "source": [
        "#import random\n",
        "#a=random.randinit(1,10)\n",
        "#b=random.randinit(1,10)\n",
        "#print(f, {a}, {b})"
      ],
      "metadata": {
        "colab": {
          "base_uri": "https://localhost:8080/",
          "height": 202
        },
        "id": "DYmLXCeJo-Wt",
        "outputId": "b510b6e4-7c7b-47f0-fd85-ab922b3db0d5"
      },
      "execution_count": null,
      "outputs": [
        {
          "output_type": "error",
          "ename": "AttributeError",
          "evalue": "module 'random' has no attribute 'randinit'",
          "traceback": [
            "\u001b[0;31m---------------------------------------------------------------------------\u001b[0m",
            "\u001b[0;31mAttributeError\u001b[0m                            Traceback (most recent call last)",
            "\u001b[0;32m<ipython-input-39-01c155964f9c>\u001b[0m in \u001b[0;36m<cell line: 2>\u001b[0;34m()\u001b[0m\n\u001b[1;32m      1\u001b[0m \u001b[0;32mimport\u001b[0m \u001b[0mrandom\u001b[0m\u001b[0;34m\u001b[0m\u001b[0;34m\u001b[0m\u001b[0m\n\u001b[0;32m----> 2\u001b[0;31m \u001b[0ma\u001b[0m\u001b[0;34m=\u001b[0m\u001b[0mrandom\u001b[0m\u001b[0;34m.\u001b[0m\u001b[0mrandinit\u001b[0m\u001b[0;34m(\u001b[0m\u001b[0;36m1\u001b[0m\u001b[0;34m,\u001b[0m\u001b[0;36m10\u001b[0m\u001b[0;34m)\u001b[0m\u001b[0;34m\u001b[0m\u001b[0;34m\u001b[0m\u001b[0m\n\u001b[0m\u001b[1;32m      3\u001b[0m \u001b[0mb\u001b[0m\u001b[0;34m=\u001b[0m\u001b[0mrandom\u001b[0m\u001b[0;34m.\u001b[0m\u001b[0mrandinit\u001b[0m\u001b[0;34m(\u001b[0m\u001b[0;36m1\u001b[0m\u001b[0;34m,\u001b[0m\u001b[0;36m10\u001b[0m\u001b[0;34m)\u001b[0m\u001b[0;34m\u001b[0m\u001b[0;34m\u001b[0m\u001b[0m\n\u001b[1;32m      4\u001b[0m \u001b[0mprint\u001b[0m\u001b[0;34m(\u001b[0m\u001b[0mf\u001b[0m\u001b[0;34m,\u001b[0m \u001b[0;34m{\u001b[0m\u001b[0ma\u001b[0m\u001b[0;34m}\u001b[0m\u001b[0;34m,\u001b[0m \u001b[0;34m{\u001b[0m\u001b[0mb\u001b[0m\u001b[0;34m}\u001b[0m\u001b[0;34m)\u001b[0m\u001b[0;34m\u001b[0m\u001b[0;34m\u001b[0m\u001b[0m\n",
            "\u001b[0;31mAttributeError\u001b[0m: module 'random' has no attribute 'randinit'"
          ]
        }
      ]
    },
    {
      "cell_type": "code",
      "source": [
        "import random\n",
        "dice=[0,0,0,0,0,0]\n",
        "\n",
        "for i in 100:\n",
        "    a=random.randinit(1,6)\n",
        "    dice[a-1]*=1\n",
        "\n",
        "maxvalue=max(dice)\n",
        "print(f\" 가장 많이 나온 수는 {maxvalue}입니다\")\n"
      ],
      "metadata": {
        "colab": {
          "base_uri": "https://localhost:8080/",
          "height": 222
        },
        "id": "6egyFLUlpyam",
        "outputId": "ac5744e6-8499-41b5-aea8-03e37356b166"
      },
      "execution_count": null,
      "outputs": [
        {
          "output_type": "error",
          "ename": "TypeError",
          "evalue": "'int' object is not iterable",
          "traceback": [
            "\u001b[0;31m---------------------------------------------------------------------------\u001b[0m",
            "\u001b[0;31mTypeError\u001b[0m                                 Traceback (most recent call last)",
            "\u001b[0;32m<ipython-input-47-3c065cf41356>\u001b[0m in \u001b[0;36m<cell line: 4>\u001b[0;34m()\u001b[0m\n\u001b[1;32m      2\u001b[0m \u001b[0mdice\u001b[0m\u001b[0;34m=\u001b[0m\u001b[0;34m[\u001b[0m\u001b[0;36m0\u001b[0m\u001b[0;34m,\u001b[0m\u001b[0;36m0\u001b[0m\u001b[0;34m,\u001b[0m\u001b[0;36m0\u001b[0m\u001b[0;34m,\u001b[0m\u001b[0;36m0\u001b[0m\u001b[0;34m,\u001b[0m\u001b[0;36m0\u001b[0m\u001b[0;34m,\u001b[0m\u001b[0;36m0\u001b[0m\u001b[0;34m]\u001b[0m\u001b[0;34m\u001b[0m\u001b[0;34m\u001b[0m\u001b[0m\n\u001b[1;32m      3\u001b[0m \u001b[0;34m\u001b[0m\u001b[0m\n\u001b[0;32m----> 4\u001b[0;31m \u001b[0;32mfor\u001b[0m \u001b[0mi\u001b[0m \u001b[0;32min\u001b[0m \u001b[0;36m100\u001b[0m\u001b[0;34m:\u001b[0m\u001b[0;34m\u001b[0m\u001b[0;34m\u001b[0m\u001b[0m\n\u001b[0m\u001b[1;32m      5\u001b[0m     \u001b[0ma\u001b[0m\u001b[0;34m=\u001b[0m\u001b[0mrandom\u001b[0m\u001b[0;34m.\u001b[0m\u001b[0mrandinit\u001b[0m\u001b[0;34m(\u001b[0m\u001b[0;36m1\u001b[0m\u001b[0;34m,\u001b[0m\u001b[0;36m6\u001b[0m\u001b[0;34m)\u001b[0m\u001b[0;34m\u001b[0m\u001b[0;34m\u001b[0m\u001b[0m\n\u001b[1;32m      6\u001b[0m     \u001b[0mdice\u001b[0m\u001b[0;34m[\u001b[0m\u001b[0ma\u001b[0m\u001b[0;34m-\u001b[0m\u001b[0;36m1\u001b[0m\u001b[0;34m]\u001b[0m\u001b[0;34m*=\u001b[0m\u001b[0;36m1\u001b[0m\u001b[0;34m\u001b[0m\u001b[0;34m\u001b[0m\u001b[0m\n",
            "\u001b[0;31mTypeError\u001b[0m: 'int' object is not iterable"
          ]
        }
      ]
    },
    {
      "cell_type": "code",
      "source": [
        "import random\n",
        "print(f\"로또번호 출력:{sorted(random.sample(range(1,46),6))}\")"
      ],
      "metadata": {
        "colab": {
          "base_uri": "https://localhost:8080/"
        },
        "id": "QSzg9eHbsdxX",
        "outputId": "2e24aa8b-20eb-445e-8408-76a4a51ec95a"
      },
      "execution_count": null,
      "outputs": [
        {
          "output_type": "stream",
          "name": "stdout",
          "text": [
            "로또번호 출력:[18, 23, 27, 34, 36, 45]\n"
          ]
        }
      ]
    },
    {
      "cell_type": "code",
      "source": [
        "import random\n",
        "dice=[0,0,0,0,0,0]\n",
        "for i in range(0,100) :\n",
        "    a=random.randint(1,6)\n",
        "    dice[a-1] +=1\n",
        "print(dice)\n",
        "list_max= max(dice)\n",
        "\n",
        "\n",
        "maxvalue=max(dice)\n",
        "\n",
        "##max_dice=[]\n",
        "##for idx, v in enumerate(dice):\n",
        "    ##if v==maxvalue:\n",
        "        #3max_dice.append(idx+1)\n",
        "\n",
        "max_dice=[idx+1 for idx, v in enumerate(dice) if v==maxvalue]\n",
        "\n",
        "\n",
        "print(f\"가장 많이 나온 주사위 숫자:[{dice.index(list_max)+1}],횟수: {list_max}\")\n",
        "sum(dice)"
      ],
      "metadata": {
        "colab": {
          "base_uri": "https://localhost:8080/"
        },
        "id": "kPEIDzfRs-AN",
        "outputId": "ca7b9178-5a90-4713-d999-9a74580dced9"
      },
      "execution_count": null,
      "outputs": [
        {
          "output_type": "stream",
          "name": "stdout",
          "text": [
            "[14, 23, 20, 10, 16, 17]\n",
            "가장 많이 나온 주사위 숫자:[2],횟수: 23\n"
          ]
        },
        {
          "output_type": "execute_result",
          "data": {
            "text/plain": [
              "100"
            ]
          },
          "metadata": {},
          "execution_count": 79
        }
      ]
    },
    {
      "cell_type": "markdown",
      "source": [],
      "metadata": {
        "id": "UjGDgt8rz0tT"
      }
    }
  ]
}