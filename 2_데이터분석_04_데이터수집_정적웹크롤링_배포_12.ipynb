{
  "cells": [
    {
      "cell_type": "markdown",
      "metadata": {
        "id": "view-in-github",
        "colab_type": "text"
      },
      "source": [
        "<a href=\"https://colab.research.google.com/github/kimsun75/dataAnalysis/blob/main/2_%EB%8D%B0%EC%9D%B4%ED%84%B0%EB%B6%84%EC%84%9D_04_%EB%8D%B0%EC%9D%B4%ED%84%B0%EC%88%98%EC%A7%91_%EC%A0%95%EC%A0%81%EC%9B%B9%ED%81%AC%EB%A1%A4%EB%A7%81_%EB%B0%B0%ED%8F%AC_12.ipynb\" target=\"_parent\"><img src=\"https://colab.research.google.com/assets/colab-badge.svg\" alt=\"Open In Colab\"/></a>"
      ]
    },
    {
      "cell_type": "markdown",
      "id": "fJxi6vYZ4rdB",
      "metadata": {
        "id": "fJxi6vYZ4rdB"
      },
      "source": [
        "# 데이터 분석"
      ]
    },
    {
      "cell_type": "markdown",
      "id": "h0qaUXpk4sIv",
      "metadata": {
        "id": "h0qaUXpk4sIv"
      },
      "source": [
        "## 4. 웹 크롤링으로 데이터 수집 - 정적 웹크롤링"
      ]
    },
    {
      "cell_type": "markdown",
      "id": "XxxWGl5l5cg7",
      "metadata": {
        "id": "XxxWGl5l5cg7"
      },
      "source": [
        "### #그래프에서 한글사용하는 방법\n",
        "- **(코랩에서)한글폰트 설치하기**"
      ]
    },
    {
      "cell_type": "code",
      "execution_count": null,
      "id": "FIjAaO5w5dFZ",
      "metadata": {
        "id": "FIjAaO5w5dFZ",
        "colab": {
          "base_uri": "https://localhost:8080/"
        },
        "outputId": "b4bba370-1e6c-4222-8edf-0af450561fb5"
      },
      "outputs": [
        {
          "output_type": "stream",
          "name": "stdout",
          "text": [
            "^C\n",
            "/usr/share/fonts: caching, new cache contents: 0 fonts, 1 dirs\n",
            "/usr/share/fonts/truetype: caching, new cache contents: 0 fonts, 2 dirs\n",
            "/usr/share/fonts/truetype/humor-sans: caching, new cache contents: 1 fonts, 0 dirs\n",
            "/usr/share/fonts/truetype/liberation: caching, new cache contents: 16 fonts, 0 dirs\n",
            "/usr/local/share/fonts: caching, new cache contents: 0 fonts, 0 dirs\n",
            "/root/.local/share/fonts: skipping, no such directory\n",
            "/root/.fonts: skipping, no such directory\n",
            "/usr/share/fonts/truetype: skipping, looped directory detected\n",
            "/usr/share/fonts/truetype/humor-sans: skipping, looped directory detected\n",
            "/usr/share/fonts/truetype/liberation: skipping, looped directory detected\n",
            "/var/cache/fontconfig: cleaning cache directory\n",
            "/root/.cache/fontconfig: not cleaning non-existent cache directory\n",
            "/root/.fontconfig: not cleaning non-existent cache directory\n",
            "fc-cache: succeeded\n"
          ]
        }
      ],
      "source": [
        "!sudo apt-get install -y fonts-nanum\n",
        "!sudo fc-cache -fv\n",
        "!rm ~/.cache/matplotlib -rf\n",
        "\n",
        "# 코랩에서 위 코드를 실행시킨 후  반드시 코랩 메뉴: \"런타임>런타임 다시 시작\" 합니다."
      ]
    },
    {
      "cell_type": "markdown",
      "id": "AVd9eWKQ5geE",
      "metadata": {
        "id": "AVd9eWKQ5geE"
      },
      "source": [
        "- **한글 폰트 지정하기**"
      ]
    },
    {
      "cell_type": "code",
      "execution_count": 1,
      "id": "Yrr8KJBG5hAD",
      "metadata": {
        "id": "Yrr8KJBG5hAD"
      },
      "outputs": [],
      "source": [
        "# 코랩에서 한글 폰트 종류와 이름이 win과 다를 수 있다!!!\n",
        "# 코랩: NanumGothic, 윈도우: Malgun Gothic\n",
        "import matplotlib.pyplot as plt\n",
        "#plt.rcParams.update({'font.family': 'Malgun Gothic',\n",
        "plt.rcParams.update({'font.family': 'NanumGothic',\n",
        "                     'font.size': 12,\n",
        "                     'figure.figsize': (6, 4),\n",
        "                     'axes.unicode_minus':  False }) # 폰트 설정"
      ]
    },
    {
      "cell_type": "markdown",
      "id": "xKVwMm3T4sDO",
      "metadata": {
        "id": "xKVwMm3T4sDO"
      },
      "source": [
        "### 1) 웹 크롤링 기초"
      ]
    },
    {
      "cell_type": "markdown",
      "id": "84e7e431",
      "metadata": {
        "id": "84e7e431"
      },
      "source": [
        "### 라이브러리 설치하기"
      ]
    },
    {
      "cell_type": "code",
      "execution_count": 2,
      "id": "8c4e2b87",
      "metadata": {
        "id": "8c4e2b87",
        "colab": {
          "base_uri": "https://localhost:8080/"
        },
        "outputId": "9bfa4409-1013-4553-a72f-4c9972806ffd"
      },
      "outputs": [
        {
          "output_type": "stream",
          "name": "stdout",
          "text": [
            "Requirement already satisfied: requests in /usr/local/lib/python3.10/dist-packages (2.31.0)\n",
            "Requirement already satisfied: charset-normalizer<4,>=2 in /usr/local/lib/python3.10/dist-packages (from requests) (3.3.2)\n",
            "Requirement already satisfied: idna<4,>=2.5 in /usr/local/lib/python3.10/dist-packages (from requests) (3.7)\n",
            "Requirement already satisfied: urllib3<3,>=1.21.1 in /usr/local/lib/python3.10/dist-packages (from requests) (2.0.7)\n",
            "Requirement already satisfied: certifi>=2017.4.17 in /usr/local/lib/python3.10/dist-packages (from requests) (2024.2.2)\n"
          ]
        }
      ],
      "source": [
        "# 정적 크롤링을 위한 requests 설치\n",
        "!pip install requests"
      ]
    },
    {
      "cell_type": "code",
      "execution_count": 3,
      "id": "10fc94d8",
      "metadata": {
        "id": "10fc94d8",
        "colab": {
          "base_uri": "https://localhost:8080/"
        },
        "outputId": "e17612b7-a0ac-46b5-8b87-41055c5cb807"
      },
      "outputs": [
        {
          "output_type": "stream",
          "name": "stdout",
          "text": [
            "Requirement already satisfied: beautifulsoup4 in /usr/local/lib/python3.10/dist-packages (4.12.3)\n",
            "Requirement already satisfied: soupsieve>1.2 in /usr/local/lib/python3.10/dist-packages (from beautifulsoup4) (2.5)\n"
          ]
        }
      ],
      "source": [
        "# HTML과 XML 문서를 파싱하기 위한 파이썬 패키지\n",
        "!pip install beautifulsoup4"
      ]
    },
    {
      "cell_type": "code",
      "execution_count": 4,
      "id": "qWFf0C8852IZ",
      "metadata": {
        "id": "qWFf0C8852IZ",
        "colab": {
          "base_uri": "https://localhost:8080/"
        },
        "outputId": "88ff8256-a13a-4356-e318-31f6be1a9e24"
      },
      "outputs": [
        {
          "output_type": "stream",
          "name": "stdout",
          "text": [
            "Collecting selenium\n",
            "  Downloading selenium-4.20.0-py3-none-any.whl (9.5 MB)\n",
            "\u001b[2K     \u001b[90m━━━━━━━━━━━━━━━━━━━━━━━━━━━━━━━━━━━━━━━━\u001b[0m \u001b[32m9.5/9.5 MB\u001b[0m \u001b[31m22.8 MB/s\u001b[0m eta \u001b[36m0:00:00\u001b[0m\n",
            "\u001b[?25hRequirement already satisfied: urllib3[socks]<3,>=1.26 in /usr/local/lib/python3.10/dist-packages (from selenium) (2.0.7)\n",
            "Collecting trio~=0.17 (from selenium)\n",
            "  Downloading trio-0.25.0-py3-none-any.whl (467 kB)\n",
            "\u001b[2K     \u001b[90m━━━━━━━━━━━━━━━━━━━━━━━━━━━━━━━━━━━━━━━━\u001b[0m \u001b[32m467.2/467.2 kB\u001b[0m \u001b[31m29.1 MB/s\u001b[0m eta \u001b[36m0:00:00\u001b[0m\n",
            "\u001b[?25hCollecting trio-websocket~=0.9 (from selenium)\n",
            "  Downloading trio_websocket-0.11.1-py3-none-any.whl (17 kB)\n",
            "Requirement already satisfied: certifi>=2021.10.8 in /usr/local/lib/python3.10/dist-packages (from selenium) (2024.2.2)\n",
            "Requirement already satisfied: typing_extensions>=4.9.0 in /usr/local/lib/python3.10/dist-packages (from selenium) (4.11.0)\n",
            "Requirement already satisfied: attrs>=23.2.0 in /usr/local/lib/python3.10/dist-packages (from trio~=0.17->selenium) (23.2.0)\n",
            "Requirement already satisfied: sortedcontainers in /usr/local/lib/python3.10/dist-packages (from trio~=0.17->selenium) (2.4.0)\n",
            "Requirement already satisfied: idna in /usr/local/lib/python3.10/dist-packages (from trio~=0.17->selenium) (3.7)\n",
            "Collecting outcome (from trio~=0.17->selenium)\n",
            "  Downloading outcome-1.3.0.post0-py2.py3-none-any.whl (10 kB)\n",
            "Requirement already satisfied: sniffio>=1.3.0 in /usr/local/lib/python3.10/dist-packages (from trio~=0.17->selenium) (1.3.1)\n",
            "Requirement already satisfied: exceptiongroup in /usr/local/lib/python3.10/dist-packages (from trio~=0.17->selenium) (1.2.1)\n",
            "Collecting wsproto>=0.14 (from trio-websocket~=0.9->selenium)\n",
            "  Downloading wsproto-1.2.0-py3-none-any.whl (24 kB)\n",
            "Requirement already satisfied: pysocks!=1.5.7,<2.0,>=1.5.6 in /usr/local/lib/python3.10/dist-packages (from urllib3[socks]<3,>=1.26->selenium) (1.7.1)\n",
            "Collecting h11<1,>=0.9.0 (from wsproto>=0.14->trio-websocket~=0.9->selenium)\n",
            "  Downloading h11-0.14.0-py3-none-any.whl (58 kB)\n",
            "\u001b[2K     \u001b[90m━━━━━━━━━━━━━━━━━━━━━━━━━━━━━━━━━━━━━━━━\u001b[0m \u001b[32m58.3/58.3 kB\u001b[0m \u001b[31m5.0 MB/s\u001b[0m eta \u001b[36m0:00:00\u001b[0m\n",
            "\u001b[?25hInstalling collected packages: outcome, h11, wsproto, trio, trio-websocket, selenium\n",
            "Successfully installed h11-0.14.0 outcome-1.3.0.post0 selenium-4.20.0 trio-0.25.0 trio-websocket-0.11.1 wsproto-1.2.0\n"
          ]
        }
      ],
      "source": [
        "# 동적 크롤링을 위한 셀레니움 설치\n",
        "!pip install selenium"
      ]
    },
    {
      "cell_type": "code",
      "execution_count": null,
      "id": "5uqxJ2Xf6Wex",
      "metadata": {
        "id": "5uqxJ2Xf6Wex",
        "colab": {
          "base_uri": "https://localhost:8080/"
        },
        "outputId": "32be599b-fb8e-4b2e-d046-d780a328a12c"
      },
      "outputs": [
        {
          "output_type": "stream",
          "name": "stdout",
          "text": [
            "Requirement already satisfied: chromedriver-autoinstaller in /usr/local/lib/python3.10/dist-packages (0.6.4)\n",
            "Requirement already satisfied: packaging>=23.1 in /usr/local/lib/python3.10/dist-packages (from chromedriver-autoinstaller) (24.0)\n"
          ]
        }
      ],
      "source": [
        "# 동적 크롤링을 위한 크롬드라이버 자동설치 라이브러리 설치\n",
        "!pip install chromedriver-autoinstaller"
      ]
    },
    {
      "cell_type": "code",
      "execution_count": 5,
      "id": "3f8480f3",
      "metadata": {
        "id": "3f8480f3",
        "colab": {
          "base_uri": "https://localhost:8080/"
        },
        "outputId": "b367e651-5072-498d-fad4-ac12fdaff356"
      },
      "outputs": [
        {
          "output_type": "stream",
          "name": "stdout",
          "text": [
            "2.31.0\n",
            "4.12.3\n",
            "4.20.0\n"
          ]
        }
      ],
      "source": [
        "import requests\n",
        "import bs4\n",
        "import selenium\n",
        "print(requests.__version__)\n",
        "print(bs4.__version__)\n",
        "print(selenium.__version__)"
      ]
    },
    {
      "cell_type": "markdown",
      "id": "mJ-v8Qjk5CPp",
      "metadata": {
        "id": "mJ-v8Qjk5CPp"
      },
      "source": [
        "### 2) 정적 크롤링(스크래핑)"
      ]
    },
    {
      "cell_type": "markdown",
      "id": "aed0d7af",
      "metadata": {
        "id": "aed0d7af"
      },
      "source": [
        "#### 1.웹 페이지 가져오기"
      ]
    },
    {
      "cell_type": "code",
      "execution_count": 6,
      "id": "sIxkxPRg42rD",
      "metadata": {
        "id": "sIxkxPRg42rD",
        "colab": {
          "base_uri": "https://localhost:8080/"
        },
        "outputId": "63f001f2-289a-4b05-badf-bedafea6b647"
      },
      "outputs": [
        {
          "output_type": "execute_result",
          "data": {
            "text/plain": [
              "<Response [200]>"
            ]
          },
          "metadata": {},
          "execution_count": 6
        }
      ],
      "source": [
        "import requests\n",
        "\n",
        "requests.get(\"https://www.naver.com\")"
      ]
    },
    {
      "cell_type": "code",
      "execution_count": null,
      "id": "0BRs8FHc78t1",
      "metadata": {
        "id": "0BRs8FHc78t1",
        "colab": {
          "base_uri": "https://localhost:8080/",
          "height": 571
        },
        "outputId": "6676cd7a-6796-4636-f0a5-cef0ef1c698b"
      },
      "outputs": [
        {
          "output_type": "stream",
          "name": "stdout",
          "text": [
            "#응답 상태: \n",
            "<!doctype html><html itemscope=\"\" itemtype=\"http://schema.org/WebPage\" lang=\"en\"><head><meta content=\"Search the world's information, including webpages, images, videos and more. Google has many special features to help you find exactly what you're looking for.\" name=\"description\"><meta content=\"noodp, \" name=\"robots\"><meta content=\"text/html; charset=UTF-8\" http-equiv=\"Content-Type\"><meta content=\"/images/branding/googleg/1x/googleg_standard_color_128dp.png\" itemprop=\"image\"><title>Google</title><script nonce=\"OJTRKfaarswgJ4tF0Am4Sg\">(function(){var _g={kEI:'yOUoZu2OJf2ZwbkP_N-R0A8',kEXPI:'0,793344,577134,2329781,690,361,478218,4998,55519,2872,2891,3926,7828,31274,30022,15324,781,1244,1,16916,65253,24064,6630,7596,1,42154,2,16395,342,23024,6700,41942,24673,33067,2,2,1,10957,13669,2006,8155,23351,22435,9779,42459,20199,36746,3801,2412,30219,3030,15816,1804,7734,29,18069,9436,11814,1635,9707,46652,5203209,6219,1010,1346,1190,5991454,678,2839368,1,2,1,2,1,15,23,27982722,1007,15666,43886,3,318,4,1281,3,2121778,2585,24110,23005241,8163,4636,8408,6578,1450,8638,17450,10576,30983,2,5885,1923,8588,2370,4832,1575,4110,6351,70,6,3308,885,4636,7432,2212,7981,201,390,8305,2112,2436,4496,5,5217,8833,13374,144,1120,1203,1794,1139,817,1258,6871,4489,4437,2064,360,231,1268,3,611,422,187,1,1,1,516,429,3319,122,33,1,1,1,386,10,2085,207,10,1289,7441,841,31,3685,1004,1406,3752,893,681,7,5184,109,1295,4,1426,1113,967,541,698,1293,175,926,23,183,122,569,849,4,1,6,1219,7,562,4,123,108,3,2,168,12,1656,259,1,6,666,707,323,975,686,660,464,463,1,978,603,433,277,5,97,474,2,4,408,4,1183,30,13,167,1362,249,1,389,2,780,319,1076,378,2,2,4,2,3,831,475,759,213,179,10,885,2,439,1091,132,161,854,1,386,1,138,298,58,162,245,3,642,694,525,696,1,6,181,74,229,803,308,1,3,789,103,736,98,705,1,108,4,189,84,65,75,66,925,461,189,1,3,592,1000,5,522,67,1823,9,1289,40,279,43,1631,3,2,1,9,356,734,56,209,328,10,1519,111,548,16,4,167,43,42,8,52,508,466,3,1,575,880,897,30,134,381,1,1381,1,3,542,715,283,262,183,3,103,42,824,7,2,44,2,9,2,153,1,288,139,318,1,4,2,40,173,2,54,259,2,1,1,2,3,50,382,989,2,1,1,2,3,15,267,1028,5,1,6,326,28,976,1037,1477,21622131,5720,3,8274,20,5770,105,567',kBL:'4xTG',kOPI:89978449};(function(){var a;(null==(a=window.google)?0:a.stvsc)?google.kEI=_g.kEI:window.google=_g;}).call(this);})();(function(){google.sn='webhp';google.kHL='en';})();(function(){\n",
            "var h=this||self;function l(){return void 0!==window.google&&void 0!==window.google.kOPI&&0!==window.google.kOPI?window.google.kOPI:null};var m,n=[];function p(a){for(var b;a&&(!a.getAttribute||!(b=a.getAttribute(\"eid\")));)a=a.parentNode;return b||m}function q(a){for(var b=null;a&&(!a.getAttribute||!(b=a.getAttribute(\"leid\")));)a=a.parentNode;return b}function r(a){/^http:/i.test(a)&&\"https:\"===window.location.protocol&&(google.ml&&google.ml(Error(\"a\"),!1,{src:a,glmm:1}),a=\"\");return a}\n",
            "function t(a,b,c,d,k){var e=\"\";-1===b.search(\"&ei=\")&&(e=\"&ei=\"+p(d),-1===b.search(\"&lei=\")&&(d=q(d))&&(e+=\"&lei=\"+d));d=\"\";var g=-1===b.search(\"&cshid=\")&&\"slh\"!==a,f=[];f.push([\"zx\",Date.now().toString()]);h._cshid&&g&&f.push([\"cshid\",h._cshid]);c=c();null!=c&&f.push([\"opi\",c.toString()]);for(c=0;c<f.length;c++){if(0===c||0<c)d+=\"&\";d+=f[c][0]+\"=\"+f[c][1]}return\"/\"+(k||\"gen_204\")+\"?atyp=i&ct=\"+String(a)+\"&cad=\"+(b+e+d)};m=google.kEI;google.getEI=p;google.getLEI=q;google.ml=function(){return null};google.log=function(a,b,c,d,k,e){e=void 0===e?l:e;c||(c=t(a,b,e,d,k));if(c=r(c)){a=new Image;var g=n.length;n[g]=a;a.onerror=a.onload=a.onabort=function(){delete n[g]};a.src=c}};google.logUrl=function(a,b){b=void 0===b?l:b;return t(\"\",a,b)};}).call(this);(function(){google.y={};google.sy=[];google.x=function(a,b){if(a)var c=a.id;else{do c=Math.random();while(google.y[c])}google.y[c]=[a,b];return!1};google.sx=function(a){google.sy.push(a)};google.lm=[];google.plm=function(a){google.lm.push.apply(google.lm,a)};google.lq=[];google.load=function(a,b,c){google.lq.push([[a],b,c])};google.loadAll=function(a,b){google.lq.push([a,b])};google.bx=!1;google.lx=function(){};var d=[];google.fce=function(a,b,c,e){d.push([a,b,c,e])};google.qce=d;}).call(this);google.f={};(function(){\n",
            "document.documentElement.addEventListener(\"submit\",function(b){var a;if(a=b.target){var c=a.getAttribute(\"data-submitfalse\");a=\"1\"===c||\"q\"===c&&!a.elements.q.value?!0:!1}else a=!1;a&&(b.preventDefault(),b.stopPropagation())},!0);document.documentElement.addEventListener(\"click\",function(b){var a;a:{for(a=b.target;a&&a!==document.documentElement;a=a.parentElement)if(\"A\"===a.tagName){a=\"1\"===a.getAttribute(\"data-nohref\");break a}a=!1}a&&b.preventDefault()},!0);}).call(this);</script><style>#gbar,#guser{font-size:13px;padding-top:1px !important;}#gbar{height:22px}#guser{padding-bottom:7px !important;text-align:right}.gbh,.gbd{border-top:1px solid #c9d7f1;font-size:1px}.gbh{height:0;position:absolute;top:24px;width:100%}@media all{.gb1{height:22px;margin-right:.5em;vertical-align:top}#gbar{float:left}}a.gb1,a.gb4{text-decoration:underline !important}a.gb1,a.gb4{color:#00c !important}.gbi .gb4{color:#dd8e27 !important}.gbf .gb4{color:#900 !important}\n",
            "</style><style>body,td,a,p,.h{font-family:arial,sans-serif}body{margin:0;overflow-y:scroll}#gog{padding:3px 8px 0}td{line-height:.8em}.gac_m td{line-height:17px}form{margin-bottom:20px}.h{color:#1967d2}em{font-weight:bold;font-style:normal}.lst{height:25px;width:496px}.gsfi,.lst{font:18px arial,sans-serif}.gsfs{font:17px arial,sans-serif}.ds{display:inline-box;display:inline-block;margin:3px 0 4px;margin-left:4px}input{font-family:inherit}body{background:#fff;color:#000}a{color:#681da8;text-decoration:none}a:hover,a:active{text-decoration:underline}.fl a{color:#1967d2}a:visited{color:#681da8}.sblc{padding-top:5px}.sblc a{display:block;margin:2px 0;margin-left:13px;font-size:11px}.lsbb{background:#f8f9fa;border:solid 1px;border-color:#dadce0 #70757a #70757a #dadce0;height:30px}.lsbb{display:block}#WqQANb a{display:inline-block;margin:0 12px}.lsb{background:url(/images/nav_logo229.png) 0 -261px repeat-x;color:#000;border:none;cursor:pointer;height:30px;margin:0;outline:0;font:15px arial,sans-serif;vertical-align:top}.lsb:active{background:#dadce0}.lst:focus{outline:none}</style><script nonce=\"OJTRKfaarswgJ4tF0Am4Sg\">(function(){window.google.erd={jsr:1,bv:1993,de:true};\n",
            "var h=this||self;var k,l=null!=(k=h.mei)?k:1,n,p=null!=(n=h.sdo)?n:!0,q=0,r,t=google.erd,v=t.jsr;google.ml=function(a,b,d,m,e){e=void 0===e?2:e;b&&(r=a&&a.message);void 0===d&&(d={});d.cad=\"ple_\"+google.ple+\".aple_\"+google.aple;if(google.dl)return google.dl(a,e,d,!0),null;b=d;if(0>v){window.console&&console.error(a,b);if(-2===v)throw a;b=!1}else b=!a||!a.message||\"Error loading script\"===a.message||q>=l&&!m?!1:!0;if(!b)return null;q++;d=d||{};b=encodeURIComponent;var c=\"/gen_204?atyp=i&ei=\"+b(google.kEI);google.kEXPI&&(c+=\"&jexpid=\"+b(google.kEXPI));c+=\"&srcpg=\"+b(google.sn)+\"&jsr=\"+b(t.jsr)+\n",
            "\"&bver=\"+b(t.bv);var f=a.lineNumber;void 0!==f&&(c+=\"&line=\"+f);var g=a.fileName;g&&(0<g.indexOf(\"-extension:/\")&&(e=3),c+=\"&script=\"+b(g),f&&g===window.location.href&&(f=document.documentElement.outerHTML.split(\"\\n\")[f],c+=\"&cad=\"+b(f?f.substring(0,300):\"No script found.\")));google.ple&&1===google.ple&&(e=2);c+=\"&jsel=\"+e;for(var u in d)c+=\"&\",c+=b(u),c+=\"=\",c+=b(d[u]);c=c+\"&emsg=\"+b(a.name+\": \"+a.message);c=c+\"&jsst=\"+b(a.stack||\"N/A\");12288<=c.length&&(c=c.substr(0,12288));a=c;m||google.log(0,\"\",a);return a};window.onerror=function(a,b,d,m,e){r!==a&&(a=e instanceof Error?e:Error(a),void 0===d||\"lineNumber\"in a||(a.lineNumber=d),void 0===b||\"fileName\"in a||(a.fileName=b),google.ml(a,!1,void 0,!1,\"SyntaxError\"===a.name||\"SyntaxError\"===a.message.substring(0,11)||-1!==a.message.indexOf(\"Script error\")?3:0));r=null;p&&q>=l&&(window.onerror=null)};})();</script></head><body bgcolor=\"#fff\"><script nonce=\"OJTRKfaarswgJ4tF0Am4Sg\">(function(){var src='/images/nav_logo229.png';var iesg=false;document.body.onload = function(){window.n && window.n();if (document.images){new Image().src=src;}\n",
            "if (!iesg){document.f&&document.f.q.focus();document.gbqf&&document.gbqf.q.focus();}\n",
            "}\n",
            "})();</script><div id=\"mngb\"><div id=gbar><nobr><b class=gb1>Search</b> <a class=gb1 href=\"https://www.google.com/imghp?hl=en&tab=wi\">Images</a> <a class=gb1 href=\"https://maps.google.com/maps?hl=en&tab=wl\">Maps</a> <a class=gb1 href=\"https://play.google.com/?hl=en&tab=w8\">Play</a> <a class=gb1 href=\"https://www.youtube.com/?tab=w1\">YouTube</a> <a class=gb1 href=\"https://news.google.com/?tab=wn\">News</a> <a class=gb1 href=\"https://mail.google.com/mail/?tab=wm\">Gmail</a> <a class=gb1 href=\"https://drive.google.com/?tab=wo\">Drive</a> <a class=gb1 style=\"text-decoration:none\" href=\"https://www.google.com/intl/en/about/products?tab=wh\"><u>More</u> &raquo;</a></nobr></div><div id=guser width=100%><nobr><span id=gbn class=gbi></span><span id=gbf class=gbf></span><span id=gbe></span><a href=\"http://www.google.com/history/optout?hl=en\" class=gb4>Web History</a> | <a  href=\"/preferences?hl=en\" class=gb4>Settings</a> | <a target=_top id=gb_70 href=\"https://accounts.google.com/ServiceLogin?hl=en&passive=true&continue=https://www.google.com/&ec=GAZAAQ\" class=gb4>Sign in</a></nobr></div><div class=gbh style=left:0></div><div class=gbh style=right:0></div></div><center><br clear=\"all\" id=\"lgpd\"><div id=\"lga\"><img alt=\"Google\" height=\"92\" src=\"/images/branding/googlelogo/1x/googlelogo_white_background_color_272x92dp.png\" style=\"padding:28px 0 14px\" width=\"272\" id=\"hplogo\"><br><br></div><form action=\"/search\" name=\"f\"><table cellpadding=\"0\" cellspacing=\"0\"><tr valign=\"top\"><td width=\"25%\">&nbsp;</td><td align=\"center\" nowrap=\"\"><input name=\"ie\" value=\"ISO-8859-1\" type=\"hidden\"><input value=\"en\" name=\"hl\" type=\"hidden\"><input name=\"source\" type=\"hidden\" value=\"hp\"><input name=\"biw\" type=\"hidden\"><input name=\"bih\" type=\"hidden\"><div class=\"ds\" style=\"height:32px;margin:4px 0\"><input class=\"lst\" style=\"margin:0;padding:5px 8px 0 6px;vertical-align:top;color:#000\" autocomplete=\"off\" value=\"\" title=\"Google Search\" maxlength=\"2048\" name=\"q\" size=\"57\"></div><br style=\"line-height:0\"><span class=\"ds\"><span class=\"lsbb\"><input class=\"lsb\" value=\"Google Search\" name=\"btnG\" type=\"submit\"></span></span><span class=\"ds\"><span class=\"lsbb\"><input class=\"lsb\" id=\"tsuid_1\" value=\"I'm Feeling Lucky\" name=\"btnI\" type=\"submit\"><script nonce=\"OJTRKfaarswgJ4tF0Am4Sg\">(function(){var id='tsuid_1';document.getElementById(id).onclick = function(){if (this.form.q.value){this.checked = 1;if (this.form.iflsig)this.form.iflsig.disabled = false;}\n",
            "else top.location='/doodles/';};})();</script><input value=\"ANes7DEAAAAAZijz2BmgbZuKk3e0wJh6gWPQPlfw3za_\" name=\"iflsig\" type=\"hidden\"></span></span></td><td class=\"fl sblc\" align=\"left\" nowrap=\"\" width=\"25%\"><a href=\"/advanced_search?hl=en&amp;authuser=0\">Advanced search</a></td></tr></table><input id=\"gbv\" name=\"gbv\" type=\"hidden\" value=\"1\"><script nonce=\"OJTRKfaarswgJ4tF0Am4Sg\">(function(){var a,b=\"1\";if(document&&document.getElementById)if(\"undefined\"!=typeof XMLHttpRequest)b=\"2\";else if(\"undefined\"!=typeof ActiveXObject){var c,d,e=[\"MSXML2.XMLHTTP.6.0\",\"MSXML2.XMLHTTP.3.0\",\"MSXML2.XMLHTTP\",\"Microsoft.XMLHTTP\"];for(c=0;d=e[c++];)try{new ActiveXObject(d),b=\"2\"}catch(h){}}a=b;if(\"2\"==a&&-1==location.search.indexOf(\"&gbv=2\")){var f=google.gbvu,g=document.getElementById(\"gbv\");g&&(g.value=a);f&&window.setTimeout(function(){location.href=f},0)};}).call(this);</script></form><div id=\"gac_scont\"></div><div style=\"font-size:83%;min-height:3.5em\"><br></div><span id=\"footer\"><div style=\"font-size:10pt\"><div style=\"margin:19px auto;text-align:center\" id=\"WqQANb\"><a href=\"/intl/en/ads/\">Advertising</a><a href=\"/services/\">Business Solutions</a><a href=\"/intl/en/about.html\">About Google</a></div></div><p style=\"font-size:8pt;color:#70757a\">&copy; 2024 - <a href=\"/intl/en/policies/privacy/\">Privacy</a> - <a href=\"/intl/en/policies/terms/\">Terms</a></p></span></center><script nonce=\"OJTRKfaarswgJ4tF0Am4Sg\">(function(){window.google.cdo={height:757,width:1440};(function(){var a=window.innerWidth,b=window.innerHeight;if(!a||!b){var c=window.document,d=\"CSS1Compat\"==c.compatMode?c.documentElement:c.body;a=d.clientWidth;b=d.clientHeight}\n",
            "if(a&&b&&(a!=google.cdo.width||b!=google.cdo.height)){var e=google,f=e.log,g=\"/client_204?&atyp=i&biw=\"+a+\"&bih=\"+b+\"&ei=\"+google.kEI,h=\"\",k=[],l=void 0!==window.google&&void 0!==window.google.kOPI&&0!==window.google.kOPI?window.google.kOPI:null;null!=l&&k.push([\"opi\",l.toString()]);for(var m=0;m<k.length;m++){if(0===m||0<m)h+=\"&\";h+=k[m][0]+\"=\"+k[m][1]}f.call(e,\"\",\"\",g+h)};}).call(this);})();</script>  <script nonce=\"OJTRKfaarswgJ4tF0Am4Sg\">(function(){google.xjs={basecomb:'/xjs/_/js/k\\x3dxjs.hp.en.TC3A3XkttPE.O/ck\\x3dxjs.hp.S7CXOFfJ-Xo.L.X.O/am\\x3dAQAAAAEAAAAAAAAAAAAAAAAAAACAAAAAAAAAgOAAAAAEAAQCAAAADoAAAABAAgAAQQBwEB0BwAAcAQCAFw/d\\x3d1/ed\\x3d1/dg\\x3d0/ujg\\x3d1/rs\\x3dACT90oFoB7xqKYUdXouZteO7gXyMwKgmCw',basecss:'/xjs/_/ss/k\\x3dxjs.hp.S7CXOFfJ-Xo.L.X.O/am\\x3dAQAAAAEAAAAAAAAAAAAAAAAAAAAAAAAAAAAAAAAAAAAEAAQCAAAAAIAAAABAAgAAQQ/rs\\x3dACT90oFRp9bZm436K25ASGSFv59hik3ijQ',basejs:'/xjs/_/js/k\\x3dxjs.hp.en.TC3A3XkttPE.O/am\\x3dAAAAAAAAAAAAAAAAAAAAAAAAAACAAAAAAAAAgOAAAAAAAAAAAAAADgAAAAAAAAAAAABwEB0BwAAcAQCAFw/dg\\x3d0/rs\\x3dACT90oFmKzmODz7UZ8vlHsMhOdSpHQYSVQ',ck:'',combam:'',cs:'',cssam:'',csss:'',excm:[],jsam:'',jss:''};})();</script> <link href=\"/xjs/_/ss/k=xjs.hp.S7CXOFfJ-Xo.L.X.O/am=AQAAAAEAAAAAAAAAAAAAAAAAAAAAAAAAAAAAAAAAAAAEAAQCAAAAAIAAAABAAgAAQQ/d=1/ed=1/rs=ACT90oFRp9bZm436K25ASGSFv59hik3ijQ/m=sb_he,d\" rel=\"stylesheet\" nonce=\"OJTRKfaarswgJ4tF0Am4Sg\">    <script nonce=\"OJTRKfaarswgJ4tF0Am4Sg\">(function(){var u='/xjs/_/js/k\\x3dxjs.hp.en.TC3A3XkttPE.O/am\\x3dAAAAAAAAAAAAAAAAAAAAAAAAAACAAAAAAAAAgOAAAAAAAAAAAAAADgAAAAAAAAAAAABwEB0BwAAcAQCAFw/d\\x3d1/ed\\x3d1/rs\\x3dACT90oFmKzmODz7UZ8vlHsMhOdSpHQYSVQ/m\\x3dsb_he,d';var st=0;var amd=0;\n",
            "var e=this||self,f=function(a){return a};var g;var h=function(a){this.g=a};h.prototype.toString=function(){return this.g+\"\"};var k={};\n",
            "function m(a,b){a.src=b instanceof h&&b.constructor===h?b.g:\"type_error:TrustedResourceUrl\";var c,d;(c=(b=null==(d=(c=(a.ownerDocument&&a.ownerDocument.defaultView||window).document).querySelector)?void 0:d.call(c,\"script[nonce]\"))?b.nonce||b.getAttribute(\"nonce\")||\"\":\"\")&&a.setAttribute(\"nonce\",c)};var n=function(){var a=document;var b=\"SCRIPT\";\"application/xhtml+xml\"===a.contentType&&(b=b.toLowerCase());return a.createElement(b)};function p(a){a=null===a?\"null\":void 0===a?\"undefined\":a;if(void 0===g){var b=null;var c=e.trustedTypes;if(c&&c.createPolicy){try{b=c.createPolicy(\"goog#html\",{createHTML:f,createScript:f,createScriptURL:f})}catch(d){e.console&&e.console.error(d.message)}g=b}else g=b}a=(b=g)?b.createScriptURL(a):a;return new h(a,k)};void 0===google.ps&&(google.ps=[]);function q(){var a=u,b=function(){};google.lx=google.stvsc?b:function(){r(a);google.lx=b};google.bx||google.lx()}function t(a,b){b&&m(a,p(b));var c=a.onload;a.onload=function(d){c&&c(d);google.ps=google.ps.filter(function(l){return a!==l})};google.ps.push(a);document.body.appendChild(a)}google.as=t;function r(a){google.timers&&google.timers.load&&google.tick&&google.tick(\"load\",\"xjsls\");var b=n();b.onerror=function(){google.ple=1};b.onload=function(){google.ple=0};google.xjsus=void 0;t(b,a);google.aple=-1;google.psa=!0};google.xjsu=u;e._F_jsUrl=u;var v=!1;function w(){v||(q(),v=!0)}setTimeout(function(){var a;if(a=1===st&&google.caft){a:{a=document.getElementsByTagName(\"img\");for(var b=0,c=a.length;b<c;b++){var d=a[b],l=Number(d.getAttribute(\"data-atf\"))&1;d=d.hasAttribute(\"data-lzy_\");if(l&&d){a=!0;break a}}a=!1}a=!a}a?(window.setTimeout(w,amd),google.caft(w)):2===st&&google.rairicb?(window.setTimeout(w,amd),google.rairicb(w)):q()},0);})();window._ = window._ || {};window._DumpException = _._DumpException = function(e){throw e;};window._s = window._s || {};_s._DumpException = _._DumpException;window._qs = window._qs || {};_qs._DumpException = _._DumpException;(function(){var t=[1,4,0,0,0,163840,0,540582144,262145,2064,134275072,268435456,50331650,876724225,67895313,536870983,23];window._F_toggles = window._xjs_toggles = t;})();function _F_installCss(c){}\n",
            "(function(){google.jl={bfl:0,dw:false,ine:false,ubm:false,uwp:true,vs:false};})();(function(){var pmc='{\\x22d\\x22:{},\\x22sb_he\\x22:{\\x22agen\\x22:false,\\x22cgen\\x22:false,\\x22client\\x22:\\x22heirloom-hp\\x22,\\x22dh\\x22:true,\\x22ds\\x22:\\x22\\x22,\\x22fl\\x22:true,\\x22host\\x22:\\x22google.com\\x22,\\x22jsonp\\x22:true,\\x22msgs\\x22:{\\x22cibl\\x22:\\x22Clear Search\\x22,\\x22dym\\x22:\\x22Did you mean:\\x22,\\x22lcky\\x22:\\x22I\\\\u0026#39;m Feeling Lucky\\x22,\\x22lml\\x22:\\x22Learn more\\x22,\\x22psrc\\x22:\\x22This search was removed from your \\\\u003Ca href\\x3d\\\\\\x22/history\\\\\\x22\\\\u003EWeb History\\\\u003C/a\\\\u003E\\x22,\\x22psrl\\x22:\\x22Remove\\x22,\\x22sbit\\x22:\\x22Search by image\\x22,\\x22srch\\x22:\\x22Google Search\\x22},\\x22ovr\\x22:{},\\x22pq\\x22:\\x22\\x22,\\x22rfs\\x22:[],\\x22sbas\\x22:\\x220 3px 8px 0 rgba(0,0,0,0.2),0 0 0 1px rgba(0,0,0,0.08)\\x22,\\x22stok\\x22:\\x22KxaxyDDVc5c1LgvRQQ4TezMvdFI\\x22}}';google.pmc=JSON.parse(pmc);})();(function(){var b=function(a){var c=0;return function(){return c<a.length?{done:!1,value:a[c++]}:{done:!0}}};\n",
            "var e=this||self;var g,h;a:{for(var k=[\"CLOSURE_FLAGS\"],l=e,n=0;n<k.length;n++)if(l=l[k[n]],null==l){h=null;break a}h=l}var p=h&&h[610401301];g=null!=p?p:!1;var q,r=e.navigator;q=r?r.userAgentData||null:null;function t(a){return g?q?q.brands.some(function(c){return(c=c.brand)&&-1!=c.indexOf(a)}):!1:!1}function u(a){var c;a:{if(c=e.navigator)if(c=c.userAgent)break a;c=\"\"}return-1!=c.indexOf(a)};function v(){return g?!!q&&0<q.brands.length:!1}function w(){return u(\"Safari\")&&!(x()||(v()?0:u(\"Coast\"))||(v()?0:u(\"Opera\"))||(v()?0:u(\"Edge\"))||(v()?t(\"Microsoft Edge\"):u(\"Edg/\"))||(v()?t(\"Opera\"):u(\"OPR\"))||u(\"Firefox\")||u(\"FxiOS\")||u(\"Silk\")||u(\"Android\"))}function x(){return v()?t(\"Chromium\"):(u(\"Chrome\")||u(\"CriOS\"))&&!(v()?0:u(\"Edge\"))||u(\"Silk\")}function y(){return u(\"Android\")&&!(x()||u(\"Firefox\")||u(\"FxiOS\")||(v()?0:u(\"Opera\"))||u(\"Silk\"))};var z=v()?!1:u(\"Trident\")||u(\"MSIE\");y();x();w();Object.freeze(new function(){});Object.freeze(new function(){});var A=!z&&!w(),D=function(a){if(/-[a-z]/.test(\"ved\"))return null;if(A&&a.dataset){if(y()&&!(\"ved\"in a.dataset))return null;a=a.dataset.ved;return void 0===a?null:a}return a.getAttribute(\"data-\"+\"ved\".replace(/([A-Z])/g,\"-$1\").toLowerCase())};var E=[],F=null;function G(a){a=a.target;var c=performance.now(),f=[],H=f.concat,d=E;if(!(d instanceof Array)){var m=\"undefined\"!=typeof Symbol&&Symbol.iterator&&d[Symbol.iterator];if(m)d=m.call(d);else if(\"number\"==typeof d.length)d={next:b(d)};else throw Error(\"a`\"+String(d));for(var B=[];!(m=d.next()).done;)B.push(m.value);d=B}E=H.call(f,d,[c]);if(a&&a instanceof HTMLElement)if(a===F){if(c=4<=E.length)c=5>(E[E.length-1]-E[E.length-4])/1E3;if(c){c=google.getEI(a);a.hasAttribute(\"data-ved\")?f=a?D(a)||\"\":\"\":f=(f=\n",
            "a.closest(\"[data-ved]\"))?D(f)||\"\":\"\";f=f||\"\";if(a.hasAttribute(\"jsname\"))a=a.getAttribute(\"jsname\");else{var C;a=null==(C=a.closest(\"[jsname]\"))?void 0:C.getAttribute(\"jsname\")}google.log(\"rcm\",\"&ei=\"+c+\"&ved=\"+f+\"&jsname=\"+(a||\"\"))}}else F=a,E=[c]}window.document.addEventListener(\"DOMContentLoaded\",function(){document.body.addEventListener(\"click\",G)});}).call(this);</script></body></html>\n"
          ]
        },
        {
          "output_type": "error",
          "ename": "NameError",
          "evalue": "name 't' is not defined",
          "traceback": [
            "\u001b[0;31m---------------------------------------------------------------------------\u001b[0m",
            "\u001b[0;31mNameError\u001b[0m                                 Traceback (most recent call last)",
            "\u001b[0;32m<ipython-input-8-582a296d9670>\u001b[0m in \u001b[0;36m<cell line: 10>\u001b[0;34m()\u001b[0m\n\u001b[1;32m      8\u001b[0m \u001b[0;34m\u001b[0m\u001b[0m\n\u001b[1;32m      9\u001b[0m \u001b[0;31m# 응답 바이너리 원문\u001b[0m\u001b[0;34m\u001b[0m\u001b[0;34m\u001b[0m\u001b[0m\n\u001b[0;32m---> 10\u001b[0;31m \u001b[0mprint\u001b[0m\u001b[0;34m(\u001b[0m\u001b[0;34m'#응답 바이너리 원문: '\u001b[0m\u001b[0;34m,\u001b[0m \u001b[0mt\u001b[0m\u001b[0;34m)\u001b[0m\u001b[0;34m\u001b[0m\u001b[0;34m\u001b[0m\u001b[0m\n\u001b[0m\u001b[1;32m     11\u001b[0m \u001b[0;34m\u001b[0m\u001b[0m\n\u001b[1;32m     12\u001b[0m \u001b[0;31m# 응답 UTF-8로 인코딩된 문자열\u001b[0m\u001b[0;34m\u001b[0m\u001b[0;34m\u001b[0m\u001b[0m\n",
            "\u001b[0;31mNameError\u001b[0m: name 't' is not defined"
          ]
        }
      ],
      "source": [
        "import requests\n",
        "\n",
        "response = requests.get(\"https://google.com\")\n",
        "\n",
        "# 응답 상태\n",
        "print('#응답 상태: ', )\n",
        "print(response.text)\n",
        "\n",
        "# 응답 바이너리 원문\n",
        "print('#응답 바이너리 원문: ', t)\n",
        "\n",
        "# 응답 UTF-8로 인코딩된 문자열\n",
        "print('#응답 UTF-8로 인코딩된 문자열: ', )\n",
        "\n",
        "# 응답 헤더\n",
        "print('#응답 헤더: ', )\n",
        "\n",
        "# 응답 헤더: 콘텐트 유형\n",
        "print('#응답 헤더유형: ', )"
      ]
    },
    {
      "cell_type": "markdown",
      "id": "c93b7a41",
      "metadata": {
        "id": "c93b7a41"
      },
      "source": [
        "#### 2.웹 페이지에서 정보 추출하기\n",
        "- BeautifulSoup 라이브러리 사용하여 웹페이지에서 정보 추출하기\n",
        "- 네이버 메인(https://www.naver.com/) > 검색어 입력(**눈물의여왕**) > 검색된 결과 페이지에서 **제목**만 추출"
      ]
    },
    {
      "cell_type": "markdown",
      "id": "0bda0fb4",
      "metadata": {
        "id": "0bda0fb4"
      },
      "source": [
        "#### [예제] : Text 제목 정보 1개 가져오기 in (정적인 페이지)"
      ]
    },
    {
      "cell_type": "markdown",
      "id": "Mm1JMSRiBMcz",
      "metadata": {
        "id": "Mm1JMSRiBMcz"
      },
      "source": [
        "* 뉴스 제목이 있는 위치 찾는 방법\n",
        "    1. 크롬브라우저를 연다.\n",
        "    2. Target URL =https://search.naver.com/search.naver?where=news&sm=tab_jum&query=%EB%88%88%EB%AC%BC%EC%9D%98%EC%97%AC%EC%99%95 페이지를 연결한다.\n",
        "    3. 키보드에서 F12 키를 눌러 크롬 개발자 도구를 연다\n",
        "    4. 개발자 도구에서 마우스로 영역선택( )메뉴를 클릭하고 마우스를 뉴스 제목 부분에 놓고 클릭한다.\n",
        "    5.마우스 오른쪽 버튼을 클릭하고 메뉴(Copy > copy selector)를 선택한다.\n",
        "    6. 5에서 복사된 뉴스 제목이 있는 영역으 tag를 코드에 붙여넣는다.\n"
      ]
    },
    {
      "cell_type": "code",
      "execution_count": null,
      "id": "75ea1900",
      "metadata": {
        "id": "75ea1900",
        "colab": {
          "base_uri": "https://localhost:8080/"
        },
        "outputId": "3026996b-164c-4778-bd17-9596f3d723b5"
      },
      "outputs": [
        {
          "output_type": "stream",
          "name": "stdout",
          "text": [
            "https://search.naver.com/search.naver?where=news&sm=tab_jum&query=%EB%88%88%EB%AC%BC%EC%9D%98%EC%97%AC%EC%99%95\n",
            "<a class=\"news_tit\" href=\"http://www.osen.co.kr/article/G1112322946\" onclick=\"return goOtherCR(this, 'a=nws*a.tit&amp;r=1&amp;i=8800011B_000000000000000005064364&amp;g=109.0005064364&amp;u='+urlencode(this.href));\" target=\"_blank\" title=\"[단독] 박성훈, '눈물의 여왕' 결말 앞두고 오늘(24일) '유퀴즈' 뜬다\">[단독] 박성훈, '<mark>눈물의 여왕</mark>' 결말 앞두고 오늘(24일) '유퀴즈' 뜬다</a>\n",
            "제목: [단독] 박성훈, '눈물의 여왕' 결말 앞두고 오늘(24일) '유퀴즈' 뜬다\n",
            "----------\n"
          ]
        }
      ],
      "source": [
        "import requests\n",
        "from bs4 import BeautifulSoup\n",
        "\n",
        "url = 'https://search.naver.com/search.naver?where=news&sm=tab_jum&query=%EB%88%88%EB%AC%BC%EC%9D%98%EC%97%AC%EC%99%95'\n",
        "print(url)\n",
        "\n",
        "response = requests.get(url)\n",
        "\n",
        "if response.status_code == 200:\n",
        "    html = response.text\n",
        "    soup = BeautifulSoup(html, 'html.parser')\n",
        "    title = soup.select_one('#sp_nws1 > div.news_wrap.api_ani_send > div > div.news_contents > a.news_tit')\n",
        "    print(title)\n",
        "    print(f\"제목: {title.attrs['title']}\")  # 제목 추출 : title.get_text()\n",
        "else :\n",
        "    print(response.status_code)\n",
        "print('----------')"
      ]
    },
    {
      "cell_type": "code",
      "source": [
        "import requests\n",
        "from bs4 import BeautifulSoup\n",
        "\n",
        "url = 'https://n.news.naver.com/mnews/article/001/0014650694?rc=N&ntype=RANKING'\n",
        "print(url)\n",
        "\n",
        "response = requests.get(url)\n",
        "\n",
        "if response.status_code == 200:\n",
        "    html = response.text\n",
        "    soup = BeautifulSoup(html, 'html.parser')\n",
        "    title = soup.select_one('#title_area > span')\n",
        "    print(title)\n",
        "    print(f\"제목: {title.attrs['0']}\")  # 제목 추출 : title.get_text()\n",
        "else :\n",
        "    print(response.status_code)\n",
        "print('----------')"
      ],
      "metadata": {
        "colab": {
          "base_uri": "https://localhost:8080/",
          "height": 257
        },
        "id": "FJ1wwTtKw-l8",
        "outputId": "99d5484c-6ec7-492e-ac02-c292fa17acb9"
      },
      "id": "FJ1wwTtKw-l8",
      "execution_count": null,
      "outputs": [
        {
          "output_type": "stream",
          "name": "stdout",
          "text": [
            "https://n.news.naver.com/mnews/article/001/0014650694?rc=N&ntype=RANKING\n",
            "<span>의대교수 사직 D-1…'찻잔속 태풍' 불과 vs \"실제로 사직할 것\"</span>\n"
          ]
        },
        {
          "output_type": "error",
          "ename": "KeyError",
          "evalue": "'0'",
          "traceback": [
            "\u001b[0;31m---------------------------------------------------------------------------\u001b[0m",
            "\u001b[0;31mKeyError\u001b[0m                                  Traceback (most recent call last)",
            "\u001b[0;32m<ipython-input-13-d66272c4774d>\u001b[0m in \u001b[0;36m<cell line: 9>\u001b[0;34m()\u001b[0m\n\u001b[1;32m     12\u001b[0m     \u001b[0mtitle\u001b[0m \u001b[0;34m=\u001b[0m \u001b[0msoup\u001b[0m\u001b[0;34m.\u001b[0m\u001b[0mselect_one\u001b[0m\u001b[0;34m(\u001b[0m\u001b[0;34m'#title_area > span'\u001b[0m\u001b[0;34m)\u001b[0m\u001b[0;34m\u001b[0m\u001b[0;34m\u001b[0m\u001b[0m\n\u001b[1;32m     13\u001b[0m     \u001b[0mprint\u001b[0m\u001b[0;34m(\u001b[0m\u001b[0mtitle\u001b[0m\u001b[0;34m)\u001b[0m\u001b[0;34m\u001b[0m\u001b[0;34m\u001b[0m\u001b[0m\n\u001b[0;32m---> 14\u001b[0;31m     \u001b[0mprint\u001b[0m\u001b[0;34m(\u001b[0m\u001b[0;34mf\"제목: {title.attrs['0']}\"\u001b[0m\u001b[0;34m)\u001b[0m  \u001b[0;31m# 제목 추출 : title.get_text()\u001b[0m\u001b[0;34m\u001b[0m\u001b[0;34m\u001b[0m\u001b[0m\n\u001b[0m\u001b[1;32m     15\u001b[0m \u001b[0;32melse\u001b[0m \u001b[0;34m:\u001b[0m\u001b[0;34m\u001b[0m\u001b[0;34m\u001b[0m\u001b[0m\n\u001b[1;32m     16\u001b[0m     \u001b[0mprint\u001b[0m\u001b[0;34m(\u001b[0m\u001b[0mresponse\u001b[0m\u001b[0;34m.\u001b[0m\u001b[0mstatus_code\u001b[0m\u001b[0;34m)\u001b[0m\u001b[0;34m\u001b[0m\u001b[0;34m\u001b[0m\u001b[0m\n",
            "\u001b[0;31mKeyError\u001b[0m: '0'"
          ]
        }
      ]
    },
    {
      "cell_type": "code",
      "source": [
        "import requests\n",
        "from bs4 import BeautifulSoup\n",
        "\n",
        "url = 'https://n.news.naver.com/mnews/article/001/0014650694?rc=N&ntype=RANKING'\n",
        "print(url)\n",
        "\n",
        "d_list= [ ]\n",
        "response = requests.get(url)\n",
        "\n",
        "if response.status_code == 200:\n",
        "    html = response.text\n",
        "    soup = BeautifulSoup(html, 'html.parser')\n",
        "    title = soup.select_one('#title_area > span')\n",
        "    print(title)\n",
        "    if title:\n",
        "        print(f\"제목: {title.text}\")\n",
        "        d_list.append({title.text})\n",
        "    else:\n",
        "        print(\"제목을 찾을 수 없습니다.\")\n",
        "else:\n",
        "    print(response.status_code)\n",
        "print('----------')\n",
        "\n",
        "# pandas DataFrame으로 나타내기\n",
        "import pandas as pd\n",
        "\n",
        "t_list = []\n",
        "data = {'title':d_list}\n",
        "df = pd.DataFrame(data)\n",
        "\n",
        "df.to_csv('my_naver_news1.csv', index=False) # 파일로 저장하기\n",
        "\n",
        "df.head()"
      ],
      "metadata": {
        "colab": {
          "base_uri": "https://localhost:8080/",
          "height": 154
        },
        "id": "Nmdghohpx5rM",
        "outputId": "02f3b565-d764-49d6-afef-5e6ab222f2c7"
      },
      "id": "Nmdghohpx5rM",
      "execution_count": null,
      "outputs": [
        {
          "output_type": "stream",
          "name": "stdout",
          "text": [
            "https://n.news.naver.com/mnews/article/001/0014650694?rc=N&ntype=RANKING\n",
            "<span>의대교수 사직 D-1…'찻잔속 태풍' 불과 vs \"실제로 사직할 것\"</span>\n",
            "제목: 의대교수 사직 D-1…'찻잔속 태풍' 불과 vs \"실제로 사직할 것\"\n",
            "----------\n"
          ]
        },
        {
          "output_type": "execute_result",
          "data": {
            "text/plain": [
              "                                      title\n",
              "0  {의대교수 사직 D-1…'찻잔속 태풍' 불과 vs \"실제로 사직할 것\"}"
            ],
            "text/html": [
              "\n",
              "  <div id=\"df-d22eedb3-cd5d-42e7-9c2e-02d670f49af8\" class=\"colab-df-container\">\n",
              "    <div>\n",
              "<style scoped>\n",
              "    .dataframe tbody tr th:only-of-type {\n",
              "        vertical-align: middle;\n",
              "    }\n",
              "\n",
              "    .dataframe tbody tr th {\n",
              "        vertical-align: top;\n",
              "    }\n",
              "\n",
              "    .dataframe thead th {\n",
              "        text-align: right;\n",
              "    }\n",
              "</style>\n",
              "<table border=\"1\" class=\"dataframe\">\n",
              "  <thead>\n",
              "    <tr style=\"text-align: right;\">\n",
              "      <th></th>\n",
              "      <th>title</th>\n",
              "    </tr>\n",
              "  </thead>\n",
              "  <tbody>\n",
              "    <tr>\n",
              "      <th>0</th>\n",
              "      <td>{의대교수 사직 D-1…'찻잔속 태풍' 불과 vs \"실제로 사직할 것\"}</td>\n",
              "    </tr>\n",
              "  </tbody>\n",
              "</table>\n",
              "</div>\n",
              "    <div class=\"colab-df-buttons\">\n",
              "\n",
              "  <div class=\"colab-df-container\">\n",
              "    <button class=\"colab-df-convert\" onclick=\"convertToInteractive('df-d22eedb3-cd5d-42e7-9c2e-02d670f49af8')\"\n",
              "            title=\"Convert this dataframe to an interactive table.\"\n",
              "            style=\"display:none;\">\n",
              "\n",
              "  <svg xmlns=\"http://www.w3.org/2000/svg\" height=\"24px\" viewBox=\"0 -960 960 960\">\n",
              "    <path d=\"M120-120v-720h720v720H120Zm60-500h600v-160H180v160Zm220 220h160v-160H400v160Zm0 220h160v-160H400v160ZM180-400h160v-160H180v160Zm440 0h160v-160H620v160ZM180-180h160v-160H180v160Zm440 0h160v-160H620v160Z\"/>\n",
              "  </svg>\n",
              "    </button>\n",
              "\n",
              "  <style>\n",
              "    .colab-df-container {\n",
              "      display:flex;\n",
              "      gap: 12px;\n",
              "    }\n",
              "\n",
              "    .colab-df-convert {\n",
              "      background-color: #E8F0FE;\n",
              "      border: none;\n",
              "      border-radius: 50%;\n",
              "      cursor: pointer;\n",
              "      display: none;\n",
              "      fill: #1967D2;\n",
              "      height: 32px;\n",
              "      padding: 0 0 0 0;\n",
              "      width: 32px;\n",
              "    }\n",
              "\n",
              "    .colab-df-convert:hover {\n",
              "      background-color: #E2EBFA;\n",
              "      box-shadow: 0px 1px 2px rgba(60, 64, 67, 0.3), 0px 1px 3px 1px rgba(60, 64, 67, 0.15);\n",
              "      fill: #174EA6;\n",
              "    }\n",
              "\n",
              "    .colab-df-buttons div {\n",
              "      margin-bottom: 4px;\n",
              "    }\n",
              "\n",
              "    [theme=dark] .colab-df-convert {\n",
              "      background-color: #3B4455;\n",
              "      fill: #D2E3FC;\n",
              "    }\n",
              "\n",
              "    [theme=dark] .colab-df-convert:hover {\n",
              "      background-color: #434B5C;\n",
              "      box-shadow: 0px 1px 3px 1px rgba(0, 0, 0, 0.15);\n",
              "      filter: drop-shadow(0px 1px 2px rgba(0, 0, 0, 0.3));\n",
              "      fill: #FFFFFF;\n",
              "    }\n",
              "  </style>\n",
              "\n",
              "    <script>\n",
              "      const buttonEl =\n",
              "        document.querySelector('#df-d22eedb3-cd5d-42e7-9c2e-02d670f49af8 button.colab-df-convert');\n",
              "      buttonEl.style.display =\n",
              "        google.colab.kernel.accessAllowed ? 'block' : 'none';\n",
              "\n",
              "      async function convertToInteractive(key) {\n",
              "        const element = document.querySelector('#df-d22eedb3-cd5d-42e7-9c2e-02d670f49af8');\n",
              "        const dataTable =\n",
              "          await google.colab.kernel.invokeFunction('convertToInteractive',\n",
              "                                                    [key], {});\n",
              "        if (!dataTable) return;\n",
              "\n",
              "        const docLinkHtml = 'Like what you see? Visit the ' +\n",
              "          '<a target=\"_blank\" href=https://colab.research.google.com/notebooks/data_table.ipynb>data table notebook</a>'\n",
              "          + ' to learn more about interactive tables.';\n",
              "        element.innerHTML = '';\n",
              "        dataTable['output_type'] = 'display_data';\n",
              "        await google.colab.output.renderOutput(dataTable, element);\n",
              "        const docLink = document.createElement('div');\n",
              "        docLink.innerHTML = docLinkHtml;\n",
              "        element.appendChild(docLink);\n",
              "      }\n",
              "    </script>\n",
              "  </div>\n",
              "\n",
              "\n",
              "    </div>\n",
              "  </div>\n"
            ],
            "application/vnd.google.colaboratory.intrinsic+json": {
              "type": "dataframe",
              "variable_name": "df",
              "summary": "{\n  \"name\": \"df\",\n  \"rows\": 1,\n  \"fields\": [\n    {\n      \"column\": \"title\",\n      \"properties\": {\n        \"dtype\": \"object\",\n        \"semantic_type\": \"\",\n        \"description\": \"\"\n      }\n    }\n  ]\n}"
            }
          },
          "metadata": {},
          "execution_count": 20
        }
      ]
    },
    {
      "cell_type": "markdown",
      "id": "c8bf83f7",
      "metadata": {
        "id": "c8bf83f7"
      },
      "source": [
        "#### [예제] Text 정보 여러 개 가져오기 in (정적인 페이지)"
      ]
    },
    {
      "cell_type": "code",
      "execution_count": null,
      "id": "39fbf9b8",
      "metadata": {
        "id": "39fbf9b8",
        "colab": {
          "base_uri": "https://localhost:8080/"
        },
        "outputId": "fbda847a-929c-4174-f195-31b70b504a5a"
      },
      "outputs": [
        {
          "output_type": "stream",
          "name": "stdout",
          "text": [
            "페이지 정보 추출하기-----\n",
            "https://search.naver.com/search.naver?where=news&sm=tab_jum&query=%EB%88%88%EB%AC%BC%EC%9D%98%EC%97%AC%EC%99%95\n",
            "페이지 정보 추출완료-----\n"
          ]
        },
        {
          "output_type": "execute_result",
          "data": {
            "text/plain": [
              "(['‘눈물의 여왕’ 김수현 인터뷰 이번엔 못 본다 “일정 조율 어려움”',\n",
              "  \"몰래 훔쳐보고 평점 7.7점…中 '눈물의 여왕' 도둑시청 논란\",\n",
              "  '\\'눈물의 여왕\\' 또 불법시청..서경덕 \"이젠 中당국이 나서야\"',\n",
              "  \"[단독] 박성훈, '눈물의 여왕' 결말 앞두고 오늘(24일) '유퀴즈' 뜬다\",\n",
              "  \"'눈물의 여왕' OST '미안해 미워해 사랑해', 국내 음원 차트 톱10 안착\",\n",
              "  '‘눈물의 여왕’ 속 김수현 착용 시계…미도 멀티포트 TV 빅 데이트',\n",
              "  '\\'눈물의 여왕\\', 17일 종방연 한 번 더 연다…\"일정 가능한 스태프·배우 참석\" [공식입장]',\n",
              "  '中, \\'눈물의 여왕\\'도 훔쳐본다… \"부끄러움 못 느껴\"',\n",
              "  '\\'눈물의 여왕\\' 김수현→김지원, 20% 시청률 돌파에 \"사랑합니다\"',\n",
              "  \"커피머신 한대에 600만원…'눈물의 여왕' 속 가전 정체는?\"],\n",
              " ['tvN 주말극 ‘눈물의 여왕’을 통해 절정의 인기를 재확인한 배우 김수현의 인터뷰를 아쉽게도 이번에는 만날 수 없다. 김수현의 소속사 골드메달리스트 측은 24일 ‘스포츠경향’에 “이번에 일정 조율에 어려움이 있어 인터뷰를 진행하지 못하게 됐다”면서 “추후 좋은 기회가 생길 경우 뵐 수 있도록...',\n",
              "  'tvN 드라마 \\'눈물의 여왕\\'이 인기를 끌고 있는 가운데 중국에서 또 \\'도둑 시청\\'을 해 논란이 일고 있다. 23일 서경덕 성신여대 교수는 자신의 페이스북을 통해 \"최근 국내를 넘어 넷플릭스를 통해 세계적인 인기를 끌고 있는 드라마 \\'눈물의 여왕\\' 훔쳐보기가 중국에서 또 기승을 부리고 있다\"고 지적했다. 그는...',\n",
              "  '최근 국내를 넘어 세계적 인기를 끌고 있는 드라마 \\'눈물의 여왕\\'이 중국에서 또 \\'훔쳐보기\\'로 몸살을 앓고 있다. 23일 서경덕 성신여대 교수에 따르면 중국 콘텐츠 리뷰 사이트 \\'더우반\\'에는 \\'눈물의 여왕\\' 리뷰 화면이 만들어졌으며, 현재 4만6000여 건의 리뷰가 버젓이 남겨져 있다. 서 교수는 이에 대해 \"영화...',\n",
              "  \"배우 박성훈이 '눈물의 여왕' 종영을 앞두고 '유 퀴즈 온 더 블럭'(이하 유퀴즈)에 출격한다. 24일 오전 OSEN 취재 결과, 박성훈은 이날 서울 모처에서 tvN 인기 예능 '유퀴즈' 녹화에 참석해 MC 유재석, 조세호와 만난다. '눈물의 여왕'의 종영이 코앞으로 다가온 만큼 박성훈이 어떤 비하인드와 에피소드를...\",\n",
              "  \"'눈물의 여왕' OST '미안해 미워해 사랑해'가 드라마 화제성과 더불어 파죽지세 인기를 보여주고 있다. '눈물의 여왕' OST Part.4 '미안해 미워해 사랑해'는 23일 국내 주요 온라인 음원사이트 멜론을 비롯해 지니뮤직, 벅스, 플로 실시간 차트 톱10 진입에 성공했다. '미안해 미워해 사랑해'는 서정적인 멜로디...\",\n",
              "  '시청률 상승곡선을 타고 있는 드라마 ‘눈물의 여왕’이 역대급 시청률을 기록해 주목을 받았다. tvN 토일 드라마 ‘눈물의 여왕’은 퀸즈 그룹 재벌 3세이자 백화점의 여왕인 ‘홍해인(배우 김지원)’과 용두리 이장 아들이자 슈퍼마켓 왕자 ‘백현우(배우 김수현)’ 3년차 부부의 아찔한 위기와 기적처럼...',\n",
              "  '\\'눈물의 여왕\\'의 두 번째 종방연 날짜가 정해졌다. 27일 케이블채널 \\'눈물의 여왕\\' 관계자는 마이데일리에 \"오는 27일 일정이 가능한 \\'눈물의 여왕\\' 스태프와 배우들이 모여 회식 자리를 가질 예정\"이라고 전했다. 구체적인 장소와 참석 인원은 알려지지 않았다. 앞서 \\'눈물의 여왕\\'은 마이데일리에 포상...',\n",
              "  '최근 인기리 방영되고 있는 국내 드라마 \\'눈물의 여왕\\'이 중국에서 불법 유통되고 있는 것으로 나타났다. 서경덕 성신여자대학교 교수는 23일 사회관계망서비스(SNS)를 통해 \"중국에서 또 \\'훔쳐보기\\'가 기승을 부리고 있다\"며 \"중국 콘텐츠 리뷰 사이트 더우반(豆瓣)에서는 \\'눈물의 여왕\\'의 리뷰 화면이...',\n",
              "  \"'눈물의 여왕' 주역들이 20% 시청률 돌파에 대한 감사한 마음을 전했다. 24일 tvN 드라마 공식 인스타그램에는 토일드라마 '눈물의 여왕'(극본 박지은·연출 장영우, 김희원)에서 활약 중인 김수현, 김지원, 박성훈, 곽동연, 이주빈의 20% 돌파 기념 인증샷이 게재됐다. '눈물의 여왕'은 지난 14일 방송된 12회를...\",\n",
              "  'tvN 드라마 ‘눈물의 여왕’이 종영을 2회 앞두고 시청률 20%를 돌파하는 등 인기몰이를 하는 가운데 재벌가 상속녀 역으로 등장하는 김지원과 그 남편 역을 맡는 김수현이 드라마 속에서 즐겨 이용하는 주방 빌트인 가전에 이목이 쏠린다. tvN 드라마 ‘눈물의 여왕’ 4화 속 재벌가 상속녀로 연기하는...'],\n",
              " ['https://sports.khan.co.kr/news/sk_index.html?art_id=202404241415003&sec_id=540101&pt=nv',\n",
              "  'https://view.asiae.co.kr/article/2024042310394384239',\n",
              "  'https://www.newsis.com/view/?id=NISX20240423_0002709342&cID=10701&pID=10700',\n",
              "  'http://www.osen.co.kr/article/G1112322946',\n",
              "  'https://www.news1.kr/articles/5394618',\n",
              "  'https://isplus.com/article/view/isp202404240096',\n",
              "  'https://mydaily.co.kr/page/view/2024042411162624602',\n",
              "  'https://www.daejonilbo.com/news/articleView.html?idxno=2127204',\n",
              "  'http://www.tvdaily.co.kr/read.php3?aid=17139402601708633002',\n",
              "  'http://www.edaily.co.kr/news/newspath.asp?newsid=01230006638859400'])"
            ]
          },
          "metadata": {},
          "execution_count": 12
        }
      ],
      "source": [
        "import requests\n",
        "from bs4 import BeautifulSoup\n",
        "\n",
        "print('페이지 정보 추출하기-----')\n",
        "url = 'https://search.naver.com/search.naver?where=news&sm=tab_jum&query=%EB%88%88%EB%AC%BC%EC%9D%98%EC%97%AC%EC%99%95'\n",
        "print(url)\n",
        "\n",
        "response = requests.get(url)\n",
        "\n",
        "t_list, d_list, link_list = [], [], []\n",
        "if response.status_code == 200:\n",
        "    html = response.text\n",
        "    soup = BeautifulSoup(html, 'html.parser')\n",
        "    ul = soup.select_one('ul.list_news') #공백에 있을 경우 . 사용\n",
        "    # 제목, 링크\n",
        "\n",
        "\n",
        "\n",
        "#sp_nws1 > div.news_wrap.api_ani_send > div > div.news_contents > a.news_tit\n",
        "\n",
        "    titles = ul.select('li > div > div > div.news_contents > a.news_tit')\n",
        "    for title in titles:\n",
        "        t_list.append(title.attrs['title'])\n",
        "        link_list.append(title.attrs['href'])\n",
        "#         print(title.get_text())\n",
        "    # 상세 설명\n",
        "    titles = ul.select('li > div > div > div.news_contents > div.news_dsc > div.dsc_wrap > a')\n",
        "    for title in titles:\n",
        "        d_list.append(title.get_text())\n",
        "else :\n",
        "    print(response.status_code)\n",
        "print('페이지 정보 추출완료-----')\n",
        "t_list, d_list, link_list"
      ]
    },
    {
      "cell_type": "code",
      "execution_count": null,
      "id": "bacdbd64",
      "metadata": {
        "id": "bacdbd64",
        "colab": {
          "base_uri": "https://localhost:8080/",
          "height": 553
        },
        "outputId": "f1c22844-9e53-4418-a45d-76bcf568eec4"
      },
      "outputs": [
        {
          "output_type": "execute_result",
          "data": {
            "text/plain": [
              "                                         title  \\\n",
              "0        ‘눈물의 여왕’ 김수현 인터뷰 이번엔 못 본다 “일정 조율 어려움”   \n",
              "1           몰래 훔쳐보고 평점 7.7점…中 '눈물의 여왕' 도둑시청 논란   \n",
              "2           '눈물의 여왕' 또 불법시청..서경덕 \"이젠 中당국이 나서야\"   \n",
              "3   [단독] 박성훈, '눈물의 여왕' 결말 앞두고 오늘(24일) '유퀴즈' 뜬다   \n",
              "4  '눈물의 여왕' OST '미안해 미워해 사랑해', 국내 음원 차트 톱10 안착   \n",
              "\n",
              "                                                desc  \\\n",
              "0  tvN 주말극 ‘눈물의 여왕’을 통해 절정의 인기를 재확인한 배우 김수현의 인터뷰를...   \n",
              "1  tvN 드라마 '눈물의 여왕'이 인기를 끌고 있는 가운데 중국에서 또 '도둑 시청'...   \n",
              "2  최근 국내를 넘어 세계적 인기를 끌고 있는 드라마 '눈물의 여왕'이 중국에서 또 '...   \n",
              "3  배우 박성훈이 '눈물의 여왕' 종영을 앞두고 '유 퀴즈 온 더 블럭'(이하 유퀴즈)...   \n",
              "4  '눈물의 여왕' OST '미안해 미워해 사랑해'가 드라마 화제성과 더불어 파죽지세 ...   \n",
              "\n",
              "                                                link  \n",
              "0  https://sports.khan.co.kr/news/sk_index.html?a...  \n",
              "1  https://view.asiae.co.kr/article/2024042310394...  \n",
              "2  https://www.newsis.com/view/?id=NISX20240423_0...  \n",
              "3          http://www.osen.co.kr/article/G1112322946  \n",
              "4              https://www.news1.kr/articles/5394618  "
            ],
            "text/html": [
              "\n",
              "  <div id=\"df-233d7004-ed58-4671-8f0a-80cfc2975c52\" class=\"colab-df-container\">\n",
              "    <div>\n",
              "<style scoped>\n",
              "    .dataframe tbody tr th:only-of-type {\n",
              "        vertical-align: middle;\n",
              "    }\n",
              "\n",
              "    .dataframe tbody tr th {\n",
              "        vertical-align: top;\n",
              "    }\n",
              "\n",
              "    .dataframe thead th {\n",
              "        text-align: right;\n",
              "    }\n",
              "</style>\n",
              "<table border=\"1\" class=\"dataframe\">\n",
              "  <thead>\n",
              "    <tr style=\"text-align: right;\">\n",
              "      <th></th>\n",
              "      <th>title</th>\n",
              "      <th>desc</th>\n",
              "      <th>link</th>\n",
              "    </tr>\n",
              "  </thead>\n",
              "  <tbody>\n",
              "    <tr>\n",
              "      <th>0</th>\n",
              "      <td>‘눈물의 여왕’ 김수현 인터뷰 이번엔 못 본다 “일정 조율 어려움”</td>\n",
              "      <td>tvN 주말극 ‘눈물의 여왕’을 통해 절정의 인기를 재확인한 배우 김수현의 인터뷰를...</td>\n",
              "      <td>https://sports.khan.co.kr/news/sk_index.html?a...</td>\n",
              "    </tr>\n",
              "    <tr>\n",
              "      <th>1</th>\n",
              "      <td>몰래 훔쳐보고 평점 7.7점…中 '눈물의 여왕' 도둑시청 논란</td>\n",
              "      <td>tvN 드라마 '눈물의 여왕'이 인기를 끌고 있는 가운데 중국에서 또 '도둑 시청'...</td>\n",
              "      <td>https://view.asiae.co.kr/article/2024042310394...</td>\n",
              "    </tr>\n",
              "    <tr>\n",
              "      <th>2</th>\n",
              "      <td>'눈물의 여왕' 또 불법시청..서경덕 \"이젠 中당국이 나서야\"</td>\n",
              "      <td>최근 국내를 넘어 세계적 인기를 끌고 있는 드라마 '눈물의 여왕'이 중국에서 또 '...</td>\n",
              "      <td>https://www.newsis.com/view/?id=NISX20240423_0...</td>\n",
              "    </tr>\n",
              "    <tr>\n",
              "      <th>3</th>\n",
              "      <td>[단독] 박성훈, '눈물의 여왕' 결말 앞두고 오늘(24일) '유퀴즈' 뜬다</td>\n",
              "      <td>배우 박성훈이 '눈물의 여왕' 종영을 앞두고 '유 퀴즈 온 더 블럭'(이하 유퀴즈)...</td>\n",
              "      <td>http://www.osen.co.kr/article/G1112322946</td>\n",
              "    </tr>\n",
              "    <tr>\n",
              "      <th>4</th>\n",
              "      <td>'눈물의 여왕' OST '미안해 미워해 사랑해', 국내 음원 차트 톱10 안착</td>\n",
              "      <td>'눈물의 여왕' OST '미안해 미워해 사랑해'가 드라마 화제성과 더불어 파죽지세 ...</td>\n",
              "      <td>https://www.news1.kr/articles/5394618</td>\n",
              "    </tr>\n",
              "  </tbody>\n",
              "</table>\n",
              "</div>\n",
              "    <div class=\"colab-df-buttons\">\n",
              "\n",
              "  <div class=\"colab-df-container\">\n",
              "    <button class=\"colab-df-convert\" onclick=\"convertToInteractive('df-233d7004-ed58-4671-8f0a-80cfc2975c52')\"\n",
              "            title=\"Convert this dataframe to an interactive table.\"\n",
              "            style=\"display:none;\">\n",
              "\n",
              "  <svg xmlns=\"http://www.w3.org/2000/svg\" height=\"24px\" viewBox=\"0 -960 960 960\">\n",
              "    <path d=\"M120-120v-720h720v720H120Zm60-500h600v-160H180v160Zm220 220h160v-160H400v160Zm0 220h160v-160H400v160ZM180-400h160v-160H180v160Zm440 0h160v-160H620v160ZM180-180h160v-160H180v160Zm440 0h160v-160H620v160Z\"/>\n",
              "  </svg>\n",
              "    </button>\n",
              "\n",
              "  <style>\n",
              "    .colab-df-container {\n",
              "      display:flex;\n",
              "      gap: 12px;\n",
              "    }\n",
              "\n",
              "    .colab-df-convert {\n",
              "      background-color: #E8F0FE;\n",
              "      border: none;\n",
              "      border-radius: 50%;\n",
              "      cursor: pointer;\n",
              "      display: none;\n",
              "      fill: #1967D2;\n",
              "      height: 32px;\n",
              "      padding: 0 0 0 0;\n",
              "      width: 32px;\n",
              "    }\n",
              "\n",
              "    .colab-df-convert:hover {\n",
              "      background-color: #E2EBFA;\n",
              "      box-shadow: 0px 1px 2px rgba(60, 64, 67, 0.3), 0px 1px 3px 1px rgba(60, 64, 67, 0.15);\n",
              "      fill: #174EA6;\n",
              "    }\n",
              "\n",
              "    .colab-df-buttons div {\n",
              "      margin-bottom: 4px;\n",
              "    }\n",
              "\n",
              "    [theme=dark] .colab-df-convert {\n",
              "      background-color: #3B4455;\n",
              "      fill: #D2E3FC;\n",
              "    }\n",
              "\n",
              "    [theme=dark] .colab-df-convert:hover {\n",
              "      background-color: #434B5C;\n",
              "      box-shadow: 0px 1px 3px 1px rgba(0, 0, 0, 0.15);\n",
              "      filter: drop-shadow(0px 1px 2px rgba(0, 0, 0, 0.3));\n",
              "      fill: #FFFFFF;\n",
              "    }\n",
              "  </style>\n",
              "\n",
              "    <script>\n",
              "      const buttonEl =\n",
              "        document.querySelector('#df-233d7004-ed58-4671-8f0a-80cfc2975c52 button.colab-df-convert');\n",
              "      buttonEl.style.display =\n",
              "        google.colab.kernel.accessAllowed ? 'block' : 'none';\n",
              "\n",
              "      async function convertToInteractive(key) {\n",
              "        const element = document.querySelector('#df-233d7004-ed58-4671-8f0a-80cfc2975c52');\n",
              "        const dataTable =\n",
              "          await google.colab.kernel.invokeFunction('convertToInteractive',\n",
              "                                                    [key], {});\n",
              "        if (!dataTable) return;\n",
              "\n",
              "        const docLinkHtml = 'Like what you see? Visit the ' +\n",
              "          '<a target=\"_blank\" href=https://colab.research.google.com/notebooks/data_table.ipynb>data table notebook</a>'\n",
              "          + ' to learn more about interactive tables.';\n",
              "        element.innerHTML = '';\n",
              "        dataTable['output_type'] = 'display_data';\n",
              "        await google.colab.output.renderOutput(dataTable, element);\n",
              "        const docLink = document.createElement('div');\n",
              "        docLink.innerHTML = docLinkHtml;\n",
              "        element.appendChild(docLink);\n",
              "      }\n",
              "    </script>\n",
              "  </div>\n",
              "\n",
              "\n",
              "<div id=\"df-2b81ca46-f49b-447b-a546-f6579089ee1d\">\n",
              "  <button class=\"colab-df-quickchart\" onclick=\"quickchart('df-2b81ca46-f49b-447b-a546-f6579089ee1d')\"\n",
              "            title=\"Suggest charts\"\n",
              "            style=\"display:none;\">\n",
              "\n",
              "<svg xmlns=\"http://www.w3.org/2000/svg\" height=\"24px\"viewBox=\"0 0 24 24\"\n",
              "     width=\"24px\">\n",
              "    <g>\n",
              "        <path d=\"M19 3H5c-1.1 0-2 .9-2 2v14c0 1.1.9 2 2 2h14c1.1 0 2-.9 2-2V5c0-1.1-.9-2-2-2zM9 17H7v-7h2v7zm4 0h-2V7h2v10zm4 0h-2v-4h2v4z\"/>\n",
              "    </g>\n",
              "</svg>\n",
              "  </button>\n",
              "\n",
              "<style>\n",
              "  .colab-df-quickchart {\n",
              "      --bg-color: #E8F0FE;\n",
              "      --fill-color: #1967D2;\n",
              "      --hover-bg-color: #E2EBFA;\n",
              "      --hover-fill-color: #174EA6;\n",
              "      --disabled-fill-color: #AAA;\n",
              "      --disabled-bg-color: #DDD;\n",
              "  }\n",
              "\n",
              "  [theme=dark] .colab-df-quickchart {\n",
              "      --bg-color: #3B4455;\n",
              "      --fill-color: #D2E3FC;\n",
              "      --hover-bg-color: #434B5C;\n",
              "      --hover-fill-color: #FFFFFF;\n",
              "      --disabled-bg-color: #3B4455;\n",
              "      --disabled-fill-color: #666;\n",
              "  }\n",
              "\n",
              "  .colab-df-quickchart {\n",
              "    background-color: var(--bg-color);\n",
              "    border: none;\n",
              "    border-radius: 50%;\n",
              "    cursor: pointer;\n",
              "    display: none;\n",
              "    fill: var(--fill-color);\n",
              "    height: 32px;\n",
              "    padding: 0;\n",
              "    width: 32px;\n",
              "  }\n",
              "\n",
              "  .colab-df-quickchart:hover {\n",
              "    background-color: var(--hover-bg-color);\n",
              "    box-shadow: 0 1px 2px rgba(60, 64, 67, 0.3), 0 1px 3px 1px rgba(60, 64, 67, 0.15);\n",
              "    fill: var(--button-hover-fill-color);\n",
              "  }\n",
              "\n",
              "  .colab-df-quickchart-complete:disabled,\n",
              "  .colab-df-quickchart-complete:disabled:hover {\n",
              "    background-color: var(--disabled-bg-color);\n",
              "    fill: var(--disabled-fill-color);\n",
              "    box-shadow: none;\n",
              "  }\n",
              "\n",
              "  .colab-df-spinner {\n",
              "    border: 2px solid var(--fill-color);\n",
              "    border-color: transparent;\n",
              "    border-bottom-color: var(--fill-color);\n",
              "    animation:\n",
              "      spin 1s steps(1) infinite;\n",
              "  }\n",
              "\n",
              "  @keyframes spin {\n",
              "    0% {\n",
              "      border-color: transparent;\n",
              "      border-bottom-color: var(--fill-color);\n",
              "      border-left-color: var(--fill-color);\n",
              "    }\n",
              "    20% {\n",
              "      border-color: transparent;\n",
              "      border-left-color: var(--fill-color);\n",
              "      border-top-color: var(--fill-color);\n",
              "    }\n",
              "    30% {\n",
              "      border-color: transparent;\n",
              "      border-left-color: var(--fill-color);\n",
              "      border-top-color: var(--fill-color);\n",
              "      border-right-color: var(--fill-color);\n",
              "    }\n",
              "    40% {\n",
              "      border-color: transparent;\n",
              "      border-right-color: var(--fill-color);\n",
              "      border-top-color: var(--fill-color);\n",
              "    }\n",
              "    60% {\n",
              "      border-color: transparent;\n",
              "      border-right-color: var(--fill-color);\n",
              "    }\n",
              "    80% {\n",
              "      border-color: transparent;\n",
              "      border-right-color: var(--fill-color);\n",
              "      border-bottom-color: var(--fill-color);\n",
              "    }\n",
              "    90% {\n",
              "      border-color: transparent;\n",
              "      border-bottom-color: var(--fill-color);\n",
              "    }\n",
              "  }\n",
              "</style>\n",
              "\n",
              "  <script>\n",
              "    async function quickchart(key) {\n",
              "      const quickchartButtonEl =\n",
              "        document.querySelector('#' + key + ' button');\n",
              "      quickchartButtonEl.disabled = true;  // To prevent multiple clicks.\n",
              "      quickchartButtonEl.classList.add('colab-df-spinner');\n",
              "      try {\n",
              "        const charts = await google.colab.kernel.invokeFunction(\n",
              "            'suggestCharts', [key], {});\n",
              "      } catch (error) {\n",
              "        console.error('Error during call to suggestCharts:', error);\n",
              "      }\n",
              "      quickchartButtonEl.classList.remove('colab-df-spinner');\n",
              "      quickchartButtonEl.classList.add('colab-df-quickchart-complete');\n",
              "    }\n",
              "    (() => {\n",
              "      let quickchartButtonEl =\n",
              "        document.querySelector('#df-2b81ca46-f49b-447b-a546-f6579089ee1d button');\n",
              "      quickchartButtonEl.style.display =\n",
              "        google.colab.kernel.accessAllowed ? 'block' : 'none';\n",
              "    })();\n",
              "  </script>\n",
              "</div>\n",
              "\n",
              "    </div>\n",
              "  </div>\n"
            ],
            "application/vnd.google.colaboratory.intrinsic+json": {
              "type": "dataframe",
              "variable_name": "df",
              "summary": "{\n  \"name\": \"df\",\n  \"rows\": 10,\n  \"fields\": [\n    {\n      \"column\": \"title\",\n      \"properties\": {\n        \"dtype\": \"string\",\n        \"num_unique_values\": 10,\n        \"samples\": [\n          \"'\\ub208\\ubb3c\\uc758 \\uc5ec\\uc655' \\uae40\\uc218\\ud604\\u2192\\uae40\\uc9c0\\uc6d0, 20% \\uc2dc\\uccad\\ub960 \\ub3cc\\ud30c\\uc5d0 \\\"\\uc0ac\\ub791\\ud569\\ub2c8\\ub2e4\\\"\",\n          \"\\ubab0\\ub798 \\ud6d4\\uccd0\\ubcf4\\uace0 \\ud3c9\\uc810 7.7\\uc810\\u2026\\u4e2d '\\ub208\\ubb3c\\uc758 \\uc5ec\\uc655' \\ub3c4\\ub451\\uc2dc\\uccad \\ub17c\\ub780\",\n          \"\\u2018\\ub208\\ubb3c\\uc758 \\uc5ec\\uc655\\u2019 \\uc18d \\uae40\\uc218\\ud604 \\ucc29\\uc6a9 \\uc2dc\\uacc4\\u2026\\ubbf8\\ub3c4 \\uba40\\ud2f0\\ud3ec\\ud2b8 TV \\ube45 \\ub370\\uc774\\ud2b8\"\n        ],\n        \"semantic_type\": \"\",\n        \"description\": \"\"\n      }\n    },\n    {\n      \"column\": \"desc\",\n      \"properties\": {\n        \"dtype\": \"string\",\n        \"num_unique_values\": 10,\n        \"samples\": [\n          \"'\\ub208\\ubb3c\\uc758 \\uc5ec\\uc655' \\uc8fc\\uc5ed\\ub4e4\\uc774 20% \\uc2dc\\uccad\\ub960 \\ub3cc\\ud30c\\uc5d0 \\ub300\\ud55c \\uac10\\uc0ac\\ud55c \\ub9c8\\uc74c\\uc744 \\uc804\\ud588\\ub2e4. 24\\uc77c tvN \\ub4dc\\ub77c\\ub9c8 \\uacf5\\uc2dd \\uc778\\uc2a4\\ud0c0\\uadf8\\ub7a8\\uc5d0\\ub294 \\ud1a0\\uc77c\\ub4dc\\ub77c\\ub9c8 '\\ub208\\ubb3c\\uc758 \\uc5ec\\uc655'(\\uadf9\\ubcf8 \\ubc15\\uc9c0\\uc740\\u00b7\\uc5f0\\ucd9c \\uc7a5\\uc601\\uc6b0, \\uae40\\ud76c\\uc6d0)\\uc5d0\\uc11c \\ud65c\\uc57d \\uc911\\uc778 \\uae40\\uc218\\ud604, \\uae40\\uc9c0\\uc6d0, \\ubc15\\uc131\\ud6c8, \\uacfd\\ub3d9\\uc5f0, \\uc774\\uc8fc\\ube48\\uc758 20% \\ub3cc\\ud30c \\uae30\\ub150 \\uc778\\uc99d\\uc0f7\\uc774 \\uac8c\\uc7ac\\ub410\\ub2e4. '\\ub208\\ubb3c\\uc758 \\uc5ec\\uc655'\\uc740 \\uc9c0\\ub09c 14\\uc77c \\ubc29\\uc1a1\\ub41c 12\\ud68c\\ub97c...\",\n          \"tvN \\ub4dc\\ub77c\\ub9c8 '\\ub208\\ubb3c\\uc758 \\uc5ec\\uc655'\\uc774 \\uc778\\uae30\\ub97c \\ub04c\\uace0 \\uc788\\ub294 \\uac00\\uc6b4\\ub370 \\uc911\\uad6d\\uc5d0\\uc11c \\ub610 '\\ub3c4\\ub451 \\uc2dc\\uccad'\\uc744 \\ud574 \\ub17c\\ub780\\uc774 \\uc77c\\uace0 \\uc788\\ub2e4. 23\\uc77c \\uc11c\\uacbd\\ub355 \\uc131\\uc2e0\\uc5ec\\ub300 \\uad50\\uc218\\ub294 \\uc790\\uc2e0\\uc758 \\ud398\\uc774\\uc2a4\\ubd81\\uc744 \\ud1b5\\ud574 \\\"\\ucd5c\\uadfc \\uad6d\\ub0b4\\ub97c \\ub118\\uc5b4 \\ub137\\ud50c\\ub9ad\\uc2a4\\ub97c \\ud1b5\\ud574 \\uc138\\uacc4\\uc801\\uc778 \\uc778\\uae30\\ub97c \\ub04c\\uace0 \\uc788\\ub294 \\ub4dc\\ub77c\\ub9c8 '\\ub208\\ubb3c\\uc758 \\uc5ec\\uc655' \\ud6d4\\uccd0\\ubcf4\\uae30\\uac00 \\uc911\\uad6d\\uc5d0\\uc11c \\ub610 \\uae30\\uc2b9\\uc744 \\ubd80\\ub9ac\\uace0 \\uc788\\ub2e4\\\"\\uace0 \\uc9c0\\uc801\\ud588\\ub2e4. \\uadf8\\ub294...\",\n          \"\\uc2dc\\uccad\\ub960 \\uc0c1\\uc2b9\\uace1\\uc120\\uc744 \\ud0c0\\uace0 \\uc788\\ub294 \\ub4dc\\ub77c\\ub9c8 \\u2018\\ub208\\ubb3c\\uc758 \\uc5ec\\uc655\\u2019\\uc774 \\uc5ed\\ub300\\uae09 \\uc2dc\\uccad\\ub960\\uc744 \\uae30\\ub85d\\ud574 \\uc8fc\\ubaa9\\uc744 \\ubc1b\\uc558\\ub2e4. tvN \\ud1a0\\uc77c \\ub4dc\\ub77c\\ub9c8 \\u2018\\ub208\\ubb3c\\uc758 \\uc5ec\\uc655\\u2019\\uc740 \\ud038\\uc988 \\uadf8\\ub8f9 \\uc7ac\\ubc8c 3\\uc138\\uc774\\uc790 \\ubc31\\ud654\\uc810\\uc758 \\uc5ec\\uc655\\uc778 \\u2018\\ud64d\\ud574\\uc778(\\ubc30\\uc6b0 \\uae40\\uc9c0\\uc6d0)\\u2019\\uacfc \\uc6a9\\ub450\\ub9ac \\uc774\\uc7a5 \\uc544\\ub4e4\\uc774\\uc790 \\uc288\\ud37c\\ub9c8\\ucf13 \\uc655\\uc790 \\u2018\\ubc31\\ud604\\uc6b0(\\ubc30\\uc6b0 \\uae40\\uc218\\ud604)\\u2019 3\\ub144\\ucc28 \\ubd80\\ubd80\\uc758 \\uc544\\ucc14\\ud55c \\uc704\\uae30\\uc640 \\uae30\\uc801\\ucc98\\ub7fc...\"\n        ],\n        \"semantic_type\": \"\",\n        \"description\": \"\"\n      }\n    },\n    {\n      \"column\": \"link\",\n      \"properties\": {\n        \"dtype\": \"string\",\n        \"num_unique_values\": 10,\n        \"samples\": [\n          \"http://www.tvdaily.co.kr/read.php3?aid=17139402601708633002\",\n          \"https://view.asiae.co.kr/article/2024042310394384239\",\n          \"https://isplus.com/article/view/isp202404240096\"\n        ],\n        \"semantic_type\": \"\",\n        \"description\": \"\"\n      }\n    }\n  ]\n}"
            }
          },
          "metadata": {},
          "execution_count": 14
        }
      ],
      "source": [
        "# pandas DataFrame으로 나타내기\n",
        "import pandas as pd\n",
        "\n",
        "data = {'title': t_list, 'desc':d_list,'link':link_list}\n",
        "df = pd.DataFrame(data)\n",
        "\n",
        "df.to_csv('my_naver_news.csv', index=False) # 파일로 저장하기\n",
        "\n",
        "df.head()"
      ]
    },
    {
      "cell_type": "markdown",
      "id": "L6_vCg4fGroe",
      "metadata": {
        "id": "L6_vCg4fGroe"
      },
      "source": [
        "#### **[실습] : 할리스 커피매장 정보 수집하기**\n",
        " - 매장정보 : https://www.hollys.co.kr/store/korea/korStore2.do?pageNo=2&sido=&gugun=&store=\n"
      ]
    },
    {
      "cell_type": "code",
      "execution_count": null,
      "id": "2c58f5cf",
      "metadata": {
        "id": "2c58f5cf",
        "colab": {
          "base_uri": "https://localhost:8080/",
          "height": 1000
        },
        "outputId": "66a223bc-0f71-4616-e074-3bcdf0add4f9"
      },
      "outputs": [
        {
          "output_type": "stream",
          "name": "stdout",
          "text": [
            "Hollys store crawling >>>>>>>>>>>>>>>>>>>>>>>>>>\n",
            "https://www.hollys.co.kr/store/korea/korStore2.do?pageNo=1&sido=&gugun=&store=\n",
            "[001] 왕십리역점  \t 서울 성동구\n",
            "[002] 강릉안목해변점  \t 강원 강릉시\n",
            "[003] 군산수송점  \t 전북 군산시\n",
            "[004] 광주운암점  \t 광주 북구\n",
            "[005] 구리돌다리점  \t 경기 구리시\n",
            "[006] 소월아트홀점  \t 서울 성동구\n",
            "[007] 송파거여역점  \t 서울 송파구\n",
            "[008] 경주주상절리점  \t 경북 경주시\n",
            "[009] (하)홍성휴게소점  \t 충남 홍성군\n",
            "[010] (상)홍성휴게소점  \t 충남 홍성군\n",
            "https://www.hollys.co.kr/store/korea/korStore2.do?pageNo=2&sido=&gugun=&store=\n",
            "[011] 부산사상광장점  \t 부산 사상구\n",
            "[012] 인천항국제여객터미널점  \t 인천 연수구\n",
            "[013] 분당파크타운점  \t 경기 성남시 분당구\n",
            "[014] 하남덕풍점  \t 경기 하남시\n",
            "[015] 대전오류점  \t 대전 중구\n",
            "[016] 계룡대점  \t 충남 계룡시\n",
            "[017] 대전타임월드점  \t 대전 서구\n",
            "[018] 구미오태DT점  \t 경북 구미시\n",
            "[019] 화정DI점  \t 경기 고양시 덕양구\n",
            "[020] 부산광복점  \t 부산 중구\n",
            "https://www.hollys.co.kr/store/korea/korStore2.do?pageNo=3&sido=&gugun=&store=\n",
            "[021] 과천정보타운점  \t 경기 과천시\n",
            "[022] 양평북한강DI점  \t 경기 양평군\n",
            "[023] 완주삼봉점  \t 전북 완주군\n",
            "[024] 잠실새내역점  \t 서울 송파구\n",
            "[025] 화성남양점  \t 경기 화성시\n",
            "[026] 중랑역점  \t 서울 중랑구\n",
            "[027] 분당서울대병원점  \t 경기 성남시 분당구\n",
            "[028] 강변역점  \t 서울 광진구\n",
            "[029] 대구중동점  \t 대구 수성구\n",
            "[030] 오산궐동점  \t 경기 오산시\n",
            "https://www.hollys.co.kr/store/korea/korStore2.do?pageNo=4&sido=&gugun=&store=\n",
            "[031] 서서울공원점  \t 서울 양천구\n",
            "[032] 오산역점  \t 경기 오산시\n",
            "[033] 남동케이원점  \t 인천 남동구\n",
            "[034] 용산아이파크몰점  \t 서울 용산구\n",
            "[035] 등촌역점  \t 서울 강서구\n",
            "[036] 부산서부터미널점  \t 부산 사상구\n",
            "[037] 춘천강원대점  \t 강원 춘천시\n",
            "[038] 송도대홍프라자점  \t 인천 연수구\n",
            "[039] 순천조례점  \t 전남 순천시\n",
            "[040] 진주혁신도시점  \t 경남 진주시\n",
            "https://www.hollys.co.kr/store/korea/korStore2.do?pageNo=5&sido=&gugun=&store=\n",
            "[041] 논산내동점  \t 충남 논산시\n",
            "[042] 오류동점  \t 서울 구로구\n",
            "[043] 부천역점  \t 경기 고양시 일산동구\n",
            "[044] 화성병점점  \t 경기 화성시\n",
            "[045] 군산은파유원지DI점  \t 전북 군산시\n",
            "[046] 잠실학원사거리점  \t 서울 송파구\n",
            "[047] 구미시청점  \t 경북 구미시\n",
            "[048] 화성향남DT점  \t 경기 화성시\n",
            "[049] 발산역점  \t 서울 강서구\n",
            "[050] 목동파리공원점  \t 서울 양천구\n",
            "https://www.hollys.co.kr/store/korea/korStore2.do?pageNo=6&sido=&gugun=&store=\n",
            "[051] 인천한길안과병원점  \t 인천 부평구\n",
            "[052] 북한산DI점  \t 서울 은평구\n",
            "[053] 울산시청점  \t 울산 남구\n",
            "[054] 울산성남점  \t 울산 중구\n",
            "[055] 구미상모사곡점  \t 경북 구미시\n",
            "[056] 신도림테크노마트점  \t 서울 구로구\n",
            "[057] 제주황사평DT점  \t 제주 제주시\n",
            "[058] KG타워점  \t 서울 중구\n",
            "[059] 올림픽공원역점  \t 서울 송파구\n",
            "[060] 길동포유르센티점  \t 서울 강동구\n",
            "https://www.hollys.co.kr/store/korea/korStore2.do?pageNo=7&sido=&gugun=&store=\n",
            "[061] 울산매곡점  \t 울산 북구\n",
            "[062] 목동삼성쉐르빌점  \t 서울 양천구\n",
            "[063] 신촌역점  \t 서울 마포구\n",
            "[064] 울산국가정원점  \t 울산 중구\n",
            "[065] 노원역점  \t 서울 노원구\n",
            "[066] 다산제이원점  \t 경기 남양주시\n",
            "[067] BMC점  \t 경기 고양시 일산동구\n",
            "[068] 청주율량현대점  \t 충북 청주시 청원구\n",
            "[069] 전북대덕진광장점  \t 전북 전주시 덕진구\n",
            "[070] 가산대륭22차점  \t 서울 금천구\n",
            "https://www.hollys.co.kr/store/korea/korStore2.do?pageNo=8&sido=&gugun=&store=\n",
            "[071] 진주초전점  \t 경남 진주시\n",
            "[072] 연세대학교원주장례식장점  \t 강원 원주시\n",
            "[073] 원주세브란스기독병원점  \t 강원 원주시\n",
            "[074] 오송역사점  \t 충북 청주시 흥덕구\n",
            "[075] 순천향대학교 천안병원 외래점  \t 충남 천안시 동남구\n",
            "[076] 순천향대학교 천안병원 본관점  \t 충남 천안시 동남구\n",
            "[077] (논)탄천휴게소2호점  \t 충남 공주시\n",
            "[078] 의정부역점  \t 경기 의정부시\n",
            "[079] 이도점  \t 제주 제주시\n",
            "[080] 연트럴파크점  \t 서울 마포구\n",
            "https://www.hollys.co.kr/store/korea/korStore2.do?pageNo=9&sido=&gugun=&store=\n",
            "[081] 고양덕은점  \t 경기 고양시 덕양구\n",
            "[082] 강남우리라운지점  \t 서울 강남구\n",
            "[083] 수원영통점  \t 경기 수원시\n",
            "[084] 원흥역점  \t 경기 고양시 덕양구\n",
            "[085] 이태원역점  \t 서울 용산구\n",
            "[086] 오목교역점  \t 서울 양천구\n",
            "[087] 메가박스프리미엄만경관점  \t 대구 서구\n",
            "[088] 순천신대점  \t 전남 순천시\n",
            "[089] 시흥사거리점  \t 서울 금천구\n",
            "[090] 전주효천점  \t 전북 전주시 완산구\n",
            "https://www.hollys.co.kr/store/korea/korStore2.do?pageNo=10&sido=&gugun=&store=\n",
            "[091] 제주도두해안DT점  \t 제주 제주시\n",
            "[092] 부산화명점  \t 부산 북구\n",
            "[093] 방배역점  \t 서울 서초구\n",
            "[094] 고양향동점  \t 경기 고양시 덕양구\n",
            "[095] 광주북구청점  \t 광주 북구\n",
            "[096] 전주한옥마을점  \t 전북 전주시 완산구\n",
            "[097] (상)홍천휴게소R점  \t 강원 홍천군\n",
            "[098] 부산시민공원점  \t 부산 부산진구\n",
            "[099] 충남도청점  \t 충남 홍성군\n",
            "[100] 성남모란역점  \t 경기 고양시 일산동구\n"
          ]
        },
        {
          "output_type": "error",
          "ename": "OSError",
          "evalue": "Cannot save file into a non-existent directory: 'data'",
          "traceback": [
            "\u001b[0;31m---------------------------------------------------------------------------\u001b[0m",
            "\u001b[0;31mOSError\u001b[0m                                   Traceback (most recent call last)",
            "\u001b[0;32m<ipython-input-15-b1be760359fa>\u001b[0m in \u001b[0;36m<cell line: 50>\u001b[0;34m()\u001b[0m\n\u001b[1;32m     48\u001b[0m \u001b[0;34m\u001b[0m\u001b[0m\n\u001b[1;32m     49\u001b[0m \u001b[0;34m\u001b[0m\u001b[0m\n\u001b[0;32m---> 50\u001b[0;31m \u001b[0mdf\u001b[0m \u001b[0;34m=\u001b[0m \u001b[0mmain\u001b[0m\u001b[0;34m(\u001b[0m\u001b[0;34m)\u001b[0m\u001b[0;34m\u001b[0m\u001b[0;34m\u001b[0m\u001b[0m\n\u001b[0m\u001b[1;32m     51\u001b[0m \u001b[0mdf\u001b[0m\u001b[0;34m\u001b[0m\u001b[0;34m\u001b[0m\u001b[0m\n",
            "\u001b[0;32m<ipython-input-15-b1be760359fa>\u001b[0m in \u001b[0;36mmain\u001b[0;34m()\u001b[0m\n\u001b[1;32m     43\u001b[0m     \u001b[0mhollys_store\u001b[0m\u001b[0;34m(\u001b[0m\u001b[0mresult\u001b[0m\u001b[0;34m)\u001b[0m   \u001b[0;31m#[CODE 1] 호출\u001b[0m\u001b[0;34m\u001b[0m\u001b[0;34m\u001b[0m\u001b[0m\n\u001b[1;32m     44\u001b[0m     \u001b[0mhollys_tbl\u001b[0m \u001b[0;34m=\u001b[0m \u001b[0mpd\u001b[0m\u001b[0;34m.\u001b[0m\u001b[0mDataFrame\u001b[0m\u001b[0;34m(\u001b[0m\u001b[0mresult\u001b[0m\u001b[0;34m,\u001b[0m \u001b[0mcolumns\u001b[0m\u001b[0;34m=\u001b[0m\u001b[0;34m(\u001b[0m\u001b[0;34m'store'\u001b[0m\u001b[0;34m,\u001b[0m \u001b[0;34m'sido-gu'\u001b[0m\u001b[0;34m,\u001b[0m \u001b[0;34m'address'\u001b[0m\u001b[0;34m,\u001b[0m\u001b[0;34m'phone'\u001b[0m\u001b[0;34m)\u001b[0m\u001b[0;34m)\u001b[0m\u001b[0;34m\u001b[0m\u001b[0;34m\u001b[0m\u001b[0m\n\u001b[0;32m---> 45\u001b[0;31m     \u001b[0mhollys_tbl\u001b[0m\u001b[0;34m.\u001b[0m\u001b[0mto_csv\u001b[0m\u001b[0;34m(\u001b[0m\u001b[0mFILE\u001b[0m\u001b[0;34m,\u001b[0m \u001b[0mencoding\u001b[0m\u001b[0;34m=\u001b[0m\u001b[0;34m'cp949'\u001b[0m\u001b[0;34m,\u001b[0m \u001b[0mmode\u001b[0m\u001b[0;34m=\u001b[0m\u001b[0;34m'w'\u001b[0m\u001b[0;34m,\u001b[0m \u001b[0mindex\u001b[0m\u001b[0;34m=\u001b[0m\u001b[0;32mTrue\u001b[0m\u001b[0;34m)\u001b[0m\u001b[0;34m\u001b[0m\u001b[0;34m\u001b[0m\u001b[0m\n\u001b[0m\u001b[1;32m     46\u001b[0m     \u001b[0;32mdel\u001b[0m \u001b[0mresult\u001b[0m\u001b[0;34m[\u001b[0m\u001b[0;34m:\u001b[0m\u001b[0;34m]\u001b[0m\u001b[0;34m\u001b[0m\u001b[0;34m\u001b[0m\u001b[0m\n\u001b[1;32m     47\u001b[0m     \u001b[0;32mreturn\u001b[0m \u001b[0mhollys_tbl\u001b[0m\u001b[0;34m\u001b[0m\u001b[0;34m\u001b[0m\u001b[0m\n",
            "\u001b[0;32m/usr/local/lib/python3.10/dist-packages/pandas/core/generic.py\u001b[0m in \u001b[0;36mto_csv\u001b[0;34m(self, path_or_buf, sep, na_rep, float_format, columns, header, index, index_label, mode, encoding, compression, quoting, quotechar, lineterminator, chunksize, date_format, doublequote, escapechar, decimal, errors, storage_options)\u001b[0m\n\u001b[1;32m   3770\u001b[0m         )\n\u001b[1;32m   3771\u001b[0m \u001b[0;34m\u001b[0m\u001b[0m\n\u001b[0;32m-> 3772\u001b[0;31m         return DataFrameRenderer(formatter).to_csv(\n\u001b[0m\u001b[1;32m   3773\u001b[0m             \u001b[0mpath_or_buf\u001b[0m\u001b[0;34m,\u001b[0m\u001b[0;34m\u001b[0m\u001b[0;34m\u001b[0m\u001b[0m\n\u001b[1;32m   3774\u001b[0m             \u001b[0mlineterminator\u001b[0m\u001b[0;34m=\u001b[0m\u001b[0mlineterminator\u001b[0m\u001b[0;34m,\u001b[0m\u001b[0;34m\u001b[0m\u001b[0;34m\u001b[0m\u001b[0m\n",
            "\u001b[0;32m/usr/local/lib/python3.10/dist-packages/pandas/io/formats/format.py\u001b[0m in \u001b[0;36mto_csv\u001b[0;34m(self, path_or_buf, encoding, sep, columns, index_label, mode, compression, quoting, quotechar, lineterminator, chunksize, date_format, doublequote, escapechar, errors, storage_options)\u001b[0m\n\u001b[1;32m   1184\u001b[0m             \u001b[0mformatter\u001b[0m\u001b[0;34m=\u001b[0m\u001b[0mself\u001b[0m\u001b[0;34m.\u001b[0m\u001b[0mfmt\u001b[0m\u001b[0;34m,\u001b[0m\u001b[0;34m\u001b[0m\u001b[0;34m\u001b[0m\u001b[0m\n\u001b[1;32m   1185\u001b[0m         )\n\u001b[0;32m-> 1186\u001b[0;31m         \u001b[0mcsv_formatter\u001b[0m\u001b[0;34m.\u001b[0m\u001b[0msave\u001b[0m\u001b[0;34m(\u001b[0m\u001b[0;34m)\u001b[0m\u001b[0;34m\u001b[0m\u001b[0;34m\u001b[0m\u001b[0m\n\u001b[0m\u001b[1;32m   1187\u001b[0m \u001b[0;34m\u001b[0m\u001b[0m\n\u001b[1;32m   1188\u001b[0m         \u001b[0;32mif\u001b[0m \u001b[0mcreated_buffer\u001b[0m\u001b[0;34m:\u001b[0m\u001b[0;34m\u001b[0m\u001b[0;34m\u001b[0m\u001b[0m\n",
            "\u001b[0;32m/usr/local/lib/python3.10/dist-packages/pandas/io/formats/csvs.py\u001b[0m in \u001b[0;36msave\u001b[0;34m(self)\u001b[0m\n\u001b[1;32m    238\u001b[0m         \"\"\"\n\u001b[1;32m    239\u001b[0m         \u001b[0;31m# apply compression and byte/text conversion\u001b[0m\u001b[0;34m\u001b[0m\u001b[0;34m\u001b[0m\u001b[0m\n\u001b[0;32m--> 240\u001b[0;31m         with get_handle(\n\u001b[0m\u001b[1;32m    241\u001b[0m             \u001b[0mself\u001b[0m\u001b[0;34m.\u001b[0m\u001b[0mfilepath_or_buffer\u001b[0m\u001b[0;34m,\u001b[0m\u001b[0;34m\u001b[0m\u001b[0;34m\u001b[0m\u001b[0m\n\u001b[1;32m    242\u001b[0m             \u001b[0mself\u001b[0m\u001b[0;34m.\u001b[0m\u001b[0mmode\u001b[0m\u001b[0;34m,\u001b[0m\u001b[0;34m\u001b[0m\u001b[0;34m\u001b[0m\u001b[0m\n",
            "\u001b[0;32m/usr/local/lib/python3.10/dist-packages/pandas/io/common.py\u001b[0m in \u001b[0;36mget_handle\u001b[0;34m(path_or_buf, mode, encoding, compression, memory_map, is_text, errors, storage_options)\u001b[0m\n\u001b[1;32m    735\u001b[0m     \u001b[0;31m# Only for write methods\u001b[0m\u001b[0;34m\u001b[0m\u001b[0;34m\u001b[0m\u001b[0m\n\u001b[1;32m    736\u001b[0m     \u001b[0;32mif\u001b[0m \u001b[0;34m\"r\"\u001b[0m \u001b[0;32mnot\u001b[0m \u001b[0;32min\u001b[0m \u001b[0mmode\u001b[0m \u001b[0;32mand\u001b[0m \u001b[0mis_path\u001b[0m\u001b[0;34m:\u001b[0m\u001b[0;34m\u001b[0m\u001b[0;34m\u001b[0m\u001b[0m\n\u001b[0;32m--> 737\u001b[0;31m         \u001b[0mcheck_parent_directory\u001b[0m\u001b[0;34m(\u001b[0m\u001b[0mstr\u001b[0m\u001b[0;34m(\u001b[0m\u001b[0mhandle\u001b[0m\u001b[0;34m)\u001b[0m\u001b[0;34m)\u001b[0m\u001b[0;34m\u001b[0m\u001b[0;34m\u001b[0m\u001b[0m\n\u001b[0m\u001b[1;32m    738\u001b[0m \u001b[0;34m\u001b[0m\u001b[0m\n\u001b[1;32m    739\u001b[0m     \u001b[0;32mif\u001b[0m \u001b[0mcompression\u001b[0m\u001b[0;34m:\u001b[0m\u001b[0;34m\u001b[0m\u001b[0;34m\u001b[0m\u001b[0m\n",
            "\u001b[0;32m/usr/local/lib/python3.10/dist-packages/pandas/io/common.py\u001b[0m in \u001b[0;36mcheck_parent_directory\u001b[0;34m(path)\u001b[0m\n\u001b[1;32m    598\u001b[0m     \u001b[0mparent\u001b[0m \u001b[0;34m=\u001b[0m \u001b[0mPath\u001b[0m\u001b[0;34m(\u001b[0m\u001b[0mpath\u001b[0m\u001b[0;34m)\u001b[0m\u001b[0;34m.\u001b[0m\u001b[0mparent\u001b[0m\u001b[0;34m\u001b[0m\u001b[0;34m\u001b[0m\u001b[0m\n\u001b[1;32m    599\u001b[0m     \u001b[0;32mif\u001b[0m \u001b[0;32mnot\u001b[0m \u001b[0mparent\u001b[0m\u001b[0;34m.\u001b[0m\u001b[0mis_dir\u001b[0m\u001b[0;34m(\u001b[0m\u001b[0;34m)\u001b[0m\u001b[0;34m:\u001b[0m\u001b[0;34m\u001b[0m\u001b[0;34m\u001b[0m\u001b[0m\n\u001b[0;32m--> 600\u001b[0;31m         \u001b[0;32mraise\u001b[0m \u001b[0mOSError\u001b[0m\u001b[0;34m(\u001b[0m\u001b[0;34mrf\"Cannot save file into a non-existent directory: '{parent}'\"\u001b[0m\u001b[0;34m)\u001b[0m\u001b[0;34m\u001b[0m\u001b[0;34m\u001b[0m\u001b[0m\n\u001b[0m\u001b[1;32m    601\u001b[0m \u001b[0;34m\u001b[0m\u001b[0m\n\u001b[1;32m    602\u001b[0m \u001b[0;34m\u001b[0m\u001b[0m\n",
            "\u001b[0;31mOSError\u001b[0m: Cannot save file into a non-existent directory: 'data'"
          ]
        }
      ],
      "source": [
        "from bs4 import BeautifulSoup\n",
        "import urllib.request\n",
        "import pandas as pd\n",
        "import datetime\n",
        "\n",
        "MAX = 100    # 총 가져올 건수\n",
        "FILE = './data/hollys_매장정보.csv'\n",
        "\n",
        "#[CODE 1]\n",
        "def hollys_store(result):\n",
        "    cnt, MAX_flag = 0, False\n",
        "    for page in range(1,59):\n",
        "#         Hollys_url = 'https://www.hollys.co.kr/store/korea/korStore.do?pageNo=%d&sido=&gugun=&store=' %page\n",
        "        Hollys_url = 'https://www.hollys.co.kr/store/korea/korStore2.do?pageNo=%d&sido=&gugun=&store=' %page\n",
        "        print(Hollys_url)\n",
        "        html = urllib.request.urlopen(Hollys_url)\n",
        "        soupHollys = BeautifulSoup(html, 'html.parser')\n",
        "        tag_tbody = soupHollys.find('tbody')\n",
        "        for store in tag_tbody.find_all('tr'):\n",
        "            if len(store) <= 3:\n",
        "                break\n",
        "            store_td = store.find_all('td')\n",
        "            store_name = store_td[1].string\n",
        "            store_sido = store_td[0].string\n",
        "            store_address = store_td[3].string\n",
        "            store_phone = store_td[5].string\n",
        "            result.append([store_name]+[store_sido]+[store_address]\n",
        "                          +[store_phone])\n",
        "            cnt += 1\n",
        "            print(f'[{cnt:0>3}] {store_name}  \\t {store_sido}')\n",
        "            if cnt == MAX:\n",
        "                MAX_flag = True\n",
        "                break\n",
        "        if MAX_flag:\n",
        "            break\n",
        "\n",
        "    return\n",
        "\n",
        "#[CODE 0]\n",
        "def main():\n",
        "    result = []\n",
        "    print('Hollys store crawling >>>>>>>>>>>>>>>>>>>>>>>>>>')\n",
        "    hollys_store(result)   #[CODE 1] 호출\n",
        "    hollys_tbl = pd.DataFrame(result, columns=('store', 'sido-gu', 'address','phone'))\n",
        "    hollys_tbl.to_csv(FILE, encoding='cp949', mode='w', index=True)\n",
        "    del result[:]\n",
        "    return hollys_tbl\n",
        "\n",
        "\n",
        "df = main()\n",
        "df"
      ]
    },
    {
      "cell_type": "markdown",
      "id": "OTLFBkYIHVZJ",
      "metadata": {
        "id": "OTLFBkYIHVZJ"
      },
      "source": [
        "#### **[실습] :  텍스트 데이터를 토큰화하여 빈도수를 구하고 빈도수에 따른 워드클라우드 만들기**\n",
        "- 앞에서 수집한 할리스 커피매장의 매장 위치 정보 중 지역(**sido-gu**) 정보를 이용하여 워드 클라우드 만들기\n",
        "- 필요한 라이브러리 및 주의사항\n",
        "    - 사이킷런 CountVectorizer클래스 사용 : 단어 빈도수 추출\n",
        "    - 단, 한글에서 불용어 처리 및 가중치 처리 등 자연어 텍스트 전처리에 필요한 여러 가지 방법은 여기서 다루지 않는다."
      ]
    },
    {
      "cell_type": "code",
      "execution_count": null,
      "id": "AJ1u5JwhHfjF",
      "metadata": {
        "id": "AJ1u5JwhHfjF"
      },
      "outputs": [],
      "source": [
        "# 사이킷런 설치하기\n",
        "!pip install scikit-learn"
      ]
    },
    {
      "cell_type": "code",
      "execution_count": null,
      "id": "d16d6e91",
      "metadata": {
        "colab": {
          "base_uri": "https://localhost:8080/"
        },
        "id": "d16d6e91",
        "outputId": "6bc14332-50f2-4179-80f5-07736e59ea83"
      },
      "outputs": [
        {
          "output_type": "stream",
          "name": "stdout",
          "text": [
            "Requirement already satisfied: wordcloud in /usr/local/lib/python3.10/dist-packages (1.9.3)\n",
            "Requirement already satisfied: numpy>=1.6.1 in /usr/local/lib/python3.10/dist-packages (from wordcloud) (1.25.2)\n",
            "Requirement already satisfied: pillow in /usr/local/lib/python3.10/dist-packages (from wordcloud) (9.4.0)\n",
            "Requirement already satisfied: matplotlib in /usr/local/lib/python3.10/dist-packages (from wordcloud) (3.7.1)\n",
            "Requirement already satisfied: contourpy>=1.0.1 in /usr/local/lib/python3.10/dist-packages (from matplotlib->wordcloud) (1.2.1)\n",
            "Requirement already satisfied: cycler>=0.10 in /usr/local/lib/python3.10/dist-packages (from matplotlib->wordcloud) (0.12.1)\n",
            "Requirement already satisfied: fonttools>=4.22.0 in /usr/local/lib/python3.10/dist-packages (from matplotlib->wordcloud) (4.51.0)\n",
            "Requirement already satisfied: kiwisolver>=1.0.1 in /usr/local/lib/python3.10/dist-packages (from matplotlib->wordcloud) (1.4.5)\n",
            "Requirement already satisfied: packaging>=20.0 in /usr/local/lib/python3.10/dist-packages (from matplotlib->wordcloud) (24.0)\n",
            "Requirement already satisfied: pyparsing>=2.3.1 in /usr/local/lib/python3.10/dist-packages (from matplotlib->wordcloud) (3.1.2)\n",
            "Requirement already satisfied: python-dateutil>=2.7 in /usr/local/lib/python3.10/dist-packages (from matplotlib->wordcloud) (2.8.2)\n",
            "Requirement already satisfied: six>=1.5 in /usr/local/lib/python3.10/dist-packages (from python-dateutil>=2.7->matplotlib->wordcloud) (1.16.0)\n"
          ]
        }
      ],
      "source": [
        "!pip install wordcloud"
      ]
    },
    {
      "cell_type": "code",
      "execution_count": null,
      "id": "mYKxCNg5HoGP",
      "metadata": {
        "id": "mYKxCNg5HoGP",
        "colab": {
          "base_uri": "https://localhost:8080/",
          "height": 35
        },
        "outputId": "076472c6-f002-41ca-ce65-8cfe0898a98c"
      },
      "outputs": [
        {
          "output_type": "execute_result",
          "data": {
            "text/plain": [
              "'1.2.2'"
            ],
            "application/vnd.google.colaboratory.intrinsic+json": {
              "type": "string"
            }
          },
          "metadata": {},
          "execution_count": 16
        }
      ],
      "source": [
        "import sklearn\n",
        "sklearn.__version__"
      ]
    },
    {
      "cell_type": "code",
      "execution_count": null,
      "id": "V5Ec5vy7Hrz5",
      "metadata": {
        "id": "V5Ec5vy7Hrz5",
        "colab": {
          "base_uri": "https://localhost:8080/",
          "height": 538
        },
        "outputId": "24caba84-f398-4ecb-dbe5-187f326b24e5"
      },
      "outputs": [
        {
          "output_type": "error",
          "ename": "KeyError",
          "evalue": "'sido-gu'",
          "traceback": [
            "\u001b[0;31m---------------------------------------------------------------------------\u001b[0m",
            "\u001b[0;31mKeyError\u001b[0m                                  Traceback (most recent call last)",
            "\u001b[0;32m/usr/local/lib/python3.10/dist-packages/pandas/core/indexes/base.py\u001b[0m in \u001b[0;36mget_loc\u001b[0;34m(self, key)\u001b[0m\n\u001b[1;32m   3652\u001b[0m         \u001b[0;32mtry\u001b[0m\u001b[0;34m:\u001b[0m\u001b[0;34m\u001b[0m\u001b[0;34m\u001b[0m\u001b[0m\n\u001b[0;32m-> 3653\u001b[0;31m             \u001b[0;32mreturn\u001b[0m \u001b[0mself\u001b[0m\u001b[0;34m.\u001b[0m\u001b[0m_engine\u001b[0m\u001b[0;34m.\u001b[0m\u001b[0mget_loc\u001b[0m\u001b[0;34m(\u001b[0m\u001b[0mcasted_key\u001b[0m\u001b[0;34m)\u001b[0m\u001b[0;34m\u001b[0m\u001b[0;34m\u001b[0m\u001b[0m\n\u001b[0m\u001b[1;32m   3654\u001b[0m         \u001b[0;32mexcept\u001b[0m \u001b[0mKeyError\u001b[0m \u001b[0;32mas\u001b[0m \u001b[0merr\u001b[0m\u001b[0;34m:\u001b[0m\u001b[0;34m\u001b[0m\u001b[0;34m\u001b[0m\u001b[0m\n",
            "\u001b[0;32m/usr/local/lib/python3.10/dist-packages/pandas/_libs/index.pyx\u001b[0m in \u001b[0;36mpandas._libs.index.IndexEngine.get_loc\u001b[0;34m()\u001b[0m\n",
            "\u001b[0;32m/usr/local/lib/python3.10/dist-packages/pandas/_libs/index.pyx\u001b[0m in \u001b[0;36mpandas._libs.index.IndexEngine.get_loc\u001b[0;34m()\u001b[0m\n",
            "\u001b[0;32mpandas/_libs/hashtable_class_helper.pxi\u001b[0m in \u001b[0;36mpandas._libs.hashtable.PyObjectHashTable.get_item\u001b[0;34m()\u001b[0m\n",
            "\u001b[0;32mpandas/_libs/hashtable_class_helper.pxi\u001b[0m in \u001b[0;36mpandas._libs.hashtable.PyObjectHashTable.get_item\u001b[0;34m()\u001b[0m\n",
            "\u001b[0;31mKeyError\u001b[0m: 'sido-gu'",
            "\nThe above exception was the direct cause of the following exception:\n",
            "\u001b[0;31mKeyError\u001b[0m                                  Traceback (most recent call last)",
            "\u001b[0;32m<ipython-input-18-76deeecd9b73>\u001b[0m in \u001b[0;36m<cell line: 55>\u001b[0;34m()\u001b[0m\n\u001b[1;32m     53\u001b[0m \u001b[0;34m\u001b[0m\u001b[0m\n\u001b[1;32m     54\u001b[0m \u001b[0;31m# 1.텍스트 말뭉치(corpus) 데이터 지정하기\u001b[0m\u001b[0;34m\u001b[0m\u001b[0;34m\u001b[0m\u001b[0m\n\u001b[0;32m---> 55\u001b[0;31m \u001b[0mcorpus\u001b[0m \u001b[0;34m=\u001b[0m \u001b[0mdf\u001b[0m\u001b[0;34m[\u001b[0m\u001b[0;34m'sido-gu'\u001b[0m\u001b[0;34m]\u001b[0m\u001b[0;34m.\u001b[0m\u001b[0mto_list\u001b[0m\u001b[0;34m(\u001b[0m\u001b[0;34m)\u001b[0m\u001b[0;34m\u001b[0m\u001b[0;34m\u001b[0m\u001b[0m\n\u001b[0m\u001b[1;32m     56\u001b[0m \u001b[0;31m# print(corpus)\u001b[0m\u001b[0;34m\u001b[0m\u001b[0;34m\u001b[0m\u001b[0m\n\u001b[1;32m     57\u001b[0m \u001b[0;34m\u001b[0m\u001b[0m\n",
            "\u001b[0;32m/usr/local/lib/python3.10/dist-packages/pandas/core/frame.py\u001b[0m in \u001b[0;36m__getitem__\u001b[0;34m(self, key)\u001b[0m\n\u001b[1;32m   3759\u001b[0m             \u001b[0;32mif\u001b[0m \u001b[0mself\u001b[0m\u001b[0;34m.\u001b[0m\u001b[0mcolumns\u001b[0m\u001b[0;34m.\u001b[0m\u001b[0mnlevels\u001b[0m \u001b[0;34m>\u001b[0m \u001b[0;36m1\u001b[0m\u001b[0;34m:\u001b[0m\u001b[0;34m\u001b[0m\u001b[0;34m\u001b[0m\u001b[0m\n\u001b[1;32m   3760\u001b[0m                 \u001b[0;32mreturn\u001b[0m \u001b[0mself\u001b[0m\u001b[0;34m.\u001b[0m\u001b[0m_getitem_multilevel\u001b[0m\u001b[0;34m(\u001b[0m\u001b[0mkey\u001b[0m\u001b[0;34m)\u001b[0m\u001b[0;34m\u001b[0m\u001b[0;34m\u001b[0m\u001b[0m\n\u001b[0;32m-> 3761\u001b[0;31m             \u001b[0mindexer\u001b[0m \u001b[0;34m=\u001b[0m \u001b[0mself\u001b[0m\u001b[0;34m.\u001b[0m\u001b[0mcolumns\u001b[0m\u001b[0;34m.\u001b[0m\u001b[0mget_loc\u001b[0m\u001b[0;34m(\u001b[0m\u001b[0mkey\u001b[0m\u001b[0;34m)\u001b[0m\u001b[0;34m\u001b[0m\u001b[0;34m\u001b[0m\u001b[0m\n\u001b[0m\u001b[1;32m   3762\u001b[0m             \u001b[0;32mif\u001b[0m \u001b[0mis_integer\u001b[0m\u001b[0;34m(\u001b[0m\u001b[0mindexer\u001b[0m\u001b[0;34m)\u001b[0m\u001b[0;34m:\u001b[0m\u001b[0;34m\u001b[0m\u001b[0;34m\u001b[0m\u001b[0m\n\u001b[1;32m   3763\u001b[0m                 \u001b[0mindexer\u001b[0m \u001b[0;34m=\u001b[0m \u001b[0;34m[\u001b[0m\u001b[0mindexer\u001b[0m\u001b[0;34m]\u001b[0m\u001b[0;34m\u001b[0m\u001b[0;34m\u001b[0m\u001b[0m\n",
            "\u001b[0;32m/usr/local/lib/python3.10/dist-packages/pandas/core/indexes/base.py\u001b[0m in \u001b[0;36mget_loc\u001b[0;34m(self, key)\u001b[0m\n\u001b[1;32m   3653\u001b[0m             \u001b[0;32mreturn\u001b[0m \u001b[0mself\u001b[0m\u001b[0;34m.\u001b[0m\u001b[0m_engine\u001b[0m\u001b[0;34m.\u001b[0m\u001b[0mget_loc\u001b[0m\u001b[0;34m(\u001b[0m\u001b[0mcasted_key\u001b[0m\u001b[0;34m)\u001b[0m\u001b[0;34m\u001b[0m\u001b[0;34m\u001b[0m\u001b[0m\n\u001b[1;32m   3654\u001b[0m         \u001b[0;32mexcept\u001b[0m \u001b[0mKeyError\u001b[0m \u001b[0;32mas\u001b[0m \u001b[0merr\u001b[0m\u001b[0;34m:\u001b[0m\u001b[0;34m\u001b[0m\u001b[0;34m\u001b[0m\u001b[0m\n\u001b[0;32m-> 3655\u001b[0;31m             \u001b[0;32mraise\u001b[0m \u001b[0mKeyError\u001b[0m\u001b[0;34m(\u001b[0m\u001b[0mkey\u001b[0m\u001b[0;34m)\u001b[0m \u001b[0;32mfrom\u001b[0m \u001b[0merr\u001b[0m\u001b[0;34m\u001b[0m\u001b[0;34m\u001b[0m\u001b[0m\n\u001b[0m\u001b[1;32m   3656\u001b[0m         \u001b[0;32mexcept\u001b[0m \u001b[0mTypeError\u001b[0m\u001b[0;34m:\u001b[0m\u001b[0;34m\u001b[0m\u001b[0;34m\u001b[0m\u001b[0m\n\u001b[1;32m   3657\u001b[0m             \u001b[0;31m# If we have a listlike key, _check_indexing_error will raise\u001b[0m\u001b[0;34m\u001b[0m\u001b[0;34m\u001b[0m\u001b[0m\n",
            "\u001b[0;31mKeyError\u001b[0m: 'sido-gu'"
          ]
        }
      ],
      "source": [
        "import numpy as np\n",
        "import matplotlib.pyplot as plt\n",
        "from wordcloud import WordCloud\n",
        "import matplotlib.pyplot as plt\n",
        "plt.rcParams['figure.figsize'] = (10,6)\n",
        "\n",
        "# 말뭉치를 토큰화하여 빈도수 가져오기\n",
        "def get_wordTokenCount(corpus):\n",
        "    from sklearn.feature_extraction.text import CountVectorizer\n",
        "\n",
        "    # 말뭉치를 토큰화하기\n",
        "    vect = CountVectorizer().fit(corpus)\n",
        "    count = vect.transform(corpus).toarray().sum(axis=0)\n",
        "\n",
        "    # 토큰 빈도수로 정렬하고 토큰명 추출\n",
        "    idx = np.argsort(-count)  # 내림 정렬하여 인덱스 반환: 토큰의 인덱스\n",
        "    count = count[idx]        # 토큰의 빈도수\n",
        "    feature_name = np.array(vect.get_feature_names_out())[idx]  # 토큰값\n",
        "\n",
        "    # 빈도수 많은 순서대로 토큰명 10개만 출력\n",
        "    print(list(zip(feature_name, count))[:10])\n",
        "\n",
        "    return feature_name, count\n",
        "\n",
        "\n",
        "# 단어(토큰) 빈도수 막대 그래프 그리기\n",
        "def draw_wordTokenCountGraph(data, freq):\n",
        "    plt.bar(data, freq)\n",
        "    plt.grid()\n",
        "    plt.show()\n",
        "\n",
        "    # 그래프 그림 저장히기\n",
        "    plt.savefig(f'./token_bar_graph.png')\n",
        "\n",
        "# 워드클라우드 만들기\n",
        "def make_wordcloud(feature_name, count):\n",
        "    # 한글 폰트 경로를 설정\n",
        "    # font_path = 'NanumGothic'  #/usr/share/fonts/truetype/nanum/NanumGothic.ttf  #코랩\n",
        "    font_path = 'malgun'  # C:/Windows/Fonts/                                  #window\n",
        "\n",
        "    # (토큰명, 빈도수) 딕셔너리 타입으로 변환\n",
        "    data = dict(zip(feature_name, count))\n",
        "\n",
        "    # 워드클라우드로 그래프로 시각화\n",
        "    wc = WordCloud(width = 1000, height = 600, background_color=\"black\", font_path=font_path)\n",
        "    plt.imshow(wc.generate_from_frequencies(data)) #딕셔너리\n",
        "    plt.axis(\"off\")\n",
        "    plt.show()\n",
        "\n",
        "    # 이미지 파일로 저장하기\n",
        "    wc.to_file(f'./워드클라우드.png')\n",
        "\n",
        "\n",
        "# 1.텍스트 말뭉치(corpus) 데이터 지정하기\n",
        "corpus = df['sido-gu'].to_list()\n",
        "# print(corpus)\n",
        "\n",
        "# 2.말뭉치를 토큰화하여 빈도수 가져오기\n",
        "feature_name, count = get_wordTokenCount(corpus)\n",
        "\n",
        "# 3.단어(토큰) 빈도수 막대 그래프 그리기(상위 10개)\n",
        "# draw_wordTokenCountGraph(feature_name[:10], count[:10])\n",
        "\n",
        "# 3.워드 클라우드 만들기\n",
        "make_wordcloud(feature_name, count)"
      ]
    },
    {
      "cell_type": "markdown",
      "id": "_4UpfgKjMZXm",
      "metadata": {
        "id": "_4UpfgKjMZXm"
      },
      "source": [
        "\n",
        "\n",
        "---\n",
        "\n"
      ]
    },
    {
      "cell_type": "markdown",
      "id": "9Hw8EjahKJEX",
      "metadata": {
        "id": "9Hw8EjahKJEX"
      },
      "source": [
        "### **[미션] : 네이버 뉴스 기사 제목을 워드클라우드로 만들기**\n",
        "앞에서 정적크롤링으로 가져왔던 네이버 뉴스 기사 제목을 워드 클라우드로 만들어 보세요."
      ]
    },
    {
      "cell_type": "code",
      "execution_count": null,
      "id": "MNidf1-MKUvz",
      "metadata": {
        "id": "MNidf1-MKUvz"
      },
      "outputs": [],
      "source": [
        "import pandas as pd\n",
        "\n",
        "df = pd.read_csv('./my_naver_news.csv')\n",
        "df\n",
        "\n",
        "\n",
        "# 1.텍스트 말뭉치(corpus) 데이터 지정하기\n",
        "\n",
        "\n",
        "# 2.말뭉치를 딕셔너리(토큰, 빈도수)로 만들기\n",
        "\n",
        "\n",
        "# 3.딗셔너리 데이터로 워드 클라우드 만들기\n",
        "\n",
        "\n",
        "# 4. 워드클라우드 이미지 파일로 저장하기\n",
        "\n",
        "\n"
      ]
    },
    {
      "cell_type": "markdown",
      "id": "uP53g-I9Oyto",
      "metadata": {
        "id": "uP53g-I9Oyto"
      },
      "source": [
        "\n",
        "\n",
        "---\n",
        "\n"
      ]
    },
    {
      "cell_type": "markdown",
      "id": "18dd9b70",
      "metadata": {
        "id": "18dd9b70"
      },
      "source": [
        "### **[미션] : 특정 웹 사이트 지정하여 정적크롤링 방법을 이용하여 TEXT 정보 추출하여 표로 만들기**\n",
        "- 1. 자신이 원하는 웹 페이지를 정해서 100개 이상 텍스트 정보 추출하기\n",
        "- 2. Pandas DataFrame 표로 나타내기\n",
        "- 3. CSV file로 저장하기\n",
        "  4. Slack에 코드 업로드하기"
      ]
    },
    {
      "cell_type": "code",
      "execution_count": null,
      "id": "c305f0f2",
      "metadata": {
        "id": "c305f0f2"
      },
      "outputs": [],
      "source": [
        "\n",
        "\n",
        "\n",
        "\n"
      ]
    },
    {
      "cell_type": "markdown",
      "id": "03492102",
      "metadata": {
        "id": "03492102"
      },
      "source": [
        "----------"
      ]
    }
  ],
  "metadata": {
    "colab": {
      "provenance": [],
      "include_colab_link": true
    },
    "kernelspec": {
      "display_name": "Python 3 (ipykernel)",
      "language": "python",
      "name": "python3"
    },
    "language_info": {
      "codemirror_mode": {
        "name": "ipython",
        "version": 3
      },
      "file_extension": ".py",
      "mimetype": "text/x-python",
      "name": "python",
      "nbconvert_exporter": "python",
      "pygments_lexer": "ipython3",
      "version": "3.12.1"
    }
  },
  "nbformat": 4,
  "nbformat_minor": 5
}