{
  "cells": [
    {
      "cell_type": "markdown",
      "metadata": {
        "id": "view-in-github",
        "colab_type": "text"
      },
      "source": [
        "<a href=\"https://colab.research.google.com/github/kimsun75/dataAnalysis/blob/main/3_%EB%A8%B8%EC%8B%A0%EB%9F%AC%EB%8B%9D_%ED%9A%8C%EA%B7%80_1_%EC%82%AC%EC%9D%B4%ED%82%B7%EB%9F%B0_%EA%B0%80%EA%B2%A9%EC%98%88%EC%B8%A1_%EC%99%84%EC%84%B1.ipynb\" target=\"_parent\"><img src=\"https://colab.research.google.com/assets/colab-badge.svg\" alt=\"Open In Colab\"/></a>"
      ]
    },
    {
      "cell_type": "markdown",
      "id": "9065f719",
      "metadata": {
        "id": "9065f719"
      },
      "source": [
        "# [실습] 가격 예측"
      ]
    },
    {
      "cell_type": "markdown",
      "source": [
        "### #그래프에서 한글사용하는 방법\n",
        "- **(코랩에서)한글폰트 설치하기**"
      ],
      "metadata": {
        "id": "QkpNKvQ0do6w"
      },
      "id": "QkpNKvQ0do6w"
    },
    {
      "cell_type": "code",
      "source": [
        "!sudo apt-get install -y fonts-nanum\n",
        "!sudo fc-cache -fv\n",
        "!rm ~/.cache/matplotlib -rf\n",
        "\n",
        "# 코랩에서 위 코드를 실행시킨 후  반드시 코랩 메뉴: \"런타임>세션 다시 시작\" 합니다."
      ],
      "metadata": {
        "id": "oXW4ndcIdq7g",
        "colab": {
          "base_uri": "https://localhost:8080/"
        },
        "outputId": "b5e462be-c055-47d4-e3f4-46a70cdfc0eb"
      },
      "id": "oXW4ndcIdq7g",
      "execution_count": 1,
      "outputs": [
        {
          "output_type": "stream",
          "name": "stdout",
          "text": [
            "Reading package lists... Done\n",
            "Building dependency tree... Done\n",
            "Reading state information... Done\n",
            "The following NEW packages will be installed:\n",
            "  fonts-nanum\n",
            "0 upgraded, 1 newly installed, 0 to remove and 45 not upgraded.\n",
            "Need to get 10.3 MB of archives.\n",
            "After this operation, 34.1 MB of additional disk space will be used.\n",
            "Get:1 http://archive.ubuntu.com/ubuntu jammy/universe amd64 fonts-nanum all 20200506-1 [10.3 MB]\n",
            "Fetched 10.3 MB in 1s (7,026 kB/s)\n",
            "debconf: unable to initialize frontend: Dialog\n",
            "debconf: (No usable dialog-like program is installed, so the dialog based frontend cannot be used. at /usr/share/perl5/Debconf/FrontEnd/Dialog.pm line 78, <> line 1.)\n",
            "debconf: falling back to frontend: Readline\n",
            "debconf: unable to initialize frontend: Readline\n",
            "debconf: (This frontend requires a controlling tty.)\n",
            "debconf: falling back to frontend: Teletype\n",
            "dpkg-preconfigure: unable to re-open stdin: \n",
            "Selecting previously unselected package fonts-nanum.\n",
            "(Reading database ... 121918 files and directories currently installed.)\n",
            "Preparing to unpack .../fonts-nanum_20200506-1_all.deb ...\n",
            "Unpacking fonts-nanum (20200506-1) ...\n",
            "Setting up fonts-nanum (20200506-1) ...\n",
            "Processing triggers for fontconfig (2.13.1-4.2ubuntu5) ...\n",
            "/usr/share/fonts: caching, new cache contents: 0 fonts, 1 dirs\n",
            "/usr/share/fonts/truetype: caching, new cache contents: 0 fonts, 3 dirs\n",
            "/usr/share/fonts/truetype/humor-sans: caching, new cache contents: 1 fonts, 0 dirs\n",
            "/usr/share/fonts/truetype/liberation: caching, new cache contents: 16 fonts, 0 dirs\n",
            "/usr/share/fonts/truetype/nanum: caching, new cache contents: 12 fonts, 0 dirs\n",
            "/usr/local/share/fonts: caching, new cache contents: 0 fonts, 0 dirs\n",
            "/root/.local/share/fonts: skipping, no such directory\n",
            "/root/.fonts: skipping, no such directory\n",
            "/usr/share/fonts/truetype: skipping, looped directory detected\n",
            "/usr/share/fonts/truetype/humor-sans: skipping, looped directory detected\n",
            "/usr/share/fonts/truetype/liberation: skipping, looped directory detected\n",
            "/usr/share/fonts/truetype/nanum: skipping, looped directory detected\n",
            "/var/cache/fontconfig: cleaning cache directory\n",
            "/root/.cache/fontconfig: not cleaning non-existent cache directory\n",
            "/root/.fontconfig: not cleaning non-existent cache directory\n",
            "fc-cache: succeeded\n"
          ]
        }
      ]
    },
    {
      "cell_type": "markdown",
      "source": [
        "- **한글 폰트 지정하기**"
      ],
      "metadata": {
        "id": "EFhS851fduRf"
      },
      "id": "EFhS851fduRf"
    },
    {
      "cell_type": "code",
      "source": [
        "# 코랩에서 한글 폰트 종류와 이름이 win과 다를 수 있다!!!\n",
        "import matplotlib.pyplot as plt\n",
        "plt.rcParams.update({'font.family': 'NanumGothic',\n",
        "                     'font.size': 12,\n",
        "                     'figure.figsize': (10, 5),\n",
        "                     'axes.unicode_minus':  False }) # 폰트 설정"
      ],
      "metadata": {
        "id": "coBevfvcdus0"
      },
      "id": "coBevfvcdus0",
      "execution_count": 1,
      "outputs": []
    },
    {
      "cell_type": "markdown",
      "source": [
        "---\n",
        "\n"
      ],
      "metadata": {
        "id": "icxxnAXHQ9Tl"
      },
      "id": "icxxnAXHQ9Tl"
    },
    {
      "cell_type": "markdown",
      "id": "09b4150d",
      "metadata": {
        "id": "09b4150d"
      },
      "source": [
        "# [실습] : Scikit-learn 선형 회귀로 주택가격 예측하기"
      ]
    },
    {
      "cell_type": "markdown",
      "id": "2fd9adef",
      "metadata": {
        "id": "2fd9adef"
      },
      "source": [
        "## 1.데이터 준비하기\n",
        "    - https://www.kaggle.com/altavish/boston-housing-dataset?select=HousingData.csv\n"
      ]
    },
    {
      "cell_type": "code",
      "execution_count": 2,
      "id": "1b3b8822",
      "metadata": {
        "id": "1b3b8822",
        "colab": {
          "base_uri": "https://localhost:8080/",
          "height": 423
        },
        "outputId": "86b7323b-0e55-4d19-c4a1-4159a851e073"
      },
      "outputs": [
        {
          "output_type": "execute_result",
          "data": {
            "text/plain": [
              "        CRIM    ZN  INDUS  CHAS    NOX     RM   AGE     DIS  RAD  TAX  \\\n",
              "0    0.00632  18.0   2.31   0.0  0.538  6.575  65.2  4.0900    1  296   \n",
              "1    0.02731   0.0   7.07   0.0  0.469  6.421  78.9  4.9671    2  242   \n",
              "2    0.02729   0.0   7.07   0.0  0.469  7.185  61.1  4.9671    2  242   \n",
              "3    0.03237   0.0   2.18   0.0  0.458  6.998  45.8  6.0622    3  222   \n",
              "4    0.06905   0.0   2.18   0.0  0.458  7.147  54.2  6.0622    3  222   \n",
              "..       ...   ...    ...   ...    ...    ...   ...     ...  ...  ...   \n",
              "501  0.06263   0.0  11.93   0.0  0.573  6.593  69.1  2.4786    1  273   \n",
              "502  0.04527   0.0  11.93   0.0  0.573  6.120  76.7  2.2875    1  273   \n",
              "503  0.06076   0.0  11.93   0.0  0.573  6.976  91.0  2.1675    1  273   \n",
              "504  0.10959   0.0  11.93   0.0  0.573  6.794  89.3  2.3889    1  273   \n",
              "505  0.04741   0.0  11.93   0.0  0.573  6.030   NaN  2.5050    1  273   \n",
              "\n",
              "     PTRATIO       B  LSTAT  MEDV  \n",
              "0       15.3  396.90   4.98  24.0  \n",
              "1       17.8  396.90   9.14  21.6  \n",
              "2       17.8  392.83   4.03  34.7  \n",
              "3       18.7  394.63   2.94  33.4  \n",
              "4       18.7  396.90    NaN  36.2  \n",
              "..       ...     ...    ...   ...  \n",
              "501     21.0  391.99    NaN  22.4  \n",
              "502     21.0  396.90   9.08  20.6  \n",
              "503     21.0  396.90   5.64  23.9  \n",
              "504     21.0  393.45   6.48  22.0  \n",
              "505     21.0  396.90   7.88  11.9  \n",
              "\n",
              "[506 rows x 14 columns]"
            ],
            "text/html": [
              "\n",
              "  <div id=\"df-1da7f7d2-cbe2-41b2-930e-a3469f4b5c95\" class=\"colab-df-container\">\n",
              "    <div>\n",
              "<style scoped>\n",
              "    .dataframe tbody tr th:only-of-type {\n",
              "        vertical-align: middle;\n",
              "    }\n",
              "\n",
              "    .dataframe tbody tr th {\n",
              "        vertical-align: top;\n",
              "    }\n",
              "\n",
              "    .dataframe thead th {\n",
              "        text-align: right;\n",
              "    }\n",
              "</style>\n",
              "<table border=\"1\" class=\"dataframe\">\n",
              "  <thead>\n",
              "    <tr style=\"text-align: right;\">\n",
              "      <th></th>\n",
              "      <th>CRIM</th>\n",
              "      <th>ZN</th>\n",
              "      <th>INDUS</th>\n",
              "      <th>CHAS</th>\n",
              "      <th>NOX</th>\n",
              "      <th>RM</th>\n",
              "      <th>AGE</th>\n",
              "      <th>DIS</th>\n",
              "      <th>RAD</th>\n",
              "      <th>TAX</th>\n",
              "      <th>PTRATIO</th>\n",
              "      <th>B</th>\n",
              "      <th>LSTAT</th>\n",
              "      <th>MEDV</th>\n",
              "    </tr>\n",
              "  </thead>\n",
              "  <tbody>\n",
              "    <tr>\n",
              "      <th>0</th>\n",
              "      <td>0.00632</td>\n",
              "      <td>18.0</td>\n",
              "      <td>2.31</td>\n",
              "      <td>0.0</td>\n",
              "      <td>0.538</td>\n",
              "      <td>6.575</td>\n",
              "      <td>65.2</td>\n",
              "      <td>4.0900</td>\n",
              "      <td>1</td>\n",
              "      <td>296</td>\n",
              "      <td>15.3</td>\n",
              "      <td>396.90</td>\n",
              "      <td>4.98</td>\n",
              "      <td>24.0</td>\n",
              "    </tr>\n",
              "    <tr>\n",
              "      <th>1</th>\n",
              "      <td>0.02731</td>\n",
              "      <td>0.0</td>\n",
              "      <td>7.07</td>\n",
              "      <td>0.0</td>\n",
              "      <td>0.469</td>\n",
              "      <td>6.421</td>\n",
              "      <td>78.9</td>\n",
              "      <td>4.9671</td>\n",
              "      <td>2</td>\n",
              "      <td>242</td>\n",
              "      <td>17.8</td>\n",
              "      <td>396.90</td>\n",
              "      <td>9.14</td>\n",
              "      <td>21.6</td>\n",
              "    </tr>\n",
              "    <tr>\n",
              "      <th>2</th>\n",
              "      <td>0.02729</td>\n",
              "      <td>0.0</td>\n",
              "      <td>7.07</td>\n",
              "      <td>0.0</td>\n",
              "      <td>0.469</td>\n",
              "      <td>7.185</td>\n",
              "      <td>61.1</td>\n",
              "      <td>4.9671</td>\n",
              "      <td>2</td>\n",
              "      <td>242</td>\n",
              "      <td>17.8</td>\n",
              "      <td>392.83</td>\n",
              "      <td>4.03</td>\n",
              "      <td>34.7</td>\n",
              "    </tr>\n",
              "    <tr>\n",
              "      <th>3</th>\n",
              "      <td>0.03237</td>\n",
              "      <td>0.0</td>\n",
              "      <td>2.18</td>\n",
              "      <td>0.0</td>\n",
              "      <td>0.458</td>\n",
              "      <td>6.998</td>\n",
              "      <td>45.8</td>\n",
              "      <td>6.0622</td>\n",
              "      <td>3</td>\n",
              "      <td>222</td>\n",
              "      <td>18.7</td>\n",
              "      <td>394.63</td>\n",
              "      <td>2.94</td>\n",
              "      <td>33.4</td>\n",
              "    </tr>\n",
              "    <tr>\n",
              "      <th>4</th>\n",
              "      <td>0.06905</td>\n",
              "      <td>0.0</td>\n",
              "      <td>2.18</td>\n",
              "      <td>0.0</td>\n",
              "      <td>0.458</td>\n",
              "      <td>7.147</td>\n",
              "      <td>54.2</td>\n",
              "      <td>6.0622</td>\n",
              "      <td>3</td>\n",
              "      <td>222</td>\n",
              "      <td>18.7</td>\n",
              "      <td>396.90</td>\n",
              "      <td>NaN</td>\n",
              "      <td>36.2</td>\n",
              "    </tr>\n",
              "    <tr>\n",
              "      <th>...</th>\n",
              "      <td>...</td>\n",
              "      <td>...</td>\n",
              "      <td>...</td>\n",
              "      <td>...</td>\n",
              "      <td>...</td>\n",
              "      <td>...</td>\n",
              "      <td>...</td>\n",
              "      <td>...</td>\n",
              "      <td>...</td>\n",
              "      <td>...</td>\n",
              "      <td>...</td>\n",
              "      <td>...</td>\n",
              "      <td>...</td>\n",
              "      <td>...</td>\n",
              "    </tr>\n",
              "    <tr>\n",
              "      <th>501</th>\n",
              "      <td>0.06263</td>\n",
              "      <td>0.0</td>\n",
              "      <td>11.93</td>\n",
              "      <td>0.0</td>\n",
              "      <td>0.573</td>\n",
              "      <td>6.593</td>\n",
              "      <td>69.1</td>\n",
              "      <td>2.4786</td>\n",
              "      <td>1</td>\n",
              "      <td>273</td>\n",
              "      <td>21.0</td>\n",
              "      <td>391.99</td>\n",
              "      <td>NaN</td>\n",
              "      <td>22.4</td>\n",
              "    </tr>\n",
              "    <tr>\n",
              "      <th>502</th>\n",
              "      <td>0.04527</td>\n",
              "      <td>0.0</td>\n",
              "      <td>11.93</td>\n",
              "      <td>0.0</td>\n",
              "      <td>0.573</td>\n",
              "      <td>6.120</td>\n",
              "      <td>76.7</td>\n",
              "      <td>2.2875</td>\n",
              "      <td>1</td>\n",
              "      <td>273</td>\n",
              "      <td>21.0</td>\n",
              "      <td>396.90</td>\n",
              "      <td>9.08</td>\n",
              "      <td>20.6</td>\n",
              "    </tr>\n",
              "    <tr>\n",
              "      <th>503</th>\n",
              "      <td>0.06076</td>\n",
              "      <td>0.0</td>\n",
              "      <td>11.93</td>\n",
              "      <td>0.0</td>\n",
              "      <td>0.573</td>\n",
              "      <td>6.976</td>\n",
              "      <td>91.0</td>\n",
              "      <td>2.1675</td>\n",
              "      <td>1</td>\n",
              "      <td>273</td>\n",
              "      <td>21.0</td>\n",
              "      <td>396.90</td>\n",
              "      <td>5.64</td>\n",
              "      <td>23.9</td>\n",
              "    </tr>\n",
              "    <tr>\n",
              "      <th>504</th>\n",
              "      <td>0.10959</td>\n",
              "      <td>0.0</td>\n",
              "      <td>11.93</td>\n",
              "      <td>0.0</td>\n",
              "      <td>0.573</td>\n",
              "      <td>6.794</td>\n",
              "      <td>89.3</td>\n",
              "      <td>2.3889</td>\n",
              "      <td>1</td>\n",
              "      <td>273</td>\n",
              "      <td>21.0</td>\n",
              "      <td>393.45</td>\n",
              "      <td>6.48</td>\n",
              "      <td>22.0</td>\n",
              "    </tr>\n",
              "    <tr>\n",
              "      <th>505</th>\n",
              "      <td>0.04741</td>\n",
              "      <td>0.0</td>\n",
              "      <td>11.93</td>\n",
              "      <td>0.0</td>\n",
              "      <td>0.573</td>\n",
              "      <td>6.030</td>\n",
              "      <td>NaN</td>\n",
              "      <td>2.5050</td>\n",
              "      <td>1</td>\n",
              "      <td>273</td>\n",
              "      <td>21.0</td>\n",
              "      <td>396.90</td>\n",
              "      <td>7.88</td>\n",
              "      <td>11.9</td>\n",
              "    </tr>\n",
              "  </tbody>\n",
              "</table>\n",
              "<p>506 rows × 14 columns</p>\n",
              "</div>\n",
              "    <div class=\"colab-df-buttons\">\n",
              "\n",
              "  <div class=\"colab-df-container\">\n",
              "    <button class=\"colab-df-convert\" onclick=\"convertToInteractive('df-1da7f7d2-cbe2-41b2-930e-a3469f4b5c95')\"\n",
              "            title=\"Convert this dataframe to an interactive table.\"\n",
              "            style=\"display:none;\">\n",
              "\n",
              "  <svg xmlns=\"http://www.w3.org/2000/svg\" height=\"24px\" viewBox=\"0 -960 960 960\">\n",
              "    <path d=\"M120-120v-720h720v720H120Zm60-500h600v-160H180v160Zm220 220h160v-160H400v160Zm0 220h160v-160H400v160ZM180-400h160v-160H180v160Zm440 0h160v-160H620v160ZM180-180h160v-160H180v160Zm440 0h160v-160H620v160Z\"/>\n",
              "  </svg>\n",
              "    </button>\n",
              "\n",
              "  <style>\n",
              "    .colab-df-container {\n",
              "      display:flex;\n",
              "      gap: 12px;\n",
              "    }\n",
              "\n",
              "    .colab-df-convert {\n",
              "      background-color: #E8F0FE;\n",
              "      border: none;\n",
              "      border-radius: 50%;\n",
              "      cursor: pointer;\n",
              "      display: none;\n",
              "      fill: #1967D2;\n",
              "      height: 32px;\n",
              "      padding: 0 0 0 0;\n",
              "      width: 32px;\n",
              "    }\n",
              "\n",
              "    .colab-df-convert:hover {\n",
              "      background-color: #E2EBFA;\n",
              "      box-shadow: 0px 1px 2px rgba(60, 64, 67, 0.3), 0px 1px 3px 1px rgba(60, 64, 67, 0.15);\n",
              "      fill: #174EA6;\n",
              "    }\n",
              "\n",
              "    .colab-df-buttons div {\n",
              "      margin-bottom: 4px;\n",
              "    }\n",
              "\n",
              "    [theme=dark] .colab-df-convert {\n",
              "      background-color: #3B4455;\n",
              "      fill: #D2E3FC;\n",
              "    }\n",
              "\n",
              "    [theme=dark] .colab-df-convert:hover {\n",
              "      background-color: #434B5C;\n",
              "      box-shadow: 0px 1px 3px 1px rgba(0, 0, 0, 0.15);\n",
              "      filter: drop-shadow(0px 1px 2px rgba(0, 0, 0, 0.3));\n",
              "      fill: #FFFFFF;\n",
              "    }\n",
              "  </style>\n",
              "\n",
              "    <script>\n",
              "      const buttonEl =\n",
              "        document.querySelector('#df-1da7f7d2-cbe2-41b2-930e-a3469f4b5c95 button.colab-df-convert');\n",
              "      buttonEl.style.display =\n",
              "        google.colab.kernel.accessAllowed ? 'block' : 'none';\n",
              "\n",
              "      async function convertToInteractive(key) {\n",
              "        const element = document.querySelector('#df-1da7f7d2-cbe2-41b2-930e-a3469f4b5c95');\n",
              "        const dataTable =\n",
              "          await google.colab.kernel.invokeFunction('convertToInteractive',\n",
              "                                                    [key], {});\n",
              "        if (!dataTable) return;\n",
              "\n",
              "        const docLinkHtml = 'Like what you see? Visit the ' +\n",
              "          '<a target=\"_blank\" href=https://colab.research.google.com/notebooks/data_table.ipynb>data table notebook</a>'\n",
              "          + ' to learn more about interactive tables.';\n",
              "        element.innerHTML = '';\n",
              "        dataTable['output_type'] = 'display_data';\n",
              "        await google.colab.output.renderOutput(dataTable, element);\n",
              "        const docLink = document.createElement('div');\n",
              "        docLink.innerHTML = docLinkHtml;\n",
              "        element.appendChild(docLink);\n",
              "      }\n",
              "    </script>\n",
              "  </div>\n",
              "\n",
              "\n",
              "<div id=\"df-bd6efc28-8a2d-4245-aacf-59dcb7fa8e43\">\n",
              "  <button class=\"colab-df-quickchart\" onclick=\"quickchart('df-bd6efc28-8a2d-4245-aacf-59dcb7fa8e43')\"\n",
              "            title=\"Suggest charts\"\n",
              "            style=\"display:none;\">\n",
              "\n",
              "<svg xmlns=\"http://www.w3.org/2000/svg\" height=\"24px\"viewBox=\"0 0 24 24\"\n",
              "     width=\"24px\">\n",
              "    <g>\n",
              "        <path d=\"M19 3H5c-1.1 0-2 .9-2 2v14c0 1.1.9 2 2 2h14c1.1 0 2-.9 2-2V5c0-1.1-.9-2-2-2zM9 17H7v-7h2v7zm4 0h-2V7h2v10zm4 0h-2v-4h2v4z\"/>\n",
              "    </g>\n",
              "</svg>\n",
              "  </button>\n",
              "\n",
              "<style>\n",
              "  .colab-df-quickchart {\n",
              "      --bg-color: #E8F0FE;\n",
              "      --fill-color: #1967D2;\n",
              "      --hover-bg-color: #E2EBFA;\n",
              "      --hover-fill-color: #174EA6;\n",
              "      --disabled-fill-color: #AAA;\n",
              "      --disabled-bg-color: #DDD;\n",
              "  }\n",
              "\n",
              "  [theme=dark] .colab-df-quickchart {\n",
              "      --bg-color: #3B4455;\n",
              "      --fill-color: #D2E3FC;\n",
              "      --hover-bg-color: #434B5C;\n",
              "      --hover-fill-color: #FFFFFF;\n",
              "      --disabled-bg-color: #3B4455;\n",
              "      --disabled-fill-color: #666;\n",
              "  }\n",
              "\n",
              "  .colab-df-quickchart {\n",
              "    background-color: var(--bg-color);\n",
              "    border: none;\n",
              "    border-radius: 50%;\n",
              "    cursor: pointer;\n",
              "    display: none;\n",
              "    fill: var(--fill-color);\n",
              "    height: 32px;\n",
              "    padding: 0;\n",
              "    width: 32px;\n",
              "  }\n",
              "\n",
              "  .colab-df-quickchart:hover {\n",
              "    background-color: var(--hover-bg-color);\n",
              "    box-shadow: 0 1px 2px rgba(60, 64, 67, 0.3), 0 1px 3px 1px rgba(60, 64, 67, 0.15);\n",
              "    fill: var(--button-hover-fill-color);\n",
              "  }\n",
              "\n",
              "  .colab-df-quickchart-complete:disabled,\n",
              "  .colab-df-quickchart-complete:disabled:hover {\n",
              "    background-color: var(--disabled-bg-color);\n",
              "    fill: var(--disabled-fill-color);\n",
              "    box-shadow: none;\n",
              "  }\n",
              "\n",
              "  .colab-df-spinner {\n",
              "    border: 2px solid var(--fill-color);\n",
              "    border-color: transparent;\n",
              "    border-bottom-color: var(--fill-color);\n",
              "    animation:\n",
              "      spin 1s steps(1) infinite;\n",
              "  }\n",
              "\n",
              "  @keyframes spin {\n",
              "    0% {\n",
              "      border-color: transparent;\n",
              "      border-bottom-color: var(--fill-color);\n",
              "      border-left-color: var(--fill-color);\n",
              "    }\n",
              "    20% {\n",
              "      border-color: transparent;\n",
              "      border-left-color: var(--fill-color);\n",
              "      border-top-color: var(--fill-color);\n",
              "    }\n",
              "    30% {\n",
              "      border-color: transparent;\n",
              "      border-left-color: var(--fill-color);\n",
              "      border-top-color: var(--fill-color);\n",
              "      border-right-color: var(--fill-color);\n",
              "    }\n",
              "    40% {\n",
              "      border-color: transparent;\n",
              "      border-right-color: var(--fill-color);\n",
              "      border-top-color: var(--fill-color);\n",
              "    }\n",
              "    60% {\n",
              "      border-color: transparent;\n",
              "      border-right-color: var(--fill-color);\n",
              "    }\n",
              "    80% {\n",
              "      border-color: transparent;\n",
              "      border-right-color: var(--fill-color);\n",
              "      border-bottom-color: var(--fill-color);\n",
              "    }\n",
              "    90% {\n",
              "      border-color: transparent;\n",
              "      border-bottom-color: var(--fill-color);\n",
              "    }\n",
              "  }\n",
              "</style>\n",
              "\n",
              "  <script>\n",
              "    async function quickchart(key) {\n",
              "      const quickchartButtonEl =\n",
              "        document.querySelector('#' + key + ' button');\n",
              "      quickchartButtonEl.disabled = true;  // To prevent multiple clicks.\n",
              "      quickchartButtonEl.classList.add('colab-df-spinner');\n",
              "      try {\n",
              "        const charts = await google.colab.kernel.invokeFunction(\n",
              "            'suggestCharts', [key], {});\n",
              "      } catch (error) {\n",
              "        console.error('Error during call to suggestCharts:', error);\n",
              "      }\n",
              "      quickchartButtonEl.classList.remove('colab-df-spinner');\n",
              "      quickchartButtonEl.classList.add('colab-df-quickchart-complete');\n",
              "    }\n",
              "    (() => {\n",
              "      let quickchartButtonEl =\n",
              "        document.querySelector('#df-bd6efc28-8a2d-4245-aacf-59dcb7fa8e43 button');\n",
              "      quickchartButtonEl.style.display =\n",
              "        google.colab.kernel.accessAllowed ? 'block' : 'none';\n",
              "    })();\n",
              "  </script>\n",
              "</div>\n",
              "\n",
              "  <div id=\"id_0170725f-efd7-4973-83d7-e2fdcc91c609\">\n",
              "    <style>\n",
              "      .colab-df-generate {\n",
              "        background-color: #E8F0FE;\n",
              "        border: none;\n",
              "        border-radius: 50%;\n",
              "        cursor: pointer;\n",
              "        display: none;\n",
              "        fill: #1967D2;\n",
              "        height: 32px;\n",
              "        padding: 0 0 0 0;\n",
              "        width: 32px;\n",
              "      }\n",
              "\n",
              "      .colab-df-generate:hover {\n",
              "        background-color: #E2EBFA;\n",
              "        box-shadow: 0px 1px 2px rgba(60, 64, 67, 0.3), 0px 1px 3px 1px rgba(60, 64, 67, 0.15);\n",
              "        fill: #174EA6;\n",
              "      }\n",
              "\n",
              "      [theme=dark] .colab-df-generate {\n",
              "        background-color: #3B4455;\n",
              "        fill: #D2E3FC;\n",
              "      }\n",
              "\n",
              "      [theme=dark] .colab-df-generate:hover {\n",
              "        background-color: #434B5C;\n",
              "        box-shadow: 0px 1px 3px 1px rgba(0, 0, 0, 0.15);\n",
              "        filter: drop-shadow(0px 1px 2px rgba(0, 0, 0, 0.3));\n",
              "        fill: #FFFFFF;\n",
              "      }\n",
              "    </style>\n",
              "    <button class=\"colab-df-generate\" onclick=\"generateWithVariable('df')\"\n",
              "            title=\"Generate code using this dataframe.\"\n",
              "            style=\"display:none;\">\n",
              "\n",
              "  <svg xmlns=\"http://www.w3.org/2000/svg\" height=\"24px\"viewBox=\"0 0 24 24\"\n",
              "       width=\"24px\">\n",
              "    <path d=\"M7,19H8.4L18.45,9,17,7.55,7,17.6ZM5,21V16.75L18.45,3.32a2,2,0,0,1,2.83,0l1.4,1.43a1.91,1.91,0,0,1,.58,1.4,1.91,1.91,0,0,1-.58,1.4L9.25,21ZM18.45,9,17,7.55Zm-12,3A5.31,5.31,0,0,0,4.9,8.1,5.31,5.31,0,0,0,1,6.5,5.31,5.31,0,0,0,4.9,4.9,5.31,5.31,0,0,0,6.5,1,5.31,5.31,0,0,0,8.1,4.9,5.31,5.31,0,0,0,12,6.5,5.46,5.46,0,0,0,6.5,12Z\"/>\n",
              "  </svg>\n",
              "    </button>\n",
              "    <script>\n",
              "      (() => {\n",
              "      const buttonEl =\n",
              "        document.querySelector('#id_0170725f-efd7-4973-83d7-e2fdcc91c609 button.colab-df-generate');\n",
              "      buttonEl.style.display =\n",
              "        google.colab.kernel.accessAllowed ? 'block' : 'none';\n",
              "\n",
              "      buttonEl.onclick = () => {\n",
              "        google.colab.notebook.generateWithVariable('df');\n",
              "      }\n",
              "      })();\n",
              "    </script>\n",
              "  </div>\n",
              "\n",
              "    </div>\n",
              "  </div>\n"
            ],
            "application/vnd.google.colaboratory.intrinsic+json": {
              "type": "dataframe",
              "variable_name": "df",
              "summary": "{\n  \"name\": \"df\",\n  \"rows\": 506,\n  \"fields\": [\n    {\n      \"column\": \"CRIM\",\n      \"properties\": {\n        \"dtype\": \"number\",\n        \"std\": 8.720191850151599,\n        \"min\": 0.00632,\n        \"max\": 88.9762,\n        \"num_unique_values\": 484,\n        \"samples\": [\n          15.1772,\n          0.2896,\n          0.08308\n        ],\n        \"semantic_type\": \"\",\n        \"description\": \"\"\n      }\n    },\n    {\n      \"column\": \"ZN\",\n      \"properties\": {\n        \"dtype\": \"number\",\n        \"std\": 23.388876146265478,\n        \"min\": 0.0,\n        \"max\": 100.0,\n        \"num_unique_values\": 26,\n        \"samples\": [\n          25.0,\n          30.0,\n          18.0\n        ],\n        \"semantic_type\": \"\",\n        \"description\": \"\"\n      }\n    },\n    {\n      \"column\": \"INDUS\",\n      \"properties\": {\n        \"dtype\": \"number\",\n        \"std\": 6.83589649864144,\n        \"min\": 0.46,\n        \"max\": 27.74,\n        \"num_unique_values\": 76,\n        \"samples\": [\n          8.14,\n          1.47,\n          1.22\n        ],\n        \"semantic_type\": \"\",\n        \"description\": \"\"\n      }\n    },\n    {\n      \"column\": \"CHAS\",\n      \"properties\": {\n        \"dtype\": \"number\",\n        \"std\": 0.2553404809065679,\n        \"min\": 0.0,\n        \"max\": 1.0,\n        \"num_unique_values\": 2,\n        \"samples\": [\n          1.0,\n          0.0\n        ],\n        \"semantic_type\": \"\",\n        \"description\": \"\"\n      }\n    },\n    {\n      \"column\": \"NOX\",\n      \"properties\": {\n        \"dtype\": \"number\",\n        \"std\": 0.11587767566755595,\n        \"min\": 0.385,\n        \"max\": 0.871,\n        \"num_unique_values\": 81,\n        \"samples\": [\n          0.401,\n          0.538\n        ],\n        \"semantic_type\": \"\",\n        \"description\": \"\"\n      }\n    },\n    {\n      \"column\": \"RM\",\n      \"properties\": {\n        \"dtype\": \"number\",\n        \"std\": 0.7026171434153233,\n        \"min\": 3.561,\n        \"max\": 8.78,\n        \"num_unique_values\": 446,\n        \"samples\": [\n          6.849,\n          4.88\n        ],\n        \"semantic_type\": \"\",\n        \"description\": \"\"\n      }\n    },\n    {\n      \"column\": \"AGE\",\n      \"properties\": {\n        \"dtype\": \"number\",\n        \"std\": 27.99951300509237,\n        \"min\": 2.9,\n        \"max\": 100.0,\n        \"num_unique_values\": 348,\n        \"samples\": [\n          82.8,\n          88.4\n        ],\n        \"semantic_type\": \"\",\n        \"description\": \"\"\n      }\n    },\n    {\n      \"column\": \"DIS\",\n      \"properties\": {\n        \"dtype\": \"number\",\n        \"std\": 2.105710126627611,\n        \"min\": 1.1296,\n        \"max\": 12.1265,\n        \"num_unique_values\": 412,\n        \"samples\": [\n          2.2955,\n          4.2515\n        ],\n        \"semantic_type\": \"\",\n        \"description\": \"\"\n      }\n    },\n    {\n      \"column\": \"RAD\",\n      \"properties\": {\n        \"dtype\": \"number\",\n        \"std\": 8,\n        \"min\": 1,\n        \"max\": 24,\n        \"num_unique_values\": 9,\n        \"samples\": [\n          7,\n          2\n        ],\n        \"semantic_type\": \"\",\n        \"description\": \"\"\n      }\n    },\n    {\n      \"column\": \"TAX\",\n      \"properties\": {\n        \"dtype\": \"number\",\n        \"std\": 168,\n        \"min\": 187,\n        \"max\": 711,\n        \"num_unique_values\": 66,\n        \"samples\": [\n          370,\n          666\n        ],\n        \"semantic_type\": \"\",\n        \"description\": \"\"\n      }\n    },\n    {\n      \"column\": \"PTRATIO\",\n      \"properties\": {\n        \"dtype\": \"number\",\n        \"std\": 2.1649455237144406,\n        \"min\": 12.6,\n        \"max\": 22.0,\n        \"num_unique_values\": 46,\n        \"samples\": [\n          19.6,\n          15.6\n        ],\n        \"semantic_type\": \"\",\n        \"description\": \"\"\n      }\n    },\n    {\n      \"column\": \"B\",\n      \"properties\": {\n        \"dtype\": \"number\",\n        \"std\": 91.29486438415783,\n        \"min\": 0.32,\n        \"max\": 396.9,\n        \"num_unique_values\": 357,\n        \"samples\": [\n          396.24,\n          395.11\n        ],\n        \"semantic_type\": \"\",\n        \"description\": \"\"\n      }\n    },\n    {\n      \"column\": \"LSTAT\",\n      \"properties\": {\n        \"dtype\": \"number\",\n        \"std\": 7.155870815805251,\n        \"min\": 1.73,\n        \"max\": 37.97,\n        \"num_unique_values\": 438,\n        \"samples\": [\n          26.64,\n          7.51\n        ],\n        \"semantic_type\": \"\",\n        \"description\": \"\"\n      }\n    },\n    {\n      \"column\": \"MEDV\",\n      \"properties\": {\n        \"dtype\": \"number\",\n        \"std\": 9.197104087379818,\n        \"min\": 5.0,\n        \"max\": 50.0,\n        \"num_unique_values\": 229,\n        \"samples\": [\n          14.1,\n          22.5\n        ],\n        \"semantic_type\": \"\",\n        \"description\": \"\"\n      }\n    }\n  ]\n}"
            }
          },
          "metadata": {},
          "execution_count": 2
        }
      ],
      "source": [
        "# 데이터 가져오기\n",
        "import numpy as np\n",
        "import pandas as pd\n",
        "import matplotlib.pyplot as plt\n",
        "\n",
        "df = pd.read_csv('./HousingData.csv')\n",
        "df"
      ]
    },
    {
      "cell_type": "markdown",
      "source": [
        "| 필드명 | 설명 | 값 종류 |\n",
        "|------|------|------|\n",
        "|**CRIM** |자치시(town)별 1인당 범죄율 |\t|\n",
        "|ZN |25,000평방 피크를 초과하는 거주지역의 비율  |\t|\n",
        "|INDUS |비소매상업지역이 점유하고 있는 토지의 비율  |\t|\n",
        "|CHAS |찰스강 인접여부  |0=No, 1=Yes\t|\n",
        "|NOX |10ppm당 농축 일산화질소  |\t|\n",
        "|RM |주택 1가구당 평균 방의 개수  |\t|\n",
        "|AGE |1940년 이전에 건축된 소유주택의 비율  |\t|\n",
        "|DIS |5개의 보스턴 직업센터까지의 접근성 지수  |\t|\n",
        "|RAD |방사형 도로까지의 접근성 지수  |\t|\n",
        "|TAX |10,000 달러 당 재산세율  |\t|\n",
        "|PTRATIO |자치시(town)별 학생/교사 비율  |\t|\n",
        "|B |1000(Bk-0.63)^2, 여기서 Bk는 자치시별 흑인의 비율  |\t|\n",
        "|LSTAT |모집단의 하위계층의 비율(%)  |\t|\n",
        "|MEDV |본인 소유의 주택가격(중앙값) (단위: $1,000)  |\t|"
      ],
      "metadata": {
        "id": "BbQX0kFO8u0P"
      },
      "id": "BbQX0kFO8u0P"
    },
    {
      "cell_type": "markdown",
      "id": "77774dc6",
      "metadata": {
        "id": "77774dc6"
      },
      "source": [
        "## 2.데이터 전처리"
      ]
    },
    {
      "cell_type": "markdown",
      "source": [
        "### 2-1. 기본 정보 확인\n"
      ],
      "metadata": {
        "id": "x7KWeXM0Gskg"
      },
      "id": "x7KWeXM0Gskg"
    },
    {
      "cell_type": "markdown",
      "source": [
        "- 데이터 요약정보"
      ],
      "metadata": {
        "id": "7iK8nRTwG8QP"
      },
      "id": "7iK8nRTwG8QP"
    },
    {
      "cell_type": "code",
      "source": [
        "df.info()"
      ],
      "metadata": {
        "id": "UllVO70NG7Z3",
        "colab": {
          "base_uri": "https://localhost:8080/"
        },
        "outputId": "8dca8cbd-aea5-44b6-deb4-fb562b22ec6b"
      },
      "id": "UllVO70NG7Z3",
      "execution_count": 3,
      "outputs": [
        {
          "output_type": "stream",
          "name": "stdout",
          "text": [
            "<class 'pandas.core.frame.DataFrame'>\n",
            "RangeIndex: 506 entries, 0 to 505\n",
            "Data columns (total 14 columns):\n",
            " #   Column   Non-Null Count  Dtype  \n",
            "---  ------   --------------  -----  \n",
            " 0   CRIM     486 non-null    float64\n",
            " 1   ZN       486 non-null    float64\n",
            " 2   INDUS    486 non-null    float64\n",
            " 3   CHAS     486 non-null    float64\n",
            " 4   NOX      506 non-null    float64\n",
            " 5   RM       506 non-null    float64\n",
            " 6   AGE      486 non-null    float64\n",
            " 7   DIS      506 non-null    float64\n",
            " 8   RAD      506 non-null    int64  \n",
            " 9   TAX      506 non-null    int64  \n",
            " 10  PTRATIO  506 non-null    float64\n",
            " 11  B        506 non-null    float64\n",
            " 12  LSTAT    486 non-null    float64\n",
            " 13  MEDV     506 non-null    float64\n",
            "dtypes: float64(12), int64(2)\n",
            "memory usage: 55.5 KB\n"
          ]
        }
      ]
    },
    {
      "cell_type": "markdown",
      "source": [
        "* 불 필요한 컬럼 삭제\n",
        "    - Target(종속변수) : 주택가격\n",
        "    - Feature(독립변수) : 여러 항목"
      ],
      "metadata": {
        "id": "49c4nXFRG-SS"
      },
      "id": "49c4nXFRG-SS"
    },
    {
      "cell_type": "code",
      "execution_count": 4,
      "id": "fbddf88c",
      "metadata": {
        "id": "fbddf88c",
        "colab": {
          "base_uri": "https://localhost:8080/"
        },
        "outputId": "3b84f852-df8e-4a50-f5b6-642ea5660b3b"
      },
      "outputs": [
        {
          "output_type": "stream",
          "name": "stdout",
          "text": [
            "<class 'pandas.core.frame.DataFrame'>\n",
            "RangeIndex: 506 entries, 0 to 505\n",
            "Data columns (total 10 columns):\n",
            " #   Column   Non-Null Count  Dtype  \n",
            "---  ------   --------------  -----  \n",
            " 0   CRIM     486 non-null    float64\n",
            " 1   ZN       486 non-null    float64\n",
            " 2   INDUS    486 non-null    float64\n",
            " 3   NOX      506 non-null    float64\n",
            " 4   RM       506 non-null    float64\n",
            " 5   AGE      486 non-null    float64\n",
            " 6   DIS      506 non-null    float64\n",
            " 7   TAX      506 non-null    int64  \n",
            " 8   PTRATIO  506 non-null    float64\n",
            " 9   MEDV     506 non-null    float64\n",
            "dtypes: float64(9), int64(1)\n",
            "memory usage: 39.7 KB\n"
          ]
        }
      ],
      "source": [
        "# 불필요한 컬럼 삭제\n",
        "df.drop(['CHAS','RAD','B','LSTAT'],axis=1, inplace=True)\n",
        "df.info()"
      ]
    },
    {
      "cell_type": "markdown",
      "source": [
        "### 2-2. 시각화"
      ],
      "metadata": {
        "id": "MVx3f7BoHv5Z"
      },
      "id": "MVx3f7BoHv5Z"
    },
    {
      "cell_type": "markdown",
      "source": [
        "- 종속변수 탐색"
      ],
      "metadata": {
        "id": "oPgckCtskc6V"
      },
      "id": "oPgckCtskc6V"
    },
    {
      "cell_type": "code",
      "source": [
        "df['MEDV'].info()\n",
        "df['MEDV'].describe()"
      ],
      "metadata": {
        "id": "phbKX3avICGr",
        "colab": {
          "base_uri": "https://localhost:8080/"
        },
        "outputId": "772cc6d3-0ab9-4401-cc75-542c7b8c4511"
      },
      "id": "phbKX3avICGr",
      "execution_count": 5,
      "outputs": [
        {
          "output_type": "stream",
          "name": "stdout",
          "text": [
            "<class 'pandas.core.series.Series'>\n",
            "RangeIndex: 506 entries, 0 to 505\n",
            "Series name: MEDV\n",
            "Non-Null Count  Dtype  \n",
            "--------------  -----  \n",
            "506 non-null    float64\n",
            "dtypes: float64(1)\n",
            "memory usage: 4.1 KB\n"
          ]
        },
        {
          "output_type": "execute_result",
          "data": {
            "text/plain": [
              "count    506.000000\n",
              "mean      22.532806\n",
              "std        9.197104\n",
              "min        5.000000\n",
              "25%       17.025000\n",
              "50%       21.200000\n",
              "75%       25.000000\n",
              "max       50.000000\n",
              "Name: MEDV, dtype: float64"
            ]
          },
          "metadata": {},
          "execution_count": 5
        }
      ]
    },
    {
      "cell_type": "code",
      "execution_count": null,
      "id": "0004a33a",
      "metadata": {
        "id": "0004a33a"
      },
      "outputs": [],
      "source": [
        "# boxplot\n",
        "df.boxplot(column=['MEDV'])   # Pandas\n",
        "# plt.boxplot(df['MEDV'])       # matplotlib\n",
        "plt.show()"
      ]
    },
    {
      "cell_type": "markdown",
      "id": "1b5b2144",
      "metadata": {
        "id": "1b5b2144"
      },
      "source": [
        "- 독립변수 탐색"
      ]
    },
    {
      "cell_type": "code",
      "execution_count": null,
      "id": "1a58375a",
      "metadata": {
        "id": "1a58375a"
      },
      "outputs": [],
      "source": [
        "#[추가] 독립 변수의 분포\n",
        "cols = ['CRIM','ZN','INDUS','NOX','RM','AGE','DIS','TAX','PTRATIO']\n",
        "\n",
        "fig = plt.figure(figsize=(10,10))\n",
        "ax = fig.gca()  # 현재 값을 X축으로 Axes 생성\n",
        "\n",
        "df[cols].hist(ax=ax)\n",
        "plt.show()"
      ]
    },
    {
      "cell_type": "code",
      "source": [
        "import seaborn as sns\n",
        "import matplotlib.pyplot as plt\n",
        "\n",
        "sns.pairplot(df, hue='MEDV')\n",
        "plt.show()"
      ],
      "metadata": {
        "id": "L8_cpqtVGMrH"
      },
      "id": "L8_cpqtVGMrH",
      "execution_count": null,
      "outputs": []
    },
    {
      "cell_type": "markdown",
      "id": "fa45f1ac",
      "metadata": {
        "id": "fa45f1ac"
      },
      "source": [
        "* 상관관계 탐색 : 종속변수와 독립변수간\n",
        "    - 피어슨 상관 계수는 코시-슈바르츠 부등식에 의해 +1과 -1 사이의 값을 가진다."
      ]
    },
    {
      "cell_type": "code",
      "execution_count": null,
      "id": "ee63e258",
      "metadata": {
        "id": "ee63e258"
      },
      "outputs": [],
      "source": [
        "# Pearson 상관계수\n",
        "df.corr(method='pearson')"
      ]
    },
    {
      "cell_type": "code",
      "execution_count": null,
      "id": "42b71fed",
      "metadata": {
        "id": "42b71fed"
      },
      "outputs": [],
      "source": [
        "#[추가] 상관계수를 Heatmap으로 표현\n",
        "fig = plt.figure(figsize=(10,6))\n",
        "ax = fig.gca()\n",
        "\n",
        "import seaborn as sns\n",
        "sns.set(font_scale=1.5)  # heatmap안의 font-size\n",
        "heatmap = sns.heatmap(df.corr(), annot=True,\n",
        "                      fmt='.2f',annot_kws={'size':15},\n",
        "                     yticklabels=cols, xticklabels=cols, ax=ax, cmap='RdYlBu')\n",
        "plt.tight_layout()\n",
        "plt.show()"
      ]
    },
    {
      "cell_type": "code",
      "execution_count": null,
      "id": "96e23731",
      "metadata": {
        "id": "96e23731"
      },
      "outputs": [],
      "source": [
        "# RM(방개수) 와 MEDV(주택가격) 간의 그래프\n",
        "X, Y = df['RM'], df['MEDV']\n",
        "plt.scatter(X, Y, color ='r', s= 10)\n",
        "# sns.scatterplot(data=df, x='RM', y='MEDV', markers='o', color='blue', alpha=0.6)\n",
        "plt.xlabel('RM')\n",
        "plt.ylabel('MEDV')\n",
        "plt.show()"
      ]
    },
    {
      "cell_type": "code",
      "execution_count": null,
      "id": "d3420ff0",
      "metadata": {
        "id": "d3420ff0"
      },
      "outputs": [],
      "source": [
        "# PTRATIO(학교/교사비율) 와 MEDV(주택가격) 간의 그래프\n",
        "X, Y = df['PTRATIO'], df['MEDV']\n",
        "plt.scatter(X, Y, color ='r', s= 10)\n",
        "plt.xlabel('RM')\n",
        "plt.ylabel('MEDV')\n",
        "plt.show()"
      ]
    },
    {
      "cell_type": "code",
      "execution_count": null,
      "id": "ae4361c0",
      "metadata": {
        "scrolled": true,
        "id": "ae4361c0"
      },
      "outputs": [],
      "source": [
        "# 여러 개 그래프 그리기\n",
        "plt.figure(figsize=(15, 4))   # 그림 크기를 인치단위로 표시\n",
        "p = 1\n",
        "for col in df.columns:\n",
        "    X, Y = df[col], df['MEDV']\n",
        "    plt.subplot(2,5,p)   # 2 x 5 행렬로 이뤄진 하위 그래프에서 p에 따라 위치를 지정\n",
        "    plt.scatter(X, Y, color ='r', s=5)\n",
        "    plt.xlabel(col)\n",
        "    plt.ylabel('MEDV')\n",
        "    p += 1\n",
        "plt.show()"
      ]
    },
    {
      "cell_type": "markdown",
      "source": [
        "### 2-3.데이터 처리"
      ],
      "metadata": {
        "id": "IfzqpF7VLPwI"
      },
      "id": "IfzqpF7VLPwI"
    },
    {
      "cell_type": "markdown",
      "source": [
        "#### 1) 결측치 처리"
      ],
      "metadata": {
        "id": "DTp6aUrqLRwW"
      },
      "id": "DTp6aUrqLRwW"
    },
    {
      "cell_type": "code",
      "source": [
        "df.isnull().sum()"
      ],
      "metadata": {
        "id": "pqrL216uLSSE"
      },
      "id": "pqrL216uLSSE",
      "execution_count": null,
      "outputs": []
    },
    {
      "cell_type": "code",
      "source": [
        "df[['CRIM', 'ZN', 'INDUS', 'AGE']].describe()"
      ],
      "metadata": {
        "id": "Gbn-WZP4M3MS"
      },
      "id": "Gbn-WZP4M3MS",
      "execution_count": null,
      "outputs": []
    },
    {
      "cell_type": "markdown",
      "source": [
        "- 결측치:'CRIM', 'ZN', 'INDUS', 'AGE' (앙값으로 대체)"
      ],
      "metadata": {
        "id": "eSUsSamXNVJg"
      },
      "id": "eSUsSamXNVJg"
    },
    {
      "cell_type": "code",
      "source": [
        "df['CRIM']  = df['CRIM'].fillna(df['CRIM'].median())\n",
        "df['ZN']    = df['ZN'].fillna(df['ZN'].median())\n",
        "df['INDUS'] = df['INDUS'].fillna(df['INDUS'].median())\n",
        "df['AGE']   = df['AGE'].fillna(df['AGE'].median())\n",
        "df.isnull().sum()"
      ],
      "metadata": {
        "id": "29z7vFXpNVxp"
      },
      "id": "29z7vFXpNVxp",
      "execution_count": null,
      "outputs": []
    },
    {
      "cell_type": "markdown",
      "source": [
        "#### 2) 정규화 & 표준화"
      ],
      "metadata": {
        "id": "hC2qiKBjOcNM"
      },
      "id": "hC2qiKBjOcNM"
    },
    {
      "cell_type": "code",
      "source": [
        "from sklearn.preprocessing import StandardScaler\n",
        "\n",
        "# 표준화 하기\n",
        "scaler = StandardScaler()\n",
        "df[cols] = scaler.fit_transform(df[cols])\n",
        "df.head()"
      ],
      "metadata": {
        "id": "xIG28PRFOcd8"
      },
      "id": "xIG28PRFOcd8",
      "execution_count": null,
      "outputs": []
    },
    {
      "cell_type": "markdown",
      "id": "28a916e3",
      "metadata": {
        "id": "28a916e3"
      },
      "source": [
        "## 3.모델"
      ]
    },
    {
      "cell_type": "markdown",
      "source": [
        "### 3-1. 학습용 데이터 준비"
      ],
      "metadata": {
        "id": "57j9h_hSJZ4V"
      },
      "id": "57j9h_hSJZ4V"
    },
    {
      "cell_type": "code",
      "source": [
        "feature = ['CRIM','ZN','INDUS','NOX','RM','AGE','DIS','TAX','PTRATIO']\n",
        "target = ['MEDV']\n",
        "X = df[feature]\n",
        "Y = df[target]"
      ],
      "metadata": {
        "id": "2JcvyGHvJeMn"
      },
      "id": "2JcvyGHvJeMn",
      "execution_count": null,
      "outputs": []
    },
    {
      "cell_type": "markdown",
      "source": [
        "### 3-2. 학습용, 테스트 데이터 분리하기"
      ],
      "metadata": {
        "id": "FMwmtFNUJbCB"
      },
      "id": "FMwmtFNUJbCB"
    },
    {
      "cell_type": "code",
      "execution_count": null,
      "id": "06d39464",
      "metadata": {
        "id": "06d39464"
      },
      "outputs": [],
      "source": [
        "from sklearn.model_selection import train_test_split\n",
        "\n",
        "X_train, X_test, y_train, y_test = train_test_split(X, Y, test_size=0.2, random_state=1)\n",
        "\n",
        "print(X_train.shape, X_test.shape)\n",
        "print(y_train.shape, y_test.shape)"
      ]
    },
    {
      "cell_type": "markdown",
      "source": [
        "### 3-3.모델 훈련 및 테스트"
      ],
      "metadata": {
        "id": "HxZvV2tUKa9K"
      },
      "id": "HxZvV2tUKa9K"
    },
    {
      "cell_type": "code",
      "execution_count": null,
      "id": "e3c7a604",
      "metadata": {
        "id": "e3c7a604"
      },
      "outputs": [],
      "source": [
        "from sklearn.linear_model import LinearRegression\n",
        "\n",
        "# 모델(회귀) : 선형회귀\n",
        "model = LinearRegression()\n",
        "\n",
        "# 모델 훈련(학습)\n",
        "model.fit(X_train, y_train)\n",
        "\n",
        "# 회귀 모델의 계수: weight, bias\n",
        "print(f'weight: {model.coef_}')\n",
        "print(f'bias: {model.intercept_}')\n",
        "\n",
        "# 학습모델(lr)을 통해 예측 : x만 입력\n",
        "y_pred = model.predict(X_test)\n",
        "# print(y_test)\n",
        "# print(y_pred)\n"
      ]
    },
    {
      "cell_type": "code",
      "source": [
        "# RM(방개수) 와 MEDV(주택가격) 간의 그래프\n",
        "plt.scatter(X_test['RM'], y_test, s= 10, label='y_test')\n",
        "plt.scatter(X_test['RM'], y_pred, s= 10, label='y_pred')\n",
        "# sns.scatterplot(data=df, x='RM', y='MEDV', markers='o', color='blue', alpha=0.6)\n",
        "plt.xlabel('RM')\n",
        "plt.ylabel('MEDV')\n",
        "plt.show()"
      ],
      "metadata": {
        "id": "HfjWn1svRDVQ"
      },
      "id": "HfjWn1svRDVQ",
      "execution_count": null,
      "outputs": []
    },
    {
      "cell_type": "code",
      "source": [
        "cols = ['CRIM','ZN','INDUS','NOX','RM','AGE','DIS','TAX']\n",
        "plt.figure(figsize=(15, 4))   # 그림 크기를 인치단위로 표시\n",
        "p = 1\n",
        "for col in cols:\n",
        "    plt.subplot(2,5,p)   # 2 x 5 행렬로 이뤄진 하위 그래프에서 p에 따라 위치를 지정\n",
        "    plt.scatter(X_test[col], y_test,  s=5)\n",
        "    plt.scatter(X_test[col], y_pred,  s=5)\n",
        "    plt.xlabel(col)\n",
        "    plt.ylabel('MEDV')\n",
        "    p += 1\n",
        "plt.show()"
      ],
      "metadata": {
        "id": "StQLXys5QZsK"
      },
      "id": "StQLXys5QZsK",
      "execution_count": null,
      "outputs": []
    },
    {
      "cell_type": "markdown",
      "id": "fcc3745d",
      "metadata": {
        "id": "fcc3745d"
      },
      "source": [
        "### 3-4.모델 평가(정확도 측정)\n",
        "- RMSE(Root Mean Square Error):평균 제곱 오차\n",
        "- R2(R-squared): 결정 계수 :  예측 값의 분산/실제값의 분산, 1 일때 설명력이 높다, 절대 지표로 사용"
      ]
    },
    {
      "cell_type": "code",
      "execution_count": null,
      "id": "d1a943f9",
      "metadata": {
        "scrolled": true,
        "id": "d1a943f9"
      },
      "outputs": [],
      "source": [
        "# 정확도 측정 , RMSE, 상대 지표(값이 작을수록 정확도가 크다)\n",
        "from sklearn.metrics import mean_squared_error\n",
        "from sklearn.metrics import r2_score\n",
        "\n",
        "mse = mean_squared_error(y_test ,y_pred)\n",
        "rmse = np.sqrt(mse)   # 제곱근\n",
        "print('RMSE:',rmse)   # RMSE: 6.603071389222561\n",
        "\n",
        "# R2(R-squared), 결정 계수 :  예측 값의 분산/실제값의 분산, 1 일때 설명력이 높다, 절대 지표로 사용\n",
        "r2 = r2_score(y_test ,y_pred)\n",
        "print('r2_score:',r2) # 0.48352545599133423"
      ]
    },
    {
      "cell_type": "markdown",
      "source": [
        "- 실제값과 예측값의 비교 그래프"
      ],
      "metadata": {
        "id": "8HcCBLw_TukB"
      },
      "id": "8HcCBLw_TukB"
    },
    {
      "cell_type": "code",
      "execution_count": null,
      "id": "3ea61fbf",
      "metadata": {
        "id": "3ea61fbf"
      },
      "outputs": [],
      "source": [
        "#실제값과 예측값의 비교 그래프\n",
        "import warnings\n",
        "warnings.filterwarnings('ignore')\n",
        "\n",
        "sns.distplot(y_test, hist=False, label='y_test')\n",
        "sns.distplot(y_pred, hist=False, label='y_pred')\n",
        "plt.legend()\n",
        "plt.plot()\n",
        "plt.show()"
      ]
    },
    {
      "cell_type": "markdown",
      "id": "f592a8a2",
      "metadata": {
        "id": "f592a8a2"
      },
      "source": [
        "-----"
      ]
    },
    {
      "cell_type": "markdown",
      "id": "3ad541fa",
      "metadata": {
        "id": "3ad541fa"
      },
      "source": [
        "## THE END"
      ]
    }
  ],
  "metadata": {
    "kernelspec": {
      "display_name": "Python 3 (ipykernel)",
      "language": "python",
      "name": "python3"
    },
    "language_info": {
      "codemirror_mode": {
        "name": "ipython",
        "version": 3
      },
      "file_extension": ".py",
      "mimetype": "text/x-python",
      "name": "python",
      "nbconvert_exporter": "python",
      "pygments_lexer": "ipython3",
      "version": "3.10.9"
    },
    "colab": {
      "provenance": [],
      "include_colab_link": true
    }
  },
  "nbformat": 4,
  "nbformat_minor": 5
}