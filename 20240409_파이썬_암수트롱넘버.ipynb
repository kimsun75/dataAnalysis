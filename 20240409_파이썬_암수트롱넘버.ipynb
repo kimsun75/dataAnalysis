{
  "nbformat": 4,
  "nbformat_minor": 0,
  "metadata": {
    "colab": {
      "provenance": [],
      "authorship_tag": "ABX9TyO6cHgxbe6mSUdqRBLmodFu",
      "include_colab_link": true
    },
    "kernelspec": {
      "name": "python3",
      "display_name": "Python 3"
    },
    "language_info": {
      "name": "python"
    }
  },
  "cells": [
    {
      "cell_type": "markdown",
      "metadata": {
        "id": "view-in-github",
        "colab_type": "text"
      },
      "source": [
        "<a href=\"https://colab.research.google.com/github/kimsun75/dataAnalysis/blob/main/20240409_%ED%8C%8C%EC%9D%B4%EC%8D%AC_%EC%95%94%EC%88%98%ED%8A%B8%EB%A1%B1%EB%84%98%EB%B2%84.ipynb\" target=\"_parent\"><img src=\"https://colab.research.google.com/assets/colab-badge.svg\" alt=\"Open In Colab\"/></a>"
      ]
    },
    {
      "cell_type": "code",
      "execution_count": null,
      "metadata": {
        "colab": {
          "base_uri": "https://localhost:8080/"
        },
        "id": "CH-xdHpOUoqa",
        "outputId": "061ea9bf-57d3-42ff-81ea-024d6c87ab25"
      },
      "outputs": [
        {
          "output_type": "stream",
          "name": "stdout",
          "text": [
            "\"153\" is armstrong number\n",
            "\"370\" is armstrong number\n",
            "\"371\" is armstrong number\n",
            "\"407\" is armstrong number\n",
            "\"153\" is armstrong number\n",
            "\"370\" is armstrong number\n",
            "\"371\" is armstrong number\n",
            "\"407\" is armstrong number\n"
          ]
        }
      ],
      "source": [
        "\n",
        "def is_armstrongNumber(n):\n",
        "    _1,_2,_3= int(str(n)[0]), int(str(n)[1]), int(str(n)[2])\n",
        "    if _1**3+_2**3+_3**3 == n:\n",
        "        return True\n",
        "    else:\n",
        "        return False\n",
        "\n",
        "def is_armstrongNumber1(n):\n",
        "    _1, _2, _3 = int(str(n)[0]), int(str(n)[1]), int(str(n)[2])\n",
        "    if _1**3 + _2**3 + _3**3 == n:\n",
        "        return True\n",
        "    else:\n",
        "        return False\n",
        "\n",
        "\n",
        "for n in range(100,1000):\n",
        "    if is_armstrongNumber(n):\n",
        "       print(f'\"{n}\" is armstrong number')\n",
        "\n",
        "for n in range(100,100000000):\n",
        "    if is_armstrongNumber1(n):\n",
        "       print(f'\"{n}\" is armstrong number')\n",
        "\n",
        "\n",
        "\n",
        "\n",
        "\n",
        "\n",
        "\n"
      ]
    },
    {
      "cell_type": "code",
      "source": [],
      "metadata": {
        "id": "Q4sX3OS6XkUs"
      },
      "execution_count": null,
      "outputs": []
    },
    {
      "cell_type": "markdown",
      "source": [
        "https://pythontutor.com/"
      ],
      "metadata": {
        "id": "PL71DIhuapyl"
      }
    },
    {
      "cell_type": "markdown",
      "source": [
        "https://pythontutor.com/python-compiler.html#mode=edit"
      ],
      "metadata": {
        "id": "5AwRjo8Ra4Pl"
      }
    },
    {
      "cell_type": "code",
      "source": [
        "myList = [1,2,3,4,5]\n",
        "\n",
        "def add10(num):\n",
        "    return num+10\n",
        "\n",
        "for index, value in enumerate(myList):\n",
        "    my\n"
      ],
      "metadata": {
        "colab": {
          "base_uri": "https://localhost:8080/",
          "height": 111
        },
        "id": "elI89gEocgc9",
        "outputId": "a653cdce-fbef-4361-b9de-d8bbb95d60e7"
      },
      "execution_count": null,
      "outputs": [
        {
          "output_type": "error",
          "ename": "SyntaxError",
          "evalue": "incomplete input (<ipython-input-18-bd8bab70a4bf>, line 6)",
          "traceback": [
            "\u001b[0;36m  File \u001b[0;32m\"<ipython-input-18-bd8bab70a4bf>\"\u001b[0;36m, line \u001b[0;32m6\u001b[0m\n\u001b[0;31m    for index, value in enumerate(myList):\u001b[0m\n\u001b[0m                                          ^\u001b[0m\n\u001b[0;31mSyntaxError\u001b[0m\u001b[0;31m:\u001b[0m incomplete input\n"
          ]
        }
      ]
    },
    {
      "cell_type": "code",
      "source": [],
      "metadata": {
        "id": "9FlwtH1sdzL2"
      },
      "execution_count": null,
      "outputs": []
    },
    {
      "cell_type": "markdown",
      "source": [
        "## Lambda & map() 사용하기"
      ],
      "metadata": {
        "id": "PagFeEV3d3Nt"
      }
    },
    {
      "cell_type": "code",
      "source": [
        "mylist = [1,2,3,4,5,6,7,8,9,10]\n",
        "#print(mylist)\n",
        "\n",
        "#mylist 3 의 배수만 문자열로 변환해서 mylist 출력하기\n",
        "#func = lambda x : str(x) if x%3==0 else x\n",
        "#mylist = list(map( func, mylist ))\n",
        "#하단1줄로 변경 가능 -  lambda & map 이용\n",
        "mylist = list(map( lambda x : str(x) if x%3==0 else x, mylist ))\n",
        "\n",
        "mylist\n",
        "\n",
        "##결과 [1, 2, '3', 4, 5, '6', 7, 8, '9', 10]"
      ],
      "metadata": {
        "colab": {
          "base_uri": "https://localhost:8080/"
        },
        "id": "B-LLRFvyd_zt",
        "outputId": "97e32b2a-0917-463f-f9b3-6ef3dcc47b1e"
      },
      "execution_count": null,
      "outputs": [
        {
          "output_type": "execute_result",
          "data": {
            "text/plain": [
              "[1, 2, '3', 4, 5, '6', 7, 8, '9', 10]"
            ]
          },
          "metadata": {},
          "execution_count": 70
        }
      ]
    },
    {
      "cell_type": "code",
      "source": [
        "mylist1=[1,2,3,4,5]\n",
        "mylist2=[2,4,6,8,10]\n",
        "mylist3=[1,1,1,1,1]\n",
        "\n",
        "func=lambda x,y, z:x*y*z\n",
        "##mylist=list(map(func,mylist1, mylist2))\n",
        "\n",
        "mylist = list(map(func, mylist1, mylist2, mylist3))\n",
        "mylist\n",
        "\n",
        "##결과 [2, 8, 18, 32, 50]\n"
      ],
      "metadata": {
        "colab": {
          "base_uri": "https://localhost:8080/"
        },
        "id": "QpECtzhQf3FW",
        "outputId": "f03b43d2-9d05-4e97-e044-6d2815a83660"
      },
      "execution_count": null,
      "outputs": [
        {
          "output_type": "execute_result",
          "data": {
            "text/plain": [
              "[2, 8, 18, 32, 50]"
            ]
          },
          "metadata": {},
          "execution_count": 46
        }
      ]
    },
    {
      "cell_type": "markdown",
      "source": [
        "#파일 입출력"
      ],
      "metadata": {
        "id": "c-iOKrVckYc8"
      }
    },
    {
      "cell_type": "markdown",
      "source": [
        "## 파일 입출력"
      ],
      "metadata": {
        "id": "sEthoGZLmYmV"
      }
    },
    {
      "cell_type": "code",
      "source": [
        "##f=open(\"C:\\python\\data\\파이썬기초_배포.zip\\파이썬기초_배포\")\n",
        "f=open('./새파일.txt','w')\n",
        "for i in range(1,11):\n",
        "    f.write(f\"{i:2>}번째 줄입니다.\\n\")\n",
        "f.close()"
      ],
      "metadata": {
        "id": "afaz4scCkaH8"
      },
      "execution_count": null,
      "outputs": []
    },
    {
      "cell_type": "code",
      "source": [
        "f=open('./새파일.txt','r')\n",
        "line=f.readline()\n",
        "print(line)\n",
        "while True:\n",
        "    line = f.readline()\n",
        "    if not line:\n",
        "        break\n",
        "    print(line.strip())\n",
        "f.close()\n"
      ],
      "metadata": {
        "colab": {
          "base_uri": "https://localhost:8080/",
          "height": 222
        },
        "id": "kXGn6rNCoH8T",
        "outputId": "45fbac71-7019-4ed3-abd5-bd9c8f1a899a"
      },
      "execution_count": null,
      "outputs": [
        {
          "output_type": "error",
          "ename": "FileNotFoundError",
          "evalue": "[Errno 2] No such file or directory: './새파일.txt'",
          "traceback": [
            "\u001b[0;31m---------------------------------------------------------------------------\u001b[0m",
            "\u001b[0;31mFileNotFoundError\u001b[0m                         Traceback (most recent call last)",
            "\u001b[0;32m<ipython-input-99-e148423adf43>\u001b[0m in \u001b[0;36m<cell line: 1>\u001b[0;34m()\u001b[0m\n\u001b[0;32m----> 1\u001b[0;31m \u001b[0mf\u001b[0m\u001b[0;34m=\u001b[0m\u001b[0mopen\u001b[0m\u001b[0;34m(\u001b[0m\u001b[0;34m'./새파일.txt'\u001b[0m\u001b[0;34m,\u001b[0m\u001b[0;34m'r'\u001b[0m\u001b[0;34m)\u001b[0m\u001b[0;34m\u001b[0m\u001b[0;34m\u001b[0m\u001b[0m\n\u001b[0m\u001b[1;32m      2\u001b[0m \u001b[0mline\u001b[0m\u001b[0;34m=\u001b[0m\u001b[0mf\u001b[0m\u001b[0;34m.\u001b[0m\u001b[0mreadline\u001b[0m\u001b[0;34m(\u001b[0m\u001b[0;34m)\u001b[0m\u001b[0;34m\u001b[0m\u001b[0;34m\u001b[0m\u001b[0m\n\u001b[1;32m      3\u001b[0m \u001b[0mprint\u001b[0m\u001b[0;34m(\u001b[0m\u001b[0mline\u001b[0m\u001b[0;34m)\u001b[0m\u001b[0;34m\u001b[0m\u001b[0;34m\u001b[0m\u001b[0m\n\u001b[1;32m      4\u001b[0m \u001b[0;32mwhile\u001b[0m \u001b[0;32mTrue\u001b[0m\u001b[0;34m:\u001b[0m\u001b[0;34m\u001b[0m\u001b[0;34m\u001b[0m\u001b[0m\n\u001b[1;32m      5\u001b[0m     \u001b[0mline\u001b[0m \u001b[0;34m=\u001b[0m \u001b[0mf\u001b[0m\u001b[0;34m.\u001b[0m\u001b[0mreadline\u001b[0m\u001b[0;34m(\u001b[0m\u001b[0;34m)\u001b[0m\u001b[0;34m\u001b[0m\u001b[0;34m\u001b[0m\u001b[0m\n",
            "\u001b[0;31mFileNotFoundError\u001b[0m: [Errno 2] No such file or directory: './새파일.txt'"
          ]
        }
      ]
    },
    {
      "cell_type": "code",
      "source": [
        "f=open('./새파일.txt', 'r')\n",
        "line=f.readlines()\n",
        "print(line)"
      ],
      "metadata": {
        "id": "46FgvynDcsVd",
        "colab": {
          "base_uri": "https://localhost:8080/",
          "height": 185
        },
        "outputId": "ab6d363f-a1d4-4e27-afdf-b00311ac3ccd"
      },
      "execution_count": null,
      "outputs": [
        {
          "output_type": "error",
          "ename": "FileNotFoundError",
          "evalue": "[Errno 2] No such file or directory: './새파일.txt'",
          "traceback": [
            "\u001b[0;31m---------------------------------------------------------------------------\u001b[0m",
            "\u001b[0;31mFileNotFoundError\u001b[0m                         Traceback (most recent call last)",
            "\u001b[0;32m<ipython-input-100-c44db9d083b6>\u001b[0m in \u001b[0;36m<cell line: 1>\u001b[0;34m()\u001b[0m\n\u001b[0;32m----> 1\u001b[0;31m \u001b[0mf\u001b[0m\u001b[0;34m=\u001b[0m\u001b[0mopen\u001b[0m\u001b[0;34m(\u001b[0m\u001b[0;34m'./새파일.txt'\u001b[0m\u001b[0;34m,\u001b[0m \u001b[0;34m'r'\u001b[0m\u001b[0;34m)\u001b[0m\u001b[0;34m\u001b[0m\u001b[0;34m\u001b[0m\u001b[0m\n\u001b[0m\u001b[1;32m      2\u001b[0m \u001b[0mline\u001b[0m\u001b[0;34m=\u001b[0m\u001b[0mf\u001b[0m\u001b[0;34m.\u001b[0m\u001b[0mreadlines\u001b[0m\u001b[0;34m(\u001b[0m\u001b[0;34m)\u001b[0m\u001b[0;34m\u001b[0m\u001b[0;34m\u001b[0m\u001b[0m\n\u001b[1;32m      3\u001b[0m \u001b[0mprint\u001b[0m\u001b[0;34m(\u001b[0m\u001b[0mline\u001b[0m\u001b[0;34m)\u001b[0m\u001b[0;34m\u001b[0m\u001b[0;34m\u001b[0m\u001b[0m\n",
            "\u001b[0;31mFileNotFoundError\u001b[0m: [Errno 2] No such file or directory: './새파일.txt'"
          ]
        }
      ]
    },
    {
      "cell_type": "code",
      "source": [
        "f=open('./새파일.txt', 'r')\n",
        "for line .readlines()\n",
        "  print(line.strip())"
      ],
      "metadata": {
        "colab": {
          "base_uri": "https://localhost:8080/",
          "height": 111
        },
        "id": "Eqg90E8qqKbE",
        "outputId": "e4fb0877-7d45-46af-c2ef-394ff55142fb"
      },
      "execution_count": null,
      "outputs": [
        {
          "output_type": "error",
          "ename": "SyntaxError",
          "evalue": "invalid syntax (<ipython-input-78-42a6d8511829>, line 2)",
          "traceback": [
            "\u001b[0;36m  File \u001b[0;32m\"<ipython-input-78-42a6d8511829>\"\u001b[0;36m, line \u001b[0;32m2\u001b[0m\n\u001b[0;31m    for line inf.readlines()\u001b[0m\n\u001b[0m             ^\u001b[0m\n\u001b[0;31mSyntaxError\u001b[0m\u001b[0;31m:\u001b[0m invalid syntax\n"
          ]
        }
      ]
    },
    {
      "cell_type": "code",
      "source": [
        "f=open('./새파일.txt', 'r')\n",
        "line=f.read()\n",
        "print(line)\n",
        "f.close()"
      ],
      "metadata": {
        "colab": {
          "base_uri": "https://localhost:8080/"
        },
        "id": "vbUuYj_qqfI5",
        "outputId": "3d5242e9-c3e6-4f78-9cd1-101dde63f54d"
      },
      "execution_count": null,
      "outputs": [
        {
          "output_type": "stream",
          "name": "stdout",
          "text": [
            "1번째 줄입니다.\n",
            "2번째 줄입니다.\n",
            "3번째 줄입니다.\n",
            "4번째 줄입니다.\n",
            "5번째 줄입니다.\n",
            "6번째 줄입니다.\n",
            "7번째 줄입니다.\n",
            "8번째 줄입니다.\n",
            "9번째 줄입니다.\n",
            "10번째 줄입니다.\n",
            "\n"
          ]
        }
      ]
    },
    {
      "cell_type": "markdown",
      "source": [
        "## with문\n",
        "with문을 벗어나면 자동으로 파일 객체를 닫는다."
      ],
      "metadata": {
        "id": "GUY2Oy8Drluq"
      }
    },
    {
      "cell_type": "code",
      "source": [
        "with open('./새파일.txt', 'r') as f:\n",
        "    data=f.read()\n",
        "    print(type(data))\n",
        "    data=data.replace('줄','사람')\n",
        "    print(data)"
      ],
      "metadata": {
        "colab": {
          "base_uri": "https://localhost:8080/"
        },
        "id": "JzlWcsU-r0ES",
        "outputId": "f9e6e958-ca0d-4ef0-b5f9-ab9bb1ad32d9"
      },
      "execution_count": null,
      "outputs": [
        {
          "output_type": "stream",
          "name": "stdout",
          "text": [
            "<class 'str'>\n",
            "1번째 사람입니다.\n",
            "2번째 사람입니다.\n",
            "3번째 사람입니다.\n",
            "4번째 사람입니다.\n",
            "5번째 사람입니다.\n",
            "6번째 사람입니다.\n",
            "7번째 사람입니다.\n",
            "8번째 사람입니다.\n",
            "9번째 사람입니다.\n",
            "10번째 사람입니다.\n",
            "\n"
          ]
        }
      ]
    },
    {
      "cell_type": "code",
      "source": [],
      "metadata": {
        "id": "S_yxOA3OsoUr"
      },
      "execution_count": null,
      "outputs": []
    },
    {
      "cell_type": "markdown",
      "source": [
        "### os 모듈: 디렉토리 & 파일 관련 함수"
      ],
      "metadata": {
        "id": "I85xSuHOsyax"
      }
    },
    {
      "cell_type": "code",
      "source": [
        "import os\n",
        "print(f\"현재위치:{os.getcwd()}\")\n",
        "print(f\"현재위치 파일/폴더 목록:{os.listdir()}\")\n",
        "\n",
        "##결과값\n",
        "##현재위치:/content\n",
        "##현재위치 파일/폴더 목록:['.config', '새파일.txt', 'sample_data']\n"
      ],
      "metadata": {
        "id": "_Jxkcvsas8hr"
      },
      "execution_count": null,
      "outputs": []
    },
    {
      "cell_type": "code",
      "source": [
        "import os\n",
        "print(f\"현재위치:{os.getcwd()}\")\n",
        "print(f\"현재위치 파일/폴더 목록:{os.listdir()}\")\n",
        "os.chdir('../')\n",
        "print(f\"현재위치 파일/폴더 목록:{os.listdir()}\")\n",
        "os.chdir('/content')\n",
        "print(f\"현재위치 파일/폴더 목록:{os.listdir()}\")\n"
      ],
      "metadata": {
        "id": "j7llwbSwtZoq"
      },
      "execution_count": null,
      "outputs": []
    },
    {
      "cell_type": "markdown",
      "source": [],
      "metadata": {
        "id": "5jL6G_9zucAS"
      }
    },
    {
      "cell_type": "code",
      "source": [],
      "metadata": {
        "id": "YnFg8a1Wudd6"
      },
      "execution_count": null,
      "outputs": []
    },
    {
      "cell_type": "markdown",
      "source": [
        "## os.remove() 파일 삭제"
      ],
      "metadata": {
        "id": "wE8rHbDxufw6"
      }
    },
    {
      "cell_type": "code",
      "source": [
        "import os\n",
        "file='새파일.txt'\n",
        "if os.path.isfile(file):\n",
        "    os.remove(file)\n",
        "    print(f\"{file} 파일이 삭제되었습니다.\")\n",
        "else:\n",
        "    print(f\"{file} 파일이 존재하지 않습니다.\")\n",
        "\n",
        "    #결과 :새파일.txt 파일이 삭제되었습니다.\n",
        "    #결과 :새파일.txt 파일이 존재하지 않습니다.\n"
      ],
      "metadata": {
        "colab": {
          "base_uri": "https://localhost:8080/"
        },
        "id": "pJxkJV8YujZa",
        "outputId": "49ad9adb-5b5a-4ecd-e7ea-87b5ba12383c"
      },
      "execution_count": null,
      "outputs": [
        {
          "output_type": "stream",
          "name": "stdout",
          "text": [
            "새파일.txt 파일이 삭제되었습니다.\n"
          ]
        }
      ]
    },
    {
      "cell_type": "code",
      "source": [
        "import random\n",
        "f = open('./sample.txt', 'w')\n",
        "print(f\"현재위치:{os.getcwd()}\")\n",
        "\n",
        "for _ in range(10):\n",
        "    n=str(random.randint(1,100))\n",
        "    f.write(n+'\\n') # 파일은 문자열 사용 가능\n",
        "    print(n)\n",
        "\n",
        "f.close()\n",
        "\n"
      ],
      "metadata": {
        "colab": {
          "base_uri": "https://localhost:8080/"
        },
        "id": "9_Wu-7KNv9Oc",
        "outputId": "cf4992ff-0343-460b-92e2-36df2f7d5475"
      },
      "execution_count": null,
      "outputs": [
        {
          "output_type": "stream",
          "name": "stdout",
          "text": [
            "현재위치:/content\n",
            "66\n",
            "36\n",
            "16\n",
            "88\n",
            "36\n",
            "70\n",
            "94\n",
            "9\n",
            "82\n",
            "97\n"
          ]
        }
      ]
    },
    {
      "cell_type": "code",
      "source": [
        "import random\n",
        "f = open('./sample.txt', 'r')\n",
        "\n",
        "data=f.read()\n",
        "print(data)\n",
        "\n",
        "f.close()"
      ],
      "metadata": {
        "colab": {
          "base_uri": "https://localhost:8080/"
        },
        "id": "1Wpl-SMRxnHC",
        "outputId": "d31d0dd3-c0d4-4c44-f0f8-d6b6e8180357"
      },
      "execution_count": null,
      "outputs": [
        {
          "output_type": "stream",
          "name": "stdout",
          "text": [
            "66\n",
            "36\n",
            "16\n",
            "88\n",
            "36\n",
            "70\n",
            "94\n",
            "9\n",
            "82\n",
            "97\n",
            "\n"
          ]
        }
      ]
    },
    {
      "cell_type": "code",
      "source": [
        "# 파일 읽어서 총합&평균 출력하기\n",
        "import random\n",
        "with open('./sample.txt', 'r') as f:\n",
        "    data= [ int(line) for line in f.readlines() ]\n",
        "    print(data)\n",
        "    hap=sum(data)\n",
        "    avg=hap / len(data)\n",
        "\n",
        "    #print(f\"{data}\\n 총합은 {hap}입니다. \\n 평균은 {avg} 입니다.\")\n",
        "    content=f\"{data}\\n 총합은 {hap}입니다. \\n 평균은 {avg} 입니다.\"\n",
        "    print(content)\n",
        "\n",
        "with open('./result.txt', 'w') as f:\n",
        "    f.write(content)\n",
        "\n",
        "\n",
        "\n",
        "\n"
      ],
      "metadata": {
        "id": "0d2ZJQkbyybi"
      },
      "execution_count": null,
      "outputs": []
    },
    {
      "cell_type": "code",
      "source": [
        "def add_word(dictionary, word, meaning):\n",
        "    dictionary[word] = meaning\n",
        "\n",
        "def save_dictionary(dictionary, filename):\n",
        "    with open(filename, 'w', encoding='utf-8') as file:\n",
        "        for word, meaning in dictionary.items():\n",
        "            file.write(f\"{word}:{meaning}\\n\")\n",
        "\n",
        "def load_dictionary(filename):\n",
        "    dictionary = {}\n",
        "    with open(filename, 'r', encoding='utf-8') as file:\n",
        "        for line in file:\n",
        "            word, meaning = line.strip().split(':')\n",
        "            dictionary[word] = meaning\n",
        "    return dictionary\n",
        "\n",
        "def main():\n",
        "    dictionary = {}\n",
        "\n",
        "    # 단어장 파일이 있으면 불러오기\n",
        "    try:\n",
        "        dictionary = load_dictionary('wordlist.txt')\n",
        "        print(\"단어장을 불러왔습니다.\")\n",
        "    except FileNotFoundError:\n",
        "        print(\"단어장 파일이 존재하지 않습니다. 새로운 단어장을 생성합니다.\")\n",
        "\n",
        "    while True:\n",
        "        print(\"\\n1. 단어 추가\")\n",
        "        print(\"2. 단어 검색\")\n",
        "        print(\"3. 단어장 저장\")\n",
        "        print(\"4. 종료\")\n",
        "\n",
        "        choice = input(\"선택: \")\n",
        "\n",
        "        if choice == '1':\n",
        "            word = input(\"영어 단어를 입력하세요: \")\n",
        "            meaning = input(\"뜻을 입력하세요: \")\n",
        "            add_word(dictionary, word, meaning)\n",
        "        elif choice == '2':\n",
        "            word = input(\"검색할 영어 단어를 입력하세요: \")\n",
        "            meaning = dictionary.get(word)\n",
        "            if meaning:\n",
        "                print(f\"{word}: {meaning}\")\n",
        "            else:\n",
        "                print(\"단어를 찾을 수 없습니다.\")\n",
        "        elif choice == '3':\n",
        "            save_dictionary(dictionary, 'wordlist.txt')\n",
        "            print(\"단어장을 저장했습니다.\")\n",
        "        elif choice == '4':\n",
        "            print(\"프로그램을 종료합니다.\")\n",
        "            break\n",
        "        else:4\n",
        "\n",
        "            print(\"올바른 선택지를 입력하세요.\")\n",
        "\n",
        "if __name__ == \"__main__\":\n",
        "    main()"
      ],
      "metadata": {
        "colab": {
          "base_uri": "https://localhost:8080/"
        },
        "id": "dd01oCng7faI",
        "outputId": "138c5b1d-73b7-4d3b-c52d-185779ed938c"
      },
      "execution_count": null,
      "outputs": [
        {
          "output_type": "stream",
          "name": "stdout",
          "text": [
            "단어장 파일이 존재하지 않습니다. 새로운 단어장을 생성합니다.\n",
            "\n",
            "1. 단어 추가\n",
            "2. 단어 검색\n",
            "3. 단어장 저장\n",
            "4. 종료\n",
            "선택: 1\n",
            "영어 단어를 입력하세요: apple\n",
            "뜻을 입력하세요: 사과\n",
            "\n",
            "1. 단어 추가\n",
            "2. 단어 검색\n",
            "3. 단어장 저장\n",
            "4. 종료\n",
            "선택: 4\n",
            "프로그램을 종료합니다.\n"
          ]
        }
      ]
    },
    {
      "cell_type": "markdown",
      "source": [
        "#7.클래스"
      ],
      "metadata": {
        "id": "3B7iMMF0-ZZH"
      }
    },
    {
      "cell_type": "markdown",
      "source": [
        "##7-1. 클래스 이해"
      ],
      "metadata": {
        "id": "IwyZ9nXD-cKn"
      }
    },
    {
      "cell_type": "code",
      "source": [
        "## help(list)\n",
        "data=list()\n",
        "print(type(data))\n",
        "data.append(100)\n",
        "print(data)\n",
        "\n",
        "##help(list)\n"
      ],
      "metadata": {
        "colab": {
          "base_uri": "https://localhost:8080/"
        },
        "id": "2MPDy438-iJn",
        "outputId": "fe4832e3-8bf2-44b3-b5c2-641ead1e4517"
      },
      "execution_count": null,
      "outputs": [
        {
          "output_type": "stream",
          "name": "stdout",
          "text": [
            "<class 'list'>\n",
            "[100]\n"
          ]
        }
      ]
    },
    {
      "cell_type": "code",
      "source": [
        "data1=list() #data1는  instance라고 부른다.\n",
        "data2=list() #data2는  instance라고 부른다.\n",
        "print(type(data1))\n",
        "print(type(data2))\n",
        "\n",
        "data1.append(100)\n",
        "data2.append(200)\n",
        "\n",
        "print()\n",
        "\n"
      ],
      "metadata": {
        "colab": {
          "base_uri": "https://localhost:8080/"
        },
        "id": "Nw-awYzh_ouy",
        "outputId": "f663f93a-ee8a-4f34-92a4-18b73a452342"
      },
      "execution_count": null,
      "outputs": [
        {
          "output_type": "stream",
          "name": "stdout",
          "text": [
            "<class 'list'>\n",
            "<class 'list'>\n",
            "\n"
          ]
        }
      ]
    }
  ]
}