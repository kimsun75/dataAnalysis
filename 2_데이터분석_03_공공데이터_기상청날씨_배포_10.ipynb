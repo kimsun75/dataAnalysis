{
  "cells": [
    {
      "cell_type": "markdown",
      "metadata": {
        "id": "view-in-github",
        "colab_type": "text"
      },
      "source": [
        "<a href=\"https://colab.research.google.com/github/kimsun75/dataAnalysis/blob/main/2_%EB%8D%B0%EC%9D%B4%ED%84%B0%EB%B6%84%EC%84%9D_03_%EA%B3%B5%EA%B3%B5%EB%8D%B0%EC%9D%B4%ED%84%B0_%EA%B8%B0%EC%83%81%EC%B2%AD%EB%82%A0%EC%94%A8_%EB%B0%B0%ED%8F%AC_10.ipynb\" target=\"_parent\"><img src=\"https://colab.research.google.com/assets/colab-badge.svg\" alt=\"Open In Colab\"/></a>"
      ]
    },
    {
      "cell_type": "markdown",
      "metadata": {
        "id": "AYfr10AOjD6Z"
      },
      "source": [
        "# 데이터 분석\n",
        "\n",
        "## 3. 공공데이터를 이용한 EDA 분석 - 기상청 데이터 분석"
      ]
    },
    {
      "cell_type": "markdown",
      "metadata": {
        "id": "l99_xn6CjD6l"
      },
      "source": [
        "## [질문]\n",
        "- **Q1. 우리나라 날씨측정 데이터(종관 데이터)의 최초 측정년도는?**\n",
        "- **Q2. 우리나라에서 가장 더웠던 온도와 년월, 지역은?**\n",
        "- **Q3. 우리나라에서 가장 추웠던 온도와 년월, 지역은?**\n",
        "- **Q4. 제주에서 가장 더웠던/추웠던 온도와 년월은?**\n",
        "- **Q5. 지점별 최고기온/최저기온은?**\n",
        "- 등등"
      ]
    },
    {
      "cell_type": "code",
      "execution_count": null,
      "metadata": {
        "id": "-800zgi9jD6n"
      },
      "outputs": [],
      "source": [
        "# (코랩에서) 코드 실행 후 재시작\n",
        "!sudo apt-get install -y fonts-nanum\n",
        "!sudo fc-cache -fv\n",
        "!rm ~/.cache/matplotlib -rf"
      ]
    },
    {
      "cell_type": "markdown",
      "metadata": {
        "id": "ZG1AKgA7jD6p"
      },
      "source": [
        "---"
      ]
    },
    {
      "cell_type": "markdown",
      "metadata": {
        "id": "-s7pRwKnjD6q"
      },
      "source": [
        "### #파이썬으로 데이터 분석하는 순서\n",
        " [사전준비] 필요한 파이썬 라이브러리 설치하기\n",
        " 1. 데이터 준비하기 : 웹 사이트에서 공공데이터 다운로드하기\n",
        " 2. 데이터 불러오기 : 파이썬으로 데이터 읽어서 표로 나타내기\n",
        " 3. 데이터 전처리하기 : 필요한 데이터만 추출하기\n",
        " 4. 데이터 시각화하기 : 데이터 그래프로 나타내기\n",
        " 5. 데이터 저장하기 :  파일로 저장하기"
      ]
    },
    {
      "cell_type": "markdown",
      "metadata": {
        "id": "E78pQONPjD6q"
      },
      "source": [
        "---"
      ]
    },
    {
      "cell_type": "markdown",
      "metadata": {
        "id": "amlw4dWPjD6r"
      },
      "source": [
        "### #라이브러리 설치 확인하기\n",
        "아래 코드를 실행한 후 오류 메시지가 없으면 성공적으로 설치된 것입니다."
      ]
    },
    {
      "cell_type": "code",
      "execution_count": null,
      "metadata": {
        "id": "1eTyJpc6jD6s"
      },
      "outputs": [],
      "source": [
        "import numpy as np\n",
        "import pandas as pd\n",
        "import matplotlib.pyplot as plt\n",
        "\n",
        "# 멧플롯립 한글폰트 지정\n",
        "plt.rc('font', family='NanumBarunGothic')  # 코랩 폰트\n",
        "plt.rc('font', family='Malgun Gothic')     # 윈도우 폰트\n",
        "plt.rcParams['axes.unicode_minus'] = False"
      ]
    },
    {
      "cell_type": "markdown",
      "metadata": {
        "id": "QVz2FtirjD6t"
      },
      "source": [
        "---"
      ]
    },
    {
      "cell_type": "markdown",
      "metadata": {
        "id": "zaUOKBgpjD6u"
      },
      "source": [
        "### 1.데이터 준비하기"
      ]
    },
    {
      "cell_type": "markdown",
      "metadata": {
        "id": "Y6beRLB8jD6v"
      },
      "source": [
        "- 기상청 사이트에서 날씨 데이터를 다운로드한다.\n",
        "- 사이트에 가입하고 로그인해야 다운로드할 수 있다.\n",
        "- https://data.kma.go.kr/data/grnd/selectAsosRltmList.do?pgmNo=36\n",
        "- csv파일 다운로드해서 사용"
      ]
    },
    {
      "cell_type": "markdown",
      "metadata": {
        "id": "Dwt1VKQZjD6w"
      },
      "source": [
        "---------"
      ]
    },
    {
      "cell_type": "markdown",
      "metadata": {
        "id": "xpAkbMg5jD6z"
      },
      "source": [
        "### 2. 데이터 불러오기 : 파이썬으로 데이터 읽어서 표로 나타내기"
      ]
    },
    {
      "cell_type": "code",
      "execution_count": null,
      "metadata": {
        "id": "3LeOK-pqjD61"
      },
      "outputs": [],
      "source": [
        "\n",
        "\n"
      ]
    },
    {
      "cell_type": "markdown",
      "metadata": {
        "id": "ElBH9duTjD63"
      },
      "source": [
        "---"
      ]
    },
    {
      "cell_type": "markdown",
      "metadata": {
        "id": "cHzfkBDSjD63"
      },
      "source": [
        "### 3.데이터 전처리하기 - 가공하기\n",
        "- 함수 참고:  https://pandas.pydata.org/docs/reference/index.html"
      ]
    },
    {
      "cell_type": "markdown",
      "metadata": {
        "id": "xKErX_dJjD64"
      },
      "source": [
        "- 데이터 요약"
      ]
    },
    {
      "cell_type": "code",
      "execution_count": null,
      "metadata": {
        "id": "wr9tSnxbjD64"
      },
      "outputs": [],
      "source": [
        "# 데이터 요약 정보\n",
        ""
      ]
    },
    {
      "cell_type": "markdown",
      "metadata": {
        "id": "m-cUklQ9jD65"
      },
      "source": [
        "- 기술통계 정보"
      ]
    },
    {
      "cell_type": "code",
      "execution_count": null,
      "metadata": {
        "id": "y67GP_7zjD65"
      },
      "outputs": [],
      "source": [
        ""
      ]
    },
    {
      "cell_type": "markdown",
      "metadata": {
        "id": "mpt9UB-SjD66"
      },
      "source": [
        "#### **1. 결측데이터 시각화**\n",
        "missingno패키지는 pandas 데이터프레임 데이터에서 누락된 데이터를 찾고 시각화하는 기능 제공"
      ]
    },
    {
      "cell_type": "code",
      "execution_count": null,
      "metadata": {
        "id": "2sNkbwgOjD66"
      },
      "outputs": [],
      "source": [
        "!pip install missingno"
      ]
    },
    {
      "cell_type": "markdown",
      "metadata": {
        "id": "rQE5MxYgjD67"
      },
      "source": [
        "- **행에 결측 데이터 시각화**"
      ]
    },
    {
      "cell_type": "code",
      "execution_count": null,
      "metadata": {
        "id": "UaMPn2WsjD67"
      },
      "outputs": [],
      "source": [
        "import missingno as msno\n",
        "msno.matrix(df)\n",
        "plt.show()"
      ]
    },
    {
      "cell_type": "markdown",
      "metadata": {
        "id": "oHBFxtajjD68"
      },
      "source": [
        "- **열에 결측 데이터 시각화**"
      ]
    },
    {
      "cell_type": "code",
      "execution_count": null,
      "metadata": {
        "id": "6kpUl4wWjD68"
      },
      "outputs": [],
      "source": [
        "msno.bar(df)\n",
        "plt.show()"
      ]
    },
    {
      "cell_type": "markdown",
      "metadata": {
        "id": "R5IBIWAbjD68"
      },
      "source": [
        "---"
      ]
    },
    {
      "cell_type": "markdown",
      "metadata": {
        "id": "FNpCSLQGjD69"
      },
      "source": [
        "#### **2. 컬럼명 변경하기**"
      ]
    },
    {
      "cell_type": "code",
      "execution_count": null,
      "metadata": {
        "scrolled": true,
        "id": "EIPV-LBLjD6-"
      },
      "outputs": [],
      "source": [
        "# 컬럼명 변경하기 - ['지점', '지점명', '일시', '평균기온', '최고기온', '최저기온', '평균현지기압',\n",
        "#                   '평균상대습도', '월합강수량', '평균풍속','일조시간', '최심적설']\n",
        "df.columns =\n"
      ]
    },
    {
      "cell_type": "markdown",
      "metadata": {
        "id": "BcRawpMdjD6_"
      },
      "source": [
        "#### **3. 컬럼 추가하기 (df.insert())**\n",
        "DataFrame.insert(추가하고싶은위치,컬럼명,값, allow_duplicate=False)"
      ]
    },
    {
      "cell_type": "code",
      "execution_count": null,
      "metadata": {
        "id": "rM1EuOwYjD7A"
      },
      "outputs": [],
      "source": [
        "# 인덱스 3 위치에 '신규'란 이름으로 df['지점'] 데이터를 그대로 추가하기\n",
        "\n"
      ]
    },
    {
      "cell_type": "code",
      "execution_count": null,
      "metadata": {
        "id": "hIDQSI5AjD7A"
      },
      "outputs": [],
      "source": [
        "# 인덱스 3 위치에 '검색일자'란 이름으로 df['일시'] 데이터를 그대로 추가하기\n",
        "\n"
      ]
    },
    {
      "cell_type": "code",
      "execution_count": null,
      "metadata": {
        "id": "rfEZofF9jD7B"
      },
      "outputs": [],
      "source": [
        "# 인덱스 3 위치에 '년도'란 이름으로 '일시'컬럼에서 년도 부분만 컬럼 추가하기\n",
        "\n"
      ]
    },
    {
      "cell_type": "markdown",
      "metadata": {
        "id": "l_smHZzijD7C"
      },
      "source": [
        "- **문자열에서 특정 문자 제거**: '검색일자' 값중에 '년도-월-일' 형태로 되어 있는 구조에서  '-'기호를 제거"
      ]
    },
    {
      "cell_type": "code",
      "execution_count": null,
      "metadata": {
        "id": "qIkShxETjD7G"
      },
      "outputs": [],
      "source": [
        "df['검색일자']="
      ]
    },
    {
      "cell_type": "markdown",
      "metadata": {
        "id": "_2NqvOzSjD7H"
      },
      "source": [
        "- **데이터형 변환하기**: str(object)-->int64 형으로 변환하기"
      ]
    },
    {
      "cell_type": "code",
      "execution_count": null,
      "metadata": {
        "id": "SYKI964TjD7I"
      },
      "outputs": [],
      "source": [
        "df['검색일자'] ="
      ]
    },
    {
      "cell_type": "markdown",
      "metadata": {
        "id": "JnoTfT-tjD7I"
      },
      "source": [
        "- **데이터형 변환하기**: int64 --> str(object)형으로 변환하기"
      ]
    },
    {
      "cell_type": "code",
      "execution_count": null,
      "metadata": {
        "id": "8SBgxbR0jD7I"
      },
      "outputs": [],
      "source": [
        "df['검색일자'] ="
      ]
    },
    {
      "cell_type": "markdown",
      "metadata": {
        "id": "h_wiIWfHjD7Y"
      },
      "source": [
        "#### **4. 컬럼 삭제**"
      ]
    },
    {
      "cell_type": "code",
      "execution_count": null,
      "metadata": {
        "id": "1BCUgQlXjD7Y"
      },
      "outputs": [],
      "source": [
        "# 앞에서 추가한 '신규', '검색일자' 컬럼 삭제하기\n",
        "\n"
      ]
    },
    {
      "cell_type": "markdown",
      "metadata": {
        "id": "XYzlHQjijD7Y"
      },
      "source": [
        "#### **5. 특정 조건 검색**"
      ]
    },
    {
      "cell_type": "markdown",
      "metadata": {
        "id": "g3NFszEOjD7Z"
      },
      "source": [
        "- 지점명 총개수와 고유한 지점명"
      ]
    },
    {
      "cell_type": "code",
      "execution_count": null,
      "metadata": {
        "id": "yBxqr0KNjD7Z"
      },
      "outputs": [],
      "source": [
        "# 지점명 총개수와 고유한 지점명\n",
        "print( '#지점명 총개수: ',   )\n",
        "print( '#고유한 지점명: ',   )"
      ]
    },
    {
      "cell_type": "code",
      "execution_count": null,
      "metadata": {
        "id": "08PaIW4UjD7Z"
      },
      "outputs": [],
      "source": [
        "# '2023'년도 데이터만 추출하여 df_2023으로 지정하기\n",
        "df_2023 =\n"
      ]
    },
    {
      "cell_type": "code",
      "execution_count": null,
      "metadata": {
        "id": "mLcRMOaAjD7a"
      },
      "outputs": [],
      "source": [
        "# '2023'년도 지점명 총개수와 고유한 지점명\n",
        "print( '#지점명 총개수: ',   )\n",
        "print( '#고유한 지점명: ',   )"
      ]
    },
    {
      "cell_type": "markdown",
      "metadata": {
        "id": "Kk9soLFmjD7a"
      },
      "source": [
        "- **특정 컬럼명 검색** : 지점명=='제주' 데이터"
      ]
    },
    {
      "cell_type": "code",
      "execution_count": null,
      "metadata": {
        "id": "VYsED5yUjD7b"
      },
      "outputs": [],
      "source": [
        ""
      ]
    },
    {
      "cell_type": "markdown",
      "metadata": {
        "id": "w2nlJgH-jD7b"
      },
      "source": [
        "- **또는(|) , 포함(in)** 조건 사용: '제주' 또는 '서귀포' 데이터 추출"
      ]
    },
    {
      "cell_type": "code",
      "execution_count": null,
      "metadata": {
        "id": "K94FuxZ5jD7c"
      },
      "outputs": [],
      "source": [
        "# 또는(|) 사용\n",
        ""
      ]
    },
    {
      "cell_type": "markdown",
      "metadata": {
        "id": "rpW6i2EejD7c"
      },
      "source": [
        "- **그리고(&)** 조건 사용"
      ]
    },
    {
      "cell_type": "code",
      "execution_count": null,
      "metadata": {
        "id": "QuVHhaUgjD7d"
      },
      "outputs": [],
      "source": [
        "\n"
      ]
    },
    {
      "cell_type": "markdown",
      "metadata": {
        "id": "lon5eGHSjD7d"
      },
      "source": [
        "### [실습문제] 관측 지점이 제주도 내부에 있는 관측소 데이터 검색"
      ]
    },
    {
      "cell_type": "code",
      "execution_count": null,
      "metadata": {
        "scrolled": true,
        "id": "0xi039ezjD7e"
      },
      "outputs": [],
      "source": [
        "# 포함(in) 사용\n",
        "\n"
      ]
    },
    {
      "cell_type": "markdown",
      "metadata": {
        "id": "8KVjkEksjD7e"
      },
      "source": [
        "### **Q1. 우리나라 날씨측정 데이터(종관 데이터)의 최초 측정년도는?**"
      ]
    },
    {
      "cell_type": "markdown",
      "metadata": {
        "id": "MzDZ8dfvjD7e"
      },
      "source": [
        "- **min()** : 최초 측정월, 마지막 측정월"
      ]
    },
    {
      "cell_type": "code",
      "execution_count": null,
      "metadata": {
        "id": "gdym3etvjD7f"
      },
      "outputs": [],
      "source": [
        "# 최초 측정월, 마지막 측정월\n",
        "print ( '최초 측정일시: ',   )\n",
        "print ( '최근 측정일시: ',   )"
      ]
    },
    {
      "cell_type": "code",
      "execution_count": null,
      "metadata": {
        "id": "tULVUmm8jD7h"
      },
      "outputs": [],
      "source": [
        "# 최초 측정월을 입력으로 받아서 조건 검색하기\n",
        "\n"
      ]
    },
    {
      "cell_type": "markdown",
      "metadata": {
        "id": "kQluRvfTjD7h"
      },
      "source": [
        "- **max()** : 최근 측정 월 데이터 추출하기"
      ]
    },
    {
      "cell_type": "code",
      "execution_count": null,
      "metadata": {
        "id": "mK1dLth4jD7i"
      },
      "outputs": [],
      "source": [
        "# 최근 측정 월 데이터 추출하기\n",
        "\n"
      ]
    },
    {
      "cell_type": "code",
      "execution_count": null,
      "metadata": {
        "id": "ykfCxcvzjD7j"
      },
      "outputs": [],
      "source": [
        "# 지점명이 '제주'인 최근 측정 데이터\n",
        "\n"
      ]
    },
    {
      "cell_type": "code",
      "execution_count": null,
      "metadata": {
        "id": "2zPQc4UcjD7m"
      },
      "outputs": [],
      "source": [
        "# 제주내의 지점들의 최근 측정 데이터\n",
        "\n"
      ]
    },
    {
      "cell_type": "markdown",
      "metadata": {
        "id": "-4Snv624jD7o"
      },
      "source": [
        "### **Q2. 우리나라에서 가장 더웠던 온도와 년월, 지역은?**"
      ]
    },
    {
      "cell_type": "code",
      "execution_count": null,
      "metadata": {
        "id": "QnU90qHBjD7p"
      },
      "outputs": [],
      "source": [
        "# 컬럼 추출\n",
        "\n",
        "\n",
        "# 행 추출\n",
        "\n"
      ]
    },
    {
      "cell_type": "code",
      "execution_count": null,
      "metadata": {
        "id": "S_UbQBgyjD7q"
      },
      "outputs": [],
      "source": [
        "# 전체 최고기온\n",
        "df.query(f\" 최고기온 == {df['최고기온'].max()} \")\n",
        "\n",
        "# 전체 최고기온 일시\n",
        "df.query(f\" 최고기온 == {df['최고기온'].max()} \")['일시'].str[0:4]\n",
        "\n",
        "# 전체 최고기온 지점명\n",
        "df.query(f\" 최고기온 == {df['최고기온'].max()} \")['지점명'].iloc[0]\n"
      ]
    },
    {
      "cell_type": "code",
      "execution_count": null,
      "metadata": {
        "id": "1YN0Q2ALjD7q"
      },
      "outputs": [],
      "source": [
        "# 행 추출 특정 컬럼값(년월) 추출\n",
        "yymm =\n",
        "print(f'기상관측 데이터를 통해 가장 더웠던 년-월: {yymm}')\n",
        "\n",
        "\n",
        "# 행 추출 특정 컬럼값(최고기온) 추출\n",
        "\n"
      ]
    },
    {
      "cell_type": "markdown",
      "metadata": {
        "id": "I68Oq-YCjD7q"
      },
      "source": [
        "### **Q3. 우리나라에서 가장 추웠던 온도와 년월, 지역은?**"
      ]
    },
    {
      "cell_type": "code",
      "execution_count": null,
      "metadata": {
        "id": "hrmurP7HjD7r"
      },
      "outputs": [],
      "source": [
        "\n",
        "\n",
        "\n"
      ]
    },
    {
      "cell_type": "markdown",
      "metadata": {
        "id": "7kMHdtsejD7r"
      },
      "source": [
        "### **Q4. 제주에서 가장 더웠던/추웠던 온도와 년월은?**"
      ]
    },
    {
      "cell_type": "code",
      "execution_count": null,
      "metadata": {
        "id": "sPXoqqALjD7s"
      },
      "outputs": [],
      "source": [
        "# 제주에서 가장 더웠던 데이터\n",
        "\n",
        "\n",
        "\n"
      ]
    },
    {
      "cell_type": "markdown",
      "metadata": {
        "id": "bQkhYH7LjD7s"
      },
      "source": [
        "### **[실습문제] 서울에서 가장 더웠던/추웠던 온도와 년월은?**"
      ]
    },
    {
      "cell_type": "code",
      "execution_count": null,
      "metadata": {
        "id": "GT_4uxWIjD7s"
      },
      "outputs": [],
      "source": [
        "\n",
        "\n"
      ]
    },
    {
      "cell_type": "markdown",
      "metadata": {
        "id": "lSbnB7eWjD7t"
      },
      "source": [
        "--------"
      ]
    },
    {
      "cell_type": "markdown",
      "metadata": {
        "id": "aNtxhvtQjD7t"
      },
      "source": [
        "#### **6. 그룹핑(Grouping)**"
      ]
    },
    {
      "cell_type": "markdown",
      "metadata": {
        "id": "YchgiYNujD7t"
      },
      "source": [
        "#### #그룹핑: 지점별  "
      ]
    },
    {
      "cell_type": "code",
      "execution_count": null,
      "metadata": {
        "id": "ga53PWtZjD7u"
      },
      "outputs": [],
      "source": [
        "# 지점명별 숫자 컬럼의 평균값\n",
        "df.groupby('지점명').mean(numeric_only=True)"
      ]
    },
    {
      "cell_type": "code",
      "execution_count": null,
      "metadata": {
        "id": "kQn2KO1SjD7u"
      },
      "outputs": [],
      "source": [
        "# 지점명별 해당 컬럼의 데이터 빈도수\n",
        "df.groupby(['지점명'], as_index=False).count()\n",
        "df.groupby('지점명').count()"
      ]
    },
    {
      "cell_type": "markdown",
      "metadata": {
        "id": "sxgCtSPNjD7u"
      },
      "source": [
        "#### #그룹핑(컬럼1개): 지점별  평균기온"
      ]
    },
    {
      "cell_type": "code",
      "execution_count": null,
      "metadata": {
        "id": "2yxTMbaMjD7v"
      },
      "outputs": [],
      "source": [
        "# 방법1\n",
        "df['평균기온'].groupby(df['지점명']).mean()"
      ]
    },
    {
      "cell_type": "code",
      "execution_count": null,
      "metadata": {
        "id": "flR8QAXQjD7w"
      },
      "outputs": [],
      "source": [
        "# 방법2\n",
        "df.groupby('지점명')['평균기온'].agg('mean')"
      ]
    },
    {
      "cell_type": "code",
      "execution_count": null,
      "metadata": {
        "scrolled": true,
        "id": "S1MgDOQOjD7w"
      },
      "outputs": [],
      "source": [
        "# 방법3\n",
        "df.groupby('지점명')['평균기온'].agg(**{'평균기온':'mean'})\n",
        "\n",
        "# 그래프 그리기\n",
        "df.groupby('지점명').aggregate({'평균기온':'mean'}).plot()"
      ]
    },
    {
      "cell_type": "code",
      "execution_count": null,
      "metadata": {
        "id": "5bpQaz7AjD7x"
      },
      "outputs": [],
      "source": [
        "# 지점명별 평균기온, 최고기온,최저기온 그룹핑하기\n",
        "df.groupby('지점명')['평균기온'].agg(**{'평균기온':'mean',\n",
        "                                    '최고기온':'max',\n",
        "                                    '최저기온':'min'})"
      ]
    },
    {
      "cell_type": "markdown",
      "metadata": {
        "id": "5lJ_ktZDjD7y"
      },
      "source": [
        "#### #그룹핑(컬럼 2개): 지점명+년도별,  평균기온"
      ]
    },
    {
      "cell_type": "code",
      "execution_count": null,
      "metadata": {
        "id": "wqbojWVBjD7y"
      },
      "outputs": [],
      "source": [
        "df.groupby(['지점명','년도'])['평균기온'].agg('mean')\n",
        "df.groupby(['지점명','년도'])['평균기온'].agg(**{'평균':'mean'})\n",
        "df.groupby(['지점명','년도']).aggregate({'평균기온':'mean'})\n",
        "#df.groupby(['지점명','년도'])['평균기온'].agg(**{'평균기온':'mean'}).reset_index()"
      ]
    },
    {
      "cell_type": "code",
      "execution_count": null,
      "metadata": {
        "id": "39UaX4l3jD7z"
      },
      "outputs": [],
      "source": [
        "# 선그래프 그리기\n",
        "df.groupby(['지점명','년도'])['평균기온'].agg('mean').plot()\n"
      ]
    },
    {
      "cell_type": "markdown",
      "metadata": {
        "id": "zwuNg7IqjD70"
      },
      "source": [
        "### **Q5. 지점별 최고기온/최저기온은?**"
      ]
    },
    {
      "cell_type": "code",
      "execution_count": null,
      "metadata": {
        "id": "i15tALQBjD73"
      },
      "outputs": [],
      "source": [
        "df.groupby('지점명')['최고기온'].agg(**{'최고기온':'max'})\n",
        "df.groupby('지점명').aggregate({'최고기온':'max',\n",
        "                            '최저기온':'min'})"
      ]
    },
    {
      "cell_type": "markdown",
      "metadata": {
        "id": "ODCiYTPjjD75"
      },
      "source": [
        "- 인텍스를 초기화 하는 방법"
      ]
    },
    {
      "cell_type": "code",
      "execution_count": null,
      "metadata": {
        "id": "bHi1v1gejD76"
      },
      "outputs": [],
      "source": [
        "# 인텍스를 초기화 하는 방법\n",
        "df.groupby('지점명')['최고기온'].agg(**{'최고기온':'max'}).reset_index()\n",
        "df.groupby('지점명').aggregate({'최고기온':'max'}).reset_index()"
      ]
    },
    {
      "cell_type": "markdown",
      "metadata": {
        "id": "xmahROsnjD77"
      },
      "source": [
        "### [실습문제] : 지점별 년도별 최다 월합강수량?"
      ]
    },
    {
      "cell_type": "code",
      "execution_count": null,
      "metadata": {
        "id": "1qQfveyyjD77"
      },
      "outputs": [],
      "source": [
        "df.groupby(['지점명','년도'])['월합강수량'].agg(**{'최다월합강수량':'max'})\n",
        "df.groupby(['지점명','년도']).aggregate({'월합강수량':'max'})"
      ]
    },
    {
      "cell_type": "markdown",
      "metadata": {
        "id": "UKiXVo-DjD8F"
      },
      "source": [
        "### [실습문제]  제주 전역의 지점별+년도별 최고 최고기온, 최저 최저기온 ,최다 월합강수량, 최다 최심적실은?"
      ]
    },
    {
      "cell_type": "code",
      "execution_count": null,
      "metadata": {
        "id": "iLcbEGv2jD8H"
      },
      "outputs": [],
      "source": [
        "df2 = df.query(\" 지점명 in ('고산','서귀포','성산','성산포','제주') \")\n",
        "df2 = df2.groupby(['지점명','년도']).aggregate({'최고기온':'max',\n",
        "                                          '최저기온':'min',\n",
        "                                          '월합강수량':'max',\n",
        "                                          '최심적설':'max'})\n",
        "\n",
        "df2.to_csv('data/제주-년도별-날씨정보.csv', encoding='cp949')\n",
        "df2"
      ]
    },
    {
      "cell_type": "markdown",
      "metadata": {
        "id": "3voFyuL7jD8J"
      },
      "source": [
        "#### 6.가공된 파일 신규 저장하기"
      ]
    },
    {
      "cell_type": "code",
      "execution_count": null,
      "metadata": {
        "scrolled": true,
        "id": "lmSW-BaqjD8K"
      },
      "outputs": [],
      "source": [
        "# 가공된 데이터 신규 파일로 저장하기\n",
        "outfile = 'data/weather_data.csv'\n",
        "df.to_csv(outfile, encoding='cp949', mode='w', index=True)"
      ]
    },
    {
      "cell_type": "markdown",
      "metadata": {
        "id": "qtRN_p8ajD8K"
      },
      "source": [
        "--------------------------"
      ]
    },
    {
      "cell_type": "markdown",
      "metadata": {
        "id": "Rd1i2SGkjD8L"
      },
      "source": [
        "## 4. 데이터 시각화하기"
      ]
    },
    {
      "cell_type": "markdown",
      "metadata": {
        "id": "wxNFgrYwjD8L"
      },
      "source": [
        "### [실습] : 지점별 평균기온 그래프"
      ]
    },
    {
      "cell_type": "code",
      "execution_count": null,
      "metadata": {
        "scrolled": true,
        "id": "ig4TDCIHjD8M"
      },
      "outputs": [],
      "source": [
        "import pandas as pd\n",
        "import matplotlib.pyplot as plt\n",
        "\n",
        "# 한글,그래프크기\n",
        "plt.rcParams['font.family'] = 'Malgun Gothic'\n",
        "plt.rcParams['figure.figsize'] = (10, 4)\n",
        "plt.rcParams['axes.unicode_minus']\n",
        "\n",
        "# 1.데이터 불러오기\n",
        "file = 'data/OBS_ASOS_MNH_20240408173612.csv'\n",
        "df = pd.read_csv(file, encoding='cp949')\n",
        "df\n",
        "\n",
        "# 2.컬럼명 지정\n",
        "df.columns = ['지점', '지점명', '일시', '평균기온', '최고기온', '최저기온',\n",
        "              '평균현지기압','평균상대습도', '월합강수량', '평균풍',\n",
        "              '일조시간','최심적설']\n",
        "df['년도'] = df.일시.str[0:4]\n",
        "df.head(2)\n",
        "\n",
        "# 3.지점별 평균 구하기(지점 30개만 추출)\n",
        "df_ = df.groupby('지점명').aggregate({'평균기온':'mean'}).head(30)\n",
        "\n",
        "plt.plot(df_, '^', linestyle='solid', c='red', label='평균기온')\n",
        "plt.xticks(rotation=90)\n",
        "plt.title('종관관측 지점별 평균기온', fontsize=20)\n",
        "plt.xlabel('지점명'); plt.ylabel('평균기온');\n",
        "plt.legend(); plt.grid();\n",
        "plt.savefig('./지점별그래프.png')\n",
        "plt.show()"
      ]
    },
    {
      "cell_type": "markdown",
      "metadata": {
        "id": "sX25wccRjD8M"
      },
      "source": [
        "### [실습문제] : '제주' 지점의 년도별 평균기온을  선 그래프로 나타내기"
      ]
    },
    {
      "cell_type": "code",
      "execution_count": null,
      "metadata": {
        "id": "MugeqduMjD8N"
      },
      "outputs": [],
      "source": [
        "# 제주 지점 연도별 그룹핑하기\n",
        "df_jeju = df.query(\" 지점명 in ('고산','서귀포','성산','성산포','제주') \")\n",
        "df_jeju = df_jeju.groupby(['년도']).aggregate({'평균기온':'mean'}).reset_index()\n",
        "X = df_jeju.년도\n",
        "Y = df_jeju.평균기온\n",
        "\n",
        "\n",
        "# 제주 지점 평균 구하기\n",
        "plt.plot(X, Y, '^', linestyle='solid', c='r', label='평균기온(°C)')\n",
        "plt.title('제주 지점 평균기온', fontsize=20)\n",
        "plt.xlabel('년도')\n",
        "plt.ylabel('평균기온')\n",
        "plt.xticks(rotation=45)\n",
        "plt.legend()\n",
        "plt.grid()\n",
        "plt.show()"
      ]
    },
    {
      "cell_type": "markdown",
      "metadata": {
        "id": "oBPm4G-CjD8N"
      },
      "source": [
        "### [실습]: 제주의 평균기온, 최고기온, 최저기온 통계를 그래프로 나타내기"
      ]
    },
    {
      "cell_type": "code",
      "execution_count": null,
      "metadata": {
        "scrolled": true,
        "id": "R22CXjNJjD8N"
      },
      "outputs": [],
      "source": [
        "# 2. '제주'지점 년도별 기온 데이터 추출하기(년도 30개만)\n",
        "plt.rcParams['figure.figsize'] = (12, 6)\n",
        "plt.rcParams['axes.unicode_minus'] = False\n",
        "\n",
        "data = df.query(\" 지점명 == '제주' \")\n",
        "data1 = data.groupby('년도').평균기온.agg(**{'평균기온':'mean'})\n",
        "data2 = data.groupby('년도').최고기온.agg(**{'최고기온':'max'})\n",
        "data3 = data.groupby('년도').최저기온.agg(**{'최저기온':'min'})\n",
        "\n",
        "# 3. 그래프로 시각화하기\n",
        "plt.plot(data1, 'o', linestyle='solid', c='r', label='평균기온')\n",
        "plt.plot(data2, '^', linestyle='solid', c='g', label='최고기온')\n",
        "plt.plot(data3, 'v', linestyle='solid', c='b', label='최저기온')\n",
        "plt.title(\"'제주'지점 년도별 기온 통계\", fontsize=15) #제목\n",
        "plt.xlabel('년도')     # x축 레이블\n",
        "plt.ylabel('기온')     # y축 레이블\n",
        "plt.legend()           #범례,기본 위치 : loc='upper left'\n",
        "plt.xticks(rotation=45)  # x축 레이블 기울이기\n",
        "plt.grid()               # 격자 표시\n",
        "\n",
        "plt.show()\n"
      ]
    },
    {
      "cell_type": "code",
      "execution_count": null,
      "metadata": {
        "id": "An5BczmFjD8O"
      },
      "outputs": [],
      "source": [
        "# 2. '제주'지점 년도별 기온 데이터 추출하기(년도 30개만)\n",
        "plt.rcParams['axes.unicode_minus'] = False\n",
        "plt.figure(figsize=(20,5))\n",
        "\n",
        "data = df.query(\" 지점명 == '제주' \")\n",
        "data1 = data.groupby('년도')['평균기온'].agg(**{'평균기온':'mean'}).reset_index()\n",
        "data2 = data.groupby('년도')['최고기온'].agg(**{'최고기온':'max'}).reset_index()\n",
        "\n",
        "# 3. 그래프로 시각화하기\n",
        "X = data1['년도']\n",
        "Y1 = data1['평균기온']\n",
        "Y2 = data2['최고기온']\n",
        "plt.bar(X, Y1, label='평균기온')\n",
        "plt.plot(X, Y2, 'o', linestyle='solid', c='r', label='최고기온')\n",
        "plt.title(\"'제주'지점 년도별 기온 통계\", fontsize=15) #제목\n",
        "plt.xlabel('년도')        # x축 레이블\n",
        "plt.ylabel('기온')        # y축 레이블\n",
        "plt.legend()             #범례,기본 위치 : loc='upper left'\n",
        "plt.xticks(rotation=45)  # x축 레이블 기울이기\n",
        "\n",
        "plt.grid()               # 격자 표시\n",
        "\n",
        "plt.show()"
      ]
    },
    {
      "cell_type": "markdown",
      "metadata": {
        "id": "jJT7swWujD8O"
      },
      "source": [
        "### [실습]: 제주의 최고기온(선그래프),평균기온(막대그래프)을 혼합 그래프로 나타내기"
      ]
    },
    {
      "cell_type": "code",
      "execution_count": null,
      "metadata": {
        "scrolled": true,
        "id": "gg8HGbFtjD8P"
      },
      "outputs": [],
      "source": [
        "# 3. 그래프로 시각화하기\n",
        "plt.figure(figsize=(20,5))\n",
        "plt.title('제주 기온 통계', fontsize=15)         #제목\n",
        "plt.legend(['최고기온','평균기온']) #범례,기본 위치 : loc='upper left'\n",
        "plt.xlabel('년도')                 # x축 레이블\n",
        "plt.ylabel('기온')                 # y축 레이블\n",
        "plt.xticks(rotation=45)           # x축 레이블 기울이기\n",
        "plt.grid()                        # 격자 표시\n",
        "\n",
        "plt.bar(X, Y1)  # 막대 그래프\n",
        "plt.plot(X, Y2, 'o', linestyle='solid', c='r')  # 선그래프\n",
        "plt.show()\n"
      ]
    },
    {
      "cell_type": "markdown",
      "metadata": {
        "id": "AGFgpGfbjD8P"
      },
      "source": [
        "### [실습] : 2중 축 그래프 그리기 :  평균상대습도 & 월합강수량"
      ]
    },
    {
      "cell_type": "code",
      "execution_count": null,
      "metadata": {
        "scrolled": true,
        "id": "ff8mLctUjD8Q"
      },
      "outputs": [],
      "source": [
        "# 2.'제주'지점의 평균상대습도 & 일최다강수량 센터수\n",
        "data = df.groupby(['지점명','년도'])['평균상대습도'].agg(**{'평균상대습도':'mean'}).reset_index()\n",
        "data = data.query(\" 지점명 == '제주' \")\n",
        "X  = data['년도']\n",
        "Y1 = data['평균상대습도']\n",
        "\n",
        "data = df.groupby(['지점명','년도'])['월합강수량'].agg(**{'월합강수량':'mean'}).reset_index()\n",
        "data = data.query(\" 지점명 == '제주' \")\n",
        "Y2 = data['월합강수량']\n",
        "# print(Y2)\n",
        "\n",
        "\n",
        "# 3. 그래프로 시각화하기\n",
        "# 왼쪽 축 그래프\n",
        "fig, ax1 = plt.subplots()\n",
        "plt.suptitle('평균상대습도 & 월합강수량',fontsize=15)\n",
        "ax1.plot(X, Y1, color='green')     # 평균상대습도 (왼쪽)\n",
        "ax1.set_ylabel('평균상대습도', color = 'green', rotation = 90)\n",
        "\n",
        "# 오른쪽 축 그래프\n",
        "ax2 = ax1.twinx()\n",
        "ax2.plot(X, Y2, color='deeppink')  # 월합강수량 (오른쪽)\n",
        "ax2.set_ylabel('월합강수량', color = 'deeppink', rotation = 270)\n",
        "\n",
        "fig.autofmt_xdate(rotation=45)  #X축 레이블 기울이기\n",
        "plt.savefig('image/graph.png')\n",
        "plt.show()"
      ]
    },
    {
      "cell_type": "markdown",
      "metadata": {
        "id": "rvoOZOgvjD8Q"
      },
      "source": [
        "-------"
      ]
    },
    {
      "cell_type": "markdown",
      "metadata": {
        "id": "-srFFpGbjD8R"
      },
      "source": [
        "---------"
      ]
    },
    {
      "cell_type": "markdown",
      "metadata": {
        "id": "w2MgPNSdjD8S"
      },
      "source": [
        "끝!"
      ]
    }
  ],
  "metadata": {
    "kernelspec": {
      "display_name": "Python 3 (ipykernel)",
      "language": "python",
      "name": "python3"
    },
    "language_info": {
      "codemirror_mode": {
        "name": "ipython",
        "version": 3
      },
      "file_extension": ".py",
      "mimetype": "text/x-python",
      "name": "python",
      "nbconvert_exporter": "python",
      "pygments_lexer": "ipython3",
      "version": "3.12.1"
    },
    "colab": {
      "provenance": [],
      "include_colab_link": true
    }
  },
  "nbformat": 4,
  "nbformat_minor": 0
}