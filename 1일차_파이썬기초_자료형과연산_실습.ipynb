{
  "nbformat": 4,
  "nbformat_minor": 0,
  "metadata": {
    "colab": {
      "provenance": [],
      "include_colab_link": true
    },
    "kernelspec": {
      "name": "python3",
      "display_name": "Python 3"
    },
    "language_info": {
      "name": "python"
    }
  },
  "cells": [
    {
      "cell_type": "markdown",
      "metadata": {
        "id": "view-in-github",
        "colab_type": "text"
      },
      "source": [
        "<a href=\"https://colab.research.google.com/github/kimsun75/dataAnalysis/blob/main/1%EC%9D%BC%EC%B0%A8_%ED%8C%8C%EC%9D%B4%EC%8D%AC%EA%B8%B0%EC%B4%88_%EC%9E%90%EB%A3%8C%ED%98%95%EA%B3%BC%EC%97%B0%EC%82%B0_%EC%8B%A4%EC%8A%B5.ipynb\" target=\"_parent\"><img src=\"https://colab.research.google.com/assets/colab-badge.svg\" alt=\"Open In Colab\"/></a>"
      ]
    },
    {
      "cell_type": "markdown",
      "source": [
        "# 1.파이썬 자료형과 연산"
      ],
      "metadata": {
        "id": "WdKKF9j6p4_R"
      }
    },
    {
      "cell_type": "markdown",
      "source": [
        "### # 오류"
      ],
      "metadata": {
        "id": "RFnhpIxXy16M"
      }
    },
    {
      "cell_type": "code",
      "execution_count": null,
      "metadata": {
        "id": "0qDtoul4pv1e"
      },
      "outputs": [],
      "source": [
        "a = 10       # number\n",
        "b = '파이썬' # string\n",
        "# print( a + b )"
      ]
    },
    {
      "cell_type": "markdown",
      "source": [
        "### [실습문제]\n",
        "1. 파이썬 버전 출력"
      ],
      "metadata": {
        "id": "lMEKgOVhzD9e"
      }
    },
    {
      "cell_type": "code",
      "source": [
        "!python -V"
      ],
      "metadata": {
        "colab": {
          "base_uri": "https://localhost:8080/"
        },
        "id": "LJK9EYQPy-rI",
        "outputId": "b66f3afa-2ff6-4ae9-a580-ceae06d01288"
      },
      "execution_count": null,
      "outputs": [
        {
          "output_type": "stream",
          "name": "stdout",
          "text": [
            "Python 3.10.12\n"
          ]
        }
      ]
    },
    {
      "cell_type": "code",
      "source": [
        "import sys\n",
        "print('---',sys.version)"
      ],
      "metadata": {
        "colab": {
          "base_uri": "https://localhost:8080/"
        },
        "id": "FIVQXb45zXkL",
        "outputId": "b7c23b79-5af5-4855-ae36-4b303882b88a"
      },
      "execution_count": null,
      "outputs": [
        {
          "output_type": "stream",
          "name": "stdout",
          "text": [
            "--- 3.10.12 (main, Nov 20 2023, 15:14:05) [GCC 11.4.0]\n"
          ]
        },
        {
          "output_type": "execute_result",
          "data": {
            "text/plain": [
              "500"
            ]
          },
          "metadata": {},
          "execution_count": 13
        }
      ]
    },
    {
      "cell_type": "code",
      "source": [
        "# 2.파이썬 설치 위치\n",
        "print(sys.executable)"
      ],
      "metadata": {
        "colab": {
          "base_uri": "https://localhost:8080/"
        },
        "id": "AFLno70_0d47",
        "outputId": "faede2de-3532-4f38-bf4e-a56cb664b3ef"
      },
      "execution_count": null,
      "outputs": [
        {
          "output_type": "stream",
          "name": "stdout",
          "text": [
            "/usr/bin/python3\n"
          ]
        }
      ]
    },
    {
      "cell_type": "code",
      "source": [
        "# 물리적 폴더 위치\n",
        "import os\n",
        "os.getcwd()"
      ],
      "metadata": {
        "colab": {
          "base_uri": "https://localhost:8080/",
          "height": 35
        },
        "id": "flUM5B6t1nqQ",
        "outputId": "bfbe77d7-b8b6-4276-c67a-618fec02c970"
      },
      "execution_count": null,
      "outputs": [
        {
          "output_type": "execute_result",
          "data": {
            "text/plain": [
              "'/content'"
            ],
            "application/vnd.google.colaboratory.intrinsic+json": {
              "type": "string"
            }
          },
          "metadata": {},
          "execution_count": 16
        }
      ]
    },
    {
      "cell_type": "markdown",
      "source": [
        "### [실습문제] 파이썬으로 표현하기"
      ],
      "metadata": {
        "id": "BUHusslpzAOq"
      }
    },
    {
      "cell_type": "code",
      "source": [
        "# ✓ 문제1: 10 + 3 x 4 결과 출력\n",
        "print(10 + 3 * 4)\n",
        "# ✓ 문제2: 아이폰 15대를 가지고 있다. 아이폰의 가격이 130만원 일 때 총 금액은?\n",
        "iphone = 15\n",
        "price = 1300000\n",
        "print(iphone*price)\n",
        "# ✓ 문제3: 주어진 임의의 자연수가 홀수인지 짝수인지 판별하는 방법은?\n",
        "x = 10\n",
        "if x % 2 == 0:\n",
        "    print('짝수')\n",
        "else:\n",
        "    print('홀수')\n",
        "#print('짝수') if x % 2 == 0 else print('홀수')\n",
        "# ✓ 문제4: 2x2x2x5x5x5x5x3x3x3x3을 제곱형태로 나타낸 후 그 결과 출력\n",
        "print(2**3 * 5**4 * 3**4)"
      ],
      "metadata": {
        "colab": {
          "base_uri": "https://localhost:8080/"
        },
        "id": "GLVNihKa3eFF",
        "outputId": "45254259-9690-40a5-a038-23013b30dcdf"
      },
      "execution_count": null,
      "outputs": [
        {
          "output_type": "stream",
          "name": "stdout",
          "text": [
            "22\n",
            "19500000\n",
            "짝수\n",
            "짝수\n",
            "405000\n"
          ]
        }
      ]
    },
    {
      "cell_type": "code",
      "source": [
        "x = 10\n",
        "print('짝수') if x % 2 == 0 else print('홀수')"
      ],
      "metadata": {
        "id": "nR6cxiHT6rQA"
      },
      "execution_count": null,
      "outputs": []
    },
    {
      "cell_type": "markdown",
      "source": [
        "## 1.파이썬 자료형"
      ],
      "metadata": {
        "id": "fV6JWC6eCvxl"
      }
    },
    {
      "cell_type": "markdown",
      "source": [
        "### 파이썬 자료형(Data Type) 확인 함수: type()"
      ],
      "metadata": {
        "id": "3k-PcK8s9x1J"
      }
    },
    {
      "cell_type": "code",
      "source": [
        "print( type(123) )\n",
        "print( type(3.14) )\n",
        "print( type(\"123\") )\n",
        "print( type([123]) )\n",
        "print( type((123,)) )\n",
        "print( type({'123':123}) )\n",
        "print( type({123}) )\n",
        "print( type(True) )"
      ],
      "metadata": {
        "colab": {
          "base_uri": "https://localhost:8080/"
        },
        "id": "3QDmqR8a5Pse",
        "outputId": "fc38b49e-82cd-4d8a-85f7-7018452d3ea0"
      },
      "execution_count": null,
      "outputs": [
        {
          "output_type": "stream",
          "name": "stdout",
          "text": [
            "<class 'int'>\n",
            "<class 'float'>\n",
            "<class 'str'>\n",
            "<class 'list'>\n",
            "<class 'tuple'>\n",
            "<class 'dict'>\n",
            "<class 'set'>\n",
            "<class 'bool'>\n"
          ]
        }
      ]
    },
    {
      "cell_type": "markdown",
      "source": [
        "\n",
        "\n",
        "---\n",
        "\n"
      ],
      "metadata": {
        "id": "KMV6HdnMCdSV"
      }
    },
    {
      "cell_type": "markdown",
      "source": [
        "## 2.표준 입출력"
      ],
      "metadata": {
        "id": "qrmtd4sGCgYP"
      }
    },
    {
      "cell_type": "markdown",
      "source": [
        "### 문자열 데이터를 숫자로 변환하기"
      ],
      "metadata": {
        "id": "p_1ipQRTC1o5"
      }
    },
    {
      "cell_type": "code",
      "source": [
        "a = input('숫자를 입력하세요: ')\n",
        "print( type(a) )\n",
        "a = int(a)     # 정수로 변환하는 함수: int()\n",
        "print( type(a) )"
      ],
      "metadata": {
        "colab": {
          "base_uri": "https://localhost:8080/"
        },
        "id": "NtUnwheOC99D",
        "outputId": "8cc94da5-7655-433a-b003-b1d58e50e7aa"
      },
      "execution_count": null,
      "outputs": [
        {
          "output_type": "stream",
          "name": "stdout",
          "text": [
            "숫자를 입력하세요: 100\n",
            "<class 'str'>\n",
            "<class 'int'>\n"
          ]
        }
      ]
    },
    {
      "cell_type": "code",
      "source": [
        "# a = input('숫자를 입력하세요: ')\n",
        "# a = int(a)\n",
        "\n",
        "a = int(input('숫자를 입력하세요: '))"
      ],
      "metadata": {
        "id": "TvQ8vq1GD9Ic"
      },
      "execution_count": null,
      "outputs": []
    },
    {
      "cell_type": "code",
      "source": [
        "# 문자열 포맷팅\n",
        "a = input('키보드로 입력해 주세요.')\n",
        "print('변수 a의 값은', a, '입니다.')\n",
        "print('변수 a의 값은 %s 입니다.' % a)\n",
        "print(f'변수 a의 값은 {a} 입니다.')"
      ],
      "metadata": {
        "colab": {
          "base_uri": "https://localhost:8080/"
        },
        "id": "c8dAk9N4FpVC",
        "outputId": "453443b8-adc1-44eb-decd-8f0002dc2cc5"
      },
      "execution_count": null,
      "outputs": [
        {
          "output_type": "stream",
          "name": "stdout",
          "text": [
            "키보드로 입력해 주세요.사과\n",
            "변수 a의 값은 사과 입니다.\n",
            "변수 a의 값은 사과 입니다.\n",
            "변수 a의 값은 사과 입니다.\n"
          ]
        }
      ]
    },
    {
      "cell_type": "markdown",
      "source": [
        "### [실습문제] 간단 계산기 만들기\n",
        "키보드로 두 수 입력받아 사칙연산 계산하는 간단 계산기 만들기"
      ],
      "metadata": {
        "id": "8jhsm7h-Hixl"
      }
    },
    {
      "cell_type": "code",
      "source": [
        "num1 = int(input('첫번째 숫자: '))\n",
        "num2 = int(input('두번째 숫자: '))\n",
        "print('-' * 30)\n",
        "print(f'덧셈:  {num1} +  {num2} = {num1+num2:>10}')\n",
        "print(f'뺄셈:  {num1} -  {num2} = {num1-num2:<10}')\n",
        "print(f'곱셈:  {num1} *  {num2} = {num1*num2:^10}')\n",
        "print(f'몫  :  {num1} // {num2} = {num1//num2:10}')\n",
        "print(f'나머지:{num1} %  {num2} = {num1%num2:10}')"
      ],
      "metadata": {
        "colab": {
          "base_uri": "https://localhost:8080/"
        },
        "id": "78SYRCvGHoOR",
        "outputId": "4a5f48cf-9a18-42fb-9686-612b691c8fcc"
      },
      "execution_count": null,
      "outputs": [
        {
          "output_type": "stream",
          "name": "stdout",
          "text": [
            "첫번째 숫자: 50\n",
            "두번째 숫자: 3\n",
            "------------------------------\n",
            "덧셈:  50 +  3 =         53\n",
            "뺄셈:  50 -  3 = 47        \n",
            "곱셈:  50 *  3 =    150    \n",
            "몫  :  50 // 3 =         16\n",
            "나머지:50 %  3 =          2\n"
          ]
        }
      ]
    },
    {
      "cell_type": "code",
      "source": [
        "val = input('첫번째 숫자: ')\n",
        "print(f'a의 값은: {val:>10}')  # val 값을 10자리로 오른쪽 정렬\n",
        "print(f'a의 값은: {val:<10}')  # val 값을 10자리로 왼쪽 정렬\n",
        "print(f'a의 값은: {val:^10}')  # val 값을 10자리로 가운데 정렬"
      ],
      "metadata": {
        "colab": {
          "base_uri": "https://localhost:8080/"
        },
        "id": "TnPKMzLNKV1A",
        "outputId": "46bba701-5256-4219-8f2d-e2b45fe5d023"
      },
      "execution_count": null,
      "outputs": [
        {
          "output_type": "stream",
          "name": "stdout",
          "text": [
            "첫번째 숫자: 12345\n",
            "a의 값은:      12345\n",
            "a의 값은: 12345     \n",
            "a의 값은:   12345   \n"
          ]
        }
      ]
    },
    {
      "cell_type": "code",
      "source": [
        "# 속력과 거리를 입력받아 시간을 계산하는 프로그램 만들기\n",
        "velocity = input(\"속력을 입력해 주세요(km/h): \")\n",
        "distance = input(\"거리를 입력해 주세요(km): \")\n",
        "print(\"-\"*25)\n",
        "print(f\"속력 : {float(velocity)} km/h\")\n",
        "print(f\"거리 : {float(distance)} km\")\n",
        "print(f\"시간 : {float(distance)/float(velocity):.1f} h\")"
      ],
      "metadata": {
        "colab": {
          "base_uri": "https://localhost:8080/"
        },
        "id": "LDo-LwhSNOg6",
        "outputId": "e32c73db-8873-48a8-d25e-6e76e99080f0"
      },
      "execution_count": null,
      "outputs": [
        {
          "output_type": "stream",
          "name": "stdout",
          "text": [
            "속력을 입력해 주세요(km/h): 100.5\n",
            "거리를 입력해 주세요(km): 340.5\n",
            "-------------------------\n",
            "속력 : 100.5 km/h\n",
            "거리 : 340.5 km\n",
            "시간 : 3.4 h\n"
          ]
        }
      ]
    },
    {
      "cell_type": "markdown",
      "source": [
        "### 내장된 수학함수"
      ],
      "metadata": {
        "id": "bzqlSJuNOq14"
      }
    },
    {
      "cell_type": "code",
      "source": [
        "import math\n",
        "\n",
        "print(f'원주율:  {math.pi}')\n",
        "print(f'절대값: {abs(-10)}')"
      ],
      "metadata": {
        "colab": {
          "base_uri": "https://localhost:8080/"
        },
        "id": "NOf-1We1OuE8",
        "outputId": "3a8e447d-8841-458f-e784-4c8f4256dd35"
      },
      "execution_count": null,
      "outputs": [
        {
          "output_type": "stream",
          "name": "stdout",
          "text": [
            "원주율:  3.141592653589793\n",
            "절대값: 10\n"
          ]
        }
      ]
    },
    {
      "cell_type": "markdown",
      "source": [
        "### [실습문제] 파이썬 수학 함수로 풀기"
      ],
      "metadata": {
        "id": "co1myEpWRP5r"
      }
    },
    {
      "cell_type": "code",
      "source": [
        "import math\n",
        "# ✓ 문제1: 반지름이 4인 원의 넓이 출력\n",
        "r = 4\n",
        "pi = math.pi\n",
        "print(f'원의 넓이: {round(pi * math.pow(r,2), 4)}')\n",
        "# ✓ 문제2: 3.14 곱하기 2 나누기 7의 값을 반올림하여 계산 결과 출력\n",
        "pi = 3.14\n",
        "print(f'계산결과: {round(pi * 2 / 7)}')\n",
        "# ✓ 문제3: 원주율을 3.14로 만들어서 반지름이 4인 원의 둘레의 길이 출력\n",
        "print(f'원의 둘레: {2 * pi * r}')"
      ],
      "metadata": {
        "colab": {
          "base_uri": "https://localhost:8080/"
        },
        "id": "XvtKFZIhRWGA",
        "outputId": "125c5f91-71b4-434c-a32f-29a60ba3071e"
      },
      "execution_count": null,
      "outputs": [
        {
          "output_type": "stream",
          "name": "stdout",
          "text": [
            "원의 넓이: 50.2655\n",
            "계산결과: 1\n",
            "원의 둘레: 25.12\n"
          ]
        }
      ]
    },
    {
      "cell_type": "code",
      "source": [],
      "metadata": {
        "id": "N1xegYdVSVvk"
      },
      "execution_count": null,
      "outputs": []
    },
    {
      "cell_type": "markdown",
      "source": [
        "----------------"
      ],
      "metadata": {
        "id": "fllzrMVMHAuP"
      }
    },
    {
      "cell_type": "markdown",
      "source": [
        "### [실습문제] 숫자 입력받아 계산하기\n",
        "a + aa + aaa = ?"
      ],
      "metadata": {
        "id": "zTD0jwB0HCra"
      }
    },
    {
      "cell_type": "code",
      "source": [
        "a = input('1~9까지의 정수 1개 입력: ')\n",
        "# aa = int(a+a)\n",
        "# aaa = int(a+a+a)\n",
        "print( int(a) + int(a+a) + int(a+a+a) )"
      ],
      "metadata": {
        "id": "XeonKeWWRruN",
        "colab": {
          "base_uri": "https://localhost:8080/"
        },
        "outputId": "47bdea8e-50cb-4654-abe6-5b33f6608511"
      },
      "execution_count": null,
      "outputs": [
        {
          "output_type": "stream",
          "name": "stdout",
          "text": [
            "1~9까지의 정수 1개 입력: 7\n",
            "861\n"
          ]
        }
      ]
    },
    {
      "cell_type": "code",
      "source": [
        "a = input(\"1~9까지의 정수중에서 하나 입력: \")\n",
        "print(f\"{a} + {a*2} + {a*3} = {int(a) + int(a*2) + int(a*3)}\")"
      ],
      "metadata": {
        "colab": {
          "base_uri": "https://localhost:8080/"
        },
        "id": "g-crZx5uMObU",
        "outputId": "56c289a2-4d54-4543-bb53-91ad81b4cf46"
      },
      "execution_count": null,
      "outputs": [
        {
          "output_type": "stream",
          "name": "stdout",
          "text": [
            "1~9까지의 정수중에서 하나 입력: 7\n",
            "7 + 77 + 777 = 861\n"
          ]
        }
      ]
    },
    {
      "cell_type": "code",
      "source": [
        "a= int(input('정수를 입력하세요(1~9):'))\n",
        "a10= a*10+a\n",
        "a100= a*100+a10\n",
        "sum=a+a10+a100\n",
        "print(f'{a}+{a10}+{a100}={sum}')"
      ],
      "metadata": {
        "colab": {
          "base_uri": "https://localhost:8080/"
        },
        "id": "qmt33WK4MUWU",
        "outputId": "fd61bca4-f08a-4455-b5fb-0c8615038a56"
      },
      "execution_count": null,
      "outputs": [
        {
          "output_type": "stream",
          "name": "stdout",
          "text": [
            "정수를 입력하세요(1~9):7\n",
            "7+77+777=861\n"
          ]
        }
      ]
    },
    {
      "cell_type": "code",
      "source": [
        "a = input(\"정수를 입력하세요\")\n",
        "print(a ,'+', a*2, '+', a*3, '=',int(a)+int(a*2)+int(a*3))"
      ],
      "metadata": {
        "colab": {
          "base_uri": "https://localhost:8080/"
        },
        "id": "l3HUWV7YMoba",
        "outputId": "8adaed13-3da1-48ee-e560-8ec07a0af089"
      },
      "execution_count": null,
      "outputs": [
        {
          "output_type": "stream",
          "name": "stdout",
          "text": [
            "정수를 입력하세요7\n",
            "7 + 77 + 777 = 861\n"
          ]
        }
      ]
    },
    {
      "cell_type": "code",
      "source": [
        "# eval() : 문자열을 숫자로 인식하고 계산하는 함수\n",
        "eval('7 + 77 + 777')\n",
        "calc = f'{a} + {a*2} + {a*3}'\n",
        "print( f'{calc} = {eval(calc)}')"
      ],
      "metadata": {
        "colab": {
          "base_uri": "https://localhost:8080/"
        },
        "id": "GdVxcL7vMwRy",
        "outputId": "ddbfd64c-4758-434d-fc01-67cac2a5efed"
      },
      "execution_count": null,
      "outputs": [
        {
          "output_type": "stream",
          "name": "stdout",
          "text": [
            "7 + 77 + 777 = 861\n"
          ]
        }
      ]
    },
    {
      "cell_type": "code",
      "source": [
        "print('-' * 30)"
      ],
      "metadata": {
        "colab": {
          "base_uri": "https://localhost:8080/"
        },
        "id": "nceZfLW3L-I9",
        "outputId": "df497d0e-e73d-4c2d-c3cd-d17488af2bf0"
      },
      "execution_count": null,
      "outputs": [
        {
          "output_type": "stream",
          "name": "stdout",
          "text": [
            "------------------------------\n"
          ]
        }
      ]
    }
  ]
}