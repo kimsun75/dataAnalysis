{
  "nbformat": 4,
  "nbformat_minor": 0,
  "metadata": {
    "colab": {
      "provenance": [],
      "include_colab_link": true
    },
    "kernelspec": {
      "name": "python3",
      "display_name": "Python 3"
    },
    "language_info": {
      "name": "python"
    }
  },
  "cells": [
    {
      "cell_type": "markdown",
      "metadata": {
        "id": "view-in-github",
        "colab_type": "text"
      },
      "source": [
        "<a href=\"https://colab.research.google.com/github/kimsun75/dataAnalysis/blob/main/4%EC%9D%BC%EC%B0%A8_%ED%8C%8C%EC%9D%B4%EC%8D%AC%EA%B8%B0%EC%B4%88_%EC%A1%B0%EA%B1%B4%EB%AC%B8.ipynb\" target=\"_parent\"><img src=\"https://colab.research.google.com/assets/colab-badge.svg\" alt=\"Open In Colab\"/></a>"
      ]
    },
    {
      "cell_type": "markdown",
      "source": [
        "# 4.파이썬 조건문"
      ],
      "metadata": {
        "id": "8vZpgcHRcZRM"
      }
    },
    {
      "cell_type": "markdown",
      "source": [
        "## 1. if 조건문(if만 사용)"
      ],
      "metadata": {
        "id": "AD4FYYrfclXS"
      }
    },
    {
      "cell_type": "code",
      "source": [
        "a = 99\n",
        "if a < 100:  # 만약 a가 100보다 작으면\n",
        "    print(f\"{a}는 100보다 작군요\")"
      ],
      "metadata": {
        "id": "iKSn0Egyc8kh"
      },
      "execution_count": null,
      "outputs": []
    },
    {
      "cell_type": "markdown",
      "source": [
        "## 2. if ~ else ~ 조건문"
      ],
      "metadata": {
        "id": "0YneVc5rcrv3"
      }
    },
    {
      "cell_type": "code",
      "source": [
        "a = int( input('숫자를 입력하세요: '))\n",
        "if a < 100:  # 만약 a가 100보다 작으면(True)\n",
        "    print(f\"{a}는 100보다 작군요.\")\n",
        "else:  # 그렇지 않다면(False)\n",
        "    print(f\"{a}는 100보다 작지 않군요.\")"
      ],
      "metadata": {
        "colab": {
          "base_uri": "https://localhost:8080/"
        },
        "id": "hmMJcce_c9DM",
        "outputId": "12876c47-f429-4ac3-e055-24449f48f0e1"
      },
      "execution_count": null,
      "outputs": [
        {
          "output_type": "stream",
          "name": "stdout",
          "text": [
            "숫자를 입력하세요: 2567\n",
            "2567는 100보다 작지 않군요\n"
          ]
        }
      ]
    },
    {
      "cell_type": "markdown",
      "source": [
        "## 3. 중첩 if 조건문 (if문 안에 if문)"
      ],
      "metadata": {
        "id": "ATu91yvhcr8a"
      }
    },
    {
      "cell_type": "code",
      "source": [
        "a = int( input('숫자를 입력하세요: '))\n",
        "if a < 100:\n",
        "    if a < 50:\n",
        "        print(f\"{a}는 50보다 작군요.\")\n",
        "    else: #  50<=a<100\n",
        "        print(f\"{a}는 50과 100의 사이군요.\")\n",
        "else:\n",
        "    if a==100:\n",
        "        print(f\"{a}는 100과 같군요.\")\n",
        "    else:\n",
        "        print(f\"{a}는 100보다 작지 않군요.\")"
      ],
      "metadata": {
        "id": "0_lJRPjmc-Hx"
      },
      "execution_count": null,
      "outputs": []
    },
    {
      "cell_type": "markdown",
      "source": [
        "### [실습문제] if조건문으로 짝수/홀수 판별하기"
      ],
      "metadata": {
        "id": "CdFAOJ2mcsFj"
      }
    },
    {
      "cell_type": "code",
      "execution_count": null,
      "metadata": {
        "id": "eEIYv-LpcKhE"
      },
      "outputs": [],
      "source": [
        "x = int(input('숫자 입력: '))\n",
        "if x%2==0:\n",
        "    print(f\"{x}는 짝수\")\n",
        "else:\n",
        "    print(f\"{x}는 홀수\")"
      ]
    },
    {
      "cell_type": "code",
      "source": [
        "x = int(input('숫자 입력: '))\n",
        "if x%2==0:  print(f\"{x}는 짝수\")\n",
        "else:       print(f\"{x}는 홀수\")"
      ],
      "metadata": {
        "colab": {
          "base_uri": "https://localhost:8080/"
        },
        "id": "nhxFwqWthNlc",
        "outputId": "3e271f46-d1fc-443d-f759-032b89736944"
      },
      "execution_count": null,
      "outputs": [
        {
          "output_type": "stream",
          "name": "stdout",
          "text": [
            "숫자 입력: 34\n",
            "34는 짝수\n"
          ]
        }
      ]
    },
    {
      "cell_type": "code",
      "source": [
        "print(f\"{x}는 짝수\") if x%2==0 else print(f\"{x}는 홀수\")"
      ],
      "metadata": {
        "colab": {
          "base_uri": "https://localhost:8080/"
        },
        "id": "hqrWcciIhZHO",
        "outputId": "41eb6479-23bc-46b1-f943-78928be2959d"
      },
      "execution_count": null,
      "outputs": [
        {
          "output_type": "stream",
          "name": "stdout",
          "text": [
            "34는 짝수\n"
          ]
        }
      ]
    },
    {
      "cell_type": "markdown",
      "source": [
        "### [실습문제] 가위/바위/보 승리 판별하기"
      ],
      "metadata": {
        "id": "lnfAvS26iKMs"
      }
    },
    {
      "cell_type": "code",
      "source": [
        "import random           # 난수 발생 모듈\n",
        "# random.randint(1,10)    # 1~10 사이의 임의의 정수 선택\n",
        "print('가위/바위/보 게임을 시작합니다.')\n",
        "print('-'*30)\n",
        "\n",
        "computer = random.choice(['가위','바위','보'])\n",
        "print('컴퓨터는 정했습니다!')\n",
        "my = input('가위/바위/보 중 하나 입력: ')\n",
        "print('-'*30, '게임 결과는?')\n",
        "print(f\"computer:{computer}, my:{my}\")\n",
        "\n",
        "# 결과 판단하기\n",
        "if computer==my:\n",
        "    print('서로 비겼습니다.')\n",
        "# 컴퓨터가 이긴 경우\n",
        "else:\n",
        "    if (computer=='가위' and my=='보') or \\\n",
        "    (computer=='바위' and my=='가위') or \\\n",
        "    (computer=='보' and my=='바위') :\n",
        "        print('컴퓨터가 이겼습니다.')\n",
        "    else:\n",
        "        print('내가 이겼습니다.')"
      ],
      "metadata": {
        "colab": {
          "base_uri": "https://localhost:8080/"
        },
        "id": "vg3cLuBsiN7J",
        "outputId": "689e4409-4caa-4e2d-d8c0-96b27cfac579"
      },
      "execution_count": null,
      "outputs": [
        {
          "output_type": "stream",
          "name": "stdout",
          "text": [
            "가위/바위/보 게임을 시작합니다.\n",
            "------------------------------\n",
            "컴퓨터는 정했습니다!\n",
            "가위/바위/보 중 하나 입력: 가위\n",
            "------------------------------ 게임 결과는?\n",
            "computer:바위, my:가위\n",
            "컴퓨터가 이겼습니다.\n"
          ]
        }
      ]
    },
    {
      "cell_type": "markdown",
      "source": [
        "### [실습문제] 직각삼각형 판별하기"
      ],
      "metadata": {
        "id": "ZiFNmikzqOaM"
      }
    },
    {
      "cell_type": "code",
      "source": [
        "print('삼각형의 세 변의 길이를 입력 받습니다.')\n",
        "c = int(input('빗변 c의 길이: '))\n",
        "a = int(input('  변 a의 길이: '))\n",
        "b = int(input('  변 b의 길이: '))\n",
        "print('-' * 30)\n",
        "if a**2 + b**2 == c**2:\n",
        "    print('직각삼각형 입니다.')\n",
        "else:\n",
        "    print('직각삼각형이 아닙니다.')"
      ],
      "metadata": {
        "colab": {
          "base_uri": "https://localhost:8080/"
        },
        "id": "2rQwSyKLqRbM",
        "outputId": "1c36c635-f0a3-4c1f-84bf-b356f368b03c"
      },
      "execution_count": null,
      "outputs": [
        {
          "output_type": "stream",
          "name": "stdout",
          "text": [
            "삼각형의 세 변의 길이를 입력 받습니다.\n",
            "빗변 c의 길이: 5\n",
            "  변 a의 길이: 4\n",
            "  변 b의 길이: 4\n",
            "------------------------------\n",
            "직각삼각형이 아닙니다.\n"
          ]
        }
      ]
    },
    {
      "cell_type": "markdown",
      "source": [
        "## 4.다중 조건문\n",
        "if~ else~ if --> if~ elif~"
      ],
      "metadata": {
        "id": "U3RpYzF2yHPI"
      }
    },
    {
      "cell_type": "code",
      "source": [
        "# 나이별 학생 구분하기\n",
        "age = int(input('나이를 입력하세요: '))\n",
        "if age < 8:\n",
        "    print('미취학 아동입니다.')\n",
        "elif age < 14:\n",
        "    print('초등학생 입니다.')\n",
        "elif age < 17:\n",
        "    print('중학생 입니다.')\n",
        "elif age < 20:\n",
        "    print('고등학생 입니다.')\n",
        "else:\n",
        "    print('성인입니다.')\n"
      ],
      "metadata": {
        "colab": {
          "base_uri": "https://localhost:8080/"
        },
        "id": "OKBARnllyXjS",
        "outputId": "d6ac364c-9520-4125-976e-5132623566e5"
      },
      "execution_count": null,
      "outputs": [
        {
          "output_type": "stream",
          "name": "stdout",
          "text": [
            "나이를 입력하세요25\n",
            "성인입니다.\n"
          ]
        }
      ]
    },
    {
      "cell_type": "markdown",
      "source": [
        "## 5.조건부 표현식"
      ],
      "metadata": {
        "id": "Zvt0-2wxz0pY"
      }
    },
    {
      "cell_type": "code",
      "source": [
        "score = int(input('점수를 입력하게요: '))\n",
        "if score >= 80:\n",
        "    message = 'Success'\n",
        "else:\n",
        "    message = 'Failure'\n",
        "print(f\"당신의 점수 {score}점은 시험에 {message} 하셨습니다.\")"
      ],
      "metadata": {
        "colab": {
          "base_uri": "https://localhost:8080/"
        },
        "id": "BlgJ93F7z4oG",
        "outputId": "13310ed3-b0d0-480a-8fe5-04d64c10f2eb"
      },
      "execution_count": null,
      "outputs": [
        {
          "output_type": "stream",
          "name": "stdout",
          "text": [
            "점수를 입력하게요: 90\n",
            "당신의 점수 90점은 시험에 Success 하셨습니다.\n"
          ]
        }
      ]
    },
    {
      "cell_type": "code",
      "source": [
        "message =  'Success' if score >= 80 else 'Failure'\n",
        "print(f\"당신의 점수 {score}점은 시험에 {message} 하셨습니다.\")"
      ],
      "metadata": {
        "colab": {
          "base_uri": "https://localhost:8080/"
        },
        "id": "-hC_2KBW0QGA",
        "outputId": "d649ef1d-0f8b-4069-e6f3-fc122e9d06af"
      },
      "execution_count": null,
      "outputs": [
        {
          "output_type": "stream",
          "name": "stdout",
          "text": [
            "당신의 점수 90점은 시험에 Success 하셨습니다.\n"
          ]
        }
      ]
    },
    {
      "cell_type": "markdown",
      "source": [
        "### [실습문제]  일상생활의 상황을 조건문으로 표현하기"
      ],
      "metadata": {
        "id": "erGWIyym5Cxp"
      }
    },
    {
      "cell_type": "code",
      "source": [
        "'''기온 조건 상황\n",
        "- 온도가 30 이상 에이컨 켜기\n",
        "- 온도가 20 미만이면 내복 입기\n",
        "- 온도가 10 이하면 난방기 켜기\n",
        "'''\n",
        "degree = int(input('온도를 입력해 주세요: '))\n",
        "\n",
        "if degree >= 30:\n",
        "    print('에어컨을 켜세요!')\n",
        "elif degree <= 10:\n",
        "    print('난방기를 켜세요.')\n",
        "elif degree < 20:\n",
        "    print('내복을 입으세요.')\n",
        "else:\n",
        "    print('쾌적한 기온입니다.')"
      ],
      "metadata": {
        "colab": {
          "base_uri": "https://localhost:8080/"
        },
        "id": "OsJrXyKc5EZu",
        "outputId": "c802e84c-731c-4d93-bff0-7a25477a8fb0"
      },
      "execution_count": null,
      "outputs": [
        {
          "output_type": "stream",
          "name": "stdout",
          "text": [
            "온도를 입력해 주세요: 30\n",
            "에어컨을 켜세요!\n"
          ]
        }
      ]
    },
    {
      "cell_type": "code",
      "source": [
        "degree = int(input('온도를 입력해 주세요: '))\n",
        "if degree >= 30:\n",
        "    print('에어컨을 켜세요!')\n",
        "else:\n",
        "    if 20 <= degree < 30:\n",
        "        print('쾌적한 기온입니다.')\n",
        "    if degree < 20:\n",
        "        print('내복을 입으세요.')\n",
        "    if degree <= 10:\n",
        "        print('난방기를 켜세요.')"
      ],
      "metadata": {
        "colab": {
          "base_uri": "https://localhost:8080/"
        },
        "id": "wuALvKBQ67ZA",
        "outputId": "af5a5b18-6def-42ab-b28a-09ceebab01b3"
      },
      "execution_count": null,
      "outputs": [
        {
          "output_type": "stream",
          "name": "stdout",
          "text": [
            "온도를 입력해 주세요: 8\n",
            "내복을 입으세요.\n",
            "난방기를 켜세요.\n"
          ]
        }
      ]
    },
    {
      "cell_type": "markdown",
      "source": [
        "### 커피 주문 머신 만들기"
      ],
      "metadata": {
        "id": "70w53WiX9SYR"
      }
    },
    {
      "cell_type": "code",
      "source": [
        "menu = '''[커피 주문 머신 메뉴]\n",
        "-----------------------------\n",
        "- 아메리카노: 2500원\n",
        "- 카페라테:   3000원\n",
        "- 카페모카:   3000원\n",
        "-----------------------------\n",
        "원하시는 커피종류와 잔수를 입력하세요.'''\n",
        "print(menu)\n",
        "coffee1 = int(input('아메리카노 몇잔: '))\n",
        "coffee2 = int(input('카페라테   몇잔: '))\n",
        "coffee3 = int(input('카페모카   몇잔: '))\n",
        "\n",
        "total = 2500*coffee1 + 3000*coffee2 + 3000*coffee3\n",
        "print(f\"지불하실 총 금액은 {total:,}원 입니다.\")\n",
        "money = int(input('돈을 넣어 주세요: '))\n",
        "\n",
        "change = total-money   # 거스름돈\n",
        "if total > money:\n",
        "    print(f\"돈이 부족합니다. {change:,}원을 더 넣어주세요.\")\n",
        "else:\n",
        "    print(f\"거스름돈은 {abs(change):,}입니다. 커피 맛있게 드세요~\")"
      ],
      "metadata": {
        "colab": {
          "base_uri": "https://localhost:8080/"
        },
        "id": "GAvJ6VrS9VcA",
        "outputId": "79a737d3-6424-475c-d11a-c5cfeef899f4"
      },
      "execution_count": null,
      "outputs": [
        {
          "output_type": "stream",
          "name": "stdout",
          "text": [
            "[커피 주문 머신 메뉴]\n",
            "-----------------------------\n",
            "- 아메리카노: 2500원\n",
            "- 카페라테:   3000원\n",
            "- 카페모카:   3000원\n",
            "-----------------------------\n",
            "원하시는 커피종류와 잔수를 입력하세요.\n",
            "아메리카노 몇잔: 1\n",
            "카페라테   몇잔: 1\n",
            "카페모카   몇잔: 2\n",
            "지불하실 총 금액은 11,500원 입니다.\n",
            "돈을 넣어 주세요: 10000\n",
            "돈이 부족합니다. 1,500를 더 넣어주세요.\n"
          ]
        }
      ]
    },
    {
      "cell_type": "markdown",
      "source": [
        "### [추가] gTTS 기능 사용하기"
      ],
      "metadata": {
        "id": "uLlEADlQEbff"
      }
    },
    {
      "cell_type": "code",
      "source": [
        "!pip install gTTS"
      ],
      "metadata": {
        "colab": {
          "base_uri": "https://localhost:8080/"
        },
        "id": "EBtTJeQwA5lk",
        "outputId": "93283376-8070-456d-b8b1-ba8c9fcd56a3"
      },
      "execution_count": null,
      "outputs": [
        {
          "output_type": "stream",
          "name": "stdout",
          "text": [
            "Collecting gTTS\n",
            "  Downloading gTTS-2.5.1-py3-none-any.whl (29 kB)\n",
            "Requirement already satisfied: requests<3,>=2.27 in /usr/local/lib/python3.10/dist-packages (from gTTS) (2.31.0)\n",
            "Requirement already satisfied: click<8.2,>=7.1 in /usr/local/lib/python3.10/dist-packages (from gTTS) (8.1.7)\n",
            "Requirement already satisfied: charset-normalizer<4,>=2 in /usr/local/lib/python3.10/dist-packages (from requests<3,>=2.27->gTTS) (3.3.2)\n",
            "Requirement already satisfied: idna<4,>=2.5 in /usr/local/lib/python3.10/dist-packages (from requests<3,>=2.27->gTTS) (3.6)\n",
            "Requirement already satisfied: urllib3<3,>=1.21.1 in /usr/local/lib/python3.10/dist-packages (from requests<3,>=2.27->gTTS) (2.0.7)\n",
            "Requirement already satisfied: certifi>=2017.4.17 in /usr/local/lib/python3.10/dist-packages (from requests<3,>=2.27->gTTS) (2024.2.2)\n",
            "Installing collected packages: gTTS\n",
            "Successfully installed gTTS-2.5.1\n"
          ]
        }
      ]
    },
    {
      "cell_type": "code",
      "source": [
        "from gtts import gTTS\n",
        "from IPython.display import Audio\n",
        "import time\n",
        "\n",
        "def speaker(stmt):\n",
        "    kor_wav = gTTS(stmt, lang = 'ko')\n",
        "    kor_wav.save('kor.wav')\n",
        "    display(Audio('kor.wav', autoplay=True))\n",
        "\n",
        "menu = '''[커피 주문 머신 메뉴]\n",
        "-----------------------------\n",
        "- 아메리카노: 2500원\n",
        "- 카페라테:   3000원\n",
        "- 카페모카:   3000원\n",
        "-----------------------------\n",
        "원하시는 커피종류와 잔수를 입력하세요.'''\n",
        "print(menu)\n",
        "speaker(menu)\n",
        "\n",
        "time.sleep(2) # 2초 기다리기\n",
        "\n",
        "speaker('아메리카노 몇잔')\n",
        "coffee1 = int(input('아메리카노 몇잔: '))\n",
        "speaker('카페라테   몇잔')\n",
        "coffee2 = int(input('카페라테   몇잔: '))\n",
        "speaker('카페모카   몇잔')\n",
        "coffee3 = int(input('카페모카   몇잔: '))\n",
        "\n",
        "total = 2500*coffee1 + 3000*coffee2 + 3000*coffee3\n",
        "print(f\"지불하실 총 금액은 {total:,}원 입니다.\")\n",
        "speaker(f\"지불하실 총 금액은 {total:,}원 입니다.\")\n",
        "money = int(input('돈을 넣어 주세요: '))\n",
        "\n",
        "change = total-money   # 거스름돈\n",
        "if total > money:\n",
        "    print(f\"돈이 부족합니다. {change:,}원을 더 넣어주세요.\")\n",
        "else:\n",
        "    print(f\"거스름돈은 {abs(change):,}입니다. 커피 맛있게 드세요~\")"
      ],
      "metadata": {
        "colab": {
          "base_uri": "https://localhost:8080/",
          "height": 668
        },
        "id": "zqTBzoxuBdQR",
        "outputId": "a54ac185-5c79-4d6a-df70-01d519533844"
      },
      "execution_count": null,
      "outputs": [
        {
          "output_type": "stream",
          "name": "stdout",
          "text": [
            "[커피 주문 머신 메뉴]\n",
            "-----------------------------\n",
            "- 아메리카노: 2500원\n",
            "- 카페라테:   3000원\n",
            "- 카페모카:   3000원\n",
            "-----------------------------\n",
            "원하시는 커피종류와 잔수를 입력하세요.\n"
          ]
        },
        {
          "output_type": "display_data",
          "data": {
            "text/plain": [
              "<IPython.lib.display.Audio object>"
            ],
            "text/html": [
              "\n",
              "                <audio  controls=\"controls\" autoplay=\"autoplay\">\n",
              "                    <source src=\"data:audio/x-wav;base64,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\" type=\"audio/x-wav\" />\n",
              "                    Your browser does not support the audio element.\n",
              "                </audio>\n",
              "              "
            ]
          },
          "metadata": {}
        },
        {
          "output_type": "display_data",
          "data": {
            "text/plain": [
              "<IPython.lib.display.Audio object>"
            ],
            "text/html": [
              "\n",
              "                <audio  controls=\"controls\" autoplay=\"autoplay\">\n",
              "                    <source src=\"data:audio/x-wav;base64,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\" type=\"audio/x-wav\" />\n",
              "                    Your browser does not support the audio element.\n",
              "                </audio>\n",
              "              "
            ]
          },
          "metadata": {}
        },
        {
          "output_type": "error",
          "ename": "KeyboardInterrupt",
          "evalue": "Interrupted by user",
          "traceback": [
            "\u001b[0;31m---------------------------------------------------------------------------\u001b[0m",
            "\u001b[0;31mKeyboardInterrupt\u001b[0m                         Traceback (most recent call last)",
            "\u001b[0;32m<ipython-input-52-7d23525f6a84>\u001b[0m in \u001b[0;36m<cell line: 23>\u001b[0;34m()\u001b[0m\n\u001b[1;32m     21\u001b[0m \u001b[0;34m\u001b[0m\u001b[0m\n\u001b[1;32m     22\u001b[0m \u001b[0mspeaker\u001b[0m\u001b[0;34m(\u001b[0m\u001b[0;34m'아메리카노 몇잔'\u001b[0m\u001b[0;34m)\u001b[0m\u001b[0;34m\u001b[0m\u001b[0;34m\u001b[0m\u001b[0m\n\u001b[0;32m---> 23\u001b[0;31m \u001b[0mcoffee1\u001b[0m \u001b[0;34m=\u001b[0m \u001b[0mint\u001b[0m\u001b[0;34m(\u001b[0m\u001b[0minput\u001b[0m\u001b[0;34m(\u001b[0m\u001b[0;34m'아메리카노 몇잔: '\u001b[0m\u001b[0;34m)\u001b[0m\u001b[0;34m)\u001b[0m\u001b[0;34m\u001b[0m\u001b[0;34m\u001b[0m\u001b[0m\n\u001b[0m\u001b[1;32m     24\u001b[0m \u001b[0mspeaker\u001b[0m\u001b[0;34m(\u001b[0m\u001b[0;34m'카페라테   몇잔'\u001b[0m\u001b[0;34m)\u001b[0m\u001b[0;34m\u001b[0m\u001b[0;34m\u001b[0m\u001b[0m\n\u001b[1;32m     25\u001b[0m \u001b[0mcoffee2\u001b[0m \u001b[0;34m=\u001b[0m \u001b[0mint\u001b[0m\u001b[0;34m(\u001b[0m\u001b[0minput\u001b[0m\u001b[0;34m(\u001b[0m\u001b[0;34m'카페라테   몇잔: '\u001b[0m\u001b[0;34m)\u001b[0m\u001b[0;34m)\u001b[0m\u001b[0;34m\u001b[0m\u001b[0;34m\u001b[0m\u001b[0m\n",
            "\u001b[0;32m/usr/local/lib/python3.10/dist-packages/ipykernel/kernelbase.py\u001b[0m in \u001b[0;36mraw_input\u001b[0;34m(self, prompt)\u001b[0m\n\u001b[1;32m    849\u001b[0m                 \u001b[0;34m\"raw_input was called, but this frontend does not support input requests.\"\u001b[0m\u001b[0;34m\u001b[0m\u001b[0;34m\u001b[0m\u001b[0m\n\u001b[1;32m    850\u001b[0m             )\n\u001b[0;32m--> 851\u001b[0;31m         return self._input_request(str(prompt),\n\u001b[0m\u001b[1;32m    852\u001b[0m             \u001b[0mself\u001b[0m\u001b[0;34m.\u001b[0m\u001b[0m_parent_ident\u001b[0m\u001b[0;34m,\u001b[0m\u001b[0;34m\u001b[0m\u001b[0;34m\u001b[0m\u001b[0m\n\u001b[1;32m    853\u001b[0m             \u001b[0mself\u001b[0m\u001b[0;34m.\u001b[0m\u001b[0m_parent_header\u001b[0m\u001b[0;34m,\u001b[0m\u001b[0;34m\u001b[0m\u001b[0;34m\u001b[0m\u001b[0m\n",
            "\u001b[0;32m/usr/local/lib/python3.10/dist-packages/ipykernel/kernelbase.py\u001b[0m in \u001b[0;36m_input_request\u001b[0;34m(self, prompt, ident, parent, password)\u001b[0m\n\u001b[1;32m    893\u001b[0m             \u001b[0;32mexcept\u001b[0m \u001b[0mKeyboardInterrupt\u001b[0m\u001b[0;34m:\u001b[0m\u001b[0;34m\u001b[0m\u001b[0;34m\u001b[0m\u001b[0m\n\u001b[1;32m    894\u001b[0m                 \u001b[0;31m# re-raise KeyboardInterrupt, to truncate traceback\u001b[0m\u001b[0;34m\u001b[0m\u001b[0;34m\u001b[0m\u001b[0m\n\u001b[0;32m--> 895\u001b[0;31m                 \u001b[0;32mraise\u001b[0m \u001b[0mKeyboardInterrupt\u001b[0m\u001b[0;34m(\u001b[0m\u001b[0;34m\"Interrupted by user\"\u001b[0m\u001b[0;34m)\u001b[0m \u001b[0;32mfrom\u001b[0m \u001b[0;32mNone\u001b[0m\u001b[0;34m\u001b[0m\u001b[0;34m\u001b[0m\u001b[0m\n\u001b[0m\u001b[1;32m    896\u001b[0m             \u001b[0;32mexcept\u001b[0m \u001b[0mException\u001b[0m \u001b[0;32mas\u001b[0m \u001b[0me\u001b[0m\u001b[0;34m:\u001b[0m\u001b[0;34m\u001b[0m\u001b[0;34m\u001b[0m\u001b[0m\n\u001b[1;32m    897\u001b[0m                 \u001b[0mself\u001b[0m\u001b[0;34m.\u001b[0m\u001b[0mlog\u001b[0m\u001b[0;34m.\u001b[0m\u001b[0mwarning\u001b[0m\u001b[0;34m(\u001b[0m\u001b[0;34m\"Invalid Message:\"\u001b[0m\u001b[0;34m,\u001b[0m \u001b[0mexc_info\u001b[0m\u001b[0;34m=\u001b[0m\u001b[0;32mTrue\u001b[0m\u001b[0;34m)\u001b[0m\u001b[0;34m\u001b[0m\u001b[0;34m\u001b[0m\u001b[0m\n",
            "\u001b[0;31mKeyboardInterrupt\u001b[0m: Interrupted by user"
          ]
        }
      ]
    },
    {
      "cell_type": "markdown",
      "source": [
        "### [추가] windows에서 pywin32 모듈 이용하여 tts 기능 사용"
      ],
      "metadata": {
        "id": "_OK6dNnjFMUQ"
      }
    },
    {
      "cell_type": "code",
      "source": [
        "# 윈도우 PC에서 설치해야 됨\n",
        "!pip install pywin32"
      ],
      "metadata": {
        "id": "1zmUVyC-FV9n"
      },
      "execution_count": null,
      "outputs": []
    },
    {
      "cell_type": "code",
      "source": [
        "# 윈도우 PC에서 사용해야함\n",
        "import win32com.client\n",
        "out = win32com.client.Dispatch('SAPI.SpVoice')\n",
        "out.Speak('오늘 날씨가 너무 좋아요!')"
      ],
      "metadata": {
        "id": "MR6-1ZQRFNHd"
      },
      "execution_count": null,
      "outputs": []
    },
    {
      "cell_type": "code",
      "source": [
        "import win32com.client\n",
        "out = win32com.client.Dispatch('SAPI.SpVoice')\n",
        "\n",
        "menu = '''[커피 주문 머신 메뉴]\n",
        "-----------------------------\n",
        "- 아메리카노: 2500원\n",
        "- 카페라테:   3000원\n",
        "- 카페모카:   3000원\n",
        "-----------------------------\n",
        "원하시는 커피종류와 잔수를 입력하세요.'''\n",
        "print(menu)\n",
        "out.Speak(menu)\n",
        "\n",
        "coffee1 = int(input('아메리카노 몇잔: '))\n",
        "coffee2 = int(input('카페라테   몇잔: '))\n",
        "coffee3 = int(input('카페모카   몇잔: '))\n",
        "\n",
        "total = 2500*coffee1 + 3000*coffee2 + 3000*coffee3\n",
        "print(f\"지불하실 총 금액은 {total:,}원 입니다.\")\n",
        "money = int(input('돈을 넣어 주세요: '))\n",
        "\n",
        "change = total-money   # 거스름돈\n",
        "if total > money:\n",
        "    print(f\"돈이 부족합니다. {change:,}원을 더 넣어주세요.\")\n",
        "else:\n",
        "    print(f\"거스름돈은 {abs(change):,}입니다. 커피 맛있게 드세요~\")"
      ],
      "metadata": {
        "id": "5BzlOReNF_WD"
      },
      "execution_count": null,
      "outputs": []
    },
    {
      "cell_type": "markdown",
      "source": [
        "### [추가] time 모듈로 (~초 기다리기 표현)"
      ],
      "metadata": {
        "id": "nCJvRFsfElKU"
      }
    },
    {
      "cell_type": "code",
      "source": [
        "import time\n",
        "for i in range(1, 11, 1):\n",
        "    time.sleep(1)  # 1초 기다리기\n",
        "    print(i)"
      ],
      "metadata": {
        "colab": {
          "base_uri": "https://localhost:8080/"
        },
        "id": "kJ0dKsDfGicb",
        "outputId": "98b02c5d-18a2-4304-dc03-0a315a9b00cf"
      },
      "execution_count": null,
      "outputs": [
        {
          "output_type": "stream",
          "name": "stdout",
          "text": [
            "1\n",
            "2\n",
            "3\n",
            "4\n",
            "5\n",
            "6\n",
            "7\n",
            "8\n",
            "9\n",
            "10\n"
          ]
        }
      ]
    }
  ]
}