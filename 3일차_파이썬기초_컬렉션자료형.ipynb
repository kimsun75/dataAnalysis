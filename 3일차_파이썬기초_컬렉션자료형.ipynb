{
  "nbformat": 4,
  "nbformat_minor": 0,
  "metadata": {
    "colab": {
      "provenance": [],
      "include_colab_link": true
    },
    "kernelspec": {
      "name": "python3",
      "display_name": "Python 3"
    },
    "language_info": {
      "name": "python"
    }
  },
  "cells": [
    {
      "cell_type": "markdown",
      "metadata": {
        "id": "view-in-github",
        "colab_type": "text"
      },
      "source": [
        "<a href=\"https://colab.research.google.com/github/kimsun75/dataAnalysis/blob/main/3%EC%9D%BC%EC%B0%A8_%ED%8C%8C%EC%9D%B4%EC%8D%AC%EA%B8%B0%EC%B4%88_%EC%BB%AC%EB%A0%89%EC%85%98%EC%9E%90%EB%A3%8C%ED%98%95.ipynb\" target=\"_parent\"><img src=\"https://colab.research.google.com/assets/colab-badge.svg\" alt=\"Open In Colab\"/></a>"
      ]
    },
    {
      "cell_type": "markdown",
      "source": [
        "# 3.컬렉션 자료형"
      ],
      "metadata": {
        "id": "otlIFiR7TlsA"
      }
    },
    {
      "cell_type": "markdown",
      "source": [
        "## 3-1.리스트(List)"
      ],
      "metadata": {
        "id": "2M2jtXI7TrWe"
      }
    },
    {
      "cell_type": "markdown",
      "source": [
        "### 리스트 생성"
      ],
      "metadata": {
        "id": "bqT3bbDETwr0"
      }
    },
    {
      "cell_type": "code",
      "execution_count": null,
      "metadata": {
        "colab": {
          "base_uri": "https://localhost:8080/"
        },
        "id": "vg6LKL6CTdmt",
        "outputId": "d4511fa6-ca86-4828-9dd8-87b074f7d93f"
      },
      "outputs": [
        {
          "output_type": "stream",
          "name": "stdout",
          "text": [
            "<class 'list'>\n",
            "[]\n"
          ]
        }
      ],
      "source": [
        "# 빈 리스트 생성\n",
        "a = []\n",
        "a = list()\n",
        "print( type(a) )\n",
        "print(a)"
      ]
    },
    {
      "cell_type": "code",
      "source": [
        "# 초기 데이터 넣고 리스트 생성\n",
        "import math\n",
        "a = [1,2,3,4,5]\n",
        "a = [1, 'apple', '딸기', 3.14, math.pi, max([10,30,20])]\n",
        "b = [1, 2, a, ['사과','딸기'], {'k':'kiwi'} ]\n",
        "print(b)"
      ],
      "metadata": {
        "colab": {
          "base_uri": "https://localhost:8080/"
        },
        "id": "tmgC1lOZUQZq",
        "outputId": "b66ee2bf-614f-41f7-b090-d8af51235841"
      },
      "execution_count": null,
      "outputs": [
        {
          "output_type": "stream",
          "name": "stdout",
          "text": [
            "[1, 2, [1, 'apple', '딸기', 3.14, 3.141592653589793, 30], ['사과', '딸기'], {'k': 'kiwi'}]\n"
          ]
        }
      ]
    },
    {
      "cell_type": "code",
      "source": [
        "numlist = []\n",
        "for num in range(1,21,2):   # for 반복문, range(): 정수를 순차로 발생시키는 함수\n",
        "    numlist.append(num)     # 리스트에 데이터 추가\n",
        "print(numlist)"
      ],
      "metadata": {
        "colab": {
          "base_uri": "https://localhost:8080/"
        },
        "id": "NgiuUo8pVKRj",
        "outputId": "7c73ba4e-6418-4b3c-be76-5e24d3e2d918"
      },
      "execution_count": null,
      "outputs": [
        {
          "output_type": "stream",
          "name": "stdout",
          "text": [
            "[1, 3, 5, 7, 9, 11, 13, 15, 17, 19]\n"
          ]
        }
      ]
    },
    {
      "cell_type": "code",
      "source": [
        "print(b)\n",
        "for i in b:    # for 반복문, b란 이름의 리스트 안에 있는 요소를 하나씩 출력하는 코드\n",
        "   print(i)"
      ],
      "metadata": {
        "colab": {
          "base_uri": "https://localhost:8080/"
        },
        "id": "TWksB8cnVdeY",
        "outputId": "a6c4b08a-384e-400c-d3b0-24753dd4e228"
      },
      "execution_count": null,
      "outputs": [
        {
          "output_type": "stream",
          "name": "stdout",
          "text": [
            "[1, 2, [1, 'apple', '딸기', 3.14, 3.141592653589793, 30], ['사과', '딸기'], {'k': 'kiwi'}]\n",
            "1\n",
            "2\n",
            "[1, 'apple', '딸기', 3.14, 3.141592653589793, 30]\n",
            "['사과', '딸기']\n",
            "{'k': 'kiwi'}\n"
          ]
        }
      ]
    },
    {
      "cell_type": "markdown",
      "source": [
        "### 리스트 요소에 접근"
      ],
      "metadata": {
        "id": "NEIxuX7cXXE5"
      }
    },
    {
      "cell_type": "code",
      "source": [
        "colors = ['빨강','초록','파랑','노랑','검정']\n",
        "print( colors[0] )\n",
        "print( colors[2:4] )\n",
        "print( colors[::-1] )  # 거꾸로 정렬\n",
        "\n",
        "for color in colors:\n",
        "    print(f\"나는 '{color}' 색상을 좋아합니다.\")"
      ],
      "metadata": {
        "colab": {
          "base_uri": "https://localhost:8080/"
        },
        "id": "o_4canHoXZXn",
        "outputId": "a7f91744-06bd-4576-a93a-e28fab79da2d"
      },
      "execution_count": null,
      "outputs": [
        {
          "output_type": "stream",
          "name": "stdout",
          "text": [
            "빨강\n",
            "['파랑', '노랑']\n",
            "['검정', '노랑', '파랑', '초록', '빨강']\n",
            "나는 '빨강' 색상을 좋아합니다.\n",
            "나는 '초록' 색상을 좋아합니다.\n",
            "나는 '파랑' 색상을 좋아합니다.\n",
            "나는 '노랑' 색상을 좋아합니다.\n",
            "나는 '검정' 색상을 좋아합니다.\n"
          ]
        }
      ]
    },
    {
      "cell_type": "markdown",
      "source": [
        "### 리스트에 요소 추가하기"
      ],
      "metadata": {
        "id": "mbVBXh6KYlwg"
      }
    },
    {
      "cell_type": "code",
      "source": [
        "print(colors)\n",
        "# 인덱스 2 위치에 '분홍' 넣기\n",
        "colors.insert(2, '분홍')\n",
        "print(colors)\n",
        "\n",
        "# 맨 뒤에 추가하기\n",
        "colors.append('보라')\n",
        "print(colors)"
      ],
      "metadata": {
        "colab": {
          "base_uri": "https://localhost:8080/"
        },
        "id": "kqgK-ASvYoBf",
        "outputId": "992a27a5-013b-412e-fbb6-d42c5ad9a0e8"
      },
      "execution_count": null,
      "outputs": [
        {
          "output_type": "stream",
          "name": "stdout",
          "text": [
            "['빨강', '초록', '분홍', '파랑', '노랑', '검정']\n",
            "['빨강', '초록', '분홍', '분홍', '파랑', '노랑', '검정']\n",
            "['빨강', '초록', '분홍', '분홍', '파랑', '노랑', '검정', '보라']\n"
          ]
        }
      ]
    },
    {
      "cell_type": "markdown",
      "source": [
        "### 리스트 특정 위치의 요소값 변경"
      ],
      "metadata": {
        "id": "IqYwKctyZeBI"
      }
    },
    {
      "cell_type": "code",
      "source": [
        "colors[3] = '주황'\n",
        "print(colors)\n",
        "colors[1:3] = '갈색'\n",
        "print(colors)\n",
        "colors[1:3] = ['갈색','고동']\n",
        "print(colors)\n",
        "colors[1:4] = '갈색'   # 주의!  인덱스 개수가 다르면 대체가 안되고 없어짐.\n",
        "print(colors)"
      ],
      "metadata": {
        "colab": {
          "base_uri": "https://localhost:8080/"
        },
        "id": "NsslpyRqZlf1",
        "outputId": "d70f0708-d302-48fd-fcb3-9aa88b1e698c"
      },
      "execution_count": null,
      "outputs": [
        {
          "output_type": "stream",
          "name": "stdout",
          "text": [
            "['빨강', '갈', '색', '주황', '노랑', '검정', '보라']\n",
            "['빨강', '갈', '색', '주황', '노랑', '검정', '보라']\n",
            "['빨강', '갈색', '고동', '주황', '노랑', '검정', '보라']\n",
            "['빨강', '갈', '색', '노랑', '검정', '보라']\n"
          ]
        }
      ]
    },
    {
      "cell_type": "markdown",
      "source": [
        "### 리스트의 요소 삭제"
      ],
      "metadata": {
        "id": "w7oP1evBbXim"
      }
    },
    {
      "cell_type": "code",
      "source": [
        "colors = ['빨강','초록','파랑','노랑','검정','노랑']\n",
        "\n",
        "# 맨 뒤에 있는 것 삭제(꺼내기)\n",
        "colors.pop()\n",
        "print(colors)\n",
        "\n",
        "# 요소값과 일치하는 것 삭제\n",
        "colors.remove('노랑')\n",
        "print(colors)\n",
        "\n",
        "# 전체 요소 삭제\n",
        "colors.clear()\n",
        "print(colors)"
      ],
      "metadata": {
        "colab": {
          "base_uri": "https://localhost:8080/"
        },
        "id": "O5mRCDrlbZVS",
        "outputId": "3b3c57d7-2dcb-419f-8f46-017838515efc"
      },
      "execution_count": null,
      "outputs": [
        {
          "output_type": "stream",
          "name": "stdout",
          "text": [
            "['빨강', '초록', '파랑', '노랑', '검정']\n",
            "['빨강', '초록', '파랑', '검정']\n",
            "[]\n"
          ]
        }
      ]
    },
    {
      "cell_type": "markdown",
      "source": [
        "### 리스트 자체 삭제"
      ],
      "metadata": {
        "id": "eqSn1camcqao"
      }
    },
    {
      "cell_type": "code",
      "source": [
        "del(colors)\n",
        "print(colors)"
      ],
      "metadata": {
        "colab": {
          "base_uri": "https://localhost:8080/",
          "height": 163
        },
        "id": "Opjprn--cN7D",
        "outputId": "c427d587-bef6-4c30-8522-5b76ba8c3eb0"
      },
      "execution_count": null,
      "outputs": [
        {
          "output_type": "error",
          "ename": "NameError",
          "evalue": "name 'colors' is not defined",
          "traceback": [
            "\u001b[0;31m---------------------------------------------------------------------------\u001b[0m",
            "\u001b[0;31mNameError\u001b[0m                                 Traceback (most recent call last)",
            "\u001b[0;32m<ipython-input-32-69a674ffeaaa>\u001b[0m in \u001b[0;36m<cell line: 2>\u001b[0;34m()\u001b[0m\n\u001b[1;32m      1\u001b[0m \u001b[0;32mdel\u001b[0m\u001b[0;34m(\u001b[0m\u001b[0mcolors\u001b[0m\u001b[0;34m)\u001b[0m\u001b[0;34m\u001b[0m\u001b[0;34m\u001b[0m\u001b[0m\n\u001b[0;32m----> 2\u001b[0;31m \u001b[0mprint\u001b[0m\u001b[0;34m(\u001b[0m\u001b[0mcolors\u001b[0m\u001b[0;34m)\u001b[0m\u001b[0;34m\u001b[0m\u001b[0;34m\u001b[0m\u001b[0m\n\u001b[0m",
            "\u001b[0;31mNameError\u001b[0m: name 'colors' is not defined"
          ]
        }
      ]
    },
    {
      "cell_type": "markdown",
      "source": [
        "### 2차원/3차원... 리스트 요소 접근"
      ],
      "metadata": {
        "id": "MZ14Vk9cc35t"
      }
    },
    {
      "cell_type": "code",
      "source": [
        "animals = ['사자','호랑이','곰',\n",
        "            ['고양이','강아지',['돌고래','범고래'], '햄스터']\n",
        "           ]\n",
        "\n",
        "print(animals)\n",
        "print(animals[1])\n",
        "print(animals[3])\n",
        "print(animals[3][1])\n",
        "print(animals[3][2][1])"
      ],
      "metadata": {
        "colab": {
          "base_uri": "https://localhost:8080/"
        },
        "id": "KvUaY4LbdAyk",
        "outputId": "6db9deca-4e1c-4ccc-8315-7eafea0405ff"
      },
      "execution_count": null,
      "outputs": [
        {
          "output_type": "stream",
          "name": "stdout",
          "text": [
            "['사자', '호랑이', '곰', ['고양이', '강아지', ['돌고래', '범고래'], '햄스터']]\n",
            "호랑이\n",
            "['고양이', '강아지', ['돌고래', '범고래'], '햄스터']\n",
            "강아지\n",
            "범고래\n"
          ]
        }
      ]
    },
    {
      "cell_type": "markdown",
      "source": [
        "### 리스트 길이(요소의 개수)"
      ],
      "metadata": {
        "id": "v-U0OAUXfWr0"
      }
    },
    {
      "cell_type": "code",
      "source": [
        "print(animals)\n",
        "print( len(animals) )\n",
        "print( len(animals[3]) )\n",
        "print( len(animals[3][2]) )"
      ],
      "metadata": {
        "colab": {
          "base_uri": "https://localhost:8080/"
        },
        "id": "n60_TB8vfarK",
        "outputId": "62924f95-c3eb-48f7-921d-a90ad1a5356d"
      },
      "execution_count": null,
      "outputs": [
        {
          "output_type": "stream",
          "name": "stdout",
          "text": [
            "['사자', '호랑이', '곰', ['고양이', '강아지', ['돌고래', '범고래'], '햄스터']]\n",
            "4\n",
            "4\n",
            "2\n"
          ]
        }
      ]
    },
    {
      "cell_type": "markdown",
      "source": [
        "### 리스트 함수"
      ],
      "metadata": {
        "id": "xRE1f5dQgCeI"
      }
    },
    {
      "cell_type": "code",
      "source": [
        "colors = ['빨강','초록','파랑','노랑','검정','노랑']\n",
        "\n",
        "# 리스트 요소 정렬\n",
        "print(colors)\n",
        "colors.sort()     # 순차 정렬(가나다 순)\n",
        "print(colors)\n",
        "\n",
        "colors.reverse()  # 역순 정렬\n",
        "print(colors)\n",
        "\n",
        "# 리스트의 특정 요소 위치 찾기\n",
        "print( colors.index('빨강') )\n",
        "print( colors.index('노랑') )  # 여러 개 있을 경우 맨 앞의 인덱스 나타내기\n",
        "\n",
        "# 요소 값 개수세기\n",
        "print(f\"요소 값 개수세기 :  {colors.count('노랑')} \")\n",
        "\n",
        "\n",
        "# 리스트 정렬해서 새로운 이름을 저장해서 사용\n",
        "new = sorted(colors)\n",
        "print(new)"
      ],
      "metadata": {
        "colab": {
          "base_uri": "https://localhost:8080/"
        },
        "id": "VQlf-MKNc8k4",
        "outputId": "4164ab84-f48e-41bc-d48b-96e7fbea3295"
      },
      "execution_count": null,
      "outputs": [
        {
          "output_type": "stream",
          "name": "stdout",
          "text": [
            "['빨강', '초록', '파랑', '노랑', '검정', '노랑']\n",
            "['검정', '노랑', '노랑', '빨강', '초록', '파랑']\n",
            "['파랑', '초록', '빨강', '노랑', '노랑', '검정']\n",
            "2\n",
            "3\n",
            "요소 값 개수세기 :  2 \n",
            "['검정', '노랑', '노랑', '빨강', '초록', '파랑']\n"
          ]
        }
      ]
    },
    {
      "cell_type": "code",
      "source": [
        "colors = ['빨강','초록','파랑','노랑','검정','노랑']\n",
        "newColors = ['red','green','blue']\n",
        "print(colors)\n",
        "print(newColors)\n",
        "colors.extend(newColors)\n",
        "print(colors)\n",
        "\n",
        "colors = ['빨강','초록','파랑','노랑','검정','노랑']\n",
        "newColors = ['red','green','blue']\n",
        "colors += newColors\n",
        "print(colors)"
      ],
      "metadata": {
        "colab": {
          "base_uri": "https://localhost:8080/"
        },
        "id": "KFV8QbYfh_9Y",
        "outputId": "b1dde112-3887-4661-a133-13333bc0a976"
      },
      "execution_count": null,
      "outputs": [
        {
          "output_type": "stream",
          "name": "stdout",
          "text": [
            "['빨강', '초록', '파랑', '노랑', '검정', '노랑']\n",
            "['red', 'green', 'blue']\n",
            "['빨강', '초록', '파랑', '노랑', '검정', '노랑', 'red', 'green', 'blue']\n",
            "['빨강', '초록', '파랑', '노랑', '검정', '노랑', 'red', 'green', 'blue']\n"
          ]
        }
      ]
    },
    {
      "cell_type": "markdown",
      "source": [
        "\n",
        "\n",
        "---\n",
        "\n"
      ],
      "metadata": {
        "id": "Fui6sUt6ndb7"
      }
    },
    {
      "cell_type": "markdown",
      "source": [
        "## 3-2.딕셔너리(Dictionary)"
      ],
      "metadata": {
        "id": "bNG_Sg_uneWC"
      }
    },
    {
      "cell_type": "markdown",
      "source": [
        "### 딕셔너리 자료 생성"
      ],
      "metadata": {
        "id": "jysatBvwnlN-"
      }
    },
    {
      "cell_type": "code",
      "source": [
        "dic = dict()   # 빈 딕셔너리 생성\n",
        "dic = {}       # 빈 딕셔너리 생성\n",
        "print( type(dic) )"
      ],
      "metadata": {
        "colab": {
          "base_uri": "https://localhost:8080/"
        },
        "id": "eNM3Ke_0tSfD",
        "outputId": "1f3cafce-4709-40ba-f7e6-8e2c06c5bcca"
      },
      "execution_count": null,
      "outputs": [
        {
          "output_type": "stream",
          "name": "stdout",
          "text": [
            "<class 'dict'>\n"
          ]
        }
      ]
    },
    {
      "cell_type": "code",
      "source": [
        "# 딕셔너리는 Key:Value 구조\n",
        "members = {1:'이승철', 2:'박정현', 'bts':['진','RM','뷔','지민']}\n",
        "print(members)\n",
        "print(members[2])       # 2는 key이다.\n",
        "print(members['bts'])\n",
        "print(members['bts'][1])\n",
        "print( len(members) )"
      ],
      "metadata": {
        "colab": {
          "base_uri": "https://localhost:8080/"
        },
        "id": "ZUrDPeC5toMt",
        "outputId": "2c5743f5-f716-4ce2-9c83-99ef2ea18b5b"
      },
      "execution_count": null,
      "outputs": [
        {
          "output_type": "stream",
          "name": "stdout",
          "text": [
            "{1: '이승철', 2: '박정현', 'bts': ['진', 'RM', '뷔', '지민']}\n",
            "박정현\n",
            "['진', 'RM', '뷔', '지민']\n",
            "RM\n",
            "3\n"
          ]
        }
      ]
    },
    {
      "cell_type": "markdown",
      "source": [
        "### 딕셔너리에서 Value에 접근하기\n",
        "- Key를 통해서 Value에 접근할 수 있다."
      ],
      "metadata": {
        "id": "TPEdxIkhvzvE"
      }
    },
    {
      "cell_type": "code",
      "source": [
        "members = {1:'이승철', 2:'박정현', 'bts':['진','RM','뷔','지민']}\n",
        "for key in members:\n",
        "    print(f\"Key->{key}, Value->{members[key]}\")"
      ],
      "metadata": {
        "colab": {
          "base_uri": "https://localhost:8080/"
        },
        "id": "L-ct4PAivGni",
        "outputId": "55c982a0-f954-4fb4-ceef-2b5650a6b525"
      },
      "execution_count": null,
      "outputs": [
        {
          "output_type": "stream",
          "name": "stdout",
          "text": [
            "Key->1, Value->이승철\n",
            "Key->2, Value->박정현\n",
            "Key->bts, Value->['진', 'RM', '뷔', '지민']\n"
          ]
        }
      ]
    },
    {
      "cell_type": "markdown",
      "source": [
        "### 딕셔너리에서 자주 사용하는 함수"
      ],
      "metadata": {
        "id": "q3Y5N8uvwFXH"
      }
    },
    {
      "cell_type": "code",
      "source": [
        "members = {1:'이승철', 2:'박정현', 'bts':['진','RM','뷔','지민']}\n",
        "print( members.keys() )      # key만 모아둔 것\n",
        "print( members.values() )    # value만 모아둔 것\n",
        "print( members.items() )     # (key, value) 쌍으로 모아둔 것"
      ],
      "metadata": {
        "colab": {
          "base_uri": "https://localhost:8080/"
        },
        "id": "pFsSFzZywHvy",
        "outputId": "4f22ace0-9e32-42ed-d564-7e4d75a3742b"
      },
      "execution_count": null,
      "outputs": [
        {
          "output_type": "stream",
          "name": "stdout",
          "text": [
            "dict_keys([1, 2, 'bts'])\n",
            "dict_values(['이승철', '박정현', ['진', 'RM', '뷔', '지민']])\n",
            "dict_items([(1, '이승철'), (2, '박정현'), ('bts', ['진', 'RM', '뷔', '지민'])])\n"
          ]
        }
      ]
    },
    {
      "cell_type": "code",
      "source": [
        "# for (key, value) in members.items():\n",
        "for key, value in members.items():\n",
        "    print( key, value)\n",
        "\n",
        "for key in members.keys():\n",
        "    print( key, members[key])\n",
        "\n",
        "for key in members:\n",
        "    print( key, members[key])"
      ],
      "metadata": {
        "colab": {
          "base_uri": "https://localhost:8080/"
        },
        "id": "ciWIYb8Xwrig",
        "outputId": "ff9ea58d-a7fd-476b-a5ce-65eb409e5c16"
      },
      "execution_count": null,
      "outputs": [
        {
          "output_type": "stream",
          "name": "stdout",
          "text": [
            "1 이승철\n",
            "2 박정현\n",
            "bts ['진', 'RM', '뷔', '지민']\n",
            "1 이승철\n",
            "2 박정현\n",
            "bts ['진', 'RM', '뷔', '지민']\n",
            "1 이승철\n",
            "2 박정현\n",
            "bts ['진', 'RM', '뷔', '지민']\n"
          ]
        }
      ]
    },
    {
      "cell_type": "markdown",
      "source": [
        "### 딕셔너리에 요소 추가/수정/삭제"
      ],
      "metadata": {
        "id": "1-ieFLN_x40T"
      }
    },
    {
      "cell_type": "code",
      "source": [
        "members = {1:'이승철', 2:'박정현', 'bts':['진','RM','뷔','지민']}\n",
        "print(members)\n",
        "\n",
        "# 요소 추가\n",
        "members[3] = 'NCT Dream'\n",
        "members['소속사'] = ['하이브','SM기획']\n",
        "print(members)\n",
        "\n",
        "# 요소 수정\n",
        "members[1] = '세븐틴'\n",
        "print(members)\n",
        "\n",
        "# 요소 삭제\n",
        "del(members['소속사'])\n",
        "print(members)\n",
        "\n",
        "# 딕셔너리 삭제\n",
        "del(members)\n",
        "print(members)"
      ],
      "metadata": {
        "colab": {
          "base_uri": "https://localhost:8080/",
          "height": 252
        },
        "id": "6rX9hDZNwPOS",
        "outputId": "49d3a1a6-c577-414e-9b9d-10b6b2340bc0"
      },
      "execution_count": null,
      "outputs": [
        {
          "output_type": "stream",
          "name": "stdout",
          "text": [
            "{1: '이승철', 2: '박정현', 'bts': ['진', 'RM', '뷔', '지민']}\n",
            "{1: '이승철', 2: '박정현', 'bts': ['진', 'RM', '뷔', '지민'], 3: 'NCT Dream', '소속사': ['하이브', 'SM기획']}\n",
            "{1: '세븐틴', 2: '박정현', 'bts': ['진', 'RM', '뷔', '지민'], 3: 'NCT Dream', '소속사': ['하이브', 'SM기획']}\n",
            "{1: '세븐틴', 2: '박정현', 'bts': ['진', 'RM', '뷔', '지민'], 3: 'NCT Dream'}\n"
          ]
        },
        {
          "output_type": "error",
          "ename": "NameError",
          "evalue": "name 'members' is not defined",
          "traceback": [
            "\u001b[0;31m---------------------------------------------------------------------------\u001b[0m",
            "\u001b[0;31mNameError\u001b[0m                                 Traceback (most recent call last)",
            "\u001b[0;32m<ipython-input-73-348feb4c5c26>\u001b[0m in \u001b[0;36m<cell line: 18>\u001b[0;34m()\u001b[0m\n\u001b[1;32m     16\u001b[0m \u001b[0;34m\u001b[0m\u001b[0m\n\u001b[1;32m     17\u001b[0m \u001b[0;32mdel\u001b[0m\u001b[0;34m(\u001b[0m\u001b[0mmembers\u001b[0m\u001b[0;34m)\u001b[0m\u001b[0;34m\u001b[0m\u001b[0;34m\u001b[0m\u001b[0m\n\u001b[0;32m---> 18\u001b[0;31m \u001b[0mprint\u001b[0m\u001b[0;34m(\u001b[0m\u001b[0mmembers\u001b[0m\u001b[0;34m)\u001b[0m\u001b[0;34m\u001b[0m\u001b[0;34m\u001b[0m\u001b[0m\n\u001b[0m",
            "\u001b[0;31mNameError\u001b[0m: name 'members' is not defined"
          ]
        }
      ]
    },
    {
      "cell_type": "markdown",
      "source": [
        "\n",
        "\n",
        "---\n",
        "\n"
      ],
      "metadata": {
        "id": "95ntL6OezYxr"
      }
    },
    {
      "cell_type": "markdown",
      "source": [
        "## 3-3.튜플(Tuple)"
      ],
      "metadata": {
        "id": "yC_SN4aPzZjI"
      }
    },
    {
      "cell_type": "markdown",
      "source": [
        "### 튜플 생성"
      ],
      "metadata": {
        "id": "ACTBqyrCzg4F"
      }
    },
    {
      "cell_type": "code",
      "source": [
        "tup = tuple()   # 빈 튜플 생성\n",
        "tup = ()        # 빈 튜플 생성\n",
        "print( type(tup) )\n",
        "\n",
        "a = [1,2,3,4]\n",
        "print(a)\n",
        "print( tuple(a) )   # 리스트를 튜플로 변환"
      ],
      "metadata": {
        "colab": {
          "base_uri": "https://localhost:8080/"
        },
        "id": "PUCqd6Gdz20K",
        "outputId": "4a7dcffd-5d41-4d6c-eb86-5a84e4d100a7"
      },
      "execution_count": null,
      "outputs": [
        {
          "output_type": "stream",
          "name": "stdout",
          "text": [
            "<class 'tuple'>\n",
            "[1, 2, 3, 4]\n",
            "(1, 2, 3, 4)\n"
          ]
        }
      ]
    },
    {
      "cell_type": "code",
      "source": [
        "tup = ('사과')    # 괄호는 묶음의 의미로 해석\n",
        "print( type(tup) )\n",
        "tup = ('사과',)   # 튜플에서 요소가 하나일 때는 반드시 맨 뒤에 ,(쉼표) 추가\n",
        "print( type(tup) )"
      ],
      "metadata": {
        "colab": {
          "base_uri": "https://localhost:8080/"
        },
        "id": "rILDBZxW0eEr",
        "outputId": "98c9dae3-f8f6-45b4-b731-2f14aba3381a"
      },
      "execution_count": null,
      "outputs": [
        {
          "output_type": "stream",
          "name": "stdout",
          "text": [
            "<class 'str'>\n",
            "<class 'tuple'>\n"
          ]
        }
      ]
    },
    {
      "cell_type": "code",
      "source": [
        "help(tuple)   # 자료형에 대한 도움말"
      ],
      "metadata": {
        "id": "-xwRiSpt1BLV"
      },
      "execution_count": null,
      "outputs": []
    },
    {
      "cell_type": "markdown",
      "source": [
        "### 튜플은 변수를 정의할 때/함수의 파라미터의 정의에 사용"
      ],
      "metadata": {
        "id": "fiE2NmN12BXd"
      }
    },
    {
      "cell_type": "code",
      "source": [
        "a, b = 100, 200\n",
        "a, b = 100, [1,2,3]\n",
        "print(a)\n",
        "print(b)"
      ],
      "metadata": {
        "colab": {
          "base_uri": "https://localhost:8080/"
        },
        "id": "TO-xZ_Lm2AFz",
        "outputId": "7d05ea50-411b-4715-8f22-4cbd06f53905"
      },
      "execution_count": null,
      "outputs": [
        {
          "output_type": "stream",
          "name": "stdout",
          "text": [
            "100\n",
            "[1, 2, 3]\n"
          ]
        }
      ]
    },
    {
      "cell_type": "code",
      "source": [
        "def nSum(a, b):    # parameter\n",
        "    return a + b\n",
        "\n",
        "nSum(100, 200)     # argument"
      ],
      "metadata": {
        "colab": {
          "base_uri": "https://localhost:8080/"
        },
        "id": "PLT6xCp02jxF",
        "outputId": "775e372a-a0b7-4137-ea97-2169deca66f8"
      },
      "execution_count": null,
      "outputs": [
        {
          "output_type": "execute_result",
          "data": {
            "text/plain": [
              "300"
            ]
          },
          "metadata": {},
          "execution_count": 84
        }
      ]
    },
    {
      "cell_type": "markdown",
      "source": [
        "\n",
        "\n",
        "---\n",
        "\n"
      ],
      "metadata": {
        "id": "kBJZHg9l3H__"
      }
    },
    {
      "cell_type": "markdown",
      "source": [
        "## 3-4.집합(Set)"
      ],
      "metadata": {
        "id": "o1CncnDG3O_W"
      }
    },
    {
      "cell_type": "markdown",
      "source": [
        "### 집합 생성"
      ],
      "metadata": {
        "id": "HJaMEHA06Ubq"
      }
    },
    {
      "cell_type": "code",
      "source": [
        "a = set() # 빈 집합 생성\n",
        "print( type(a) )\n",
        "\n",
        "a = {1,2,3,4,2,2,4}   # unique한 데이터만 남는다.\n",
        "print(a)"
      ],
      "metadata": {
        "colab": {
          "base_uri": "https://localhost:8080/"
        },
        "id": "9_nRPcE-6XfO",
        "outputId": "d0775920-5b24-4bb2-8b3f-50ed7219b35e"
      },
      "execution_count": null,
      "outputs": [
        {
          "output_type": "stream",
          "name": "stdout",
          "text": [
            "<class 'set'>\n",
            "{1, 2, 3, 4}\n"
          ]
        }
      ]
    },
    {
      "cell_type": "markdown",
      "source": [
        "### 집합은 중복된 데이터는 배제한다.\n",
        "- unique한 데이터만 남는다.\n",
        "- 순서가 없다"
      ],
      "metadata": {
        "id": "JlmKjycn6vI8"
      }
    },
    {
      "cell_type": "code",
      "source": [
        "a = [1,2,3,4,5,6,7,2,2,3,5,6,7,5,2]\n",
        "print(a)\n",
        "a = list(set(a))\n",
        "print(a)"
      ],
      "metadata": {
        "colab": {
          "base_uri": "https://localhost:8080/"
        },
        "id": "VFcYV2jk6TlU",
        "outputId": "4c3782d5-991a-43d6-8ad8-860f6b02a138"
      },
      "execution_count": null,
      "outputs": [
        {
          "output_type": "stream",
          "name": "stdout",
          "text": [
            "[1, 2, 3, 4, 5, 6, 7, 2, 2, 3, 5, 6, 7, 5, 2]\n",
            "[1, 2, 3, 4, 5, 6, 7]\n"
          ]
        }
      ]
    },
    {
      "cell_type": "markdown",
      "source": [
        "### 집합에 요소 추가/삭제"
      ],
      "metadata": {
        "id": "e5BfXOpV7Vqi"
      }
    },
    {
      "cell_type": "code",
      "source": [
        "S = {1,2,3,'a','b'}\n",
        "print(S)\n",
        "\n",
        "# 요소 1개 추가\n",
        "S.add(4)\n",
        "print(S)\n",
        "\n",
        "# 요소 여러 개 추가\n",
        "S.update(['c','d',5])\n",
        "print(S)\n",
        "S.update('apple')\n",
        "print(S)\n",
        "\n",
        "# 요소 1개 삭제\n",
        "S.discard('a')\n",
        "print(S)\n",
        "S.discard('apple')\n",
        "print(S)\n",
        "\n",
        "# 특정 요소 삭제\n",
        "S.remove(1)\n",
        "print(S)\n",
        "\n",
        "# 임의의 요소 1개 삭제\n",
        "S.pop()\n",
        "print(S)"
      ],
      "metadata": {
        "colab": {
          "base_uri": "https://localhost:8080/"
        },
        "id": "av5C1XFY7gPD",
        "outputId": "31e1bdac-feab-4f70-c55e-0538c2ca7fc6"
      },
      "execution_count": null,
      "outputs": [
        {
          "output_type": "stream",
          "name": "stdout",
          "text": [
            "{1, 2, 3, 'a', 'b'}\n",
            "{1, 2, 3, 'a', 'b', 4}\n",
            "{1, 2, 3, 4, 5, 'd', 'b', 'a', 'c'}\n",
            "{1, 2, 3, 4, 5, 'd', 'b', 'l', 'e', 'a', 'p', 'c'}\n",
            "{1, 2, 3, 4, 5, 'd', 'b', 'l', 'e', 'p', 'c'}\n",
            "{1, 2, 3, 4, 5, 'd', 'b', 'l', 'e', 'p', 'c'}\n",
            "{2, 3, 4, 5, 'd', 'b', 'l', 'e', 'p', 'c'}\n",
            "{3, 4, 5, 'd', 'b', 'l', 'e', 'p', 'c'}\n"
          ]
        }
      ]
    },
    {
      "cell_type": "code",
      "source": [
        "# 집합 삭제\n",
        "del(S)\n",
        "print(S)"
      ],
      "metadata": {
        "colab": {
          "base_uri": "https://localhost:8080/",
          "height": 163
        },
        "id": "-C-pUyit9_Xx",
        "outputId": "3a7c7a87-2359-418f-9fa5-72e8b86f2ad2"
      },
      "execution_count": null,
      "outputs": [
        {
          "output_type": "error",
          "ename": "NameError",
          "evalue": "name 'S' is not defined",
          "traceback": [
            "\u001b[0;31m---------------------------------------------------------------------------\u001b[0m",
            "\u001b[0;31mNameError\u001b[0m                                 Traceback (most recent call last)",
            "\u001b[0;32m<ipython-input-98-59287c1ae037>\u001b[0m in \u001b[0;36m<cell line: 2>\u001b[0;34m()\u001b[0m\n\u001b[1;32m      1\u001b[0m \u001b[0;32mdel\u001b[0m\u001b[0;34m(\u001b[0m\u001b[0mS\u001b[0m\u001b[0;34m)\u001b[0m\u001b[0;34m\u001b[0m\u001b[0;34m\u001b[0m\u001b[0m\n\u001b[0;32m----> 2\u001b[0;31m \u001b[0mprint\u001b[0m\u001b[0;34m(\u001b[0m\u001b[0mS\u001b[0m\u001b[0;34m)\u001b[0m\u001b[0;34m\u001b[0m\u001b[0;34m\u001b[0m\u001b[0m\n\u001b[0m",
            "\u001b[0;31mNameError\u001b[0m: name 'S' is not defined"
          ]
        }
      ]
    },
    {
      "cell_type": "markdown",
      "source": [
        "### 교집합/합집합/차집합"
      ],
      "metadata": {
        "id": "Z_5CnujN-jPA"
      }
    },
    {
      "cell_type": "code",
      "source": [
        "S1 = {1,2,3,4,5}\n",
        "S2 = {3,4,5,6,7}\n",
        "print(S1)\n",
        "print(S2)\n",
        "\n",
        "# 교집합\n",
        "print( S1 & S2 )\n",
        "print( S1.intersection(S2) )\n",
        "\n",
        "# 합집합\n",
        "print( S1 | S2 )\n",
        "print( S1.union(S2) )\n",
        "\n",
        "# 차집합\n",
        "print( S1 - S2 )\n",
        "print( S1.difference(S2) )\n",
        "print( S2 - S1 )\n",
        "print( S2.difference(S1) )"
      ],
      "metadata": {
        "id": "G6P92_sE9Yvz"
      },
      "execution_count": null,
      "outputs": []
    },
    {
      "cell_type": "code",
      "source": [
        "# A.intersection_update(B)--> 계산 결과를 A로 다시 변경\n",
        "S1 = {1,2,3,4,5}\n",
        "S2 = {3,4,5,6,7}\n",
        "print(S1)\n",
        "print(S2)\n",
        "S1.intersection_update(S2)\n",
        "print( S1 )"
      ],
      "metadata": {
        "colab": {
          "base_uri": "https://localhost:8080/"
        },
        "id": "X5STjbY3Bh52",
        "outputId": "4a552a8d-aef0-4d52-e873-431dbf9720ca"
      },
      "execution_count": null,
      "outputs": [
        {
          "output_type": "stream",
          "name": "stdout",
          "text": [
            "{1, 2, 3, 4, 5}\n",
            "{3, 4, 5, 6, 7}\n",
            "{3, 4, 5}\n"
          ]
        }
      ]
    },
    {
      "cell_type": "code",
      "source": [
        "# A.intersection_update(B, C)--> 계산 결과를 A로 다시 변경\n",
        "S1 = {1,2,3,4,5}\n",
        "S2 = {3,4,5,6,7}\n",
        "S3 = {5,6,7}\n",
        "print(S1)\n",
        "print(S2)\n",
        "print(S3)\n",
        "S1.intersection_update(S2, S3)\n",
        "print( S1 )\n"
      ],
      "metadata": {
        "colab": {
          "base_uri": "https://localhost:8080/"
        },
        "id": "mF3ZNJjGAPzO",
        "outputId": "694189a4-1829-4d01-af81-a31f82eb0a18"
      },
      "execution_count": null,
      "outputs": [
        {
          "output_type": "stream",
          "name": "stdout",
          "text": [
            "{1, 2, 3, 4, 5}\n",
            "{3, 4, 5, 6, 7}\n",
            "{5, 6, 7}\n",
            "{5}\n"
          ]
        }
      ]
    },
    {
      "cell_type": "code",
      "source": [
        "help(set)"
      ],
      "metadata": {
        "id": "Enf-xNn87k5r"
      },
      "execution_count": null,
      "outputs": []
    }
  ]
}