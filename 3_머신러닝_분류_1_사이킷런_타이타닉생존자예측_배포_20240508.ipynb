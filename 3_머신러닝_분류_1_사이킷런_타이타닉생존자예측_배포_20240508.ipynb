{
  "cells": [
    {
      "cell_type": "markdown",
      "metadata": {
        "id": "view-in-github",
        "colab_type": "text"
      },
      "source": [
        "<a href=\"https://colab.research.google.com/github/kimsun75/dataAnalysis/blob/main/3_%EB%A8%B8%EC%8B%A0%EB%9F%AC%EB%8B%9D_%EB%B6%84%EB%A5%98_1_%EC%82%AC%EC%9D%B4%ED%82%B7%EB%9F%B0_%ED%83%80%EC%9D%B4%ED%83%80%EB%8B%89%EC%83%9D%EC%A1%B4%EC%9E%90%EC%98%88%EC%B8%A1_%EB%B0%B0%ED%8F%AC_20240508.ipynb\" target=\"_parent\"><img src=\"https://colab.research.google.com/assets/colab-badge.svg\" alt=\"Open In Colab\"/></a>"
      ]
    },
    {
      "cell_type": "markdown",
      "id": "302cc20d",
      "metadata": {
        "id": "302cc20d"
      },
      "source": [
        "# [실습] 타이타닉 생존자 예측하기 : 분류"
      ]
    },
    {
      "cell_type": "code",
      "execution_count": null,
      "id": "7QCJpC5vgpqX",
      "metadata": {
        "id": "7QCJpC5vgpqX"
      },
      "outputs": [],
      "source": [
        "# (코랩에서)한글폰트 설치하기\n",
        "!sudo apt-get install -y fonts-nanum\n",
        "!sudo fc-cache -fv\n",
        "!rm ~/.cache/matplotlib -rf\n",
        "\n",
        "# 코랩에서 위 코드를 실행시킨 후  반드시 코랩 메뉴: \"런타임>런타임 다시 시작\" 합니다."
      ]
    },
    {
      "cell_type": "code",
      "execution_count": null,
      "id": "B81xiSabg9-N",
      "metadata": {
        "id": "B81xiSabg9-N"
      },
      "outputs": [],
      "source": [
        "# 코랩에서 한글 폰트 종류와 이름이 win과 다를 수 있다!!!\n",
        "# 코랩: NanumGothic, 윈도우: Malgun Gothic\n",
        "import matplotlib.pyplot as plt\n",
        "plt.rcParams.update({'font.family': 'NanumGothic',\n",
        "                     'font.size': 12,\n",
        "                     'figure.figsize': (6, 4),\n",
        "                     'axes.unicode_minus':  False }) # 폰트 설정"
      ]
    },
    {
      "cell_type": "markdown",
      "id": "0fe98a1c",
      "metadata": {
        "id": "0fe98a1c"
      },
      "source": [
        "### 참고\n",
        "-  https://www.kaggle.com/competitions/titanic/code\n",
        "\n"
      ]
    },
    {
      "cell_type": "markdown",
      "id": "3ffeea5b",
      "metadata": {
        "id": "3ffeea5b"
      },
      "source": [
        "### 목표\n",
        "- 타이타닉 데이터를 이용하여 데이터 **변수간의 상관관계**를 확인해 본다.\n",
        "- 사이킷런 분류 모델을 이용하여 타이타닉 **생존자를 예측하는 모델**을 만들어 본다.\n",
        "- **모델을 평가**해 본다."
      ]
    },
    {
      "cell_type": "markdown",
      "id": "6520d6a1",
      "metadata": {
        "id": "6520d6a1"
      },
      "source": [
        "### 모델\n",
        "- **로지스틱 회귀**"
      ]
    },
    {
      "cell_type": "markdown",
      "id": "ac0d3fe8",
      "metadata": {
        "id": "ac0d3fe8"
      },
      "source": [
        "### 평가지표\n",
        "- 정확도(accuracy_score)\n",
        "- 정밀도(precision_score)\n",
        "- 재현율(recall_score)\n",
        "- F1점수(f1_score)\n",
        "- 오차행렬(confusion_matrix)\n",
        "- ROC정확도(roc_auc_score)"
      ]
    },
    {
      "cell_type": "markdown",
      "id": "-AXW3vtThBw1",
      "metadata": {
        "id": "-AXW3vtThBw1"
      },
      "source": [
        "\n",
        "\n",
        "---\n",
        "\n"
      ]
    },
    {
      "cell_type": "markdown",
      "id": "c316bc4a",
      "metadata": {
        "id": "c316bc4a"
      },
      "source": [
        "## 1. 데이터 준비하기\n",
        "\n",
        "- 다운로드:  https://www.kaggle.com/competitions/titanic/data\n",
        "- train.csv : 모델 학습에 사용되는 데이터 파일\n",
        "- test.csv : 예측에 사용되는 탑승객들의 데이터 파일"
      ]
    },
    {
      "cell_type": "code",
      "execution_count": null,
      "id": "efa4764e",
      "metadata": {
        "id": "efa4764e",
        "scrolled": false
      },
      "outputs": [],
      "source": [
        "import pandas as pd\n",
        "import seaborn as sns\n",
        "import matplotlib.pyplot as plt\n",
        "# plt.rc('font', family='AppleGothic')            # for 맥 노트북 사용자\n",
        "# plt.rcParams['font.family'] = 'Malgun Gothic'  # for 윈도우 노트북 사용자\n",
        "plt.rcParams['axes.unicode_minus'] = False     # 그래프에서 (-)숫자표시\n",
        "plt.rcParams['figure.figsize'] = (5,3)\n",
        "\n",
        "DIR = './'\n",
        "train = pd.read_csv(DIR+'train.csv')\n",
        "test = pd.read_csv(DIR+'test.csv')\n",
        "\n",
        "train.head()"
      ]
    },
    {
      "cell_type": "code",
      "execution_count": null,
      "id": "0cf363e7",
      "metadata": {
        "id": "0cf363e7"
      },
      "outputs": [],
      "source": [
        "train.info()\n",
        "# test.info()"
      ]
    },
    {
      "cell_type": "code",
      "execution_count": null,
      "id": "OVmWekyuhJmn",
      "metadata": {
        "id": "OVmWekyuhJmn"
      },
      "outputs": [],
      "source": [
        "train.describe()"
      ]
    },
    {
      "cell_type": "markdown",
      "id": "3349b5e4",
      "metadata": {
        "id": "3349b5e4"
      },
      "source": [
        "----------------------"
      ]
    },
    {
      "cell_type": "markdown",
      "id": "5bf7ca53",
      "metadata": {
        "id": "5bf7ca53"
      },
      "source": [
        "## 2. 데이터 전처리"
      ]
    },
    {
      "cell_type": "markdown",
      "id": "d6075e92",
      "metadata": {
        "id": "d6075e92"
      },
      "source": [
        "### 2-1. 기본 정보 확인"
      ]
    },
    {
      "cell_type": "markdown",
      "id": "a74ee6e9",
      "metadata": {
        "id": "a74ee6e9"
      },
      "source": [
        "#### 데이터의 개수 확인"
      ]
    },
    {
      "cell_type": "code",
      "execution_count": null,
      "id": "a1abeac8",
      "metadata": {
        "id": "a1abeac8",
        "scrolled": true
      },
      "outputs": [],
      "source": [
        "print(train.shape, test.shape)"
      ]
    },
    {
      "cell_type": "markdown",
      "id": "e95fed37",
      "metadata": {
        "id": "e95fed37"
      },
      "source": [
        "#### 컬럼정보"
      ]
    },
    {
      "cell_type": "code",
      "execution_count": null,
      "id": "efab75f6",
      "metadata": {
        "id": "efab75f6"
      },
      "outputs": [],
      "source": [
        "train.columns"
      ]
    },
    {
      "cell_type": "markdown",
      "id": "6a05071d",
      "metadata": {
        "id": "6a05071d"
      },
      "source": [
        "| 필드명 | 설명 | 값 종류 |\n",
        "|------|------|------|\n",
        "|PassengerId |승객번호  |\t|\n",
        "|Survived |생존여부  |0=No, 1=Yes|\n",
        "|Pclass |티켓 클래스 |1=1st, 2=2nd, 3=3rd|\n",
        "|Name |이름  |\t|\n",
        "|Sex |성별  |male=남, female=여\t|\n",
        "|Age |나이  |\t|\n",
        "|SibSp |타이타닉 밖의 형제자매/부부의 수  |\t|\n",
        "|Parch |타이타닉 밖의 부모/자식의 수 |\t|\n",
        "|Ticket |티켓 번호  |\t|\n",
        "|Fare |티켓 가격  |\t|\n",
        "|Cabin |객실 번호  |\t|\n",
        "|Embarked |승선항구  |C=Cherbourg, Q=Queenstown, S=Southampton|"
      ]
    },
    {
      "cell_type": "markdown",
      "id": "1eb4203b",
      "metadata": {
        "id": "1eb4203b"
      },
      "source": [
        "#### 2-2.시각화"
      ]
    },
    {
      "cell_type": "code",
      "execution_count": null,
      "id": "10a72a68",
      "metadata": {
        "id": "10a72a68"
      },
      "outputs": [],
      "source": [
        "# 성별 생존 현황\n",
        "sns.countplot(data=train, x='Survived', hue='Sex' )\n",
        "plt.show()"
      ]
    },
    {
      "cell_type": "code",
      "execution_count": null,
      "id": "0703ac02",
      "metadata": {
        "id": "0703ac02",
        "scrolled": true
      },
      "outputs": [],
      "source": [
        "# 티켓등급별 생존 현황\n",
        "sns.countplot(data=train, x='Survived', hue='Pclass' )\n",
        "plt.show()"
      ]
    },
    {
      "cell_type": "code",
      "execution_count": null,
      "id": "5444fcf6",
      "metadata": {
        "id": "5444fcf6",
        "scrolled": true
      },
      "outputs": [],
      "source": [
        "# 나이별 생존 현황\n",
        "\n",
        "# 나이를 몇개의 등급을 나눈후 처리한다.\n",
        "bin = [0, 18, 25, 35, 60, 100]\n",
        "group_names = ['Baby', 'Youth', 'YoungAdult', 'MiddleAged', 'Senior']\n",
        "train['AgeGroup'] = pd.cut(train['Age'], bins=bin, labels=group_names)\n",
        "train['AgeGroup'].value_counts()\n",
        "\n",
        "\n",
        "sns.countplot(data=train, x='Survived', hue='AgeGroup' )\n",
        "plt.legend(bbox_to_anchor=(1.05, 1), loc=2, borderaxespad=0.)\n",
        "plt.show()\n",
        "\n",
        "# 원래대로 AgeGroup 컬럼 삭제하기\n",
        "train.drop('AgeGroup', axis=1, inplace=True)"
      ]
    },
    {
      "cell_type": "code",
      "execution_count": null,
      "id": "59c0d263",
      "metadata": {
        "id": "59c0d263",
        "scrolled": true
      },
      "outputs": [],
      "source": [
        "# Pclass와 Fare 관계\n",
        "plt.scatter(train.Pclass, train.Fare)\n",
        "plt.xlabel('Pclass')\n",
        "plt.ylabel('Fare')\n",
        "plt.show()"
      ]
    },
    {
      "cell_type": "markdown",
      "id": "ab15fb4c",
      "metadata": {
        "id": "ab15fb4c"
      },
      "source": [
        "#### 상관계수\n",
        "- 두 개의 변수가 같이 일어나는 강도를 나타내는 수치\n",
        "- **-1에서 1**사이의 값을 지닙니다.\n",
        "- -1이나 1인 수치는 현실 세계에서 관측되기 힘든 수치입니다.\n",
        "- 분야별로 기준을 정하는 것에 따라 달라지겠지만, **보통 0.4이상**이면 두 개의 변수간에 상관성이 있다고 얘기합니다."
      ]
    },
    {
      "cell_type": "code",
      "execution_count": null,
      "id": "39244dba",
      "metadata": {
        "id": "39244dba",
        "scrolled": true
      },
      "outputs": [],
      "source": [
        "train.corr(numeric_only=True)"
      ]
    },
    {
      "cell_type": "markdown",
      "id": "27dda230",
      "metadata": {
        "id": "27dda230"
      },
      "source": [
        "- 특정 컬럼과 나머지 컬럼간의 상관계수(숫자만 가능)"
      ]
    },
    {
      "cell_type": "code",
      "execution_count": null,
      "id": "ef40df3d",
      "metadata": {
        "id": "ef40df3d",
        "scrolled": true
      },
      "outputs": [],
      "source": [
        "# train.corr(numeric_only=True)['Survived'].sort_values(ascending=False)\n",
        "train.corrwith(train['Survived'], numeric_only=True).sort_values(ascending=False)"
      ]
    },
    {
      "cell_type": "markdown",
      "id": "cb41b947",
      "metadata": {
        "id": "cb41b947"
      },
      "source": [
        "#### 상관계수 시각화하기"
      ]
    },
    {
      "cell_type": "code",
      "execution_count": null,
      "id": "435aad80",
      "metadata": {
        "id": "435aad80",
        "scrolled": true
      },
      "outputs": [],
      "source": [
        "import seaborn as sns\n",
        "\n",
        "# sns.heatmap 폰트 사이즈 작게\n",
        "sns.set(font_scale=0.8)\n",
        "sns.heatmap(train.corr(numeric_only=True), annot=True)\n",
        "plt.show()"
      ]
    },
    {
      "cell_type": "code",
      "execution_count": null,
      "id": "a2172977",
      "metadata": {
        "id": "a2172977",
        "scrolled": true
      },
      "outputs": [],
      "source": [
        "# sns.clustermap\n",
        "sns.clustermap(train.corr(numeric_only=True),\n",
        "               annot = True,      # 실제 값 화면에 나타내기\n",
        "               cmap = 'RdYlBu_r',  # Red, Yellow, Blue 색상으로 표시\n",
        "               vmin = -1, vmax = 1, #컬러차트 -1 ~ 1 범위로 표시\n",
        "               figsize=(8,5)\n",
        ")"
      ]
    },
    {
      "cell_type": "markdown",
      "id": "7ccae316",
      "metadata": {
        "id": "7ccae316"
      },
      "source": [
        "**상관계수를 통해 통해 알 수 있는 내용**\n",
        "- (Sex, Survived), (SibSp,Parch) 양의 상관관계\n",
        "- (Fare, Pclass) 음의 상관관계"
      ]
    },
    {
      "cell_type": "markdown",
      "id": "9ede788f",
      "metadata": {
        "id": "9ede788f"
      },
      "source": [
        "### 2-3.데이터 처리"
      ]
    },
    {
      "cell_type": "markdown",
      "id": "6fd23ded",
      "metadata": {
        "id": "6fd23ded"
      },
      "source": [
        "#### 1) 결측치 처리\n",
        "- Non-Null Count 를 통해 확인한 내용\n",
        "- **Age** : 결측치 데이터 삭제\n",
        "- **Cabin** : 조치 안함\n",
        "- **Embarked** : 결측치(최빈값 채움) + 범주형 데이터로 변환한다.(C,Q,S=0,1,2)"
      ]
    },
    {
      "cell_type": "code",
      "execution_count": null,
      "id": "b9bb92d8",
      "metadata": {
        "id": "b9bb92d8"
      },
      "outputs": [],
      "source": [
        "train.isnull().sum()\n",
        "# test.info()"
      ]
    },
    {
      "cell_type": "markdown",
      "id": "dadff419",
      "metadata": {
        "id": "dadff419"
      },
      "source": [
        "#### 결측치 데이터 삭제 : Age"
      ]
    },
    {
      "cell_type": "code",
      "execution_count": null,
      "id": "eb39bb26",
      "metadata": {
        "id": "eb39bb26"
      },
      "outputs": [],
      "source": [
        "train.dropna(subset=['Age'], how='all', inplace=True)\n",
        "# test.dropna(subset=['Age'], how='all', inplace=True)\n",
        "train.Age.isnull().sum()"
      ]
    },
    {
      "cell_type": "markdown",
      "id": "f5f97199",
      "metadata": {
        "id": "f5f97199"
      },
      "source": [
        "#### 결측치 데이터 : Embarked(최빈값으로 대체)"
      ]
    },
    {
      "cell_type": "code",
      "execution_count": null,
      "id": "olnLLGxCoTsA",
      "metadata": {
        "id": "olnLLGxCoTsA"
      },
      "outputs": [],
      "source": [
        "train.Embarked.dtype # dtype('0') -> object type\n",
        "train.Embarked.value_counts()"
      ]
    },
    {
      "cell_type": "code",
      "execution_count": null,
      "id": "2c1bdea4",
      "metadata": {
        "id": "2c1bdea4"
      },
      "outputs": [],
      "source": [
        "# Embarked 결측치 값을 최빈값(S)으로 대체\n",
        "train['Embarked'] = train['Embarked'].fillna('S')\n",
        "train['Embarked'].isnull().sum()\n",
        "# test['Embarked'] = test['Embarked'].fillna('S')"
      ]
    },
    {
      "cell_type": "markdown",
      "id": "65f30034",
      "metadata": {
        "id": "65f30034"
      },
      "source": [
        "#### 2) 범주형 데이터  숫자로 변환(인코딩)\n",
        "- 성별(Sex): 0, 1 숫자로 변환"
      ]
    },
    {
      "cell_type": "code",
      "execution_count": null,
      "id": "193300db",
      "metadata": {
        "id": "193300db"
      },
      "outputs": [],
      "source": [
        "train['Sex'] = train['Sex'].replace('male', 0)\n",
        "train['Sex'] = train['Sex'].replace('female', 1)\n",
        "# test['Sex'] = test['Sex'].replace('male', 0)\n",
        "# test['Sex'] = test['Sex'].replace('female', 1)"
      ]
    },
    {
      "cell_type": "markdown",
      "id": "wTiMmuCsq2cm",
      "metadata": {
        "id": "wTiMmuCsq2cm"
      },
      "source": [
        "- Embarked: C,Q,S=0,1,2"
      ]
    },
    {
      "cell_type": "code",
      "execution_count": null,
      "id": "eacaef07",
      "metadata": {
        "id": "eacaef07"
      },
      "outputs": [],
      "source": [
        "train['Embarked'] = train['Embarked'].replace('C', 0)\n",
        "train['Embarked'] = train['Embarked'].replace('Q', 1)\n",
        "train['Embarked'] = train['Embarked'].replace('S', 2)\n",
        "# test['Embarked'] = test['Embarked'].replace('C', 0)\n",
        "# test['Embarked'] = test['Embarked'].replace('Q', 1)\n",
        "# test['Embarked'] = test['Embarked'].replace('S', 2)"
      ]
    },
    {
      "cell_type": "markdown",
      "id": "1a894a63",
      "metadata": {
        "id": "1a894a63"
      },
      "source": [
        "- Embarked 컬럼 데이터형 int로 변환"
      ]
    },
    {
      "cell_type": "code",
      "execution_count": null,
      "id": "b72f989c",
      "metadata": {
        "id": "b72f989c"
      },
      "outputs": [],
      "source": [
        "train['Embarked'] = train['Embarked'].astype('int64')\n",
        "# test['Embarked'] = test['Embarked'].astype('int64')"
      ]
    },
    {
      "cell_type": "markdown",
      "id": "oQpm6OtDsbPf",
      "metadata": {
        "id": "oQpm6OtDsbPf"
      },
      "source": [
        "### [실습] test 데이터 전처리 하기\n",
        " - 결측치 처리 : Age (결측치 데이터 삭제), Fare(중앙값 대체), Cabin(조치 안함)\n",
        " - 범주형 데이터 숫자로 변환(인코딩)"
      ]
    },
    {
      "cell_type": "markdown",
      "id": "IKoxrkHLx6fo",
      "metadata": {
        "id": "IKoxrkHLx6fo"
      },
      "source": [
        "- 결측치 처리 : Age (결측치 데이터 삭제)"
      ]
    },
    {
      "cell_type": "code",
      "execution_count": null,
      "id": "QuXihdXItwSt",
      "metadata": {
        "id": "QuXihdXItwSt"
      },
      "outputs": [],
      "source": [
        "\n"
      ]
    },
    {
      "cell_type": "markdown",
      "id": "cLzMPynjx9l0",
      "metadata": {
        "id": "cLzMPynjx9l0"
      },
      "source": [
        "- 결측치 처리 : Fare(중앙값 대체)"
      ]
    },
    {
      "cell_type": "code",
      "execution_count": null,
      "id": "0dCX5r55xWX7",
      "metadata": {
        "id": "0dCX5r55xWX7"
      },
      "outputs": [],
      "source": [
        "\n"
      ]
    },
    {
      "cell_type": "markdown",
      "id": "9321130b",
      "metadata": {
        "id": "9321130b"
      },
      "source": [
        "#### 3) 정규화 & 표준화\n",
        "\n",
        "- **정규화(Normalization)** : -1 ~ 1 사이의 값으로 변환\n",
        "- **표준화(Standardization)** : 평균이 0이고 표준편차가 1인 값으로 변환\n",
        "- 머신러닝 성능 향상을 위한 방법\n",
        "- 정규화와 표준화는 모두 머신러닝 알고리즘을 훈련시키는데 있어서 사용되는 특성(feature)들이 모두 비슷한 영향력을 행사하도록 값을 변환해주는 기술\n"
      ]
    },
    {
      "cell_type": "code",
      "execution_count": null,
      "id": "8b709a6b",
      "metadata": {
        "id": "8b709a6b"
      },
      "outputs": [],
      "source": [
        "def normalize(x):\n",
        "    return (x-x.min())/(x.max()-x.min())\n",
        "\n",
        "def standardscaler(x):\n",
        "    return (x-x.mean())/x.std()"
      ]
    },
    {
      "cell_type": "markdown",
      "id": "e6b7d9ed",
      "metadata": {
        "id": "e6b7d9ed"
      },
      "source": [
        "-  표준화 적용: 'Fare' 컬럼"
      ]
    },
    {
      "cell_type": "code",
      "execution_count": null,
      "id": "qxpm9Yr5yKP9",
      "metadata": {
        "id": "qxpm9Yr5yKP9"
      },
      "outputs": [],
      "source": [
        "train.describe()"
      ]
    },
    {
      "cell_type": "code",
      "execution_count": null,
      "id": "3474ad72",
      "metadata": {
        "id": "3474ad72"
      },
      "outputs": [],
      "source": [
        "from sklearn.preprocessing import StandardScaler\n",
        "\n",
        "scaler = StandardScaler()\n",
        "# train[['Fare']] = scaler.fit_transform(train[['Fare']])\n",
        "scaler.fit(train[['Fare']])\n",
        "train[['Fare']] = scaler.transform(train[['Fare']])\n",
        "\n",
        "test[['Fare']] = scaler.transform(test[['Fare']])\n",
        "\n",
        "train['Fare']"
      ]
    },
    {
      "cell_type": "markdown",
      "id": "a9195451",
      "metadata": {
        "id": "a9195451"
      },
      "source": [
        "### 2-4. 최종 종속변수와 독립변수\n",
        "- 'Age' 컬럼을 종속변수로 사용하지 않는 이유: 편차가 너무 크고 null값이 너무 많았기 때문.\n",
        "- **종속변수** : Survived\n",
        "- **독립변수** : Pclass, Sex, SibSp, Parch, Fare, Embarked     "
      ]
    },
    {
      "cell_type": "code",
      "execution_count": null,
      "id": "0b19bbd5",
      "metadata": {
        "id": "0b19bbd5",
        "scrolled": true
      },
      "outputs": [],
      "source": [
        "train.head()\n",
        "\n",
        "feature = ['Pclass', 'Sex', 'SibSp', 'Parch', 'Fare', 'Embarked']\n",
        "target = ['Survived']\n",
        "\n",
        "# X = train[feature]\n",
        "# Y = train[target]\n",
        "# X_test = test[feature]\n",
        "# Y_test = test[target]\n",
        "X\n",
        "Y\n"
      ]
    },
    {
      "cell_type": "markdown",
      "id": "77d36059",
      "metadata": {
        "id": "77d36059"
      },
      "source": [
        "### 2-5. 시각화"
      ]
    },
    {
      "cell_type": "code",
      "execution_count": null,
      "id": "94cadDjg2gDw",
      "metadata": {
        "id": "94cadDjg2gDw"
      },
      "outputs": [],
      "source": [
        "pd.concat([X, Y], axis=1).head()"
      ]
    },
    {
      "cell_type": "code",
      "execution_count": null,
      "id": "e9a963ca",
      "metadata": {
        "id": "e9a963ca",
        "scrolled": true
      },
      "outputs": [],
      "source": [
        "import seaborn as sns\n",
        "import matplotlib.pyplot as plt\n",
        "\n",
        "sns.pairplot(pd.concat([X, Y], axis=1), hue='Survived')\n",
        "plt.show()"
      ]
    },
    {
      "cell_type": "markdown",
      "id": "38857e7b",
      "metadata": {
        "id": "38857e7b"
      },
      "source": [
        "---------------------"
      ]
    },
    {
      "cell_type": "markdown",
      "id": "9dbf81d0",
      "metadata": {
        "id": "9dbf81d0"
      },
      "source": [
        "## 3. 모델링"
      ]
    },
    {
      "cell_type": "markdown",
      "id": "58270bef",
      "metadata": {
        "id": "58270bef"
      },
      "source": [
        "### 3-1. 학습용 데이터 준비"
      ]
    },
    {
      "cell_type": "code",
      "execution_count": null,
      "id": "GTvZhmHz3YP4",
      "metadata": {
        "id": "GTvZhmHz3YP4"
      },
      "outputs": [],
      "source": [
        "pd.concat([X, Y], axis=1)"
      ]
    },
    {
      "cell_type": "markdown",
      "id": "7e292ce9",
      "metadata": {
        "id": "7e292ce9"
      },
      "source": [
        "### 3-2. 학습용, 테스트 데이터 분리하기"
      ]
    },
    {
      "cell_type": "code",
      "execution_count": null,
      "id": "239d90bc",
      "metadata": {
        "id": "239d90bc"
      },
      "outputs": [],
      "source": [
        "from sklearn.model_selection import train_test_split\n",
        "\n",
        "X_train, X_test, y_train, y_test = train_test_split(X, Y, test_size=0.2, random_state=1)\n",
        "\n",
        "print(X_train.shape, X_test.shape)\n",
        "print(y_train.shape, y_test.shape)"
      ]
    },
    {
      "cell_type": "markdown",
      "id": "ac410534",
      "metadata": {
        "id": "ac410534"
      },
      "source": [
        "### 3-3.모델 훈련 및 테스트, 성능평가"
      ]
    },
    {
      "cell_type": "markdown",
      "id": "1ebce9d4",
      "metadata": {
        "id": "1ebce9d4"
      },
      "source": [
        "#### # 로직스틱 회귀 : LogisticRegression()\n",
        "- 분류: 시그이드 함수 사용 (이진 분류에 적용)\n",
        "- 평가 지표 : 오차행렬(confusion_matrix) 정확도 사용"
      ]
    },
    {
      "cell_type": "code",
      "execution_count": null,
      "id": "9770eb3a",
      "metadata": {
        "id": "9770eb3a",
        "scrolled": false
      },
      "outputs": [],
      "source": [
        "from sklearn.linear_model import LogisticRegression\n",
        "from sklearn.metrics import confusion_matrix, ConfusionMatrixDisplay\n",
        "from sklearn.metrics import accuracy_score, precision_score, recall_score, f1_score, roc_auc_score\n",
        "import numpy as np\n",
        "\n",
        "# 학습모델(분류) : 로지스틱 회귀\n",
        "model = LogisticRegression()\n",
        "\n",
        "# 모델 훈련\n",
        "model.fit(X_train, y_train)\n",
        "\n",
        "# 예측\n",
        "y_pred = model.predict(X_test)\n",
        "print(f'y_pred : {y_pred}')\n",
        "\n",
        "\n",
        "# 정확도 출력\n",
        "accuracy = model.score(X_test, y_test)\n",
        "print(f'accuracy : {accuracy}')\n",
        "\n",
        "\n",
        "# 혼돈행렬 시각화\n",
        "labels = 'die','alive'\n",
        "cm = confusion_matrix(y_test, y_pred) # 혼돈 행렬 구하기\n",
        "ConfusionMatrixDisplay(cm, display_labels=labels).plot(cmap='Blues')\n",
        "plt.title(f'accuracy:{np.round(accuracy, 2)}')\n",
        "plt.show()\n",
        "\n",
        "# 평가지표\n",
        "print(f'정확도 : {accuracy_score(y_test, y_pred)}')\n",
        "print(f'정밀도 : {precision_score(y_test, y_pred)}')\n",
        "print(f'재현율 : {recall_score(y_test, y_pred)}')\n",
        "print(f'F1     : {f1_score(y_test, y_pred)}')\n",
        "print(f'ROC_ACU: {roc_auc_score(y_test, y_pred)}')"
      ]
    },
    {
      "cell_type": "markdown",
      "id": "40d7a913",
      "metadata": {
        "id": "40d7a913"
      },
      "source": [
        "#### X_test 결과 값 비교"
      ]
    },
    {
      "cell_type": "code",
      "execution_count": null,
      "id": "0a4be681",
      "metadata": {
        "id": "0a4be681",
        "scrolled": true
      },
      "outputs": [],
      "source": [
        "X_test_compare =  X_test.copy()\n",
        "X_test_compare['Survived'] = y_test\n",
        "X_test_compare['Predict'] = y_pred\n",
        "X_test_compare"
      ]
    },
    {
      "cell_type": "markdown",
      "id": "bebbc444",
      "metadata": {
        "id": "bebbc444"
      },
      "source": [
        "-------------------"
      ]
    },
    {
      "cell_type": "markdown",
      "id": "5f794a5d",
      "metadata": {
        "id": "5f794a5d"
      },
      "source": [
        "THE END"
      ]
    }
  ],
  "metadata": {
    "colab": {
      "provenance": [],
      "include_colab_link": true
    },
    "kernelspec": {
      "display_name": "Python 3 (ipykernel)",
      "language": "python",
      "name": "python3"
    },
    "language_info": {
      "codemirror_mode": {
        "name": "ipython",
        "version": 3
      },
      "file_extension": ".py",
      "mimetype": "text/x-python",
      "name": "python",
      "nbconvert_exporter": "python",
      "pygments_lexer": "ipython3",
      "version": "3.10.9"
    }
  },
  "nbformat": 4,
  "nbformat_minor": 5
}