{
  "cells": [
    {
      "cell_type": "markdown",
      "metadata": {
        "id": "view-in-github",
        "colab_type": "text"
      },
      "source": [
        "<a href=\"https://colab.research.google.com/github/kimsun75/dataAnalysis/blob/main/2_%EB%8D%B0%EC%9D%B4%ED%84%B0%EB%B6%84%EC%84%9D_03_%EA%B3%B5%EA%B3%B5%EB%8D%B0%EC%9D%B4%ED%84%B0_%EA%B5%AC%EC%94%A8%EB%A5%BC_%EC%B0%BE%EC%95%84%EB%9D%BC_%EB%B0%B0%ED%8F%AC_9.ipynb\" target=\"_parent\"><img src=\"https://colab.research.google.com/assets/colab-badge.svg\" alt=\"Open In Colab\"/></a>"
      ]
    },
    {
      "cell_type": "markdown",
      "id": "d019c073",
      "metadata": {
        "id": "d019c073"
      },
      "source": [
        "# 데이터 분석\n",
        "\n",
        "## 3. 공공데이터를 이용한 EDA 분석 - 구씨를 찾아라!"
      ]
    },
    {
      "cell_type": "markdown",
      "id": "e06ece24-90ca-4e6e-8c91-97f33963c758",
      "metadata": {
        "id": "e06ece24-90ca-4e6e-8c91-97f33963c758"
      },
      "source": [
        "## [질문]\n",
        "- **Q1. 우리나라 성씨 데이터 Top10은?**\n",
        "- **Q2. 우리나라에서 '구씨'가 가장 많이 사는 지역은?**"
      ]
    },
    {
      "cell_type": "code",
      "execution_count": null,
      "id": "4d90c092",
      "metadata": {
        "id": "4d90c092"
      },
      "outputs": [],
      "source": [
        "# (코랩에서) 코드 실행 후 재시작\n",
        "!sudo apt-get install -y fonts-nanum\n",
        "!sudo fc-cache -fv\n",
        "!rm ~/.cache/matplotlib -rf"
      ]
    },
    {
      "cell_type": "markdown",
      "id": "F16Xrgaki5CU",
      "metadata": {
        "id": "F16Xrgaki5CU"
      },
      "source": [
        "\n",
        "\n",
        "---\n",
        "\n"
      ]
    },
    {
      "cell_type": "markdown",
      "id": "90d314fc",
      "metadata": {
        "id": "90d314fc"
      },
      "source": [
        "### #.파이썬으로 데이터 분석하는 순서\n",
        " [사전준비] 필요한 파이썬 라이브러리 설치하기\n",
        " 1. 데이터 준비하기 : 웹 사이트에서 공공데이터 다운로드하기\n",
        " 2. 데이터 불러오기 : 파이썬으로 데이터 읽어서 표로 나타내기\n",
        " 3. 데이터 전처리하기 : 필요한 데이터만 추출하기\n",
        " 4. 데이터 시각화하기 : 데이터 그래프로 나타내기\n",
        " 5. 데이터 저장하기 :  파일로 저장하기"
      ]
    },
    {
      "cell_type": "markdown",
      "id": "3628eac9",
      "metadata": {
        "id": "3628eac9"
      },
      "source": [
        "## Q1. 우리나라 성씨 데이터 Top10은?"
      ]
    },
    {
      "cell_type": "markdown",
      "id": "540ec9ab",
      "metadata": {
        "id": "540ec9ab"
      },
      "source": [
        "---"
      ]
    },
    {
      "cell_type": "markdown",
      "id": "1ab82cff",
      "metadata": {
        "id": "1ab82cff"
      },
      "source": [
        "### 0.[사전준비] 라이브러리 설치 확인하기\n",
        "아래 코드를 실행한 후 오류 메시지가 없으면 성공적으로 설치된 것입니다."
      ]
    },
    {
      "cell_type": "code",
      "execution_count": null,
      "id": "a40980e3",
      "metadata": {
        "id": "a40980e3"
      },
      "outputs": [],
      "source": [
        "import numpy as np\n",
        "import pandas as pd\n",
        "import matplotlib.pyplot as plt\n",
        "\n",
        "# 멧플롯립 한글폰트 지정\n",
        "plt.rc('font', family='NanumBarunGothic')  # 코랩 폰트\n",
        "plt.rc('font', family='Malgun Gothic')     # 윈도우 폰트\n",
        "plt.rcParams['axes.unicode_minus'] = False"
      ]
    },
    {
      "cell_type": "markdown",
      "id": "24eb11e8",
      "metadata": {
        "id": "24eb11e8"
      },
      "source": [
        "### 1.데이터 다운로드하기"
      ]
    },
    {
      "cell_type": "markdown",
      "id": "afc2f362",
      "metadata": {
        "id": "afc2f362"
      },
      "source": [
        "- 국가통계포털 사이트  https://kosis.kr/index/index.do\n",
        "- 성씨ㆍ본관별_인구__시군구_~.csv 다운로드하기\n",
        " - ./data/성씨ㆍ본관별_인구__시군구_20240408173249.csv"
      ]
    },
    {
      "cell_type": "markdown",
      "id": "e40e7c16",
      "metadata": {
        "id": "e40e7c16"
      },
      "source": [
        "---"
      ]
    },
    {
      "cell_type": "markdown",
      "id": "456d3b0d",
      "metadata": {
        "id": "456d3b0d"
      },
      "source": [
        "### 2.데이터 불러오기\n",
        "파일명(성씨ㆍ본관별_인구__시군구_~.csv)에서 뒷부분 숫자는 다운로드된 날짜의 시간정보로 선생님과 다를 수 있으니 자신이 다운로드 받은 파일명을 사용하면 됩니다."
      ]
    },
    {
      "cell_type": "code",
      "execution_count": null,
      "id": "7fd3e71c",
      "metadata": {
        "id": "7fd3e71c",
        "scrolled": true
      },
      "outputs": [],
      "source": [
        "# 파일 읽어서 pandas DataFrame으로 만들기\n",
        "\n"
      ]
    },
    {
      "cell_type": "markdown",
      "id": "2181391e-5ffe-4f6f-af6d-c8345860ed64",
      "metadata": {
        "id": "2181391e-5ffe-4f6f-af6d-c8345860ed64"
      },
      "source": [
        "### 3.데이터 전처리하기 : 필요한 데이터만 추출하기"
      ]
    },
    {
      "cell_type": "code",
      "execution_count": null,
      "id": "c3757044",
      "metadata": {
        "scrolled": true,
        "id": "c3757044"
      },
      "outputs": [],
      "source": [
        "# 컬럼명 변경 --> ['성씨', '지역', '인구']\n",
        "\n",
        "\n",
        "# 전국 성씨 데이터 추출\n",
        "\n"
      ]
    },
    {
      "cell_type": "markdown",
      "id": "06e8c397",
      "metadata": {
        "id": "06e8c397"
      },
      "source": [
        "#### @고유한 성씨만 출력하기"
      ]
    },
    {
      "cell_type": "code",
      "execution_count": null,
      "id": "e000a980",
      "metadata": {
        "id": "e000a980",
        "scrolled": true
      },
      "outputs": [],
      "source": [
        "# 고유한 성씨(한자포함) 출력하기\n"
      ]
    },
    {
      "cell_type": "code",
      "execution_count": null,
      "id": "8165c6fa",
      "metadata": {
        "id": "8165c6fa"
      },
      "outputs": [],
      "source": [
        "# 고유한 성씨(한자포함) 총개수 출력하기\n"
      ]
    },
    {
      "cell_type": "code",
      "execution_count": null,
      "id": "2abf27a2",
      "metadata": {
        "id": "2abf27a2"
      },
      "outputs": [],
      "source": [
        "# 고유한 한글 성씨(한자미포함) 총개수\n",
        "# - 한글 성씨만 출력하기 -> '가(賈)'--> 가  만 추출하기\n"
      ]
    },
    {
      "cell_type": "markdown",
      "id": "28440144-5956-4825-b35e-d9a428129580",
      "metadata": {
        "id": "28440144-5956-4825-b35e-d9a428129580"
      },
      "source": [
        "- '성씨'에서 한글만 추출하여 '성씨'컬럼으로 만들기"
      ]
    },
    {
      "cell_type": "code",
      "execution_count": null,
      "id": "8fe0f169",
      "metadata": {
        "scrolled": true,
        "id": "8fe0f169"
      },
      "outputs": [],
      "source": [
        "# '성씨'에서 한글만 추출하여 '성씨'컬럼으로 만들고 df_all로 만들기\n",
        "\n"
      ]
    },
    {
      "cell_type": "markdown",
      "id": "f1ab8948-3ca0-45c5-bdd3-fd11c125d4c1",
      "metadata": {
        "id": "f1ab8948-3ca0-45c5-bdd3-fd11c125d4c1"
      },
      "source": [
        "- 한글 성씨별로 그룹핑하기(한자를 다르게 쓰는 ['성씨'] 합하기)"
      ]
    },
    {
      "cell_type": "code",
      "execution_count": null,
      "id": "1972c2cd",
      "metadata": {
        "id": "1972c2cd"
      },
      "outputs": [],
      "source": [
        "# 한글 성씨별로 그룹핑하여 df_all_group으로 지정하기\n",
        "\n"
      ]
    },
    {
      "cell_type": "markdown",
      "id": "bbd9b45d-3b72-4414-8846-38fc6c26939b",
      "metadata": {
        "id": "bbd9b45d-3b72-4414-8846-38fc6c26939b"
      },
      "source": [
        "- 인구 순으로 Top10 (내림차순 정렬하기)"
      ]
    },
    {
      "cell_type": "code",
      "execution_count": null,
      "id": "19ce2052-d0ca-40e3-b13d-7acb70d695cf",
      "metadata": {
        "id": "19ce2052-d0ca-40e3-b13d-7acb70d695cf"
      },
      "outputs": [],
      "source": [
        "# '인구' 크기순으로 Top10 (내림차순 정렬하기)\n",
        "\n"
      ]
    },
    {
      "cell_type": "markdown",
      "id": "9036307f-a916-4872-9b59-424c1d79fdda",
      "metadata": {
        "id": "9036307f-a916-4872-9b59-424c1d79fdda"
      },
      "source": [
        "### 4.데이터 시각화하기"
      ]
    },
    {
      "cell_type": "code",
      "execution_count": null,
      "id": "0b46c11f-7756-4f51-b034-31314072a987",
      "metadata": {
        "id": "0b46c11f-7756-4f51-b034-31314072a987"
      },
      "outputs": [],
      "source": [
        "# 막대 그래프로 나타내기\n",
        "\n"
      ]
    },
    {
      "cell_type": "code",
      "execution_count": null,
      "id": "f02acb83-4d6c-425d-930e-502b04302fcf",
      "metadata": {
        "id": "f02acb83-4d6c-425d-930e-502b04302fcf"
      },
      "outputs": [],
      "source": [
        "# 파이 그래프로 나타내기\n",
        "\n"
      ]
    },
    {
      "cell_type": "markdown",
      "id": "45043726-e0a5-45c5-89c9-a3be3e9177ed",
      "metadata": {
        "id": "45043726-e0a5-45c5-89c9-a3be3e9177ed"
      },
      "source": [
        "### 5.파일로 저장하기"
      ]
    },
    {
      "cell_type": "code",
      "execution_count": null,
      "id": "acce4f32-0fae-4525-9443-8ab632ac6d25",
      "metadata": {
        "scrolled": true,
        "id": "acce4f32-0fae-4525-9443-8ab632ac6d25"
      },
      "outputs": [],
      "source": [
        "# 파일명 지정하여 저장하기\n",
        "\n"
      ]
    },
    {
      "cell_type": "markdown",
      "id": "0c52a67e",
      "metadata": {
        "id": "0c52a67e"
      },
      "source": [
        "----------------------------------"
      ]
    },
    {
      "cell_type": "markdown",
      "id": "f3cf279a-860f-43ac-ae9a-67d29b63281b",
      "metadata": {
        "id": "f3cf279a-860f-43ac-ae9a-67d29b63281b"
      },
      "source": [
        "## Q2. 우리나라에서 '구씨'가 가장 많이 사는 지역은?"
      ]
    },
    {
      "cell_type": "markdown",
      "id": "0bf5c216-19f2-499c-b81f-9622d4e96afc",
      "metadata": {
        "id": "0bf5c216-19f2-499c-b81f-9622d4e96afc"
      },
      "source": [
        "### 1.데이터 다운로드하기"
      ]
    },
    {
      "cell_type": "markdown",
      "id": "870224e3-075e-4784-ab3e-c6ba7150e9f6",
      "metadata": {
        "id": "870224e3-075e-4784-ab3e-c6ba7150e9f6"
      },
      "source": [
        "### 2.데이터 불러오기"
      ]
    },
    {
      "cell_type": "code",
      "execution_count": null,
      "id": "4ef5bfb7-a95f-4c32-b041-99641671f4d8",
      "metadata": {
        "id": "4ef5bfb7-a95f-4c32-b041-99641671f4d8"
      },
      "outputs": [],
      "source": [
        "# 파일 읽어서 pandas DataFrame으로 만들기\n",
        "\n"
      ]
    },
    {
      "cell_type": "markdown",
      "id": "e1882731",
      "metadata": {
        "id": "e1882731"
      },
      "source": [
        "### 3.데이터 전처리하기 : 필요한 데이터만 추출하기"
      ]
    },
    {
      "cell_type": "code",
      "execution_count": null,
      "id": "ed63bcbd-11d5-4913-9cf4-48cdf0b8cbf0",
      "metadata": {
        "id": "ed63bcbd-11d5-4913-9cf4-48cdf0b8cbf0"
      },
      "outputs": [],
      "source": [
        "# 컬럼명 변경 --> ['성씨', '지역', '인구']\n",
        "\n",
        "\n",
        "# 성씨는 '계'가 아니고 지역은 '전국'이 아닌 성씨 데이터 추출\n",
        "\n"
      ]
    },
    {
      "cell_type": "markdown",
      "id": "9539d711",
      "metadata": {
        "id": "9539d711"
      },
      "source": [
        "#### @[성씨]가  '구'인 데이터 추출하기"
      ]
    },
    {
      "cell_type": "code",
      "execution_count": null,
      "id": "79b6fe64",
      "metadata": {
        "id": "79b6fe64"
      },
      "outputs": [],
      "source": [
        "# [성씨] 열에서 '구'가 포함된 데이터 출력 & df_foo로 지정하기\n",
        "df_goo =\n",
        "df_goo"
      ]
    },
    {
      "cell_type": "markdown",
      "id": "YobB3gVLnSD0",
      "metadata": {
        "id": "YobB3gVLnSD0"
      },
      "source": [
        "### **[실습문제] 자신의 성씨 데이터 출력하기**\n"
      ]
    },
    {
      "cell_type": "code",
      "execution_count": null,
      "id": "FR5V5afvnrcF",
      "metadata": {
        "id": "FR5V5afvnrcF"
      },
      "outputs": [],
      "source": [
        "# [성씨] 열에서 '구'가 포함되고, [지역] 열에서 '전국' 제외하고 가져오기\n",
        "family_name = '조'\n",
        "df_my =\n",
        "df_my"
      ]
    },
    {
      "cell_type": "markdown",
      "id": "e7d5e515",
      "metadata": {
        "id": "e7d5e515"
      },
      "source": [
        "#### @데이터 그룹핑: ‘구’씨 성을 가진 데이터를 [지역]별로 [인구] 합계 출력하기"
      ]
    },
    {
      "cell_type": "code",
      "execution_count": null,
      "id": "ac4fe2c4",
      "metadata": {
        "id": "ac4fe2c4"
      },
      "outputs": [],
      "source": [
        "# 1.'구'씨 데이터를 [지역]별 합계 구하기 (groupby)\n",
        "\n",
        "\n",
        "# 2.지역별 합계 데이터를 '인구' 크기순으로 정렬하기 (sort_values)\n",
        "\n"
      ]
    },
    {
      "cell_type": "markdown",
      "id": "CDmOIhajoMX4",
      "metadata": {
        "id": "CDmOIhajoMX4"
      },
      "source": [
        "### **[실습문제] 자신의 한글 성씨 데이터를 [지역]별로 [인구] 합계 출력하기**"
      ]
    },
    {
      "cell_type": "code",
      "execution_count": null,
      "id": "Y1pFglPangB9",
      "metadata": {
        "id": "Y1pFglPangB9"
      },
      "outputs": [],
      "source": [
        "# 자신의 한글 성씨 데이터를 지역별 합계 데이터를 '인구' 크기순으로 정렬하기\n",
        "df_my_group =\n",
        "df_my_group"
      ]
    },
    {
      "cell_type": "markdown",
      "id": "32c107d0",
      "metadata": {
        "id": "32c107d0"
      },
      "source": [
        "---------------------------"
      ]
    },
    {
      "cell_type": "markdown",
      "id": "588917f0",
      "metadata": {
        "id": "588917f0"
      },
      "source": [
        "### 4.데이터 시각화하기 : 데이터 그래프로 나타내기\n",
        "- 색상 참고 :  https://matplotlib.org/stable/gallery/color/named_colors.html"
      ]
    },
    {
      "cell_type": "markdown",
      "id": "4cda9851",
      "metadata": {
        "id": "4cda9851"
      },
      "source": [
        "#### @막대 그래프로 시각화하기"
      ]
    },
    {
      "cell_type": "code",
      "execution_count": null,
      "id": "66c95169",
      "metadata": {
        "id": "66c95169"
      },
      "outputs": [],
      "source": [
        "df_goo_group.columns"
      ]
    },
    {
      "cell_type": "code",
      "execution_count": null,
      "id": "62847130",
      "metadata": {
        "id": "62847130",
        "scrolled": true
      },
      "outputs": [],
      "source": [
        "import matplotlib.pyplot as plt\n",
        "\n",
        "# 1.그래프 데이터 지정하기(X축, Y축)\n",
        "x =     # 지역\n",
        "y =     # 인구수\n",
        "\n",
        "# 2.막대 그래프 그리기\n",
        "\n",
        "\n",
        "# 3. 그래프 꾸미기\n",
        "     # 그래프 제목\n",
        "     # x축 이름\n",
        "     # y축 이름\n",
        "     # X축 레이블 회전\n",
        "     # 그래프 출력하기"
      ]
    },
    {
      "cell_type": "markdown",
      "id": "32fd4248",
      "metadata": {
        "id": "32fd4248"
      },
      "source": [
        "#### @그래프 꾸미기"
      ]
    },
    {
      "cell_type": "code",
      "execution_count": null,
      "id": "6cc40535",
      "metadata": {
        "id": "6cc40535"
      },
      "outputs": [],
      "source": [
        "import matplotlib.pyplot as plt\n",
        "\n",
        "# 1.그래프 데이터 지정하기(X축, Y축)\n",
        "x =     # 지역\n",
        "y =     # 인구수\n",
        "\n",
        "# 2.그래프 그리기\n",
        "plt.figure(figsize = (15, 5), facecolor = 'lavender') # 그래프 크기와 색상\n",
        "        # 막대 그래프 그리기\n",
        "\n",
        "# 3. 그래프 꾸미기\n",
        "plt.title('\"구씨를 찾아라\"', pad = 20,                # 그래프 제목\n",
        "          fontdict = {'size':30, 'color':'black', 'weight':'bold'})\n",
        "plt.xlabel('지역', fontdict = {'size': 20, 'color': 'dimgray', 'weight': 'bold'})\n",
        "plt.ylabel('인구(명)', fontdict = {'size': 20, 'color': 'dimgray', 'weight': 'bold'}, labelpad = 20)\n",
        "plt.xticks(rotation = 45)                   # X축 레이블 회전\n",
        "plt.grid(True, axis = 'y', alpha = 0.5)     # 그래프에 그리드 표현하기\n",
        "\n",
        "plt.show() # 그래프 그리기"
      ]
    },
    {
      "cell_type": "markdown",
      "id": "e5aa99de",
      "metadata": {
        "id": "e5aa99de"
      },
      "source": [
        "#### @선 그래프로 시각화하기"
      ]
    },
    {
      "cell_type": "code",
      "execution_count": null,
      "id": "dcebf6b5",
      "metadata": {
        "id": "dcebf6b5",
        "scrolled": true
      },
      "outputs": [],
      "source": [
        "import matplotlib.pyplot as plt\n",
        "\n",
        "plt.rc('font', family='Malgun Gothic')          # (win)한글 폰트\n",
        "# plt.rc('font', family='NanumBarunGothic')       # (코랩)한글 폰트\n",
        "\n",
        "# 1.그래프 데이터 지정하기(X축, Y축)\n",
        "x = df_goo_group.index     # 지역\n",
        "y = df_goo_group['인구']   # 인구수\n",
        "\n",
        "# 2.그래프 그리기 (선그래프 그리기)\n",
        "plt.figure(figsize = (15, 5), facecolor = 'lavender') # 그래프 크기와 색상\n",
        "        # 선 그래프 그리기\n",
        "\n",
        "# 3. 그래프 꾸미기\n",
        "plt.title('\"구씨를 찾아라\"', pad = 20,                # 그래프 제목\n",
        "          fontdict = {'size':30, 'color':'black', 'weight':'bold'})\n",
        "plt.xlabel('지역', fontdict = {'size': 20, 'color': 'dimgray', 'weight': 'bold'})\n",
        "plt.ylabel('인구(명)', fontdict = {'size': 20, 'color': 'dimgray', 'weight': 'bold'}, labelpad = 20)\n",
        "plt.xticks(rotation = 45)                   # X축 레이블 회전\n",
        "plt.grid(True, axis = 'y', alpha = 0.5)    # 그래프에 그리드 표현하기\n",
        "\n",
        "plt.show() # 그래프 그리기"
      ]
    },
    {
      "cell_type": "markdown",
      "id": "1182f9ba",
      "metadata": {
        "id": "1182f9ba"
      },
      "source": [
        "#### @혼합 그래프"
      ]
    },
    {
      "cell_type": "code",
      "execution_count": null,
      "id": "eb8a0ccb",
      "metadata": {
        "id": "eb8a0ccb",
        "scrolled": true
      },
      "outputs": [],
      "source": [
        "import matplotlib.pyplot as plt\n",
        "\n",
        "\n",
        "# 1.그래프 데이터 지정하기(X축, Y축)\n",
        "x = df_goo_group.index     # 지역\n",
        "y = df_goo_group['인구']   # 인구수\n",
        "\n",
        "# 2.그래프 그리기\n",
        "plt.figure(figsize = (15, 5), facecolor = 'lavender') # 그래프 크기와 색상\n",
        "       # 막대 그래프\n",
        "       # 선 그래프\n",
        "\n",
        "# 3.그래프 꾸미기\n",
        "plt.title('\"구씨를 찾아라\"', pad = 20,                # 그래프 제목\n",
        "          fontdict = {'size':30, 'color':'black', 'weight':'bold'})\n",
        "plt.xlabel('지역', fontdict = {'size': 20, 'color': 'dimgray', 'weight': 'bold'})\n",
        "plt.ylabel('인구(명)', fontdict = {'size': 20, 'color': 'dimgray', 'weight': 'bold'}, labelpad = 20)\n",
        "plt.xticks(rotation = 45)                 # X축 레이블 회전\n",
        "plt.grid(True, axis = 'y', alpha = 0.5)  # 그래프에 그리드 표현하기\n",
        "\n",
        "plt.show() # 그래프 그리기"
      ]
    },
    {
      "cell_type": "markdown",
      "id": "b6e3cb73",
      "metadata": {
        "id": "b6e3cb73"
      },
      "source": [
        "### 5. 데이터 저장하기 : 데이터 파일로 저장하기"
      ]
    },
    {
      "cell_type": "code",
      "execution_count": null,
      "id": "43eb89da",
      "metadata": {
        "id": "43eb89da"
      },
      "outputs": [],
      "source": [
        "# 파일명 지정하여 저장하기\n",
        "file = './data/family_name_goo.csv'  # 파일명\n",
        "df_goo_group.to_csv(file, encoding = 'cp949', mode = 'w') # 파일 저장하기"
      ]
    },
    {
      "cell_type": "markdown",
      "id": "44d19d55",
      "metadata": {
        "id": "44d19d55"
      },
      "source": [
        "-----------------------------------------"
      ]
    },
    {
      "cell_type": "markdown",
      "id": "6ac7b687",
      "metadata": {
        "id": "6ac7b687"
      },
      "source": [
        "### **[실습문제] 워드클라우드로 시각화하기**"
      ]
    },
    {
      "cell_type": "code",
      "execution_count": null,
      "id": "528e2c05",
      "metadata": {
        "id": "528e2c05"
      },
      "outputs": [],
      "source": [
        "# 라이브러리 설치하기\n",
        "!pip install wordcloud"
      ]
    },
    {
      "cell_type": "code",
      "execution_count": null,
      "id": "c2cc771b",
      "metadata": {
        "id": "c2cc771b",
        "scrolled": true
      },
      "outputs": [],
      "source": [
        "from wordcloud import WordCloud\n",
        "import matplotlib.pyplot as plt\n",
        "\n",
        "# 1. 자신의 컴퓨터 환경에 맞는 한글 폰트 경로\n",
        "font_path = '/usr/share/fonts/truetype/nanum/NanumGothicBold.ttf'  # (코랩)폰트 지정\n",
        "font_path = 'HMFMOLD' # C:/Windows/Fonts/HMKMMAG.TTF     #HMFMOLD.TTF\n",
        "font_path = 'malgun'  # C:/Windows/Fonts/\n",
        "\n",
        "\n",
        "# 2.전처리된 데이터 지정하기 (딕셔너리 형태로 지정해야함)\n",
        "#  - (토큰명, 빈도수) 딕셔너리 타입으로 변환\n",
        "data = dict()\n",
        "\n",
        "\n",
        "# 3.워드클라우드 그래프로 시각화하기\n",
        "wc = WordCloud(width = 1000, height = 600,\n",
        "               background_color=\"black\",\n",
        "               font_path=font_path)\n",
        "plt.imshow(wc.generate_from_frequencies(data))\n",
        "plt.axis(\"off\")\n",
        "plt.show()\n",
        "\n",
        "# 4.파일로 저장하기\n",
        "wc.to_file('./image/구씨_워드클라우드.png')"
      ]
    },
    {
      "cell_type": "markdown",
      "id": "c40d9ee1",
      "metadata": {
        "id": "c40d9ee1"
      },
      "source": [
        "#### **@투명한 이미지(알파값이 적용된)에 워드 클라우드 나타내기**\n",
        "마스크 이미지 파일이 필요하다."
      ]
    },
    {
      "cell_type": "code",
      "execution_count": null,
      "id": "ec4acf88",
      "metadata": {
        "id": "ec4acf88"
      },
      "outputs": [],
      "source": [
        "from wordcloud import WordCloud\n",
        "import matplotlib.pyplot as plt\n",
        "import cv2\n",
        "import numpy as np\n",
        "\n",
        "# 1.자신의 컴퓨터 환경에 맞는 한글 폰트 경로를 설정(window에서)\n",
        "# font_path = '/usr/share/fonts/truetype/nanum/NanumBarunGothic.ttf'  # 코랩에서\n",
        "font_path = 'malgun'  # C:/Windows/Fonts/\n",
        "# font_path = 'H2HDRM' # C:/Windows/Fonts/H2HDRM.TTF\n",
        "\n",
        "\n",
        "# 2.전처리된 데이터 지정하기 (딕셔너리 형태로 지정해야함)\n",
        "#  - (토큰명, 빈도수) 딕셔너리 타입으로 변환\n",
        "\n",
        "\n",
        "\n",
        "\n",
        "# 워드클라우드로 그래프로 시각화\n",
        "img = cv2.imread('./image/apple.png')   # 알파값(투명) 값이 포함된 이미지 파일\n",
        "img_array = np.array(img)\n",
        "wc = WordCloud(background_color=\"black\",\n",
        "               font_path=font_path,\n",
        "               max_font_size=250,\n",
        "               mask=img_array)\n",
        "plt.imshow(wc.generate_from_frequencies(data))\n",
        "plt.axis(\"off\")\n",
        "plt.show()\n",
        "\n",
        "# 파일로 저장하기\n",
        "wc.to_file('./사과모양_워드클라우드.png')"
      ]
    },
    {
      "cell_type": "markdown",
      "id": "xjIQRtwpxuCI",
      "metadata": {
        "id": "xjIQRtwpxuCI"
      },
      "source": [
        "\n",
        "\n",
        "---\n",
        "\n"
      ]
    },
    {
      "cell_type": "markdown",
      "id": "39d915d4",
      "metadata": {
        "id": "39d915d4"
      },
      "source": [
        "### **[[미션]] **\n",
        "자신의 성씨 데이터 지역별로 그룹핑해서 그래프 그리고 데이터 파일을 저장하기 나타내기"
      ]
    },
    {
      "cell_type": "code",
      "execution_count": null,
      "id": "e6c39244-fc13-45a4-a7d1-12ae35750deb",
      "metadata": {
        "id": "e6c39244-fc13-45a4-a7d1-12ae35750deb"
      },
      "outputs": [],
      "source": []
    },
    {
      "cell_type": "markdown",
      "id": "6c48f52e",
      "metadata": {
        "id": "6c48f52e"
      },
      "source": [
        "----------------------------------"
      ]
    },
    {
      "cell_type": "markdown",
      "id": "fede246a",
      "metadata": {
        "id": "fede246a"
      },
      "source": [
        "THE END"
      ]
    }
  ],
  "metadata": {
    "colab": {
      "provenance": [],
      "include_colab_link": true
    },
    "kernelspec": {
      "display_name": "Python 3 (ipykernel)",
      "language": "python",
      "name": "python3"
    },
    "language_info": {
      "codemirror_mode": {
        "name": "ipython",
        "version": 3
      },
      "file_extension": ".py",
      "mimetype": "text/x-python",
      "name": "python",
      "nbconvert_exporter": "python",
      "pygments_lexer": "ipython3",
      "version": "3.12.1"
    },
    "vscode": {
      "interpreter": {
        "hash": "b41e41bff03a930185ac2cbea60ce521f7c8c2f5401ceb5c30214081f77ab4f5"
      }
    }
  },
  "nbformat": 4,
  "nbformat_minor": 5
}