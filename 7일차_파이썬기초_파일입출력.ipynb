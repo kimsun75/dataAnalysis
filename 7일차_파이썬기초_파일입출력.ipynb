{
  "nbformat": 4,
  "nbformat_minor": 0,
  "metadata": {
    "colab": {
      "provenance": [],
      "include_colab_link": true
    },
    "kernelspec": {
      "name": "python3",
      "display_name": "Python 3"
    },
    "language_info": {
      "name": "python"
    }
  },
  "cells": [
    {
      "cell_type": "markdown",
      "metadata": {
        "id": "view-in-github",
        "colab_type": "text"
      },
      "source": [
        "<a href=\"https://colab.research.google.com/github/kimsun75/dataAnalysis/blob/main/7%EC%9D%BC%EC%B0%A8_%ED%8C%8C%EC%9D%B4%EC%8D%AC%EA%B8%B0%EC%B4%88_%ED%8C%8C%EC%9D%BC%EC%9E%85%EC%B6%9C%EB%A0%A5.ipynb\" target=\"_parent\"><img src=\"https://colab.research.google.com/assets/colab-badge.svg\" alt=\"Open In Colab\"/></a>"
      ]
    },
    {
      "cell_type": "markdown",
      "source": [
        "# 6.파일 입출력"
      ],
      "metadata": {
        "id": "ePwcSjKHmLiY"
      }
    },
    {
      "cell_type": "markdown",
      "source": [
        "## 6-1.TXT"
      ],
      "metadata": {
        "id": "79Eltq1JmQ6O"
      }
    },
    {
      "cell_type": "markdown",
      "source": [
        "### 파일 입출력"
      ],
      "metadata": {
        "id": "G5p-ufvZmewh"
      }
    },
    {
      "cell_type": "code",
      "execution_count": null,
      "metadata": {
        "id": "9kgvWUEXkRYf"
      },
      "outputs": [],
      "source": [
        "# 파일에 쓰기\n",
        "f = open('./새파일.txt', 'w')\n",
        "for i in range(1,11):\n",
        "    f.write(f\"{i:2>}번째 줄입니다.\\n\")\n",
        "f.close()"
      ]
    },
    {
      "cell_type": "markdown",
      "source": [
        "- readline()\n",
        "- readlines()\n",
        "- read()"
      ],
      "metadata": {
        "id": "PwVbvjymoGHk"
      }
    },
    {
      "cell_type": "code",
      "source": [
        "# readline()\n",
        "f = open('./새파일.txt', 'r')\n",
        "line = f.readline()\n",
        "print(line)\n",
        "print('------------------')\n",
        "while True:\n",
        "    line = f.readline()\n",
        "    if not line:\n",
        "        break\n",
        "    print(line.strip())\n",
        "f.close()"
      ],
      "metadata": {
        "colab": {
          "base_uri": "https://localhost:8080/"
        },
        "id": "L7wCdmdJmysy",
        "outputId": "60b23a83-e834-4ed9-812d-1d3c66816677"
      },
      "execution_count": null,
      "outputs": [
        {
          "output_type": "stream",
          "name": "stdout",
          "text": [
            "1번째 줄입니다.\n",
            "\n",
            "------------------\n",
            "2번째 줄입니다.\n",
            "3번째 줄입니다.\n",
            "4번째 줄입니다.\n",
            "5번째 줄입니다.\n",
            "6번째 줄입니다.\n",
            "7번째 줄입니다.\n",
            "8번째 줄입니다.\n",
            "9번째 줄입니다.\n",
            "10번째 줄입니다.\n"
          ]
        }
      ]
    },
    {
      "cell_type": "code",
      "source": [
        "# readlines() : 결과가 리스트 표현됨\n",
        "f = open('./새파일.txt', 'r')\n",
        "for line in f.readlines():\n",
        "    print(line.strip())\n",
        "f.close()"
      ],
      "metadata": {
        "colab": {
          "base_uri": "https://localhost:8080/"
        },
        "id": "vKxqfxdCpxRw",
        "outputId": "8f77c63e-91de-4920-e7b7-8e4437db422c"
      },
      "execution_count": null,
      "outputs": [
        {
          "output_type": "stream",
          "name": "stdout",
          "text": [
            "1번째 줄입니다.\n",
            "2번째 줄입니다.\n",
            "3번째 줄입니다.\n",
            "4번째 줄입니다.\n",
            "5번째 줄입니다.\n",
            "6번째 줄입니다.\n",
            "7번째 줄입니다.\n",
            "8번째 줄입니다.\n",
            "9번째 줄입니다.\n",
            "10번째 줄입니다.\n"
          ]
        }
      ]
    },
    {
      "cell_type": "code",
      "source": [
        "# read() : 결과는 문자열로 반환\n",
        "f = open('./새파일.txt', 'r')\n",
        "data = f.read()\n",
        "print(data)\n",
        "f.close()"
      ],
      "metadata": {
        "colab": {
          "base_uri": "https://localhost:8080/"
        },
        "id": "2nohCOSTqZny",
        "outputId": "0aa8ed59-cd2b-4bb3-ced0-834cd4caf4f4"
      },
      "execution_count": null,
      "outputs": [
        {
          "output_type": "stream",
          "name": "stdout",
          "text": [
            "1번째 줄입니다.\n",
            "2번째 줄입니다.\n",
            "3번째 줄입니다.\n",
            "4번째 줄입니다.\n",
            "5번째 줄입니다.\n",
            "6번째 줄입니다.\n",
            "7번째 줄입니다.\n",
            "8번째 줄입니다.\n",
            "9번째 줄입니다.\n",
            "10번째 줄입니다.\n",
            "\n"
          ]
        }
      ]
    },
    {
      "cell_type": "markdown",
      "source": [
        "### with 문\n",
        "with문을 벗어나면 자동으로 파일 객체를 닫는다."
      ],
      "metadata": {
        "id": "8-LYPkJ-rmof"
      }
    },
    {
      "cell_type": "code",
      "source": [
        "# f = open('./새파일.txt', 'r')\n",
        "# data = f.read()\n",
        "# print(data)\n",
        "# f.close()\n",
        "\n",
        "with open('./새파일.txt', 'r') as f:\n",
        "    data = f.read()\n",
        "    print(type(data))\n",
        "    data = data.replace('줄','사람')\n",
        "    print(data)\n"
      ],
      "metadata": {
        "colab": {
          "base_uri": "https://localhost:8080/"
        },
        "id": "JBT5_fy-r0_G",
        "outputId": "7125b9ea-6095-4f2d-e37d-5efb28328dcb"
      },
      "execution_count": null,
      "outputs": [
        {
          "output_type": "stream",
          "name": "stdout",
          "text": [
            "<class 'str'>\n",
            "1번째 사람입니다.\n",
            "2번째 사람입니다.\n",
            "3번째 사람입니다.\n",
            "4번째 사람입니다.\n",
            "5번째 사람입니다.\n",
            "6번째 사람입니다.\n",
            "7번째 사람입니다.\n",
            "8번째 사람입니다.\n",
            "9번째 사람입니다.\n",
            "10번째 사람입니다.\n",
            "\n"
          ]
        }
      ]
    },
    {
      "cell_type": "markdown",
      "source": [
        "### os 모듈: 디렉토리 & 파일 관련 함수"
      ],
      "metadata": {
        "id": "j8_oesS8svbh"
      }
    },
    {
      "cell_type": "code",
      "source": [
        "import os\n",
        "\n",
        "os.chdir('/content')\n",
        "print(f\"현재위치: {os.getcwd()}\")\n",
        "print(f\"현재위치 파일/폴더 목록: {os.listdir()}\")\n",
        "# os.chdir('../')\n",
        "# print(f\"현재위치 파일/폴더 목록: {os.listdir()}\")"
      ],
      "metadata": {
        "colab": {
          "base_uri": "https://localhost:8080/"
        },
        "id": "8knf-TEns7cC",
        "outputId": "bb5203ff-76b8-4f82-990c-1e586559833c"
      },
      "execution_count": null,
      "outputs": [
        {
          "output_type": "stream",
          "name": "stdout",
          "text": [
            "현재위치: /content\n",
            "현재위치 파일/폴더 목록: ['.config', '새파일.txt', 'sample_data']\n"
          ]
        }
      ]
    },
    {
      "cell_type": "markdown",
      "source": [
        "- os.remove() : 파일 삭제"
      ],
      "metadata": {
        "id": "viI-E-pDuGbl"
      }
    },
    {
      "cell_type": "code",
      "source": [
        "import os\n",
        "file = '새파일.txt'\n",
        "if os.path.isfile(file):\n",
        "    os.remove(file)\n",
        "    print(f\"'{file}' 파일이 삭제되었습니다.\")\n",
        "else:\n",
        "    print(f\"'{file}' 파일이 존재하지 않습니다.\")"
      ],
      "metadata": {
        "colab": {
          "base_uri": "https://localhost:8080/"
        },
        "id": "6AB9hvMfuHNh",
        "outputId": "38dbbba6-a017-48d3-8047-d7f85ad013e1"
      },
      "execution_count": null,
      "outputs": [
        {
          "output_type": "stream",
          "name": "stdout",
          "text": [
            "'새파일.txt' 파일이 존재하지 않습니다.\n"
          ]
        }
      ]
    },
    {
      "cell_type": "markdown",
      "source": [
        "### [실습문제] txt파일 만들고 임의의 정수 파일에 쓰기"
      ],
      "metadata": {
        "id": "dJj6LxPUwrMO"
      }
    },
    {
      "cell_type": "code",
      "source": [
        "import random\n",
        "\n",
        "# 파일에 쓰기\n",
        "f = open('./sample.txt', 'w')\n",
        "for _ in range(10):\n",
        "    n = str(random.randint(1,100))\n",
        "    f.write(n+'\\n')  # 문자열 사용 가능\n",
        "f.close()\n",
        "\n",
        "# 파일에 있는 내용 읽기\n",
        "f = open('./sample.txt', 'r')\n",
        "data = f.read()\n",
        "print(data)\n",
        "f.close()"
      ],
      "metadata": {
        "colab": {
          "base_uri": "https://localhost:8080/"
        },
        "id": "4Jynf-d0wsWf",
        "outputId": "21c93f57-fb3a-4288-d7de-7dfea9a44f1b"
      },
      "execution_count": null,
      "outputs": [
        {
          "output_type": "stream",
          "name": "stdout",
          "text": [
            "54\n",
            "61\n",
            "12\n",
            "79\n",
            "90\n",
            "50\n",
            "96\n",
            "83\n",
            "73\n",
            "85\n",
            "\n"
          ]
        }
      ]
    },
    {
      "cell_type": "code",
      "source": [
        "# 파일 읽어서 총합&평균 출력하기\n",
        "with open('./sample.txt', 'r') as f:\n",
        "    data = [ int(line) for line in f.readlines() ]\n",
        "    hap = sum(data)\n",
        "    avg = hap / len(data)\n",
        "    content = f\"{data}\\n총합은 {hap} 입니다.\\n평균은 {avg} 입니다.\"\n",
        "    print(content)\n",
        "\n",
        "with open('./result.txt', 'w') as f:\n",
        "    f.write(content)"
      ],
      "metadata": {
        "colab": {
          "base_uri": "https://localhost:8080/"
        },
        "id": "k6DwNSSMz2mU",
        "outputId": "16f07999-a5af-42e1-8e78-b6bfd8fb4b1e"
      },
      "execution_count": null,
      "outputs": [
        {
          "output_type": "stream",
          "name": "stdout",
          "text": [
            "[54, 61, 12, 79, 90, 50, 96, 83, 73, 85]\n",
            "총합은 683 입니다.\n",
            "평균은 68.3 입니다.\n"
          ]
        }
      ]
    }
  ]
}