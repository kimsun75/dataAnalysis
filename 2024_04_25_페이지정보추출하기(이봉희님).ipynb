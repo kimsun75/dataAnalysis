{
  "nbformat": 4,
  "nbformat_minor": 0,
  "metadata": {
    "colab": {
      "provenance": [],
      "authorship_tag": "ABX9TyN0xjlgGqLYSCiojoH3lNYf",
      "include_colab_link": true
    },
    "kernelspec": {
      "name": "python3",
      "display_name": "Python 3"
    },
    "language_info": {
      "name": "python"
    }
  },
  "cells": [
    {
      "cell_type": "markdown",
      "metadata": {
        "id": "view-in-github",
        "colab_type": "text"
      },
      "source": [
        "<a href=\"https://colab.research.google.com/github/kimsun75/dataAnalysis/blob/main/2024_04_25_%ED%8E%98%EC%9D%B4%EC%A7%80%EC%A0%95%EB%B3%B4%EC%B6%94%EC%B6%9C%ED%95%98%EA%B8%B0(%EC%9D%B4%EB%B4%89%ED%9D%AC%EB%8B%98).ipynb\" target=\"_parent\"><img src=\"https://colab.research.google.com/assets/colab-badge.svg\" alt=\"Open In Colab\"/></a>"
      ]
    },
    {
      "cell_type": "code",
      "execution_count": null,
      "metadata": {
        "id": "9u3OEDaTyaXT"
      },
      "outputs": [],
      "source": [
        "import requests\n",
        "from bs4 import BeautifulSoup\n",
        "\n",
        "print('페이지 정보 추출하기-----')\n",
        "url = 'https://search.naver.com/search.naver?ssc=tab.blog.all&sm=tab_jum&query=%ED%96%84%EC%8A%A4%ED%84%B0%EB%B4%87'\n",
        "print(url)\n",
        "\n",
        "response = requests.get(url)\n",
        "\n",
        "t_list, d_list, link_list = [], [], []\n",
        "if response.status_code == 200:\n",
        "    html = response.text\n",
        "    soup = BeautifulSoup(html, 'html.parser')\n",
        "    ul = soup.select_one('ul.lst_view') #공백에 있을 경우 . 사용\n",
        "\n",
        "    # 제목, 링크 : 크롬 브라우저에서 F12-> 원하는 위치 선택 -> 오른쪽 마우스 클릭 -> copy -> copy selector선택하면 링크 카피됨\n",
        "    titles = ul.select('li> div > div.detail_box > div.title_area > a')\n",
        "    for title in titles:\n",
        "        t_list.append(title.get_text())     # a 태그 안에 title이 없는 경우 get_text() 사용\n",
        "        link_list.append((title.attrs['href']))\n",
        "\n",
        "    # 상세 설명\n",
        "    titles = ul.select('li> div > div.detail_box > div.dsc_area > a')\n",
        "    for title in titles:\n",
        "        d_list.append(title.get_text())\n",
        "else :\n",
        "    print(response.status_code)\n",
        "print('페이지 정보 추출완료-----')\n",
        "print(len(t_list))\n",
        "print(len(d_list))\n",
        "print(len(link_list))\n",
        "#t_list, d_list, link_list"
      ]
    }
  ]
}